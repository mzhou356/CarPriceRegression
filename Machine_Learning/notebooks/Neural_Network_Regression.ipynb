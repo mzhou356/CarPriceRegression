{
 "cells": [
  {
   "cell_type": "markdown",
   "metadata": {},
   "source": [
    "### Import libraries"
   ]
  },
  {
   "cell_type": "code",
   "execution_count": 1,
   "metadata": {},
   "outputs": [],
   "source": [
    "import sys\n",
    "import os\n",
    "import gc\n",
    "import warnings\n",
    "from functools import partial\n",
    "warnings.filterwarnings(\"ignore\")"
   ]
  },
  {
   "cell_type": "code",
   "execution_count": 2,
   "metadata": {},
   "outputs": [],
   "source": [
    "home = os.path.expanduser(\"~\")\n",
    "sys.path.append(f\"{home}/Documents/projects/CarPriceRegression/Machine_Learning/scripts/\")"
   ]
  },
  {
   "cell_type": "code",
   "execution_count": 45,
   "metadata": {},
   "outputs": [
    {
     "name": "stdout",
     "output_type": "stream",
     "text": [
      "The autoreload extension is already loaded. To reload it, use:\n",
      "  %reload_ext autoreload\n"
     ]
    }
   ],
   "source": [
    "from NNCarPrice import *\n",
    "%load_ext autoreload\n",
    "%autoreload 2"
   ]
  },
  {
   "cell_type": "code",
   "execution_count": 4,
   "metadata": {},
   "outputs": [],
   "source": [
    "NNCarPrice.set_gpu_limit(6)"
   ]
  },
  {
   "cell_type": "markdown",
   "metadata": {},
   "source": [
    "### Import data for regular NN without categorical embedding"
   ]
  },
  {
   "cell_type": "code",
   "execution_count": 5,
   "metadata": {},
   "outputs": [],
   "source": [
    "data = pd.read_csv(f\"{home}/Documents/projects/CarPriceRegression/Processed_Data/car_onehot_data.csv\")"
   ]
  },
  {
   "cell_type": "markdown",
   "metadata": {},
   "source": [
    "### Garbage collect"
   ]
  },
  {
   "cell_type": "code",
   "execution_count": 6,
   "metadata": {
    "scrolled": true
   },
   "outputs": [
    {
     "name": "stdout",
     "output_type": "stream",
     "text": [
      "Flushing output cache (0 entries)\n"
     ]
    }
   ],
   "source": [
    "gc.collect()\n",
    "%reset -f out"
   ]
  },
  {
   "cell_type": "markdown",
   "metadata": {},
   "source": [
    "### Set up base parameter for a base regression model"
   ]
  },
  {
   "cell_type": "code",
   "execution_count": 7,
   "metadata": {},
   "outputs": [],
   "source": [
    "BATCH_SIZE = 256 \n",
    "input_size = data.drop(\"price\",axis=1).shape[1]\n",
    "MAX_EPOCH = 500\n",
    "lr = 1e-3\n",
    "l2 = 0 \n",
    "SIZES = [512,512]\n",
    "METRICS = [\"MAPE\",\"MAE\"]"
   ]
  },
  {
   "cell_type": "markdown",
   "metadata": {},
   "source": [
    "### Set up a base regression model"
   ]
  },
  {
   "cell_type": "code",
   "execution_count": 46,
   "metadata": {},
   "outputs": [],
   "source": [
    "base_model = NNCarPrice.make_model(SIZES,input_size,METRICS,l2,lr)"
   ]
  },
  {
   "cell_type": "code",
   "execution_count": 47,
   "metadata": {},
   "outputs": [
    {
     "name": "stdout",
     "output_type": "stream",
     "text": [
      "Model: \"NN_regressor\"\n",
      "_________________________________________________________________\n",
      "Layer (type)                 Output Shape              Param #   \n",
      "=================================================================\n",
      "dense_13 (Dense)             (None, 512)               105984    \n",
      "_________________________________________________________________\n",
      "dense_14 (Dense)             (None, 512)               262656    \n",
      "_________________________________________________________________\n",
      "dense_15 (Dense)             (None, 1)                 513       \n",
      "=================================================================\n",
      "Total params: 369,153\n",
      "Trainable params: 369,153\n",
      "Non-trainable params: 0\n",
      "_________________________________________________________________\n"
     ]
    }
   ],
   "source": [
    "base_model.summary()"
   ]
  },
  {
   "cell_type": "markdown",
   "metadata": {},
   "source": [
    "### Define early stop"
   ]
  },
  {
   "cell_type": "code",
   "execution_count": 48,
   "metadata": {},
   "outputs": [],
   "source": [
    "EARLYSTOP = tfk.callbacks.EarlyStopping(monitor=\"val_loss\",mode=\"min\",\n",
    "                                        patience=10,verbose=1,restore_best_weights=True)"
   ]
  },
  {
   "cell_type": "markdown",
   "metadata": {},
   "source": [
    "### Set up a base regression model"
   ]
  },
  {
   "cell_type": "code",
   "execution_count": 49,
   "metadata": {},
   "outputs": [],
   "source": [
    "CarPrice_NN_base = NNCarPrice(data,base_model,BATCH_SIZE,MAX_EPOCH,[EARLYSTOP])"
   ]
  },
  {
   "cell_type": "code",
   "execution_count": 50,
   "metadata": {},
   "outputs": [],
   "source": [
    "X_train,X_test,y_train,y_test,X_dev,y_dev = CarPrice_NN_base.data_split(1988,0.1)"
   ]
  },
  {
   "cell_type": "markdown",
   "metadata": {},
   "source": [
    "### Make tensorflow dataset\n",
    "\n",
    "* notice: this dataset has pretty similar scale so no reason to normalize to help with gradient descent"
   ]
  },
  {
   "cell_type": "code",
   "execution_count": 51,
   "metadata": {},
   "outputs": [],
   "source": [
    "CarPrice_NN_base.make_tensor_dataset(X_train,y_train,X_dev,y_dev)"
   ]
  },
  {
   "cell_type": "code",
   "execution_count": 56,
   "metadata": {
    "scrolled": false
   },
   "outputs": [
    {
     "data": {
      "text/html": [
       "<div>\n",
       "<style scoped>\n",
       "    .dataframe tbody tr th:only-of-type {\n",
       "        vertical-align: middle;\n",
       "    }\n",
       "\n",
       "    .dataframe tbody tr th {\n",
       "        vertical-align: top;\n",
       "    }\n",
       "\n",
       "    .dataframe thead th {\n",
       "        text-align: right;\n",
       "    }\n",
       "</style>\n",
       "<table border=\"1\" class=\"dataframe\">\n",
       "  <thead>\n",
       "    <tr style=\"text-align: right;\">\n",
       "      <th></th>\n",
       "      <th>r2_score</th>\n",
       "      <th>rmse</th>\n",
       "      <th>price_diff_abs_max</th>\n",
       "    </tr>\n",
       "  </thead>\n",
       "  <tbody>\n",
       "    <tr>\n",
       "      <th>train</th>\n",
       "      <td>0.918516</td>\n",
       "      <td>2810.940392</td>\n",
       "      <td>1122.764878</td>\n",
       "    </tr>\n",
       "    <tr>\n",
       "      <th>test</th>\n",
       "      <td>0.907015</td>\n",
       "      <td>3072.496325</td>\n",
       "      <td>252.617143</td>\n",
       "    </tr>\n",
       "  </tbody>\n",
       "</table>\n",
       "</div>"
      ],
      "text/plain": [
       "       r2_score         rmse  price_diff_abs_max\n",
       "train  0.918516  2810.940392         1122.764878\n",
       "test   0.907015  3072.496325          252.617143"
      ]
     },
     "execution_count": 56,
     "metadata": {},
     "output_type": "execute_result"
    }
   ],
   "source": [
    "CarPrice_NN_base.regression_metrics(X_train,y_train,X_test,y_test,False)"
   ]
  },
  {
   "cell_type": "code",
   "execution_count": 20,
   "metadata": {},
   "outputs": [],
   "source": [
    "# base_model_trained = CarPrice_NN_base.trained_model"
   ]
  },
  {
   "cell_type": "code",
   "execution_count": 19,
   "metadata": {},
   "outputs": [],
   "source": [
    "# NNCarPrice.save_model(base_model_trained,\"base_nn_regression_mdl.h5\")"
   ]
  },
  {
   "cell_type": "code",
   "execution_count": 54,
   "metadata": {},
   "outputs": [],
   "source": [
    "base_model_trained = NNCarPrice.load_model(\"base_nn_regression_mdl.h5\")"
   ]
  },
  {
   "cell_type": "code",
   "execution_count": 55,
   "metadata": {},
   "outputs": [],
   "source": [
    "CarPrice_NN_base.reset_trained_model(base_model_trained)"
   ]
  },
  {
   "cell_type": "code",
   "execution_count": 18,
   "metadata": {
    "scrolled": false
   },
   "outputs": [
    {
     "data": {
      "image/png": "[encoded data removed]",
      "text/plain": [
       "<Figure size 432x288 with 1 Axes>"
      ]
     },
     "metadata": {
      "needs_background": "light"
     },
     "output_type": "display_data"
    }
   ],
   "source": [
    "CarPrice_NN_base.plot_metrics(\"loss\")"
   ]
  },
  {
   "cell_type": "code",
   "execution_count": 19,
   "metadata": {
    "scrolled": true
   },
   "outputs": [
    {
     "data": {
      "image/png": "[encoded data removed]",
      "text/plain": [
       "<Figure size 432x288 with 1 Axes>"
      ]
     },
     "metadata": {
      "needs_background": "light"
     },
     "output_type": "display_data"
    }
   ],
   "source": [
    "CarPrice_NN_base.plot_metrics(\"MAPE\")"
   ]
  },
  {
   "cell_type": "markdown",
   "metadata": {},
   "source": [
    "### Check price vs predicted value"
   ]
  },
  {
   "cell_type": "code",
   "execution_count": 21,
   "metadata": {
    "scrolled": false
   },
   "outputs": [
    {
     "data": {
      "image/png": "[encoded data removed]",
      "text/plain": [
       "<Figure size 432x432 with 3 Axes>"
      ]
     },
     "metadata": {
      "needs_background": "light"
     },
     "output_type": "display_data"
    },
    {
     "data": {
      "image/png": "[encoded data removed]",
      "text/plain": [
       "<Figure size 432x288 with 1 Axes>"
      ]
     },
     "metadata": {
      "needs_background": "light"
     },
     "output_type": "display_data"
    }
   ],
   "source": [
    "CarPrice_NN_base.plot_pred_price"
   ]
  },
  {
   "cell_type": "code",
   "execution_count": 22,
   "metadata": {},
   "outputs": [],
   "source": [
    "price_table = CarPrice_NN_base.price_diff"
   ]
  },
  {
   "cell_type": "code",
   "execution_count": 23,
   "metadata": {
    "scrolled": true
   },
   "outputs": [
    {
     "data": {
      "text/html": [
       "<div>\n",
       "<style scoped>\n",
       "    .dataframe tbody tr th:only-of-type {\n",
       "        vertical-align: middle;\n",
       "    }\n",
       "\n",
       "    .dataframe tbody tr th {\n",
       "        vertical-align: top;\n",
       "    }\n",
       "\n",
       "    .dataframe thead th {\n",
       "        text-align: right;\n",
       "    }\n",
       "</style>\n",
       "<table border=\"1\" class=\"dataframe\">\n",
       "  <thead>\n",
       "    <tr style=\"text-align: right;\">\n",
       "      <th></th>\n",
       "      <th>binned_year</th>\n",
       "      <th>mil_cat</th>\n",
       "      <th>binned_mpg</th>\n",
       "      <th>engine_binned</th>\n",
       "      <th>model_ 2 Series</th>\n",
       "      <th>model_ 3 Series</th>\n",
       "      <th>model_ 4 Series</th>\n",
       "      <th>model_ 5 Series</th>\n",
       "      <th>model_ 6 Series</th>\n",
       "      <th>model_ 7 Series</th>\n",
       "      <th>...</th>\n",
       "      <th>model_EcoSport</th>\n",
       "      <th>transmission_Manual</th>\n",
       "      <th>transmission_Other</th>\n",
       "      <th>transmission_Semi-Auto</th>\n",
       "      <th>fuelType_Electric</th>\n",
       "      <th>fuelType_Hybrid</th>\n",
       "      <th>fuelType_Other</th>\n",
       "      <th>fuelType_Petrol</th>\n",
       "      <th>price_diff_pct</th>\n",
       "      <th>price_diff_abs</th>\n",
       "    </tr>\n",
       "  </thead>\n",
       "  <tbody>\n",
       "    <tr>\n",
       "      <th>20061</th>\n",
       "      <td>1</td>\n",
       "      <td>0</td>\n",
       "      <td>1</td>\n",
       "      <td>0</td>\n",
       "      <td>0</td>\n",
       "      <td>0</td>\n",
       "      <td>0</td>\n",
       "      <td>0</td>\n",
       "      <td>0</td>\n",
       "      <td>0</td>\n",
       "      <td>...</td>\n",
       "      <td>0</td>\n",
       "      <td>0</td>\n",
       "      <td>0</td>\n",
       "      <td>0</td>\n",
       "      <td>0</td>\n",
       "      <td>0</td>\n",
       "      <td>0</td>\n",
       "      <td>1</td>\n",
       "      <td>1122.764878</td>\n",
       "      <td>1122.764878</td>\n",
       "    </tr>\n",
       "    <tr>\n",
       "      <th>39978</th>\n",
       "      <td>1</td>\n",
       "      <td>5</td>\n",
       "      <td>1</td>\n",
       "      <td>0</td>\n",
       "      <td>0</td>\n",
       "      <td>0</td>\n",
       "      <td>0</td>\n",
       "      <td>0</td>\n",
       "      <td>0</td>\n",
       "      <td>0</td>\n",
       "      <td>...</td>\n",
       "      <td>0</td>\n",
       "      <td>1</td>\n",
       "      <td>0</td>\n",
       "      <td>0</td>\n",
       "      <td>0</td>\n",
       "      <td>0</td>\n",
       "      <td>0</td>\n",
       "      <td>1</td>\n",
       "      <td>1045.163236</td>\n",
       "      <td>1045.163236</td>\n",
       "    </tr>\n",
       "    <tr>\n",
       "      <th>39711</th>\n",
       "      <td>1</td>\n",
       "      <td>2</td>\n",
       "      <td>1</td>\n",
       "      <td>1</td>\n",
       "      <td>0</td>\n",
       "      <td>0</td>\n",
       "      <td>0</td>\n",
       "      <td>0</td>\n",
       "      <td>0</td>\n",
       "      <td>0</td>\n",
       "      <td>...</td>\n",
       "      <td>0</td>\n",
       "      <td>0</td>\n",
       "      <td>0</td>\n",
       "      <td>0</td>\n",
       "      <td>0</td>\n",
       "      <td>0</td>\n",
       "      <td>0</td>\n",
       "      <td>0</td>\n",
       "      <td>986.339034</td>\n",
       "      <td>986.339034</td>\n",
       "    </tr>\n",
       "    <tr>\n",
       "      <th>39336</th>\n",
       "      <td>1</td>\n",
       "      <td>5</td>\n",
       "      <td>1</td>\n",
       "      <td>1</td>\n",
       "      <td>0</td>\n",
       "      <td>0</td>\n",
       "      <td>0</td>\n",
       "      <td>0</td>\n",
       "      <td>0</td>\n",
       "      <td>0</td>\n",
       "      <td>...</td>\n",
       "      <td>0</td>\n",
       "      <td>0</td>\n",
       "      <td>0</td>\n",
       "      <td>0</td>\n",
       "      <td>0</td>\n",
       "      <td>0</td>\n",
       "      <td>0</td>\n",
       "      <td>0</td>\n",
       "      <td>919.146156</td>\n",
       "      <td>919.146156</td>\n",
       "    </tr>\n",
       "    <tr>\n",
       "      <th>11984</th>\n",
       "      <td>1</td>\n",
       "      <td>0</td>\n",
       "      <td>3</td>\n",
       "      <td>0</td>\n",
       "      <td>0</td>\n",
       "      <td>0</td>\n",
       "      <td>0</td>\n",
       "      <td>0</td>\n",
       "      <td>0</td>\n",
       "      <td>0</td>\n",
       "      <td>...</td>\n",
       "      <td>0</td>\n",
       "      <td>1</td>\n",
       "      <td>0</td>\n",
       "      <td>0</td>\n",
       "      <td>0</td>\n",
       "      <td>0</td>\n",
       "      <td>0</td>\n",
       "      <td>0</td>\n",
       "      <td>804.556465</td>\n",
       "      <td>804.556465</td>\n",
       "    </tr>\n",
       "    <tr>\n",
       "      <th>71819</th>\n",
       "      <td>1</td>\n",
       "      <td>0</td>\n",
       "      <td>2</td>\n",
       "      <td>0</td>\n",
       "      <td>0</td>\n",
       "      <td>0</td>\n",
       "      <td>0</td>\n",
       "      <td>0</td>\n",
       "      <td>0</td>\n",
       "      <td>0</td>\n",
       "      <td>...</td>\n",
       "      <td>0</td>\n",
       "      <td>1</td>\n",
       "      <td>0</td>\n",
       "      <td>0</td>\n",
       "      <td>0</td>\n",
       "      <td>0</td>\n",
       "      <td>0</td>\n",
       "      <td>0</td>\n",
       "      <td>786.530805</td>\n",
       "      <td>786.530805</td>\n",
       "    </tr>\n",
       "    <tr>\n",
       "      <th>40172</th>\n",
       "      <td>1</td>\n",
       "      <td>2</td>\n",
       "      <td>1</td>\n",
       "      <td>2</td>\n",
       "      <td>0</td>\n",
       "      <td>0</td>\n",
       "      <td>0</td>\n",
       "      <td>0</td>\n",
       "      <td>0</td>\n",
       "      <td>0</td>\n",
       "      <td>...</td>\n",
       "      <td>0</td>\n",
       "      <td>0</td>\n",
       "      <td>0</td>\n",
       "      <td>0</td>\n",
       "      <td>0</td>\n",
       "      <td>0</td>\n",
       "      <td>0</td>\n",
       "      <td>1</td>\n",
       "      <td>637.409757</td>\n",
       "      <td>637.409757</td>\n",
       "    </tr>\n",
       "    <tr>\n",
       "      <th>69135</th>\n",
       "      <td>1</td>\n",
       "      <td>4</td>\n",
       "      <td>2</td>\n",
       "      <td>0</td>\n",
       "      <td>0</td>\n",
       "      <td>0</td>\n",
       "      <td>0</td>\n",
       "      <td>0</td>\n",
       "      <td>0</td>\n",
       "      <td>0</td>\n",
       "      <td>...</td>\n",
       "      <td>0</td>\n",
       "      <td>1</td>\n",
       "      <td>0</td>\n",
       "      <td>0</td>\n",
       "      <td>0</td>\n",
       "      <td>0</td>\n",
       "      <td>0</td>\n",
       "      <td>0</td>\n",
       "      <td>486.105613</td>\n",
       "      <td>486.105613</td>\n",
       "    </tr>\n",
       "    <tr>\n",
       "      <th>77582</th>\n",
       "      <td>1</td>\n",
       "      <td>4</td>\n",
       "      <td>1</td>\n",
       "      <td>1</td>\n",
       "      <td>0</td>\n",
       "      <td>0</td>\n",
       "      <td>0</td>\n",
       "      <td>0</td>\n",
       "      <td>0</td>\n",
       "      <td>0</td>\n",
       "      <td>...</td>\n",
       "      <td>0</td>\n",
       "      <td>1</td>\n",
       "      <td>0</td>\n",
       "      <td>0</td>\n",
       "      <td>0</td>\n",
       "      <td>0</td>\n",
       "      <td>0</td>\n",
       "      <td>1</td>\n",
       "      <td>439.304850</td>\n",
       "      <td>439.304850</td>\n",
       "    </tr>\n",
       "    <tr>\n",
       "      <th>40174</th>\n",
       "      <td>1</td>\n",
       "      <td>4</td>\n",
       "      <td>1</td>\n",
       "      <td>1</td>\n",
       "      <td>0</td>\n",
       "      <td>0</td>\n",
       "      <td>0</td>\n",
       "      <td>0</td>\n",
       "      <td>0</td>\n",
       "      <td>0</td>\n",
       "      <td>...</td>\n",
       "      <td>0</td>\n",
       "      <td>0</td>\n",
       "      <td>0</td>\n",
       "      <td>0</td>\n",
       "      <td>0</td>\n",
       "      <td>0</td>\n",
       "      <td>0</td>\n",
       "      <td>1</td>\n",
       "      <td>426.007587</td>\n",
       "      <td>426.007587</td>\n",
       "    </tr>\n",
       "    <tr>\n",
       "      <th>44539</th>\n",
       "      <td>1</td>\n",
       "      <td>4</td>\n",
       "      <td>3</td>\n",
       "      <td>0</td>\n",
       "      <td>0</td>\n",
       "      <td>0</td>\n",
       "      <td>0</td>\n",
       "      <td>0</td>\n",
       "      <td>0</td>\n",
       "      <td>0</td>\n",
       "      <td>...</td>\n",
       "      <td>0</td>\n",
       "      <td>1</td>\n",
       "      <td>0</td>\n",
       "      <td>0</td>\n",
       "      <td>0</td>\n",
       "      <td>0</td>\n",
       "      <td>0</td>\n",
       "      <td>1</td>\n",
       "      <td>424.820372</td>\n",
       "      <td>424.820372</td>\n",
       "    </tr>\n",
       "    <tr>\n",
       "      <th>11821</th>\n",
       "      <td>1</td>\n",
       "      <td>5</td>\n",
       "      <td>1</td>\n",
       "      <td>0</td>\n",
       "      <td>0</td>\n",
       "      <td>0</td>\n",
       "      <td>0</td>\n",
       "      <td>0</td>\n",
       "      <td>0</td>\n",
       "      <td>0</td>\n",
       "      <td>...</td>\n",
       "      <td>0</td>\n",
       "      <td>1</td>\n",
       "      <td>0</td>\n",
       "      <td>0</td>\n",
       "      <td>0</td>\n",
       "      <td>0</td>\n",
       "      <td>0</td>\n",
       "      <td>1</td>\n",
       "      <td>422.798445</td>\n",
       "      <td>422.798445</td>\n",
       "    </tr>\n",
       "    <tr>\n",
       "      <th>39540</th>\n",
       "      <td>1</td>\n",
       "      <td>5</td>\n",
       "      <td>1</td>\n",
       "      <td>1</td>\n",
       "      <td>0</td>\n",
       "      <td>0</td>\n",
       "      <td>0</td>\n",
       "      <td>0</td>\n",
       "      <td>0</td>\n",
       "      <td>0</td>\n",
       "      <td>...</td>\n",
       "      <td>0</td>\n",
       "      <td>0</td>\n",
       "      <td>0</td>\n",
       "      <td>1</td>\n",
       "      <td>0</td>\n",
       "      <td>0</td>\n",
       "      <td>0</td>\n",
       "      <td>1</td>\n",
       "      <td>412.327939</td>\n",
       "      <td>412.327939</td>\n",
       "    </tr>\n",
       "    <tr>\n",
       "      <th>40171</th>\n",
       "      <td>1</td>\n",
       "      <td>4</td>\n",
       "      <td>2</td>\n",
       "      <td>0</td>\n",
       "      <td>0</td>\n",
       "      <td>0</td>\n",
       "      <td>0</td>\n",
       "      <td>0</td>\n",
       "      <td>0</td>\n",
       "      <td>0</td>\n",
       "      <td>...</td>\n",
       "      <td>0</td>\n",
       "      <td>0</td>\n",
       "      <td>0</td>\n",
       "      <td>0</td>\n",
       "      <td>0</td>\n",
       "      <td>0</td>\n",
       "      <td>0</td>\n",
       "      <td>1</td>\n",
       "      <td>408.243924</td>\n",
       "      <td>408.243924</td>\n",
       "    </tr>\n",
       "    <tr>\n",
       "      <th>40019</th>\n",
       "      <td>1</td>\n",
       "      <td>3</td>\n",
       "      <td>1</td>\n",
       "      <td>0</td>\n",
       "      <td>0</td>\n",
       "      <td>0</td>\n",
       "      <td>0</td>\n",
       "      <td>0</td>\n",
       "      <td>0</td>\n",
       "      <td>0</td>\n",
       "      <td>...</td>\n",
       "      <td>0</td>\n",
       "      <td>0</td>\n",
       "      <td>0</td>\n",
       "      <td>0</td>\n",
       "      <td>0</td>\n",
       "      <td>0</td>\n",
       "      <td>0</td>\n",
       "      <td>1</td>\n",
       "      <td>358.818953</td>\n",
       "      <td>358.818953</td>\n",
       "    </tr>\n",
       "    <tr>\n",
       "      <th>71571</th>\n",
       "      <td>1</td>\n",
       "      <td>0</td>\n",
       "      <td>1</td>\n",
       "      <td>0</td>\n",
       "      <td>0</td>\n",
       "      <td>0</td>\n",
       "      <td>0</td>\n",
       "      <td>0</td>\n",
       "      <td>0</td>\n",
       "      <td>0</td>\n",
       "      <td>...</td>\n",
       "      <td>0</td>\n",
       "      <td>1</td>\n",
       "      <td>0</td>\n",
       "      <td>0</td>\n",
       "      <td>0</td>\n",
       "      <td>0</td>\n",
       "      <td>0</td>\n",
       "      <td>1</td>\n",
       "      <td>349.042430</td>\n",
       "      <td>349.042430</td>\n",
       "    </tr>\n",
       "    <tr>\n",
       "      <th>39923</th>\n",
       "      <td>1</td>\n",
       "      <td>4</td>\n",
       "      <td>1</td>\n",
       "      <td>1</td>\n",
       "      <td>0</td>\n",
       "      <td>0</td>\n",
       "      <td>0</td>\n",
       "      <td>0</td>\n",
       "      <td>0</td>\n",
       "      <td>0</td>\n",
       "      <td>...</td>\n",
       "      <td>0</td>\n",
       "      <td>0</td>\n",
       "      <td>0</td>\n",
       "      <td>0</td>\n",
       "      <td>0</td>\n",
       "      <td>0</td>\n",
       "      <td>0</td>\n",
       "      <td>0</td>\n",
       "      <td>330.050022</td>\n",
       "      <td>330.050022</td>\n",
       "    </tr>\n",
       "    <tr>\n",
       "      <th>71617</th>\n",
       "      <td>1</td>\n",
       "      <td>4</td>\n",
       "      <td>2</td>\n",
       "      <td>0</td>\n",
       "      <td>0</td>\n",
       "      <td>0</td>\n",
       "      <td>0</td>\n",
       "      <td>0</td>\n",
       "      <td>0</td>\n",
       "      <td>0</td>\n",
       "      <td>...</td>\n",
       "      <td>0</td>\n",
       "      <td>1</td>\n",
       "      <td>0</td>\n",
       "      <td>0</td>\n",
       "      <td>0</td>\n",
       "      <td>0</td>\n",
       "      <td>0</td>\n",
       "      <td>1</td>\n",
       "      <td>328.797864</td>\n",
       "      <td>328.797864</td>\n",
       "    </tr>\n",
       "    <tr>\n",
       "      <th>40170</th>\n",
       "      <td>1</td>\n",
       "      <td>5</td>\n",
       "      <td>3</td>\n",
       "      <td>0</td>\n",
       "      <td>0</td>\n",
       "      <td>0</td>\n",
       "      <td>0</td>\n",
       "      <td>0</td>\n",
       "      <td>0</td>\n",
       "      <td>0</td>\n",
       "      <td>...</td>\n",
       "      <td>0</td>\n",
       "      <td>1</td>\n",
       "      <td>0</td>\n",
       "      <td>0</td>\n",
       "      <td>0</td>\n",
       "      <td>0</td>\n",
       "      <td>0</td>\n",
       "      <td>0</td>\n",
       "      <td>295.446361</td>\n",
       "      <td>295.446361</td>\n",
       "    </tr>\n",
       "    <tr>\n",
       "      <th>44553</th>\n",
       "      <td>1</td>\n",
       "      <td>4</td>\n",
       "      <td>2</td>\n",
       "      <td>0</td>\n",
       "      <td>0</td>\n",
       "      <td>0</td>\n",
       "      <td>0</td>\n",
       "      <td>0</td>\n",
       "      <td>0</td>\n",
       "      <td>0</td>\n",
       "      <td>...</td>\n",
       "      <td>0</td>\n",
       "      <td>1</td>\n",
       "      <td>0</td>\n",
       "      <td>0</td>\n",
       "      <td>0</td>\n",
       "      <td>0</td>\n",
       "      <td>0</td>\n",
       "      <td>1</td>\n",
       "      <td>282.764375</td>\n",
       "      <td>282.764375</td>\n",
       "    </tr>\n",
       "    <tr>\n",
       "      <th>40173</th>\n",
       "      <td>0</td>\n",
       "      <td>3</td>\n",
       "      <td>1</td>\n",
       "      <td>1</td>\n",
       "      <td>0</td>\n",
       "      <td>0</td>\n",
       "      <td>0</td>\n",
       "      <td>0</td>\n",
       "      <td>0</td>\n",
       "      <td>0</td>\n",
       "      <td>...</td>\n",
       "      <td>0</td>\n",
       "      <td>0</td>\n",
       "      <td>0</td>\n",
       "      <td>0</td>\n",
       "      <td>0</td>\n",
       "      <td>0</td>\n",
       "      <td>0</td>\n",
       "      <td>1</td>\n",
       "      <td>275.842271</td>\n",
       "      <td>275.842271</td>\n",
       "    </tr>\n",
       "    <tr>\n",
       "      <th>72349</th>\n",
       "      <td>1</td>\n",
       "      <td>4</td>\n",
       "      <td>2</td>\n",
       "      <td>0</td>\n",
       "      <td>0</td>\n",
       "      <td>0</td>\n",
       "      <td>0</td>\n",
       "      <td>0</td>\n",
       "      <td>0</td>\n",
       "      <td>0</td>\n",
       "      <td>...</td>\n",
       "      <td>0</td>\n",
       "      <td>1</td>\n",
       "      <td>0</td>\n",
       "      <td>0</td>\n",
       "      <td>0</td>\n",
       "      <td>0</td>\n",
       "      <td>0</td>\n",
       "      <td>1</td>\n",
       "      <td>273.657257</td>\n",
       "      <td>273.657257</td>\n",
       "    </tr>\n",
       "    <tr>\n",
       "      <th>83274</th>\n",
       "      <td>2</td>\n",
       "      <td>3</td>\n",
       "      <td>2</td>\n",
       "      <td>0</td>\n",
       "      <td>0</td>\n",
       "      <td>0</td>\n",
       "      <td>0</td>\n",
       "      <td>0</td>\n",
       "      <td>0</td>\n",
       "      <td>0</td>\n",
       "      <td>...</td>\n",
       "      <td>0</td>\n",
       "      <td>1</td>\n",
       "      <td>0</td>\n",
       "      <td>0</td>\n",
       "      <td>0</td>\n",
       "      <td>0</td>\n",
       "      <td>0</td>\n",
       "      <td>1</td>\n",
       "      <td>259.101620</td>\n",
       "      <td>259.101620</td>\n",
       "    </tr>\n",
       "    <tr>\n",
       "      <th>78800</th>\n",
       "      <td>2</td>\n",
       "      <td>2</td>\n",
       "      <td>3</td>\n",
       "      <td>0</td>\n",
       "      <td>0</td>\n",
       "      <td>0</td>\n",
       "      <td>0</td>\n",
       "      <td>0</td>\n",
       "      <td>0</td>\n",
       "      <td>0</td>\n",
       "      <td>...</td>\n",
       "      <td>0</td>\n",
       "      <td>0</td>\n",
       "      <td>0</td>\n",
       "      <td>1</td>\n",
       "      <td>0</td>\n",
       "      <td>0</td>\n",
       "      <td>0</td>\n",
       "      <td>0</td>\n",
       "      <td>257.909364</td>\n",
       "      <td>257.909364</td>\n",
       "    </tr>\n",
       "    <tr>\n",
       "      <th>44645</th>\n",
       "      <td>1</td>\n",
       "      <td>3</td>\n",
       "      <td>2</td>\n",
       "      <td>0</td>\n",
       "      <td>0</td>\n",
       "      <td>0</td>\n",
       "      <td>0</td>\n",
       "      <td>0</td>\n",
       "      <td>0</td>\n",
       "      <td>0</td>\n",
       "      <td>...</td>\n",
       "      <td>0</td>\n",
       "      <td>1</td>\n",
       "      <td>0</td>\n",
       "      <td>0</td>\n",
       "      <td>0</td>\n",
       "      <td>0</td>\n",
       "      <td>0</td>\n",
       "      <td>1</td>\n",
       "      <td>252.617143</td>\n",
       "      <td>252.617143</td>\n",
       "    </tr>\n",
       "  </tbody>\n",
       "</table>\n",
       "<p>25 rows × 208 columns</p>\n",
       "</div>"
      ],
      "text/plain": [
       "       binned_year  mil_cat  binned_mpg  engine_binned  model_ 2 Series  \\\n",
       "20061            1        0           1              0                0   \n",
       "39978            1        5           1              0                0   \n",
       "39711            1        2           1              1                0   \n",
       "39336            1        5           1              1                0   \n",
       "11984            1        0           3              0                0   \n",
       "71819            1        0           2              0                0   \n",
       "40172            1        2           1              2                0   \n",
       "69135            1        4           2              0                0   \n",
       "77582            1        4           1              1                0   \n",
       "40174            1        4           1              1                0   \n",
       "44539            1        4           3              0                0   \n",
       "11821            1        5           1              0                0   \n",
       "39540            1        5           1              1                0   \n",
       "40171            1        4           2              0                0   \n",
       "40019            1        3           1              0                0   \n",
       "71571            1        0           1              0                0   \n",
       "39923            1        4           1              1                0   \n",
       "71617            1        4           2              0                0   \n",
       "40170            1        5           3              0                0   \n",
       "44553            1        4           2              0                0   \n",
       "40173            0        3           1              1                0   \n",
       "72349            1        4           2              0                0   \n",
       "83274            2        3           2              0                0   \n",
       "78800            2        2           3              0                0   \n",
       "44645            1        3           2              0                0   \n",
       "\n",
       "       model_ 3 Series  model_ 4 Series  model_ 5 Series  model_ 6 Series  \\\n",
       "20061                0                0                0                0   \n",
       "39978                0                0                0                0   \n",
       "39711                0                0                0                0   \n",
       "39336                0                0                0                0   \n",
       "11984                0                0                0                0   \n",
       "71819                0                0                0                0   \n",
       "40172                0                0                0                0   \n",
       "69135                0                0                0                0   \n",
       "77582                0                0                0                0   \n",
       "40174                0                0                0                0   \n",
       "44539                0                0                0                0   \n",
       "11821                0                0                0                0   \n",
       "39540                0                0                0                0   \n",
       "40171                0                0                0                0   \n",
       "40019                0                0                0                0   \n",
       "71571                0                0                0                0   \n",
       "39923                0                0                0                0   \n",
       "71617                0                0                0                0   \n",
       "40170                0                0                0                0   \n",
       "44553                0                0                0                0   \n",
       "40173                0                0                0                0   \n",
       "72349                0                0                0                0   \n",
       "83274                0                0                0                0   \n",
       "78800                0                0                0                0   \n",
       "44645                0                0                0                0   \n",
       "\n",
       "       model_ 7 Series  ...  model_EcoSport  transmission_Manual  \\\n",
       "20061                0  ...               0                    0   \n",
       "39978                0  ...               0                    1   \n",
       "39711                0  ...               0                    0   \n",
       "39336                0  ...               0                    0   \n",
       "11984                0  ...               0                    1   \n",
       "71819                0  ...               0                    1   \n",
       "40172                0  ...               0                    0   \n",
       "69135                0  ...               0                    1   \n",
       "77582                0  ...               0                    1   \n",
       "40174                0  ...               0                    0   \n",
       "44539                0  ...               0                    1   \n",
       "11821                0  ...               0                    1   \n",
       "39540                0  ...               0                    0   \n",
       "40171                0  ...               0                    0   \n",
       "40019                0  ...               0                    0   \n",
       "71571                0  ...               0                    1   \n",
       "39923                0  ...               0                    0   \n",
       "71617                0  ...               0                    1   \n",
       "40170                0  ...               0                    1   \n",
       "44553                0  ...               0                    1   \n",
       "40173                0  ...               0                    0   \n",
       "72349                0  ...               0                    1   \n",
       "83274                0  ...               0                    1   \n",
       "78800                0  ...               0                    0   \n",
       "44645                0  ...               0                    1   \n",
       "\n",
       "       transmission_Other  transmission_Semi-Auto  fuelType_Electric  \\\n",
       "20061                   0                       0                  0   \n",
       "39978                   0                       0                  0   \n",
       "39711                   0                       0                  0   \n",
       "39336                   0                       0                  0   \n",
       "11984                   0                       0                  0   \n",
       "71819                   0                       0                  0   \n",
       "40172                   0                       0                  0   \n",
       "69135                   0                       0                  0   \n",
       "77582                   0                       0                  0   \n",
       "40174                   0                       0                  0   \n",
       "44539                   0                       0                  0   \n",
       "11821                   0                       0                  0   \n",
       "39540                   0                       1                  0   \n",
       "40171                   0                       0                  0   \n",
       "40019                   0                       0                  0   \n",
       "71571                   0                       0                  0   \n",
       "39923                   0                       0                  0   \n",
       "71617                   0                       0                  0   \n",
       "40170                   0                       0                  0   \n",
       "44553                   0                       0                  0   \n",
       "40173                   0                       0                  0   \n",
       "72349                   0                       0                  0   \n",
       "83274                   0                       0                  0   \n",
       "78800                   0                       1                  0   \n",
       "44645                   0                       0                  0   \n",
       "\n",
       "       fuelType_Hybrid  fuelType_Other  fuelType_Petrol  price_diff_pct  \\\n",
       "20061                0               0                1     1122.764878   \n",
       "39978                0               0                1     1045.163236   \n",
       "39711                0               0                0      986.339034   \n",
       "39336                0               0                0      919.146156   \n",
       "11984                0               0                0      804.556465   \n",
       "71819                0               0                0      786.530805   \n",
       "40172                0               0                1      637.409757   \n",
       "69135                0               0                0      486.105613   \n",
       "77582                0               0                1      439.304850   \n",
       "40174                0               0                1      426.007587   \n",
       "44539                0               0                1      424.820372   \n",
       "11821                0               0                1      422.798445   \n",
       "39540                0               0                1      412.327939   \n",
       "40171                0               0                1      408.243924   \n",
       "40019                0               0                1      358.818953   \n",
       "71571                0               0                1      349.042430   \n",
       "39923                0               0                0      330.050022   \n",
       "71617                0               0                1      328.797864   \n",
       "40170                0               0                0      295.446361   \n",
       "44553                0               0                1      282.764375   \n",
       "40173                0               0                1      275.842271   \n",
       "72349                0               0                1      273.657257   \n",
       "83274                0               0                1      259.101620   \n",
       "78800                0               0                0      257.909364   \n",
       "44645                0               0                1      252.617143   \n",
       "\n",
       "       price_diff_abs  \n",
       "20061     1122.764878  \n",
       "39978     1045.163236  \n",
       "39711      986.339034  \n",
       "39336      919.146156  \n",
       "11984      804.556465  \n",
       "71819      786.530805  \n",
       "40172      637.409757  \n",
       "69135      486.105613  \n",
       "77582      439.304850  \n",
       "40174      426.007587  \n",
       "44539      424.820372  \n",
       "11821      422.798445  \n",
       "39540      412.327939  \n",
       "40171      408.243924  \n",
       "40019      358.818953  \n",
       "71571      349.042430  \n",
       "39923      330.050022  \n",
       "71617      328.797864  \n",
       "40170      295.446361  \n",
       "44553      282.764375  \n",
       "40173      275.842271  \n",
       "72349      273.657257  \n",
       "83274      259.101620  \n",
       "78800      257.909364  \n",
       "44645      252.617143  \n",
       "\n",
       "[25 rows x 208 columns]"
      ]
     },
     "execution_count": 23,
     "metadata": {},
     "output_type": "execute_result"
    }
   ],
   "source": [
    "price_table.head(25)"
   ]
  },
  {
   "cell_type": "code",
   "execution_count": 32,
   "metadata": {},
   "outputs": [
    {
     "data": {
      "image/png": "[encoded data removed]",
      "text/plain": [
       "<Figure size 432x576 with 1 Axes>"
      ]
     },
     "metadata": {
      "needs_background": "light"
     },
     "output_type": "display_data"
    },
    {
     "data": {
      "image/png": "[encoded data removed]",
      "text/plain": [
       "<Figure size 432x576 with 1 Axes>"
      ]
     },
     "metadata": {
      "needs_background": "light"
     },
     "output_type": "display_data"
    }
   ],
   "source": [
    "feature_table = CarPrice_NN_base.linear_feature_importance(plot=True)"
   ]
  },
  {
   "cell_type": "markdown",
   "metadata": {},
   "source": [
    "### Pretty decent results and the error appear to be normal distribution"
   ]
  },
  {
   "cell_type": "markdown",
   "metadata": {},
   "source": [
    "## Try a bigger model "
   ]
  },
  {
   "cell_type": "code",
   "execution_count": 9,
   "metadata": {},
   "outputs": [],
   "source": [
    "bigger_model = NNCarPrice.make_model([2056,2014,512,512],input_size,METRICS,1e-4,lr)"
   ]
  },
  {
   "cell_type": "code",
   "execution_count": 10,
   "metadata": {
    "scrolled": false
   },
   "outputs": [
    {
     "name": "stdout",
     "output_type": "stream",
     "text": [
      "Model: \"NN_regressor\"\n",
      "_________________________________________________________________\n",
      "Layer (type)                 Output Shape              Param #   \n",
      "=================================================================\n",
      "dense (Dense)                (None, 2056)              425592    \n",
      "_________________________________________________________________\n",
      "dense_1 (Dense)              (None, 2014)              4142798   \n",
      "_________________________________________________________________\n",
      "dense_2 (Dense)              (None, 512)               1031680   \n",
      "_________________________________________________________________\n",
      "dense_3 (Dense)              (None, 512)               262656    \n",
      "_________________________________________________________________\n",
      "dense_4 (Dense)              (None, 1)                 513       \n",
      "=================================================================\n",
      "Total params: 5,863,239\n",
      "Trainable params: 5,863,239\n",
      "Non-trainable params: 0\n",
      "_________________________________________________________________\n"
     ]
    }
   ],
   "source": [
    "bigger_model.summary()"
   ]
  },
  {
   "cell_type": "code",
   "execution_count": 11,
   "metadata": {},
   "outputs": [],
   "source": [
    "CarPrice_NN_bigger = NNCarPrice(data,bigger_model,BATCH_SIZE,MAX_EPOCH,[EARLYSTOP])"
   ]
  },
  {
   "cell_type": "code",
   "execution_count": 20,
   "metadata": {},
   "outputs": [],
   "source": [
    "CarPrice_NN_bigger.make_tensor_dataset(X_train,y_train,X_dev,y_dev)"
   ]
  },
  {
   "cell_type": "code",
   "execution_count": 31,
   "metadata": {
    "scrolled": false
   },
   "outputs": [
    {
     "data": {
      "text/html": [
       "<div>\n",
       "<style scoped>\n",
       "    .dataframe tbody tr th:only-of-type {\n",
       "        vertical-align: middle;\n",
       "    }\n",
       "\n",
       "    .dataframe tbody tr th {\n",
       "        vertical-align: top;\n",
       "    }\n",
       "\n",
       "    .dataframe thead th {\n",
       "        text-align: right;\n",
       "    }\n",
       "</style>\n",
       "<table border=\"1\" class=\"dataframe\">\n",
       "  <thead>\n",
       "    <tr style=\"text-align: right;\">\n",
       "      <th></th>\n",
       "      <th>r2_score</th>\n",
       "      <th>rmse</th>\n",
       "      <th>price_diff_abs_max</th>\n",
       "    </tr>\n",
       "  </thead>\n",
       "  <tbody>\n",
       "    <tr>\n",
       "      <th>train</th>\n",
       "      <td>0.945249</td>\n",
       "      <td>2304.167576</td>\n",
       "      <td>773.200163</td>\n",
       "    </tr>\n",
       "    <tr>\n",
       "      <th>test</th>\n",
       "      <td>0.935161</td>\n",
       "      <td>2565.689448</td>\n",
       "      <td>237.532913</td>\n",
       "    </tr>\n",
       "  </tbody>\n",
       "</table>\n",
       "</div>"
      ],
      "text/plain": [
       "       r2_score         rmse  price_diff_abs_max\n",
       "train  0.945249  2304.167576          773.200163\n",
       "test   0.935161  2565.689448          237.532913"
      ]
     },
     "execution_count": 31,
     "metadata": {},
     "output_type": "execute_result"
    }
   ],
   "source": [
    "CarPrice_NN_bigger.regression_metrics(X_train,y_train,X_test,y_test,False)"
   ]
  },
  {
   "cell_type": "code",
   "execution_count": 23,
   "metadata": {},
   "outputs": [],
   "source": [
    "bigger_model_tuned = CarPrice_NN_bigger.trained_model"
   ]
  },
  {
   "cell_type": "code",
   "execution_count": 24,
   "metadata": {},
   "outputs": [],
   "source": [
    "NNCarPrice.save_model(bigger_model_tuned,\"bigger_model_nn.h5\")"
   ]
  },
  {
   "cell_type": "code",
   "execution_count": 25,
   "metadata": {},
   "outputs": [],
   "source": [
    "bigger_model_tuned = NNCarPrice.load_model(\"bigger_model_nn.h5\")"
   ]
  },
  {
   "cell_type": "code",
   "execution_count": 27,
   "metadata": {},
   "outputs": [
    {
     "data": {
      "image/png": "[encoded data removed]",
      "text/plain": [
       "<Figure size 432x432 with 3 Axes>"
      ]
     },
     "metadata": {
      "needs_background": "light"
     },
     "output_type": "display_data"
    },
    {
     "data": {
      "image/png": "[encoded data removed]",
      "text/plain": [
       "<Figure size 432x288 with 1 Axes>"
      ]
     },
     "metadata": {
      "needs_background": "light"
     },
     "output_type": "display_data"
    }
   ],
   "source": [
    "CarPrice_NN_bigger.plot_pred_price"
   ]
  },
  {
   "cell_type": "markdown",
   "metadata": {},
   "source": [
    "### Pretty decent result and not over training the train data either"
   ]
  },
  {
   "cell_type": "code",
   "execution_count": 32,
   "metadata": {},
   "outputs": [],
   "source": [
    "bigger_model_2 = NNCarPrice.make_model([2056,2014,512,512],input_size,METRICS,1e-4,5e-5)"
   ]
  },
  {
   "cell_type": "code",
   "execution_count": 33,
   "metadata": {
    "scrolled": false
   },
   "outputs": [
    {
     "name": "stdout",
     "output_type": "stream",
     "text": [
      "Model: \"NN_regressor\"\n",
      "_________________________________________________________________\n",
      "Layer (type)                 Output Shape              Param #   \n",
      "=================================================================\n",
      "dense_8 (Dense)              (None, 2056)              425592    \n",
      "_________________________________________________________________\n",
      "dense_9 (Dense)              (None, 2014)              4142798   \n",
      "_________________________________________________________________\n",
      "dense_10 (Dense)             (None, 512)               1031680   \n",
      "_________________________________________________________________\n",
      "dense_11 (Dense)             (None, 512)               262656    \n",
      "_________________________________________________________________\n",
      "dense_12 (Dense)             (None, 1)                 513       \n",
      "=================================================================\n",
      "Total params: 5,863,239\n",
      "Trainable params: 5,863,239\n",
      "Non-trainable params: 0\n",
      "_________________________________________________________________\n"
     ]
    }
   ],
   "source": [
    "bigger_model_2.summary()"
   ]
  },
  {
   "cell_type": "code",
   "execution_count": 34,
   "metadata": {},
   "outputs": [],
   "source": [
    "CarPrice_NN_bigger_2 = NNCarPrice(data,bigger_model_2,BATCH_SIZE,MAX_EPOCH,[EARLYSTOP])"
   ]
  },
  {
   "cell_type": "code",
   "execution_count": 35,
   "metadata": {},
   "outputs": [],
   "source": [
    "CarPrice_NN_bigger_2.make_tensor_dataset(X_train,y_train,X_dev,y_dev)"
   ]
  },
  {
   "cell_type": "code",
   "execution_count": 38,
   "metadata": {
    "scrolled": false
   },
   "outputs": [
    {
     "data": {
      "text/html": [
       "<div>\n",
       "<style scoped>\n",
       "    .dataframe tbody tr th:only-of-type {\n",
       "        vertical-align: middle;\n",
       "    }\n",
       "\n",
       "    .dataframe tbody tr th {\n",
       "        vertical-align: top;\n",
       "    }\n",
       "\n",
       "    .dataframe thead th {\n",
       "        text-align: right;\n",
       "    }\n",
       "</style>\n",
       "<table border=\"1\" class=\"dataframe\">\n",
       "  <thead>\n",
       "    <tr style=\"text-align: right;\">\n",
       "      <th></th>\n",
       "      <th>r2_score</th>\n",
       "      <th>rmse</th>\n",
       "      <th>price_diff_abs_max</th>\n",
       "    </tr>\n",
       "  </thead>\n",
       "  <tbody>\n",
       "    <tr>\n",
       "      <th>train</th>\n",
       "      <td>0.946719</td>\n",
       "      <td>2273.027782</td>\n",
       "      <td>810.000331</td>\n",
       "    </tr>\n",
       "    <tr>\n",
       "      <th>test</th>\n",
       "      <td>0.935837</td>\n",
       "      <td>2552.275710</td>\n",
       "      <td>239.792238</td>\n",
       "    </tr>\n",
       "  </tbody>\n",
       "</table>\n",
       "</div>"
      ],
      "text/plain": [
       "       r2_score         rmse  price_diff_abs_max\n",
       "train  0.946719  2273.027782          810.000331\n",
       "test   0.935837  2552.275710          239.792238"
      ]
     },
     "execution_count": 38,
     "metadata": {},
     "output_type": "execute_result"
    }
   ],
   "source": [
    "CarPrice_NN_bigger_2.regression_metrics(X_train,y_train,X_test,y_test,False)"
   ]
  },
  {
   "cell_type": "code",
   "execution_count": 39,
   "metadata": {},
   "outputs": [],
   "source": [
    "# bigger_model_2 = CarPrice_NN_bigger_2.trained_model"
   ]
  },
  {
   "cell_type": "code",
   "execution_count": 29,
   "metadata": {},
   "outputs": [],
   "source": [
    "# NNCarPrice.save_model(bigger_model_2,\"bigger_model_2.h5\")"
   ]
  },
  {
   "cell_type": "code",
   "execution_count": 36,
   "metadata": {},
   "outputs": [],
   "source": [
    "bigger_model_2 = NNCarPrice.load_model(\"bigger_model_2.h5\")"
   ]
  },
  {
   "cell_type": "code",
   "execution_count": 37,
   "metadata": {},
   "outputs": [],
   "source": [
    "CarPrice_NN_bigger_2.reset_trained_model(bigger_model_2)"
   ]
  },
  {
   "cell_type": "code",
   "execution_count": 37,
   "metadata": {},
   "outputs": [
    {
     "data": {
      "image/png": "[encoded data removed]",
      "text/plain": [
       "<Figure size 432x432 with 3 Axes>"
      ]
     },
     "metadata": {
      "needs_background": "light"
     },
     "output_type": "display_data"
    },
    {
     "data": {
      "image/png": "[encoded data removed]",
      "text/plain": [
       "<Figure size 432x288 with 1 Axes>"
      ]
     },
     "metadata": {
      "needs_background": "light"
     },
     "output_type": "display_data"
    }
   ],
   "source": [
    "CarPrice_NN_bigger_2.plot_pred_price"
   ]
  },
  {
   "cell_type": "markdown",
   "metadata": {},
   "source": [
    "### Since we have limited data, having bigger NN didn't seem to help with the improvement\n",
    "\n",
    "------\n",
    "\n",
    "### Looking at special cases of why the model has hard time predicting certain car price"
   ]
  },
  {
   "cell_type": "code",
   "execution_count": 42,
   "metadata": {},
   "outputs": [],
   "source": [
    "price_table_final = CarPrice_NN_bigger_2.price_diff"
   ]
  },
  {
   "cell_type": "code",
   "execution_count": 43,
   "metadata": {},
   "outputs": [
    {
     "data": {
      "text/html": [
       "<div>\n",
       "<style scoped>\n",
       "    .dataframe tbody tr th:only-of-type {\n",
       "        vertical-align: middle;\n",
       "    }\n",
       "\n",
       "    .dataframe tbody tr th {\n",
       "        vertical-align: top;\n",
       "    }\n",
       "\n",
       "    .dataframe thead th {\n",
       "        text-align: right;\n",
       "    }\n",
       "</style>\n",
       "<table border=\"1\" class=\"dataframe\">\n",
       "  <thead>\n",
       "    <tr style=\"text-align: right;\">\n",
       "      <th></th>\n",
       "      <th>binned_year</th>\n",
       "      <th>mil_cat</th>\n",
       "      <th>binned_mpg</th>\n",
       "      <th>engine_binned</th>\n",
       "      <th>model_ 2 Series</th>\n",
       "      <th>model_ 3 Series</th>\n",
       "      <th>model_ 4 Series</th>\n",
       "      <th>model_ 5 Series</th>\n",
       "      <th>model_ 6 Series</th>\n",
       "      <th>model_ 7 Series</th>\n",
       "      <th>...</th>\n",
       "      <th>model_EcoSport</th>\n",
       "      <th>transmission_Manual</th>\n",
       "      <th>transmission_Other</th>\n",
       "      <th>transmission_Semi-Auto</th>\n",
       "      <th>fuelType_Electric</th>\n",
       "      <th>fuelType_Hybrid</th>\n",
       "      <th>fuelType_Other</th>\n",
       "      <th>fuelType_Petrol</th>\n",
       "      <th>price_diff_pct</th>\n",
       "      <th>price_diff_abs</th>\n",
       "    </tr>\n",
       "  </thead>\n",
       "  <tbody>\n",
       "    <tr>\n",
       "      <th>11984</th>\n",
       "      <td>1</td>\n",
       "      <td>0</td>\n",
       "      <td>3</td>\n",
       "      <td>0</td>\n",
       "      <td>0</td>\n",
       "      <td>0</td>\n",
       "      <td>0</td>\n",
       "      <td>0</td>\n",
       "      <td>0</td>\n",
       "      <td>0</td>\n",
       "      <td>...</td>\n",
       "      <td>0</td>\n",
       "      <td>1</td>\n",
       "      <td>0</td>\n",
       "      <td>0</td>\n",
       "      <td>0</td>\n",
       "      <td>0</td>\n",
       "      <td>0</td>\n",
       "      <td>0</td>\n",
       "      <td>810.000331</td>\n",
       "      <td>810.000331</td>\n",
       "    </tr>\n",
       "    <tr>\n",
       "      <th>39978</th>\n",
       "      <td>1</td>\n",
       "      <td>5</td>\n",
       "      <td>1</td>\n",
       "      <td>0</td>\n",
       "      <td>0</td>\n",
       "      <td>0</td>\n",
       "      <td>0</td>\n",
       "      <td>0</td>\n",
       "      <td>0</td>\n",
       "      <td>0</td>\n",
       "      <td>...</td>\n",
       "      <td>0</td>\n",
       "      <td>1</td>\n",
       "      <td>0</td>\n",
       "      <td>0</td>\n",
       "      <td>0</td>\n",
       "      <td>0</td>\n",
       "      <td>0</td>\n",
       "      <td>1</td>\n",
       "      <td>721.291617</td>\n",
       "      <td>721.291617</td>\n",
       "    </tr>\n",
       "    <tr>\n",
       "      <th>39711</th>\n",
       "      <td>1</td>\n",
       "      <td>2</td>\n",
       "      <td>1</td>\n",
       "      <td>1</td>\n",
       "      <td>0</td>\n",
       "      <td>0</td>\n",
       "      <td>0</td>\n",
       "      <td>0</td>\n",
       "      <td>0</td>\n",
       "      <td>0</td>\n",
       "      <td>...</td>\n",
       "      <td>0</td>\n",
       "      <td>0</td>\n",
       "      <td>0</td>\n",
       "      <td>0</td>\n",
       "      <td>0</td>\n",
       "      <td>0</td>\n",
       "      <td>0</td>\n",
       "      <td>0</td>\n",
       "      <td>720.170164</td>\n",
       "      <td>720.170164</td>\n",
       "    </tr>\n",
       "    <tr>\n",
       "      <th>71819</th>\n",
       "      <td>1</td>\n",
       "      <td>0</td>\n",
       "      <td>2</td>\n",
       "      <td>0</td>\n",
       "      <td>0</td>\n",
       "      <td>0</td>\n",
       "      <td>0</td>\n",
       "      <td>0</td>\n",
       "      <td>0</td>\n",
       "      <td>0</td>\n",
       "      <td>...</td>\n",
       "      <td>0</td>\n",
       "      <td>1</td>\n",
       "      <td>0</td>\n",
       "      <td>0</td>\n",
       "      <td>0</td>\n",
       "      <td>0</td>\n",
       "      <td>0</td>\n",
       "      <td>0</td>\n",
       "      <td>640.388715</td>\n",
       "      <td>640.388715</td>\n",
       "    </tr>\n",
       "    <tr>\n",
       "      <th>69135</th>\n",
       "      <td>1</td>\n",
       "      <td>4</td>\n",
       "      <td>2</td>\n",
       "      <td>0</td>\n",
       "      <td>0</td>\n",
       "      <td>0</td>\n",
       "      <td>0</td>\n",
       "      <td>0</td>\n",
       "      <td>0</td>\n",
       "      <td>0</td>\n",
       "      <td>...</td>\n",
       "      <td>0</td>\n",
       "      <td>1</td>\n",
       "      <td>0</td>\n",
       "      <td>0</td>\n",
       "      <td>0</td>\n",
       "      <td>0</td>\n",
       "      <td>0</td>\n",
       "      <td>0</td>\n",
       "      <td>412.248300</td>\n",
       "      <td>412.248300</td>\n",
       "    </tr>\n",
       "    <tr>\n",
       "      <th>77582</th>\n",
       "      <td>1</td>\n",
       "      <td>4</td>\n",
       "      <td>1</td>\n",
       "      <td>1</td>\n",
       "      <td>0</td>\n",
       "      <td>0</td>\n",
       "      <td>0</td>\n",
       "      <td>0</td>\n",
       "      <td>0</td>\n",
       "      <td>0</td>\n",
       "      <td>...</td>\n",
       "      <td>0</td>\n",
       "      <td>1</td>\n",
       "      <td>0</td>\n",
       "      <td>0</td>\n",
       "      <td>0</td>\n",
       "      <td>0</td>\n",
       "      <td>0</td>\n",
       "      <td>1</td>\n",
       "      <td>372.123617</td>\n",
       "      <td>372.123617</td>\n",
       "    </tr>\n",
       "    <tr>\n",
       "      <th>44539</th>\n",
       "      <td>1</td>\n",
       "      <td>4</td>\n",
       "      <td>3</td>\n",
       "      <td>0</td>\n",
       "      <td>0</td>\n",
       "      <td>0</td>\n",
       "      <td>0</td>\n",
       "      <td>0</td>\n",
       "      <td>0</td>\n",
       "      <td>0</td>\n",
       "      <td>...</td>\n",
       "      <td>0</td>\n",
       "      <td>1</td>\n",
       "      <td>0</td>\n",
       "      <td>0</td>\n",
       "      <td>0</td>\n",
       "      <td>0</td>\n",
       "      <td>0</td>\n",
       "      <td>1</td>\n",
       "      <td>344.024424</td>\n",
       "      <td>344.024424</td>\n",
       "    </tr>\n",
       "    <tr>\n",
       "      <th>39540</th>\n",
       "      <td>1</td>\n",
       "      <td>5</td>\n",
       "      <td>1</td>\n",
       "      <td>1</td>\n",
       "      <td>0</td>\n",
       "      <td>0</td>\n",
       "      <td>0</td>\n",
       "      <td>0</td>\n",
       "      <td>0</td>\n",
       "      <td>0</td>\n",
       "      <td>...</td>\n",
       "      <td>0</td>\n",
       "      <td>0</td>\n",
       "      <td>0</td>\n",
       "      <td>1</td>\n",
       "      <td>0</td>\n",
       "      <td>0</td>\n",
       "      <td>0</td>\n",
       "      <td>1</td>\n",
       "      <td>333.211789</td>\n",
       "      <td>333.211789</td>\n",
       "    </tr>\n",
       "    <tr>\n",
       "      <th>40171</th>\n",
       "      <td>1</td>\n",
       "      <td>4</td>\n",
       "      <td>2</td>\n",
       "      <td>0</td>\n",
       "      <td>0</td>\n",
       "      <td>0</td>\n",
       "      <td>0</td>\n",
       "      <td>0</td>\n",
       "      <td>0</td>\n",
       "      <td>0</td>\n",
       "      <td>...</td>\n",
       "      <td>0</td>\n",
       "      <td>0</td>\n",
       "      <td>0</td>\n",
       "      <td>0</td>\n",
       "      <td>0</td>\n",
       "      <td>0</td>\n",
       "      <td>0</td>\n",
       "      <td>1</td>\n",
       "      <td>329.283529</td>\n",
       "      <td>329.283529</td>\n",
       "    </tr>\n",
       "    <tr>\n",
       "      <th>71617</th>\n",
       "      <td>1</td>\n",
       "      <td>4</td>\n",
       "      <td>2</td>\n",
       "      <td>0</td>\n",
       "      <td>0</td>\n",
       "      <td>0</td>\n",
       "      <td>0</td>\n",
       "      <td>0</td>\n",
       "      <td>0</td>\n",
       "      <td>0</td>\n",
       "      <td>...</td>\n",
       "      <td>0</td>\n",
       "      <td>1</td>\n",
       "      <td>0</td>\n",
       "      <td>0</td>\n",
       "      <td>0</td>\n",
       "      <td>0</td>\n",
       "      <td>0</td>\n",
       "      <td>1</td>\n",
       "      <td>315.742567</td>\n",
       "      <td>315.742567</td>\n",
       "    </tr>\n",
       "    <tr>\n",
       "      <th>40172</th>\n",
       "      <td>1</td>\n",
       "      <td>2</td>\n",
       "      <td>1</td>\n",
       "      <td>2</td>\n",
       "      <td>0</td>\n",
       "      <td>0</td>\n",
       "      <td>0</td>\n",
       "      <td>0</td>\n",
       "      <td>0</td>\n",
       "      <td>0</td>\n",
       "      <td>...</td>\n",
       "      <td>0</td>\n",
       "      <td>0</td>\n",
       "      <td>0</td>\n",
       "      <td>0</td>\n",
       "      <td>0</td>\n",
       "      <td>0</td>\n",
       "      <td>0</td>\n",
       "      <td>1</td>\n",
       "      <td>305.249760</td>\n",
       "      <td>305.249760</td>\n",
       "    </tr>\n",
       "    <tr>\n",
       "      <th>40019</th>\n",
       "      <td>1</td>\n",
       "      <td>3</td>\n",
       "      <td>1</td>\n",
       "      <td>0</td>\n",
       "      <td>0</td>\n",
       "      <td>0</td>\n",
       "      <td>0</td>\n",
       "      <td>0</td>\n",
       "      <td>0</td>\n",
       "      <td>0</td>\n",
       "      <td>...</td>\n",
       "      <td>0</td>\n",
       "      <td>0</td>\n",
       "      <td>0</td>\n",
       "      <td>0</td>\n",
       "      <td>0</td>\n",
       "      <td>0</td>\n",
       "      <td>0</td>\n",
       "      <td>1</td>\n",
       "      <td>301.231381</td>\n",
       "      <td>301.231381</td>\n",
       "    </tr>\n",
       "    <tr>\n",
       "      <th>44553</th>\n",
       "      <td>1</td>\n",
       "      <td>4</td>\n",
       "      <td>2</td>\n",
       "      <td>0</td>\n",
       "      <td>0</td>\n",
       "      <td>0</td>\n",
       "      <td>0</td>\n",
       "      <td>0</td>\n",
       "      <td>0</td>\n",
       "      <td>0</td>\n",
       "      <td>...</td>\n",
       "      <td>0</td>\n",
       "      <td>1</td>\n",
       "      <td>0</td>\n",
       "      <td>0</td>\n",
       "      <td>0</td>\n",
       "      <td>0</td>\n",
       "      <td>0</td>\n",
       "      <td>1</td>\n",
       "      <td>288.459390</td>\n",
       "      <td>288.459390</td>\n",
       "    </tr>\n",
       "    <tr>\n",
       "      <th>72349</th>\n",
       "      <td>1</td>\n",
       "      <td>4</td>\n",
       "      <td>2</td>\n",
       "      <td>0</td>\n",
       "      <td>0</td>\n",
       "      <td>0</td>\n",
       "      <td>0</td>\n",
       "      <td>0</td>\n",
       "      <td>0</td>\n",
       "      <td>0</td>\n",
       "      <td>...</td>\n",
       "      <td>0</td>\n",
       "      <td>1</td>\n",
       "      <td>0</td>\n",
       "      <td>0</td>\n",
       "      <td>0</td>\n",
       "      <td>0</td>\n",
       "      <td>0</td>\n",
       "      <td>1</td>\n",
       "      <td>279.171611</td>\n",
       "      <td>279.171611</td>\n",
       "    </tr>\n",
       "    <tr>\n",
       "      <th>83274</th>\n",
       "      <td>2</td>\n",
       "      <td>3</td>\n",
       "      <td>2</td>\n",
       "      <td>0</td>\n",
       "      <td>0</td>\n",
       "      <td>0</td>\n",
       "      <td>0</td>\n",
       "      <td>0</td>\n",
       "      <td>0</td>\n",
       "      <td>0</td>\n",
       "      <td>...</td>\n",
       "      <td>0</td>\n",
       "      <td>1</td>\n",
       "      <td>0</td>\n",
       "      <td>0</td>\n",
       "      <td>0</td>\n",
       "      <td>0</td>\n",
       "      <td>0</td>\n",
       "      <td>1</td>\n",
       "      <td>274.385267</td>\n",
       "      <td>274.385267</td>\n",
       "    </tr>\n",
       "    <tr>\n",
       "      <th>47201</th>\n",
       "      <td>1</td>\n",
       "      <td>5</td>\n",
       "      <td>2</td>\n",
       "      <td>0</td>\n",
       "      <td>0</td>\n",
       "      <td>0</td>\n",
       "      <td>0</td>\n",
       "      <td>0</td>\n",
       "      <td>0</td>\n",
       "      <td>0</td>\n",
       "      <td>...</td>\n",
       "      <td>0</td>\n",
       "      <td>1</td>\n",
       "      <td>0</td>\n",
       "      <td>0</td>\n",
       "      <td>0</td>\n",
       "      <td>0</td>\n",
       "      <td>0</td>\n",
       "      <td>1</td>\n",
       "      <td>271.958306</td>\n",
       "      <td>271.958306</td>\n",
       "    </tr>\n",
       "    <tr>\n",
       "      <th>78800</th>\n",
       "      <td>2</td>\n",
       "      <td>2</td>\n",
       "      <td>3</td>\n",
       "      <td>0</td>\n",
       "      <td>0</td>\n",
       "      <td>0</td>\n",
       "      <td>0</td>\n",
       "      <td>0</td>\n",
       "      <td>0</td>\n",
       "      <td>0</td>\n",
       "      <td>...</td>\n",
       "      <td>0</td>\n",
       "      <td>0</td>\n",
       "      <td>0</td>\n",
       "      <td>1</td>\n",
       "      <td>0</td>\n",
       "      <td>0</td>\n",
       "      <td>0</td>\n",
       "      <td>0</td>\n",
       "      <td>263.870173</td>\n",
       "      <td>263.870173</td>\n",
       "    </tr>\n",
       "    <tr>\n",
       "      <th>11821</th>\n",
       "      <td>1</td>\n",
       "      <td>5</td>\n",
       "      <td>1</td>\n",
       "      <td>0</td>\n",
       "      <td>0</td>\n",
       "      <td>0</td>\n",
       "      <td>0</td>\n",
       "      <td>0</td>\n",
       "      <td>0</td>\n",
       "      <td>0</td>\n",
       "      <td>...</td>\n",
       "      <td>0</td>\n",
       "      <td>1</td>\n",
       "      <td>0</td>\n",
       "      <td>0</td>\n",
       "      <td>0</td>\n",
       "      <td>0</td>\n",
       "      <td>0</td>\n",
       "      <td>1</td>\n",
       "      <td>243.848652</td>\n",
       "      <td>243.848652</td>\n",
       "    </tr>\n",
       "    <tr>\n",
       "      <th>29517</th>\n",
       "      <td>3</td>\n",
       "      <td>4</td>\n",
       "      <td>2</td>\n",
       "      <td>1</td>\n",
       "      <td>0</td>\n",
       "      <td>0</td>\n",
       "      <td>0</td>\n",
       "      <td>0</td>\n",
       "      <td>0</td>\n",
       "      <td>0</td>\n",
       "      <td>...</td>\n",
       "      <td>0</td>\n",
       "      <td>0</td>\n",
       "      <td>0</td>\n",
       "      <td>1</td>\n",
       "      <td>0</td>\n",
       "      <td>0</td>\n",
       "      <td>0</td>\n",
       "      <td>0</td>\n",
       "      <td>239.792238</td>\n",
       "      <td>239.792238</td>\n",
       "    </tr>\n",
       "    <tr>\n",
       "      <th>96700</th>\n",
       "      <td>1</td>\n",
       "      <td>2</td>\n",
       "      <td>1</td>\n",
       "      <td>0</td>\n",
       "      <td>0</td>\n",
       "      <td>0</td>\n",
       "      <td>0</td>\n",
       "      <td>0</td>\n",
       "      <td>0</td>\n",
       "      <td>0</td>\n",
       "      <td>...</td>\n",
       "      <td>0</td>\n",
       "      <td>0</td>\n",
       "      <td>0</td>\n",
       "      <td>0</td>\n",
       "      <td>0</td>\n",
       "      <td>0</td>\n",
       "      <td>0</td>\n",
       "      <td>1</td>\n",
       "      <td>234.230400</td>\n",
       "      <td>234.230400</td>\n",
       "    </tr>\n",
       "  </tbody>\n",
       "</table>\n",
       "<p>20 rows × 208 columns</p>\n",
       "</div>"
      ],
      "text/plain": [
       "       binned_year  mil_cat  binned_mpg  engine_binned  model_ 2 Series  \\\n",
       "11984            1        0           3              0                0   \n",
       "39978            1        5           1              0                0   \n",
       "39711            1        2           1              1                0   \n",
       "71819            1        0           2              0                0   \n",
       "69135            1        4           2              0                0   \n",
       "77582            1        4           1              1                0   \n",
       "44539            1        4           3              0                0   \n",
       "39540            1        5           1              1                0   \n",
       "40171            1        4           2              0                0   \n",
       "71617            1        4           2              0                0   \n",
       "40172            1        2           1              2                0   \n",
       "40019            1        3           1              0                0   \n",
       "44553            1        4           2              0                0   \n",
       "72349            1        4           2              0                0   \n",
       "83274            2        3           2              0                0   \n",
       "47201            1        5           2              0                0   \n",
       "78800            2        2           3              0                0   \n",
       "11821            1        5           1              0                0   \n",
       "29517            3        4           2              1                0   \n",
       "96700            1        2           1              0                0   \n",
       "\n",
       "       model_ 3 Series  model_ 4 Series  model_ 5 Series  model_ 6 Series  \\\n",
       "11984                0                0                0                0   \n",
       "39978                0                0                0                0   \n",
       "39711                0                0                0                0   \n",
       "71819                0                0                0                0   \n",
       "69135                0                0                0                0   \n",
       "77582                0                0                0                0   \n",
       "44539                0                0                0                0   \n",
       "39540                0                0                0                0   \n",
       "40171                0                0                0                0   \n",
       "71617                0                0                0                0   \n",
       "40172                0                0                0                0   \n",
       "40019                0                0                0                0   \n",
       "44553                0                0                0                0   \n",
       "72349                0                0                0                0   \n",
       "83274                0                0                0                0   \n",
       "47201                0                0                0                0   \n",
       "78800                0                0                0                0   \n",
       "11821                0                0                0                0   \n",
       "29517                0                0                0                0   \n",
       "96700                0                0                0                0   \n",
       "\n",
       "       model_ 7 Series  ...  model_EcoSport  transmission_Manual  \\\n",
       "11984                0  ...               0                    1   \n",
       "39978                0  ...               0                    1   \n",
       "39711                0  ...               0                    0   \n",
       "71819                0  ...               0                    1   \n",
       "69135                0  ...               0                    1   \n",
       "77582                0  ...               0                    1   \n",
       "44539                0  ...               0                    1   \n",
       "39540                0  ...               0                    0   \n",
       "40171                0  ...               0                    0   \n",
       "71617                0  ...               0                    1   \n",
       "40172                0  ...               0                    0   \n",
       "40019                0  ...               0                    0   \n",
       "44553                0  ...               0                    1   \n",
       "72349                0  ...               0                    1   \n",
       "83274                0  ...               0                    1   \n",
       "47201                0  ...               0                    1   \n",
       "78800                0  ...               0                    0   \n",
       "11821                0  ...               0                    1   \n",
       "29517                0  ...               0                    0   \n",
       "96700                0  ...               0                    0   \n",
       "\n",
       "       transmission_Other  transmission_Semi-Auto  fuelType_Electric  \\\n",
       "11984                   0                       0                  0   \n",
       "39978                   0                       0                  0   \n",
       "39711                   0                       0                  0   \n",
       "71819                   0                       0                  0   \n",
       "69135                   0                       0                  0   \n",
       "77582                   0                       0                  0   \n",
       "44539                   0                       0                  0   \n",
       "39540                   0                       1                  0   \n",
       "40171                   0                       0                  0   \n",
       "71617                   0                       0                  0   \n",
       "40172                   0                       0                  0   \n",
       "40019                   0                       0                  0   \n",
       "44553                   0                       0                  0   \n",
       "72349                   0                       0                  0   \n",
       "83274                   0                       0                  0   \n",
       "47201                   0                       0                  0   \n",
       "78800                   0                       1                  0   \n",
       "11821                   0                       0                  0   \n",
       "29517                   0                       1                  0   \n",
       "96700                   0                       0                  0   \n",
       "\n",
       "       fuelType_Hybrid  fuelType_Other  fuelType_Petrol  price_diff_pct  \\\n",
       "11984                0               0                0      810.000331   \n",
       "39978                0               0                1      721.291617   \n",
       "39711                0               0                0      720.170164   \n",
       "71819                0               0                0      640.388715   \n",
       "69135                0               0                0      412.248300   \n",
       "77582                0               0                1      372.123617   \n",
       "44539                0               0                1      344.024424   \n",
       "39540                0               0                1      333.211789   \n",
       "40171                0               0                1      329.283529   \n",
       "71617                0               0                1      315.742567   \n",
       "40172                0               0                1      305.249760   \n",
       "40019                0               0                1      301.231381   \n",
       "44553                0               0                1      288.459390   \n",
       "72349                0               0                1      279.171611   \n",
       "83274                0               0                1      274.385267   \n",
       "47201                0               0                1      271.958306   \n",
       "78800                0               0                0      263.870173   \n",
       "11821                0               0                1      243.848652   \n",
       "29517                0               0                0      239.792238   \n",
       "96700                0               0                1      234.230400   \n",
       "\n",
       "       price_diff_abs  \n",
       "11984      810.000331  \n",
       "39978      721.291617  \n",
       "39711      720.170164  \n",
       "71819      640.388715  \n",
       "69135      412.248300  \n",
       "77582      372.123617  \n",
       "44539      344.024424  \n",
       "39540      333.211789  \n",
       "40171      329.283529  \n",
       "71617      315.742567  \n",
       "40172      305.249760  \n",
       "40019      301.231381  \n",
       "44553      288.459390  \n",
       "72349      279.171611  \n",
       "83274      274.385267  \n",
       "47201      271.958306  \n",
       "78800      263.870173  \n",
       "11821      243.848652  \n",
       "29517      239.792238  \n",
       "96700      234.230400  \n",
       "\n",
       "[20 rows x 208 columns]"
      ]
     },
     "execution_count": 43,
     "metadata": {},
     "output_type": "execute_result"
    }
   ],
   "source": [
    "price_table_final.head(20)"
   ]
  },
  {
   "cell_type": "markdown",
   "metadata": {},
   "source": [
    "### Most of these models are older. The top cases have a weird combination of low car mileage but older year model "
   ]
  },
  {
   "cell_type": "code",
   "execution_count": 44,
   "metadata": {
    "scrolled": true
   },
   "outputs": [
    {
     "data": {
      "image/png": "[encoded data removed]",
      "text/plain": [
       "<Figure size 432x576 with 1 Axes>"
      ]
     },
     "metadata": {
      "needs_background": "light"
     },
     "output_type": "display_data"
    },
    {
     "data": {
      "image/png": "[encoded data removed]",
      "text/plain": [
       "<Figure size 432x576 with 1 Axes>"
      ]
     },
     "metadata": {
      "needs_background": "light"
     },
     "output_type": "display_data"
    }
   ],
   "source": [
    "feature_table = CarPrice_NN_bigger_2.linear_feature_importance(plot=True)"
   ]
  },
  {
   "cell_type": "code",
   "execution_count": 43,
   "metadata": {},
   "outputs": [],
   "source": [
    "params = np.power(0.1,np.arange(0.5,7))"
   ]
  },
  {
   "cell_type": "code",
   "execution_count": 57,
   "metadata": {},
   "outputs": [],
   "source": [
    "partial_model = partial(NNCarPrice.make_model,[2056,2014,512,512],input_size,METRICS,1e-4)"
   ]
  },
  {
   "cell_type": "code",
   "execution_count": 58,
   "metadata": {
    "scrolled": true
   },
   "outputs": [
    {
     "name": "stdout",
     "output_type": "stream",
     "text": [
      "314/314 [==============================] - 1s 4ms/step - loss: 11443599984033792.0000 - MAPE: 186735.7656 - MAE: 23109196.0000 - val_loss: 14552139825152.0000 - val_MAPE: 26600.3262 - val_MAE: 3175792.2500\n",
      "314/314 [==============================] - 1s 4ms/step - loss: 172582784.0000 - MAPE: 31.2731 - MAE: 4325.2803 - val_loss: 11347424.0000 - val_MAPE: 13.2520 - val_MAE: 2089.9495\n",
      "314/314 [==============================] - 1s 4ms/step - loss: 27207304.0000 - MAPE: 19.1818 - MAE: 2928.8110 - val_loss: 9413793.0000 - val_MAPE: 12.0179 - val_MAE: 1937.8785\n",
      "314/314 [==============================] - 1s 4ms/step - loss: 78808112.0000 - MAPE: 34.9394 - MAE: 5383.5752 - val_loss: 16527218.0000 - val_MAPE: 16.3584 - val_MAE: 2585.9985\n",
      "314/314 [==============================] - 1s 4ms/step - loss: 286453152.0000 - MAPE: 78.4260 - MAE: 13444.3945 - val_loss: 110089072.0000 - val_MAPE: 52.8922 - val_MAE: 7384.1909\n",
      "314/314 [==============================] - 1s 4ms/step - loss: 378490624.0000 - MAPE: 99.9702 - MAE: 16778.5352 - val_loss: 384398272.0000 - val_MAPE: 99.9115 - val_MAE: 16978.4316\n",
      "314/314 [==============================] - 1s 4ms/step - loss: 378611200.0000 - MAPE: 99.9993 - MAE: 16782.1816 - val_loss: 384764608.0000 - val_MAPE: 99.9980 - val_MAE: 16989.4121\n"
     ]
    },
    {
     "data": {
      "image/png": "[encoded data removed]",
      "text/plain": [
       "<Figure size 432x288 with 1 Axes>"
      ]
     },
     "metadata": {
      "needs_background": "light"
     },
     "output_type": "display_data"
    }
   ],
   "source": [
    "CarPrice_NN_bigger_2.param_search(params,partial_model,1)"
   ]
  },
  {
   "cell_type": "markdown",
   "metadata": {},
   "source": [
    "### appears learning rate between 10-2 and 10-3 would work great"
   ]
  },
  {
   "cell_type": "code",
   "execution_count": 61,
   "metadata": {},
   "outputs": [],
   "source": [
    "params_2 = [0.05,0.025,0.01,0.005,0.0025,0.001,0.0005]"
   ]
  },
  {
   "cell_type": "code",
   "execution_count": 62,
   "metadata": {
    "scrolled": true
   },
   "outputs": [
    {
     "name": "stdout",
     "output_type": "stream",
     "text": [
      "314/314 [==============================] - 1s 4ms/step - loss: 26084790272.0000 - MAPE: 350.9685 - MAE: 43402.7305 - val_loss: 105559384.0000 - val_MAPE: 46.9848 - val_MAE: 6559.0049\n",
      "314/314 [==============================] - 1s 4ms/step - loss: 51405212.0000 - MAPE: 23.5304 - MAE: 3416.9277 - val_loss: 10282182.0000 - val_MAPE: 12.7940 - val_MAE: 2009.2219\n",
      "314/314 [==============================] - 1s 4ms/step - loss: 26110366.0000 - MAPE: 18.5177 - MAE: 2823.8567 - val_loss: 9904368.0000 - val_MAPE: 11.9367 - val_MAE: 1963.7350\n",
      "314/314 [==============================] - 1s 4ms/step - loss: 24562538.0000 - MAPE: 18.4170 - MAE: 2831.5591 - val_loss: 10450989.0000 - val_MAPE: 13.3158 - val_MAE: 2117.7773\n",
      "314/314 [==============================] - 1s 4ms/step - loss: 29846952.0000 - MAPE: 19.9038 - MAE: 3056.1313 - val_loss: 9632706.0000 - val_MAPE: 13.4366 - val_MAE: 2037.4805\n",
      "314/314 [==============================] - 1s 4ms/step - loss: 44358516.0000 - MAPE: 24.7109 - MAE: 3780.2300 - val_loss: 11175988.0000 - val_MAPE: 14.0139 - val_MAE: 2172.5542\n",
      "314/314 [==============================] - 1s 4ms/step - loss: 61829628.0000 - MAPE: 30.1031 - MAE: 4599.7427 - val_loss: 14365091.0000 - val_MAPE: 15.0885 - val_MAE: 2388.9963\n"
     ]
    },
    {
     "data": {
      "image/png": "[encoded data removed]",
      "text/plain": [
       "<Figure size 432x288 with 1 Axes>"
      ]
     },
     "metadata": {
      "needs_background": "light"
     },
     "output_type": "display_data"
    }
   ],
   "source": [
    "CarPrice_NN_bigger_2.param_search(params_2,partial_model,1)"
   ]
  },
  {
   "cell_type": "markdown",
   "metadata": {},
   "source": [
    "### It appears lr of 0.001 works the best which we already use"
   ]
  },
  {
   "cell_type": "markdown",
   "metadata": {},
   "source": [
    "### The NN models have mostly car model type as top and bottom features\n",
    "\n",
    "\n",
    "____"
   ]
  }
 ],
 "metadata": {
  "kernelspec": {
   "display_name": "Python 3",
   "language": "python",
   "name": "python3"
  },
  "language_info": {
   "codemirror_mode": {
    "name": "ipython",
    "version": 3
   },
   "file_extension": ".py",
   "mimetype": "text/x-python",
   "name": "python",
   "nbconvert_exporter": "python",
   "pygments_lexer": "ipython3",
   "version": "3.6.9"
  }
 },
 "nbformat": 4,
 "nbformat_minor": 4
}

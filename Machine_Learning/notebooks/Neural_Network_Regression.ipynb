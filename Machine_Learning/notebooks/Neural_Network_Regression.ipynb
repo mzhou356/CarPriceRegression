{
 "cells": [
  {
   "cell_type": "markdown",
   "metadata": {},
   "source": [
    "### Import libraries"
   ]
  },
  {
   "cell_type": "code",
   "execution_count": 2,
   "metadata": {},
   "outputs": [],
   "source": [
    "import sys\n",
    "import os\n",
    "import gc\n",
    "import numpy as np\n",
    "import pandas as pd \n",
    "import warnings\n",
    "from sklearn.model_selection import train_test_split\n",
    "warnings.filterwarnings(\"ignore\")"
   ]
  },
  {
   "cell_type": "code",
   "execution_count": 3,
   "metadata": {},
   "outputs": [],
   "source": [
    "home = os.path.expanduser(\"~\")\n",
    "sys.path.append(f\"{home}/Documents/projects/CarPriceRegression/Machine_Learning/scripts/\")"
   ]
  },
  {
   "cell_type": "code",
   "execution_count": 4,
   "metadata": {},
   "outputs": [],
   "source": [
    "from util import *\n",
    "%load_ext autoreload\n",
    "%autoreload 2"
   ]
  },
  {
   "cell_type": "code",
   "execution_count": 5,
   "metadata": {},
   "outputs": [],
   "source": [
    "set_gpu_limit(6)"
   ]
  },
  {
   "cell_type": "markdown",
   "metadata": {},
   "source": [
    "### Import data for regular NN without categorical embedding"
   ]
  },
  {
   "cell_type": "code",
   "execution_count": 6,
   "metadata": {},
   "outputs": [],
   "source": [
    "data = pd.read_csv(f\"{home}/Documents/projects/CarPriceRegression/Processed_Data/car_onehot_data.csv\")\n",
    "features, y = data.drop(\"price\",axis=1), data.price\n",
    "X_train, X_test, y_train, y_test = train_test_split(features,y,test_size=0.1,random_state=2020)\n",
    "X_train,X_dev,y_train,y_dev = train_test_split(X_train,y_train,test_size=0.11,random_state=2020)"
   ]
  },
  {
   "cell_type": "markdown",
   "metadata": {},
   "source": [
    "### Garbage collect"
   ]
  },
  {
   "cell_type": "code",
   "execution_count": 7,
   "metadata": {
    "scrolled": true
   },
   "outputs": [
    {
     "name": "stdout",
     "output_type": "stream",
     "text": [
      "Flushing output cache (0 entries)\n"
     ]
    }
   ],
   "source": [
    "gc.collect()\n",
    "%reset -f out"
   ]
  },
  {
   "cell_type": "markdown",
   "metadata": {},
   "source": [
    "### Set up base parameter for a base regression model"
   ]
  },
  {
   "cell_type": "code",
   "execution_count": 8,
   "metadata": {},
   "outputs": [],
   "source": [
    "BATCH_SIZE = 256 \n",
    "input_size = features.shape[1]\n",
    "MAX_EPOCH = 1000\n",
    "lr = 1e-3\n",
    "l2 = 0 \n",
    "SIZES = [512,512]\n",
    "METRICS = [\"MAPE\",\"MAE\"]"
   ]
  },
  {
   "cell_type": "markdown",
   "metadata": {},
   "source": [
    "### Set up a few common parameter and make tensorflow dataset\n",
    "\n",
    "* notice: this dataset has pretty similar scale so no reason to normalize to help with gradient descent"
   ]
  },
  {
   "cell_type": "code",
   "execution_count": 9,
   "metadata": {},
   "outputs": [],
   "source": [
    "train, dev = make_tensor_dataset(X_train,y_train,256), make_tensor_dataset(X_dev,y_dev,256)"
   ]
  },
  {
   "cell_type": "markdown",
   "metadata": {},
   "source": [
    "### Set up base parameter for a base regression model"
   ]
  },
  {
   "cell_type": "code",
   "execution_count": 9,
   "metadata": {},
   "outputs": [],
   "source": [
    "base_model = make_model(SIZES,input_size,METRICS,l2,lr)"
   ]
  },
  {
   "cell_type": "code",
   "execution_count": 10,
   "metadata": {
    "scrolled": false
   },
   "outputs": [
    {
     "name": "stdout",
     "output_type": "stream",
     "text": [
      "Model: \"NN_regressor\"\n",
      "_________________________________________________________________\n",
      "Layer (type)                 Output Shape              Param #   \n",
      "=================================================================\n",
      "dense (Dense)                (None, 512)               105984    \n",
      "_________________________________________________________________\n",
      "dense_1 (Dense)              (None, 512)               262656    \n",
      "_________________________________________________________________\n",
      "dense_2 (Dense)              (None, 1)                 513       \n",
      "=================================================================\n",
      "Total params: 369,153\n",
      "Trainable params: 369,153\n",
      "Non-trainable params: 0\n",
      "_________________________________________________________________\n"
     ]
    }
   ],
   "source": [
    "base_model.summary()"
   ]
  },
  {
   "cell_type": "markdown",
   "metadata": {},
   "source": [
    "### Define early stop"
   ]
  },
  {
   "cell_type": "code",
   "execution_count": 11,
   "metadata": {},
   "outputs": [],
   "source": [
    "earlystop = tfk.callbacks.EarlyStopping(monitor=\"val_loss\",mode=\"min\",\n",
    "                                        patience=10,verbose=1,restore_best_weights=True)"
   ]
  },
  {
   "cell_type": "code",
   "execution_count": null,
   "metadata": {},
   "outputs": [],
   "source": [
    "# history = base_model.fit(train, epochs=MAX_EPOCH,shuffle=True,\n",
    "#                          verbose = 1, validation_data=dev,\n",
    "#                          callbacks=[earlystop])"
   ]
  },
  {
   "cell_type": "code",
   "execution_count": null,
   "metadata": {},
   "outputs": [],
   "source": [
    "# base_model.save(\"base_nn_regression_mdl.h5\")"
   ]
  },
  {
   "cell_type": "code",
   "execution_count": 12,
   "metadata": {},
   "outputs": [],
   "source": [
    "base_model = tfk.models.load_model(\"base_nn_regression_mdl.h5\",custom_objects={\"leaky_relu\":tf.nn.leaky_relu})"
   ]
  },
  {
   "cell_type": "code",
   "execution_count": 16,
   "metadata": {
    "scrolled": false
   },
   "outputs": [],
   "source": [
    "# plot_metrics(history,\"loss\")"
   ]
  },
  {
   "cell_type": "code",
   "execution_count": null,
   "metadata": {},
   "outputs": [],
   "source": [
    "# plot_metrics(history,\"MAPE\")"
   ]
  },
  {
   "cell_type": "markdown",
   "metadata": {},
   "source": [
    "### Check base model result"
   ]
  },
  {
   "cell_type": "code",
   "execution_count": 13,
   "metadata": {
    "scrolled": false
   },
   "outputs": [
    {
     "name": "stdout",
     "output_type": "stream",
     "text": [
      "39/39 [==============================] - 0s 1ms/step - loss: 5860600.5000 - mean_absolute_percentage_error: 10.2301 - mean_absolute_error: 1548.1078\n"
     ]
    },
    {
     "data": {
      "text/plain": [
       "[5860600.5, 10.230082511901855, 1548.1077880859375]"
      ]
     },
     "execution_count": 13,
     "metadata": {},
     "output_type": "execute_result"
    }
   ],
   "source": [
    "base_model.evaluate(X_test.values,y_test.values,batch_size=BATCH_SIZE)"
   ]
  },
  {
   "cell_type": "code",
   "execution_count": 14,
   "metadata": {
    "scrolled": false
   },
   "outputs": [
    {
     "data": {
      "text/html": [
       "<div>\n",
       "<style scoped>\n",
       "    .dataframe tbody tr th:only-of-type {\n",
       "        vertical-align: middle;\n",
       "    }\n",
       "\n",
       "    .dataframe tbody tr th {\n",
       "        vertical-align: top;\n",
       "    }\n",
       "\n",
       "    .dataframe thead th {\n",
       "        text-align: right;\n",
       "    }\n",
       "</style>\n",
       "<table border=\"1\" class=\"dataframe\">\n",
       "  <thead>\n",
       "    <tr style=\"text-align: right;\">\n",
       "      <th></th>\n",
       "      <th>r2_score</th>\n",
       "      <th>rmse</th>\n",
       "      <th>price_diff_abs_max</th>\n",
       "    </tr>\n",
       "  </thead>\n",
       "  <tbody>\n",
       "    <tr>\n",
       "      <th>train</th>\n",
       "      <td>0.943976</td>\n",
       "      <td>2334.725640</td>\n",
       "      <td>898.469871</td>\n",
       "    </tr>\n",
       "    <tr>\n",
       "      <th>test</th>\n",
       "      <td>0.937015</td>\n",
       "      <td>2420.867492</td>\n",
       "      <td>1159.450571</td>\n",
       "    </tr>\n",
       "  </tbody>\n",
       "</table>\n",
       "</div>"
      ],
      "text/plain": [
       "       r2_score         rmse  price_diff_abs_max\n",
       "train  0.943976  2334.725640          898.469871\n",
       "test   0.937015  2420.867492         1159.450571"
      ]
     },
     "execution_count": 14,
     "metadata": {},
     "output_type": "execute_result"
    }
   ],
   "source": [
    "regression_metrics(base_model,X_train.values,y_train,X_test.values,y_test,256)"
   ]
  },
  {
   "cell_type": "markdown",
   "metadata": {},
   "source": [
    "### Check price vs predicted value"
   ]
  },
  {
   "cell_type": "code",
   "execution_count": 36,
   "metadata": {
    "scrolled": true
   },
   "outputs": [
    {
     "data": {
      "image/png": "[encoded data removed]",
      "text/plain": [
       "<Figure size 432x432 with 3 Axes>"
      ]
     },
     "metadata": {
      "needs_background": "light"
     },
     "output_type": "display_data"
    },
    {
     "data": {
      "image/png": "[encoded data removed]",
      "text/plain": [
       "<Figure size 432x288 with 1 Axes>"
      ]
     },
     "metadata": {
      "needs_background": "light"
     },
     "output_type": "display_data"
    }
   ],
   "source": [
    "plot_pred_price(base_model,X_test.values,y_test,batch_size=BATCH_SIZE)"
   ]
  },
  {
   "cell_type": "markdown",
   "metadata": {},
   "source": [
    "### Pretty decent results and the error appear to be normal distribution"
   ]
  },
  {
   "cell_type": "markdown",
   "metadata": {},
   "source": [
    "#### Definitely can benefit from tuning. "
   ]
  },
  {
   "cell_type": "code",
   "execution_count": 37,
   "metadata": {},
   "outputs": [],
   "source": [
    "bigger_model = make_model([2056,2014,512,512],input_size,METRICS,1e-4,lr)"
   ]
  },
  {
   "cell_type": "code",
   "execution_count": 38,
   "metadata": {},
   "outputs": [
    {
     "name": "stdout",
     "output_type": "stream",
     "text": [
      "Model: \"NN_regressor\"\n",
      "_________________________________________________________________\n",
      "Layer (type)                 Output Shape              Param #   \n",
      "=================================================================\n",
      "dense_3 (Dense)              (None, 2056)              425592    \n",
      "_________________________________________________________________\n",
      "dense_4 (Dense)              (None, 2014)              4142798   \n",
      "_________________________________________________________________\n",
      "dense_5 (Dense)              (None, 512)               1031680   \n",
      "_________________________________________________________________\n",
      "dense_6 (Dense)              (None, 512)               262656    \n",
      "_________________________________________________________________\n",
      "dense_7 (Dense)              (None, 1)                 513       \n",
      "=================================================================\n",
      "Total params: 5,863,239\n",
      "Trainable params: 5,863,239\n",
      "Non-trainable params: 0\n",
      "_________________________________________________________________\n"
     ]
    }
   ],
   "source": [
    "bigger_model.summary()"
   ]
  },
  {
   "cell_type": "code",
   "execution_count": null,
   "metadata": {
    "scrolled": true
   },
   "outputs": [],
   "source": [
    "# history_2 = bigger_model.fit(train, epochs=MAX_EPOCH,shuffle=True,\n",
    "#                          verbose = 1, validation_data=dev,\n",
    "#                          callbacks=[earlystop])"
   ]
  },
  {
   "cell_type": "code",
   "execution_count": null,
   "metadata": {},
   "outputs": [],
   "source": [
    "# bigger_model.save(\"bigger_model_nn.h5\")"
   ]
  },
  {
   "cell_type": "code",
   "execution_count": 10,
   "metadata": {},
   "outputs": [],
   "source": [
    "bigger_model = tfk.models.load_model(\"bigger_model_nn.h5\",custom_objects={\"leaky_relu\":tf.nn.leaky_relu})"
   ]
  },
  {
   "cell_type": "code",
   "execution_count": 40,
   "metadata": {
    "scrolled": true
   },
   "outputs": [
    {
     "data": {
      "text/html": [
       "<div>\n",
       "<style scoped>\n",
       "    .dataframe tbody tr th:only-of-type {\n",
       "        vertical-align: middle;\n",
       "    }\n",
       "\n",
       "    .dataframe tbody tr th {\n",
       "        vertical-align: top;\n",
       "    }\n",
       "\n",
       "    .dataframe thead th {\n",
       "        text-align: right;\n",
       "    }\n",
       "</style>\n",
       "<table border=\"1\" class=\"dataframe\">\n",
       "  <thead>\n",
       "    <tr style=\"text-align: right;\">\n",
       "      <th></th>\n",
       "      <th>r2_score</th>\n",
       "      <th>rmse</th>\n",
       "      <th>price_diff_abs_max</th>\n",
       "    </tr>\n",
       "  </thead>\n",
       "  <tbody>\n",
       "    <tr>\n",
       "      <th>train</th>\n",
       "      <td>0.947901</td>\n",
       "      <td>2251.459161</td>\n",
       "      <td>771.684800</td>\n",
       "    </tr>\n",
       "    <tr>\n",
       "      <th>test</th>\n",
       "      <td>0.938210</td>\n",
       "      <td>2397.796630</td>\n",
       "      <td>515.268254</td>\n",
       "    </tr>\n",
       "  </tbody>\n",
       "</table>\n",
       "</div>"
      ],
      "text/plain": [
       "       r2_score         rmse  price_diff_abs_max\n",
       "train  0.947901  2251.459161          771.684800\n",
       "test   0.938210  2397.796630          515.268254"
      ]
     },
     "execution_count": 40,
     "metadata": {},
     "output_type": "execute_result"
    }
   ],
   "source": [
    "regression_metrics(bigger_model,X_train.values,y_train,X_test.values,y_test,256)"
   ]
  },
  {
   "cell_type": "code",
   "execution_count": 42,
   "metadata": {},
   "outputs": [
    {
     "data": {
      "image/png": "[encoded data removed]",
      "text/plain": [
       "<Figure size 432x432 with 3 Axes>"
      ]
     },
     "metadata": {
      "needs_background": "light"
     },
     "output_type": "display_data"
    },
    {
     "data": {
      "image/png": "[encoded data removed]",
      "text/plain": [
       "<Figure size 432x288 with 1 Axes>"
      ]
     },
     "metadata": {
      "needs_background": "light"
     },
     "output_type": "display_data"
    }
   ],
   "source": [
    "plot_pred_price(bigger_model,X_test.values,y_test,256)"
   ]
  },
  {
   "cell_type": "markdown",
   "metadata": {},
   "source": [
    "### Pretty decent result and not over training the train data either"
   ]
  },
  {
   "cell_type": "code",
   "execution_count": 23,
   "metadata": {},
   "outputs": [],
   "source": [
    "bigger_model_2 = make_model([2056,2014,512,512],input_size,METRICS,1e-4,5e-5)"
   ]
  },
  {
   "cell_type": "code",
   "execution_count": 26,
   "metadata": {
    "scrolled": true
   },
   "outputs": [
    {
     "name": "stdout",
     "output_type": "stream",
     "text": [
      "Epoch 1/1000\n",
      "311/311 [==============================] - 1s 4ms/step - loss: 226725296.0000 - MAPE: 70.6021 - MAE: 11414.6680 - val_loss: 90594080.0000 - val_MAPE: 48.1973 - val_MAE: 6497.3301\n",
      "Epoch 2/1000\n",
      "311/311 [==============================] - 1s 4ms/step - loss: 54850036.0000 - MAPE: 34.5587 - MAE: 4802.0396 - val_loss: 36151400.0000 - val_MAPE: 21.8560 - val_MAE: 3464.3315\n",
      "Epoch 3/1000\n",
      "311/311 [==============================] - 1s 4ms/step - loss: 26535758.0000 - MAPE: 20.1148 - MAE: 3153.9172 - val_loss: 27528064.0000 - val_MAPE: 18.8729 - val_MAE: 3000.1492\n",
      "Epoch 4/1000\n",
      "311/311 [==============================] - 1s 4ms/step - loss: 20960424.0000 - MAPE: 18.0187 - MAE: 2802.3606 - val_loss: 23638520.0000 - val_MAPE: 17.3038 - val_MAE: 2751.0171\n",
      "Epoch 5/1000\n",
      "311/311 [==============================] - 1s 4ms/step - loss: 18115302.0000 - MAPE: 16.8210 - MAE: 2596.2922 - val_loss: 21328802.0000 - val_MAPE: 16.2859 - val_MAE: 2594.0388\n",
      "Epoch 6/1000\n",
      "311/311 [==============================] - 1s 4ms/step - loss: 16220049.0000 - MAPE: 15.8400 - MAE: 2444.8638 - val_loss: 19624486.0000 - val_MAPE: 15.3271 - val_MAE: 2451.4131\n",
      "Epoch 7/1000\n",
      "311/311 [==============================] - 1s 3ms/step - loss: 14795545.0000 - MAPE: 14.9689 - MAE: 2318.1453 - val_loss: 18237742.0000 - val_MAPE: 14.6952 - val_MAE: 2354.1885\n",
      "Epoch 8/1000\n",
      "311/311 [==============================] - 1s 4ms/step - loss: 13680209.0000 - MAPE: 14.2517 - MAE: 2216.4229 - val_loss: 17174232.0000 - val_MAPE: 13.9929 - val_MAE: 2256.2646\n",
      "Epoch 9/1000\n",
      "311/311 [==============================] - 1s 4ms/step - loss: 12837719.0000 - MAPE: 13.7138 - MAE: 2139.9155 - val_loss: 16347838.0000 - val_MAPE: 13.5064 - val_MAE: 2189.5952\n",
      "Epoch 10/1000\n",
      "311/311 [==============================] - 1s 4ms/step - loss: 12154906.0000 - MAPE: 13.2677 - MAE: 2077.2349 - val_loss: 15729928.0000 - val_MAPE: 12.8779 - val_MAE: 2115.0264\n",
      "Epoch 11/1000\n",
      "311/311 [==============================] - 1s 4ms/step - loss: 11595438.0000 - MAPE: 12.8778 - MAE: 2023.1299 - val_loss: 15024135.0000 - val_MAPE: 12.6985 - val_MAE: 2073.8896\n",
      "Epoch 12/1000\n",
      "311/311 [==============================] - 1s 4ms/step - loss: 11115554.0000 - MAPE: 12.5499 - MAE: 1976.9215 - val_loss: 14519272.0000 - val_MAPE: 12.5795 - val_MAE: 2036.7743\n",
      "Epoch 13/1000\n",
      "311/311 [==============================] - 1s 3ms/step - loss: 10731279.0000 - MAPE: 12.2942 - MAE: 1939.9839 - val_loss: 14212638.0000 - val_MAPE: 11.9180 - val_MAE: 1979.6963\n",
      "Epoch 14/1000\n",
      "311/311 [==============================] - 1s 4ms/step - loss: 10375358.0000 - MAPE: 12.0434 - MAE: 1903.9613 - val_loss: 13689579.0000 - val_MAPE: 12.0656 - val_MAE: 1965.1821\n",
      "Epoch 15/1000\n",
      "311/311 [==============================] - 1s 4ms/step - loss: 10059819.0000 - MAPE: 11.8376 - MAE: 1875.0702 - val_loss: 13347644.0000 - val_MAPE: 12.0819 - val_MAE: 1948.3605\n",
      "Epoch 16/1000\n",
      "311/311 [==============================] - 1s 4ms/step - loss: 9804693.0000 - MAPE: 11.6751 - MAE: 1849.6447 - val_loss: 13077903.0000 - val_MAPE: 11.4599 - val_MAE: 1908.3772\n",
      "Epoch 17/1000\n",
      "311/311 [==============================] - 1s 4ms/step - loss: 9567635.0000 - MAPE: 11.5220 - MAE: 1829.8077 - val_loss: 12816959.0000 - val_MAPE: 11.4296 - val_MAE: 1884.4978\n",
      "Epoch 18/1000\n",
      "311/311 [==============================] - 1s 3ms/step - loss: 9357498.0000 - MAPE: 11.4226 - MAE: 1812.5336 - val_loss: 12509189.0000 - val_MAPE: 11.2549 - val_MAE: 1867.0259\n",
      "Epoch 19/1000\n",
      "311/311 [==============================] - 1s 4ms/step - loss: 9151086.0000 - MAPE: 11.3067 - MAE: 1794.8711 - val_loss: 12236732.0000 - val_MAPE: 11.2418 - val_MAE: 1855.8998\n",
      "Epoch 20/1000\n",
      "311/311 [==============================] - 1s 4ms/step - loss: 8984139.0000 - MAPE: 11.2247 - MAE: 1782.3687 - val_loss: 12031249.0000 - val_MAPE: 11.2804 - val_MAE: 1851.0043\n",
      "Epoch 21/1000\n",
      "311/311 [==============================] - 1s 3ms/step - loss: 8801962.0000 - MAPE: 11.1215 - MAE: 1767.3254 - val_loss: 11847244.0000 - val_MAPE: 11.2972 - val_MAE: 1847.2489\n",
      "Epoch 22/1000\n",
      "311/311 [==============================] - 1s 4ms/step - loss: 8665701.0000 - MAPE: 11.0692 - MAE: 1757.1617 - val_loss: 11635357.0000 - val_MAPE: 10.9330 - val_MAE: 1810.8206\n",
      "Epoch 23/1000\n",
      "311/311 [==============================] - 1s 4ms/step - loss: 8514553.0000 - MAPE: 11.0104 - MAE: 1746.4246 - val_loss: 11669874.0000 - val_MAPE: 10.9822 - val_MAE: 1836.6605\n",
      "Epoch 24/1000\n",
      "311/311 [==============================] - 1s 4ms/step - loss: 8399871.0000 - MAPE: 10.9640 - MAE: 1739.0455 - val_loss: 11356000.0000 - val_MAPE: 11.5914 - val_MAE: 1839.6265\n",
      "Epoch 25/1000\n",
      "311/311 [==============================] - 1s 4ms/step - loss: 8276995.5000 - MAPE: 10.9148 - MAE: 1729.2887 - val_loss: 11174839.0000 - val_MAPE: 11.2592 - val_MAE: 1808.0073\n",
      "Epoch 26/1000\n",
      "311/311 [==============================] - 1s 3ms/step - loss: 8166193.0000 - MAPE: 10.8755 - MAE: 1720.8779 - val_loss: 11030959.0000 - val_MAPE: 10.9866 - val_MAE: 1783.5607\n",
      "Epoch 27/1000\n",
      "311/311 [==============================] - 1s 4ms/step - loss: 8073359.5000 - MAPE: 10.8431 - MAE: 1714.5978 - val_loss: 11003914.0000 - val_MAPE: 10.7295 - val_MAE: 1782.7552\n",
      "Epoch 28/1000\n",
      "311/311 [==============================] - 1s 3ms/step - loss: 7966028.0000 - MAPE: 10.7770 - MAE: 1704.5277 - val_loss: 10881391.0000 - val_MAPE: 10.6744 - val_MAE: 1772.8672\n",
      "Epoch 29/1000\n",
      "311/311 [==============================] - 1s 4ms/step - loss: 7878321.0000 - MAPE: 10.7503 - MAE: 1699.0543 - val_loss: 10684135.0000 - val_MAPE: 10.8676 - val_MAE: 1762.8534\n",
      "Epoch 30/1000\n",
      "311/311 [==============================] - 1s 3ms/step - loss: 7799778.0000 - MAPE: 10.7065 - MAE: 1692.3519 - val_loss: 10598628.0000 - val_MAPE: 10.6903 - val_MAE: 1746.7540\n",
      "Epoch 31/1000\n",
      "311/311 [==============================] - 1s 3ms/step - loss: 7737644.0000 - MAPE: 10.7077 - MAE: 1690.7600 - val_loss: 10573322.0000 - val_MAPE: 10.9289 - val_MAE: 1773.0144\n",
      "Epoch 32/1000\n",
      "311/311 [==============================] - 1s 3ms/step - loss: 7663328.5000 - MAPE: 10.6706 - MAE: 1683.9602 - val_loss: 10595931.0000 - val_MAPE: 10.5612 - val_MAE: 1758.0591\n",
      "Epoch 33/1000\n",
      "311/311 [==============================] - 1s 3ms/step - loss: 7600193.0000 - MAPE: 10.6561 - MAE: 1681.0416 - val_loss: 10378993.0000 - val_MAPE: 11.0769 - val_MAE: 1759.0981\n",
      "Epoch 34/1000\n",
      "311/311 [==============================] - 1s 3ms/step - loss: 7511975.5000 - MAPE: 10.6039 - MAE: 1671.8676 - val_loss: 10507561.0000 - val_MAPE: 10.4509 - val_MAE: 1742.7849\n",
      "Epoch 35/1000\n",
      "311/311 [==============================] - 1s 3ms/step - loss: 7466094.5000 - MAPE: 10.6224 - MAE: 1672.6676 - val_loss: 10307098.0000 - val_MAPE: 10.6770 - val_MAE: 1729.0175\n",
      "Epoch 36/1000\n",
      "311/311 [==============================] - 1s 4ms/step - loss: 7407763.0000 - MAPE: 10.5838 - MAE: 1667.2322 - val_loss: 10181109.0000 - val_MAPE: 10.9442 - val_MAE: 1741.5377\n",
      "Epoch 37/1000\n",
      "311/311 [==============================] - 1s 3ms/step - loss: 7331105.0000 - MAPE: 10.5427 - MAE: 1659.7161 - val_loss: 10153196.0000 - val_MAPE: 10.4441 - val_MAE: 1716.7939\n",
      "Epoch 38/1000\n",
      "311/311 [==============================] - 1s 4ms/step - loss: 7273649.5000 - MAPE: 10.5182 - MAE: 1654.8586 - val_loss: 10209135.0000 - val_MAPE: 10.5850 - val_MAE: 1744.7560\n",
      "Epoch 39/1000\n",
      "311/311 [==============================] - 1s 4ms/step - loss: 7226968.5000 - MAPE: 10.5026 - MAE: 1652.8925 - val_loss: 10023946.0000 - val_MAPE: 10.4739 - val_MAE: 1707.4308\n",
      "Epoch 40/1000\n",
      "311/311 [==============================] - 1s 4ms/step - loss: 7164171.0000 - MAPE: 10.4531 - MAE: 1645.8986 - val_loss: 10010601.0000 - val_MAPE: 11.0463 - val_MAE: 1744.8479\n",
      "Epoch 41/1000\n",
      "311/311 [==============================] - 1s 4ms/step - loss: 7142250.0000 - MAPE: 10.5016 - MAE: 1649.3519 - val_loss: 10005350.0000 - val_MAPE: 11.3479 - val_MAE: 1762.0194\n",
      "Epoch 42/1000\n",
      "311/311 [==============================] - 1s 4ms/step - loss: 7092396.5000 - MAPE: 10.4608 - MAE: 1642.8439 - val_loss: 9948892.0000 - val_MAPE: 10.3995 - val_MAE: 1700.2988\n",
      "Epoch 43/1000\n",
      "311/311 [==============================] - 1s 3ms/step - loss: 7038983.0000 - MAPE: 10.4388 - MAE: 1638.8864 - val_loss: 9857743.0000 - val_MAPE: 10.8704 - val_MAE: 1729.3531\n",
      "Epoch 44/1000\n",
      "311/311 [==============================] - 1s 3ms/step - loss: 6982209.5000 - MAPE: 10.4048 - MAE: 1633.0812 - val_loss: 9796548.0000 - val_MAPE: 10.5434 - val_MAE: 1701.4468\n",
      "Epoch 45/1000\n",
      "311/311 [==============================] - 1s 4ms/step - loss: 6956488.0000 - MAPE: 10.4062 - MAE: 1633.1868 - val_loss: 9782623.0000 - val_MAPE: 10.5749 - val_MAE: 1698.1931\n",
      "Epoch 46/1000\n",
      "311/311 [==============================] - 1s 3ms/step - loss: 6885289.0000 - MAPE: 10.3558 - MAE: 1624.6709 - val_loss: 9712295.0000 - val_MAPE: 10.3303 - val_MAE: 1687.9277\n",
      "Epoch 47/1000\n",
      "311/311 [==============================] - 1s 4ms/step - loss: 6861200.0000 - MAPE: 10.3547 - MAE: 1623.9962 - val_loss: 9667131.0000 - val_MAPE: 10.6542 - val_MAE: 1702.6150\n",
      "Epoch 48/1000\n",
      "311/311 [==============================] - 1s 4ms/step - loss: 6797789.0000 - MAPE: 10.3225 - MAE: 1618.8098 - val_loss: 9702628.0000 - val_MAPE: 11.1235 - val_MAE: 1732.8860\n",
      "Epoch 49/1000\n",
      "311/311 [==============================] - 1s 3ms/step - loss: 6773318.5000 - MAPE: 10.3231 - MAE: 1617.7279 - val_loss: 9622385.0000 - val_MAPE: 10.5226 - val_MAE: 1698.5691\n",
      "Epoch 50/1000\n",
      "311/311 [==============================] - 1s 4ms/step - loss: 6740052.0000 - MAPE: 10.3242 - MAE: 1616.7991 - val_loss: 9557113.0000 - val_MAPE: 10.2938 - val_MAE: 1682.3949\n",
      "Epoch 51/1000\n",
      "311/311 [==============================] - 1s 4ms/step - loss: 6699977.5000 - MAPE: 10.3161 - MAE: 1613.7561 - val_loss: 9522625.0000 - val_MAPE: 10.3871 - val_MAE: 1681.5103\n",
      "Epoch 52/1000\n",
      "311/311 [==============================] - 1s 4ms/step - loss: 6634641.5000 - MAPE: 10.2497 - MAE: 1605.7606 - val_loss: 9511956.0000 - val_MAPE: 10.4500 - val_MAE: 1688.0709\n",
      "Epoch 53/1000\n",
      "311/311 [==============================] - 1s 3ms/step - loss: 6612511.0000 - MAPE: 10.2605 - MAE: 1605.7385 - val_loss: 9510737.0000 - val_MAPE: 10.2131 - val_MAE: 1677.2897\n",
      "Epoch 54/1000\n",
      "311/311 [==============================] - 1s 3ms/step - loss: 6574935.0000 - MAPE: 10.2329 - MAE: 1601.2506 - val_loss: 9418206.0000 - val_MAPE: 10.4102 - val_MAE: 1676.0591\n",
      "Epoch 55/1000\n",
      "311/311 [==============================] - 1s 4ms/step - loss: 6550569.5000 - MAPE: 10.2470 - MAE: 1601.4814 - val_loss: 9417139.0000 - val_MAPE: 10.6753 - val_MAE: 1695.4054\n",
      "Epoch 56/1000\n",
      "311/311 [==============================] - 1s 3ms/step - loss: 6498738.5000 - MAPE: 10.2137 - MAE: 1596.5276 - val_loss: 9382208.0000 - val_MAPE: 10.1960 - val_MAE: 1667.5374\n",
      "Epoch 57/1000\n",
      "311/311 [==============================] - 1s 4ms/step - loss: 6480566.5000 - MAPE: 10.2168 - MAE: 1596.1556 - val_loss: 9351351.0000 - val_MAPE: 10.6133 - val_MAE: 1689.5857\n",
      "Epoch 58/1000\n",
      "311/311 [==============================] - 1s 3ms/step - loss: 6448878.5000 - MAPE: 10.2114 - MAE: 1595.1516 - val_loss: 9356094.0000 - val_MAPE: 10.1677 - val_MAE: 1665.8762\n",
      "Epoch 59/1000\n",
      "311/311 [==============================] - 1s 3ms/step - loss: 6413185.5000 - MAPE: 10.1883 - MAE: 1590.2156 - val_loss: 9292223.0000 - val_MAPE: 10.1980 - val_MAE: 1666.9575\n",
      "Epoch 60/1000\n",
      "311/311 [==============================] - 1s 4ms/step - loss: 6379869.5000 - MAPE: 10.1812 - MAE: 1589.5334 - val_loss: 9211950.0000 - val_MAPE: 10.3467 - val_MAE: 1664.6293\n",
      "Epoch 61/1000\n",
      "311/311 [==============================] - 1s 4ms/step - loss: 6331571.5000 - MAPE: 10.1560 - MAE: 1584.0219 - val_loss: 9224946.0000 - val_MAPE: 10.6458 - val_MAE: 1682.2139\n",
      "Epoch 62/1000\n",
      "311/311 [==============================] - 1s 4ms/step - loss: 6300618.5000 - MAPE: 10.1296 - MAE: 1581.4174 - val_loss: 9234269.0000 - val_MAPE: 10.2795 - val_MAE: 1664.0565\n",
      "Epoch 63/1000\n",
      "311/311 [==============================] - 1s 4ms/step - loss: 6268125.5000 - MAPE: 10.1267 - MAE: 1579.3770 - val_loss: 9158227.0000 - val_MAPE: 10.6265 - val_MAE: 1679.1741\n",
      "Epoch 64/1000\n",
      "311/311 [==============================] - 1s 4ms/step - loss: 6256681.5000 - MAPE: 10.1434 - MAE: 1579.7015 - val_loss: 9147758.0000 - val_MAPE: 10.1558 - val_MAE: 1653.8784\n",
      "Epoch 65/1000\n",
      "311/311 [==============================] - 1s 4ms/step - loss: 6214478.5000 - MAPE: 10.0980 - MAE: 1575.3556 - val_loss: 9089251.0000 - val_MAPE: 10.2711 - val_MAE: 1661.0986\n",
      "Epoch 66/1000\n",
      "311/311 [==============================] - 1s 3ms/step - loss: 6188765.0000 - MAPE: 10.0995 - MAE: 1572.7036 - val_loss: 9060708.0000 - val_MAPE: 10.1641 - val_MAE: 1651.3016\n",
      "Epoch 67/1000\n",
      "311/311 [==============================] - 1s 3ms/step - loss: 6144169.5000 - MAPE: 10.0965 - MAE: 1572.0028 - val_loss: 9141225.0000 - val_MAPE: 10.0721 - val_MAE: 1659.5327\n",
      "Epoch 68/1000\n",
      "311/311 [==============================] - 1s 4ms/step - loss: 6126299.0000 - MAPE: 10.0812 - MAE: 1570.0420 - val_loss: 9033021.0000 - val_MAPE: 10.4961 - val_MAE: 1664.2715\n",
      "Epoch 69/1000\n",
      "311/311 [==============================] - 1s 3ms/step - loss: 6109307.5000 - MAPE: 10.0803 - MAE: 1568.9739 - val_loss: 8992737.0000 - val_MAPE: 10.1085 - val_MAE: 1649.1765\n",
      "Epoch 70/1000\n",
      "311/311 [==============================] - 1s 4ms/step - loss: 6063851.5000 - MAPE: 10.0446 - MAE: 1563.4792 - val_loss: 8943302.0000 - val_MAPE: 10.2980 - val_MAE: 1654.3774\n",
      "Epoch 71/1000\n",
      "311/311 [==============================] - 1s 3ms/step - loss: 6041595.0000 - MAPE: 10.0229 - MAE: 1561.7726 - val_loss: 8938030.0000 - val_MAPE: 10.2586 - val_MAE: 1654.2673\n",
      "Epoch 72/1000\n",
      "311/311 [==============================] - 1s 4ms/step - loss: 6014765.5000 - MAPE: 10.0427 - MAE: 1562.0952 - val_loss: 9022189.0000 - val_MAPE: 10.0617 - val_MAE: 1655.9836\n",
      "Epoch 73/1000\n",
      "311/311 [==============================] - 1s 3ms/step - loss: 5997695.5000 - MAPE: 10.0310 - MAE: 1560.5173 - val_loss: 8866726.0000 - val_MAPE: 10.1038 - val_MAE: 1638.2656\n",
      "Epoch 74/1000\n",
      "311/311 [==============================] - 1s 4ms/step - loss: 5977891.5000 - MAPE: 10.0392 - MAE: 1560.1473 - val_loss: 8845018.0000 - val_MAPE: 10.1063 - val_MAE: 1637.8969\n",
      "Epoch 75/1000\n",
      "311/311 [==============================] - 1s 4ms/step - loss: 5941543.5000 - MAPE: 10.0081 - MAE: 1555.2488 - val_loss: 8814239.0000 - val_MAPE: 10.2226 - val_MAE: 1644.8092\n",
      "Epoch 76/1000\n",
      "311/311 [==============================] - 1s 3ms/step - loss: 5936602.5000 - MAPE: 10.0215 - MAE: 1558.2244 - val_loss: 8840898.0000 - val_MAPE: 10.0356 - val_MAE: 1639.1830\n",
      "Epoch 77/1000\n",
      "311/311 [==============================] - 1s 3ms/step - loss: 5885332.0000 - MAPE: 9.9705 - MAE: 1550.4725 - val_loss: 8860875.0000 - val_MAPE: 10.0039 - val_MAE: 1637.6846\n",
      "Epoch 78/1000\n",
      "311/311 [==============================] - 1s 4ms/step - loss: 5877198.5000 - MAPE: 9.9709 - MAE: 1550.0001 - val_loss: 8780569.0000 - val_MAPE: 10.6424 - val_MAE: 1666.9937\n",
      "Epoch 79/1000\n",
      "311/311 [==============================] - 1s 3ms/step - loss: 5853739.0000 - MAPE: 9.9816 - MAE: 1549.4893 - val_loss: 8719371.0000 - val_MAPE: 10.2605 - val_MAE: 1644.5408\n",
      "Epoch 80/1000\n",
      "311/311 [==============================] - 1s 3ms/step - loss: 5816535.5000 - MAPE: 9.9429 - MAE: 1544.9375 - val_loss: 8733108.0000 - val_MAPE: 10.2777 - val_MAE: 1647.6454\n",
      "Epoch 81/1000\n",
      "311/311 [==============================] - 1s 3ms/step - loss: 5821227.5000 - MAPE: 9.9795 - MAE: 1548.3911 - val_loss: 8742835.0000 - val_MAPE: 10.6660 - val_MAE: 1673.8179\n",
      "Epoch 82/1000\n",
      "311/311 [==============================] - 1s 3ms/step - loss: 5766149.0000 - MAPE: 9.9052 - MAE: 1539.3335 - val_loss: 8656076.0000 - val_MAPE: 10.0685 - val_MAE: 1629.9489\n",
      "Epoch 83/1000\n",
      "311/311 [==============================] - 1s 3ms/step - loss: 5768843.0000 - MAPE: 9.9417 - MAE: 1542.6962 - val_loss: 8690678.0000 - val_MAPE: 10.6984 - val_MAE: 1669.9231\n",
      "Epoch 84/1000\n",
      "311/311 [==============================] - 1s 3ms/step - loss: 5754872.0000 - MAPE: 9.9384 - MAE: 1542.1058 - val_loss: 8720783.0000 - val_MAPE: 9.9880 - val_MAE: 1639.6865\n",
      "Epoch 85/1000\n",
      "311/311 [==============================] - 1s 4ms/step - loss: 5716635.5000 - MAPE: 9.8927 - MAE: 1535.5442 - val_loss: 8586708.0000 - val_MAPE: 10.1067 - val_MAE: 1628.3625\n",
      "Epoch 86/1000\n",
      "311/311 [==============================] - 1s 3ms/step - loss: 5718112.5000 - MAPE: 9.9145 - MAE: 1538.4648 - val_loss: 8630899.0000 - val_MAPE: 9.9402 - val_MAE: 1625.5426\n",
      "Epoch 87/1000\n"
     ]
    },
    {
     "name": "stdout",
     "output_type": "stream",
     "text": [
      "311/311 [==============================] - 1s 4ms/step - loss: 5669545.0000 - MAPE: 9.8731 - MAE: 1531.6514 - val_loss: 8560518.0000 - val_MAPE: 10.0808 - val_MAE: 1626.4806\n",
      "Epoch 88/1000\n",
      "311/311 [==============================] - 1s 3ms/step - loss: 5663000.5000 - MAPE: 9.8809 - MAE: 1532.9290 - val_loss: 8571597.0000 - val_MAPE: 9.9412 - val_MAE: 1625.0104\n",
      "Epoch 89/1000\n",
      "311/311 [==============================] - 1s 4ms/step - loss: 5654260.0000 - MAPE: 9.8784 - MAE: 1532.2981 - val_loss: 8519572.0000 - val_MAPE: 9.9619 - val_MAE: 1617.5585\n",
      "Epoch 90/1000\n",
      "311/311 [==============================] - 1s 4ms/step - loss: 5626422.0000 - MAPE: 9.8691 - MAE: 1529.1700 - val_loss: 8476436.0000 - val_MAPE: 10.0190 - val_MAE: 1615.8660\n",
      "Epoch 91/1000\n",
      "311/311 [==============================] - 1s 4ms/step - loss: 5602161.5000 - MAPE: 9.8434 - MAE: 1527.0750 - val_loss: 8514585.0000 - val_MAPE: 9.9262 - val_MAE: 1616.6920\n",
      "Epoch 92/1000\n",
      "311/311 [==============================] - 1s 4ms/step - loss: 5585910.0000 - MAPE: 9.8349 - MAE: 1524.8977 - val_loss: 8449950.0000 - val_MAPE: 10.1249 - val_MAE: 1624.1342\n",
      "Epoch 93/1000\n",
      "311/311 [==============================] - 1s 4ms/step - loss: 5581587.5000 - MAPE: 9.8391 - MAE: 1525.2404 - val_loss: 8438210.0000 - val_MAPE: 10.0007 - val_MAE: 1617.9204\n",
      "Epoch 94/1000\n",
      "311/311 [==============================] - 1s 3ms/step - loss: 5566626.5000 - MAPE: 9.8312 - MAE: 1523.7117 - val_loss: 8483059.0000 - val_MAPE: 9.8953 - val_MAE: 1618.6636\n",
      "Epoch 95/1000\n",
      "311/311 [==============================] - 1s 4ms/step - loss: 5543615.5000 - MAPE: 9.8080 - MAE: 1520.4905 - val_loss: 8465687.0000 - val_MAPE: 9.9598 - val_MAE: 1623.0131\n",
      "Epoch 96/1000\n",
      "311/311 [==============================] - 1s 3ms/step - loss: 5527572.5000 - MAPE: 9.8032 - MAE: 1519.2521 - val_loss: 8381367.0000 - val_MAPE: 10.1122 - val_MAE: 1621.1345\n",
      "Epoch 97/1000\n",
      "311/311 [==============================] - 1s 4ms/step - loss: 5520161.5000 - MAPE: 9.8011 - MAE: 1518.7277 - val_loss: 8384992.5000 - val_MAPE: 10.1227 - val_MAE: 1619.3114\n",
      "Epoch 98/1000\n",
      "311/311 [==============================] - 1s 4ms/step - loss: 5492027.5000 - MAPE: 9.7893 - MAE: 1516.2804 - val_loss: 8359673.0000 - val_MAPE: 9.9527 - val_MAE: 1609.7811\n",
      "Epoch 99/1000\n",
      "311/311 [==============================] - 1s 4ms/step - loss: 5491074.0000 - MAPE: 9.7831 - MAE: 1514.9298 - val_loss: 8526242.0000 - val_MAPE: 10.7768 - val_MAE: 1687.7140\n",
      "Epoch 100/1000\n",
      "311/311 [==============================] - 1s 3ms/step - loss: 5485845.0000 - MAPE: 9.7857 - MAE: 1516.5645 - val_loss: 8354753.0000 - val_MAPE: 9.9919 - val_MAE: 1609.8160\n",
      "Epoch 101/1000\n",
      "311/311 [==============================] - 1s 4ms/step - loss: 5468915.5000 - MAPE: 9.7958 - MAE: 1515.3170 - val_loss: 8337494.0000 - val_MAPE: 9.8783 - val_MAE: 1605.2943\n",
      "Epoch 102/1000\n",
      "311/311 [==============================] - 1s 4ms/step - loss: 5448883.0000 - MAPE: 9.7534 - MAE: 1512.0349 - val_loss: 8302578.5000 - val_MAPE: 10.1295 - val_MAE: 1616.7153\n",
      "Epoch 103/1000\n",
      "311/311 [==============================] - 1s 3ms/step - loss: 5428540.0000 - MAPE: 9.7507 - MAE: 1510.6086 - val_loss: 8321562.0000 - val_MAPE: 10.0166 - val_MAE: 1607.1022\n",
      "Epoch 104/1000\n",
      "311/311 [==============================] - 1s 3ms/step - loss: 5417457.0000 - MAPE: 9.7415 - MAE: 1508.7906 - val_loss: 8327251.5000 - val_MAPE: 9.8367 - val_MAE: 1606.5721\n",
      "Epoch 105/1000\n",
      "311/311 [==============================] - 1s 4ms/step - loss: 5426063.5000 - MAPE: 9.7628 - MAE: 1511.0730 - val_loss: 8321963.5000 - val_MAPE: 9.8381 - val_MAE: 1605.3361\n",
      "Epoch 106/1000\n",
      "311/311 [==============================] - 1s 4ms/step - loss: 5394041.0000 - MAPE: 9.7270 - MAE: 1506.3010 - val_loss: 8258869.0000 - val_MAPE: 9.9185 - val_MAE: 1602.8928\n",
      "Epoch 107/1000\n",
      "311/311 [==============================] - 1s 4ms/step - loss: 5398046.5000 - MAPE: 9.7418 - MAE: 1508.2841 - val_loss: 8247755.5000 - val_MAPE: 10.2382 - val_MAE: 1620.0999\n",
      "Epoch 108/1000\n",
      "311/311 [==============================] - 1s 4ms/step - loss: 5386554.0000 - MAPE: 9.7214 - MAE: 1505.1785 - val_loss: 8218885.0000 - val_MAPE: 9.8672 - val_MAE: 1598.9528\n",
      "Epoch 109/1000\n",
      "311/311 [==============================] - 1s 4ms/step - loss: 5376173.0000 - MAPE: 9.7333 - MAE: 1505.6593 - val_loss: 8294103.0000 - val_MAPE: 9.9126 - val_MAE: 1617.9994\n",
      "Epoch 110/1000\n",
      "311/311 [==============================] - 1s 4ms/step - loss: 5379235.5000 - MAPE: 9.7322 - MAE: 1506.1172 - val_loss: 8400013.0000 - val_MAPE: 9.8276 - val_MAE: 1619.4729\n",
      "Epoch 111/1000\n",
      "311/311 [==============================] - 1s 3ms/step - loss: 5371461.0000 - MAPE: 9.7438 - MAE: 1506.5311 - val_loss: 8242743.5000 - val_MAPE: 9.8311 - val_MAE: 1603.3433\n",
      "Epoch 112/1000\n",
      "311/311 [==============================] - 1s 4ms/step - loss: 5342562.5000 - MAPE: 9.6967 - MAE: 1501.0177 - val_loss: 8136055.0000 - val_MAPE: 9.9882 - val_MAE: 1603.1606\n",
      "Epoch 113/1000\n",
      "311/311 [==============================] - 1s 3ms/step - loss: 5319830.0000 - MAPE: 9.6589 - MAE: 1496.7452 - val_loss: 8188331.0000 - val_MAPE: 9.8282 - val_MAE: 1597.8168\n",
      "Epoch 114/1000\n",
      "311/311 [==============================] - 1s 4ms/step - loss: 5331828.5000 - MAPE: 9.7066 - MAE: 1501.8605 - val_loss: 8331128.0000 - val_MAPE: 9.8604 - val_MAE: 1618.7944\n",
      "Epoch 115/1000\n",
      "311/311 [==============================] - 1s 4ms/step - loss: 5323189.0000 - MAPE: 9.6802 - MAE: 1498.4871 - val_loss: 8137446.5000 - val_MAPE: 9.9039 - val_MAE: 1593.8203\n",
      "Epoch 116/1000\n",
      "311/311 [==============================] - 1s 4ms/step - loss: 5305742.5000 - MAPE: 9.6750 - MAE: 1496.8693 - val_loss: 8153019.0000 - val_MAPE: 10.2681 - val_MAE: 1618.6791\n",
      "Epoch 117/1000\n",
      "311/311 [==============================] - 1s 3ms/step - loss: 5304127.5000 - MAPE: 9.6745 - MAE: 1497.7273 - val_loss: 8150595.5000 - val_MAPE: 10.0604 - val_MAE: 1603.2487\n",
      "Epoch 118/1000\n",
      "311/311 [==============================] - 1s 3ms/step - loss: 5305067.5000 - MAPE: 9.6737 - MAE: 1496.6898 - val_loss: 8172636.0000 - val_MAPE: 9.8212 - val_MAE: 1602.0863\n",
      "Epoch 119/1000\n",
      "311/311 [==============================] - 1s 3ms/step - loss: 5298808.0000 - MAPE: 9.6793 - MAE: 1497.0039 - val_loss: 8139274.0000 - val_MAPE: 10.2889 - val_MAE: 1618.1017\n",
      "Epoch 120/1000\n",
      "311/311 [==============================] - 1s 4ms/step - loss: 5278641.0000 - MAPE: 9.6527 - MAE: 1493.7639 - val_loss: 8095403.0000 - val_MAPE: 9.8818 - val_MAE: 1590.3748\n",
      "Epoch 121/1000\n",
      "311/311 [==============================] - 1s 3ms/step - loss: 5267029.0000 - MAPE: 9.6309 - MAE: 1491.8503 - val_loss: 8105683.0000 - val_MAPE: 10.2611 - val_MAE: 1611.0122\n",
      "Epoch 122/1000\n",
      "311/311 [==============================] - 1s 3ms/step - loss: 5268327.5000 - MAPE: 9.6602 - MAE: 1493.7008 - val_loss: 8131949.0000 - val_MAPE: 9.7581 - val_MAE: 1590.4427\n",
      "Epoch 123/1000\n",
      "311/311 [==============================] - 1s 4ms/step - loss: 5269386.0000 - MAPE: 9.6611 - MAE: 1494.1226 - val_loss: 8348312.0000 - val_MAPE: 11.1180 - val_MAE: 1697.3436\n",
      "Epoch 124/1000\n",
      "311/311 [==============================] - 1s 4ms/step - loss: 5248579.5000 - MAPE: 9.6054 - MAE: 1488.2102 - val_loss: 8108390.0000 - val_MAPE: 9.8560 - val_MAE: 1589.4617\n",
      "Epoch 125/1000\n",
      "311/311 [==============================] - 1s 3ms/step - loss: 5250021.0000 - MAPE: 9.6335 - MAE: 1490.6887 - val_loss: 8086787.0000 - val_MAPE: 10.1532 - val_MAE: 1603.1613\n",
      "Epoch 126/1000\n",
      "311/311 [==============================] - 1s 4ms/step - loss: 5249154.5000 - MAPE: 9.6490 - MAE: 1491.3611 - val_loss: 8080851.5000 - val_MAPE: 9.8828 - val_MAE: 1589.5400\n",
      "Epoch 127/1000\n",
      "311/311 [==============================] - 1s 4ms/step - loss: 5231281.0000 - MAPE: 9.6076 - MAE: 1488.2251 - val_loss: 8093724.5000 - val_MAPE: 10.0993 - val_MAE: 1597.4342\n",
      "Epoch 128/1000\n",
      "311/311 [==============================] - 1s 4ms/step - loss: 5211981.0000 - MAPE: 9.5986 - MAE: 1485.7046 - val_loss: 8202850.0000 - val_MAPE: 10.6653 - val_MAE: 1654.9500\n",
      "Epoch 129/1000\n",
      "311/311 [==============================] - 1s 4ms/step - loss: 5231422.5000 - MAPE: 9.6372 - MAE: 1490.1509 - val_loss: 8085258.0000 - val_MAPE: 10.2240 - val_MAE: 1607.9526\n",
      "Epoch 130/1000\n",
      "311/311 [==============================] - 1s 3ms/step - loss: 5224421.0000 - MAPE: 9.6128 - MAE: 1487.6044 - val_loss: 8187854.0000 - val_MAPE: 9.7970 - val_MAE: 1602.6128\n",
      "Epoch 131/1000\n",
      "311/311 [==============================] - 1s 4ms/step - loss: 5205700.0000 - MAPE: 9.6089 - MAE: 1485.3898 - val_loss: 8094090.5000 - val_MAPE: 10.3785 - val_MAE: 1623.1178\n",
      "Epoch 132/1000\n",
      "311/311 [==============================] - 1s 4ms/step - loss: 5208399.5000 - MAPE: 9.6249 - MAE: 1488.0859 - val_loss: 8048458.0000 - val_MAPE: 9.8689 - val_MAE: 1587.5741\n",
      "Epoch 133/1000\n",
      "311/311 [==============================] - 1s 4ms/step - loss: 5194735.5000 - MAPE: 9.5966 - MAE: 1483.7816 - val_loss: 8128985.0000 - val_MAPE: 9.7460 - val_MAE: 1595.3971\n",
      "Epoch 134/1000\n",
      "311/311 [==============================] - 1s 3ms/step - loss: 5196992.5000 - MAPE: 9.6084 - MAE: 1485.9644 - val_loss: 8072468.5000 - val_MAPE: 9.7628 - val_MAE: 1588.1193\n",
      "Epoch 135/1000\n",
      "311/311 [==============================] - 1s 4ms/step - loss: 5184153.5000 - MAPE: 9.5954 - MAE: 1484.2335 - val_loss: 8024320.0000 - val_MAPE: 9.8116 - val_MAE: 1581.9252\n",
      "Epoch 136/1000\n",
      "311/311 [==============================] - 1s 4ms/step - loss: 5196882.0000 - MAPE: 9.6330 - MAE: 1487.1061 - val_loss: 8022810.0000 - val_MAPE: 9.8089 - val_MAE: 1582.1309\n",
      "Epoch 137/1000\n",
      "311/311 [==============================] - 1s 4ms/step - loss: 5186740.0000 - MAPE: 9.5970 - MAE: 1484.9945 - val_loss: 8014828.5000 - val_MAPE: 9.9391 - val_MAE: 1585.9562\n",
      "Epoch 138/1000\n",
      "311/311 [==============================] - 1s 4ms/step - loss: 5166745.5000 - MAPE: 9.5691 - MAE: 1480.3822 - val_loss: 8011759.5000 - val_MAPE: 10.0125 - val_MAE: 1592.5007\n",
      "Epoch 139/1000\n",
      "311/311 [==============================] - 1s 4ms/step - loss: 5163928.0000 - MAPE: 9.5615 - MAE: 1480.3843 - val_loss: 8059968.5000 - val_MAPE: 9.7493 - val_MAE: 1583.8597\n",
      "Epoch 140/1000\n",
      "311/311 [==============================] - 1s 4ms/step - loss: 5170625.0000 - MAPE: 9.5978 - MAE: 1483.8788 - val_loss: 8090851.5000 - val_MAPE: 9.7234 - val_MAE: 1585.9458\n",
      "Epoch 141/1000\n",
      "311/311 [==============================] - 1s 3ms/step - loss: 5162884.0000 - MAPE: 9.5906 - MAE: 1481.6046 - val_loss: 8158627.0000 - val_MAPE: 9.7474 - val_MAE: 1600.2468\n",
      "Epoch 142/1000\n",
      "311/311 [==============================] - 1s 4ms/step - loss: 5135251.5000 - MAPE: 9.5469 - MAE: 1477.3141 - val_loss: 8033528.0000 - val_MAPE: 9.8013 - val_MAE: 1581.9617\n",
      "Epoch 143/1000\n",
      "311/311 [==============================] - 1s 4ms/step - loss: 5142266.5000 - MAPE: 9.5432 - MAE: 1477.2996 - val_loss: 7997924.5000 - val_MAPE: 10.1684 - val_MAE: 1603.6989\n",
      "Epoch 144/1000\n",
      "311/311 [==============================] - 1s 4ms/step - loss: 5164374.5000 - MAPE: 9.6055 - MAE: 1483.4172 - val_loss: 8021534.5000 - val_MAPE: 9.8501 - val_MAE: 1580.2935\n",
      "Epoch 145/1000\n",
      "311/311 [==============================] - 1s 3ms/step - loss: 5130627.5000 - MAPE: 9.5381 - MAE: 1476.3643 - val_loss: 8065337.0000 - val_MAPE: 10.0463 - val_MAE: 1595.5273\n",
      "Epoch 146/1000\n",
      "311/311 [==============================] - 1s 3ms/step - loss: 5151549.0000 - MAPE: 9.5888 - MAE: 1482.1655 - val_loss: 7970440.5000 - val_MAPE: 9.9843 - val_MAE: 1583.4666\n",
      "Epoch 147/1000\n",
      "311/311 [==============================] - 1s 4ms/step - loss: 5116324.0000 - MAPE: 9.5307 - MAE: 1474.8303 - val_loss: 8201591.0000 - val_MAPE: 9.8260 - val_MAE: 1615.1318\n",
      "Epoch 148/1000\n",
      "311/311 [==============================] - 1s 4ms/step - loss: 5116290.5000 - MAPE: 9.5251 - MAE: 1474.3331 - val_loss: 7969340.5000 - val_MAPE: 9.8369 - val_MAE: 1579.4889\n",
      "Epoch 149/1000\n",
      "311/311 [==============================] - 1s 4ms/step - loss: 5126929.0000 - MAPE: 9.5531 - MAE: 1477.6000 - val_loss: 8027670.5000 - val_MAPE: 9.7150 - val_MAE: 1579.1453\n",
      "Epoch 150/1000\n",
      "311/311 [==============================] - 1s 4ms/step - loss: 5100961.0000 - MAPE: 9.5038 - MAE: 1471.6932 - val_loss: 8020589.5000 - val_MAPE: 9.7342 - val_MAE: 1576.9082\n",
      "Epoch 151/1000\n",
      "311/311 [==============================] - 1s 4ms/step - loss: 5100581.0000 - MAPE: 9.5178 - MAE: 1472.2325 - val_loss: 8006525.5000 - val_MAPE: 9.6920 - val_MAE: 1576.3707\n",
      "Epoch 152/1000\n",
      "311/311 [==============================] - 1s 4ms/step - loss: 5097652.0000 - MAPE: 9.5170 - MAE: 1472.5923 - val_loss: 7953970.0000 - val_MAPE: 9.8233 - val_MAE: 1577.9646\n",
      "Epoch 153/1000\n",
      "311/311 [==============================] - 1s 4ms/step - loss: 5102490.5000 - MAPE: 9.5067 - MAE: 1472.2531 - val_loss: 7977512.5000 - val_MAPE: 10.0748 - val_MAE: 1595.6434\n",
      "Epoch 154/1000\n",
      "311/311 [==============================] - 1s 4ms/step - loss: 5102340.0000 - MAPE: 9.5454 - MAE: 1474.8330 - val_loss: 7969692.5000 - val_MAPE: 9.8034 - val_MAE: 1576.5298\n",
      "Epoch 155/1000\n",
      "311/311 [==============================] - 1s 4ms/step - loss: 5088065.0000 - MAPE: 9.5057 - MAE: 1471.1578 - val_loss: 7957453.5000 - val_MAPE: 10.0470 - val_MAE: 1594.2915\n",
      "Epoch 156/1000\n",
      "311/311 [==============================] - 1s 3ms/step - loss: 5088610.0000 - MAPE: 9.5084 - MAE: 1470.5344 - val_loss: 7954267.0000 - val_MAPE: 9.9235 - val_MAE: 1584.3046\n",
      "Epoch 157/1000\n",
      "311/311 [==============================] - 1s 4ms/step - loss: 5101449.5000 - MAPE: 9.5503 - MAE: 1476.4149 - val_loss: 8090909.5000 - val_MAPE: 9.6726 - val_MAE: 1585.0225\n",
      "Epoch 158/1000\n",
      "311/311 [==============================] - 1s 3ms/step - loss: 5084124.0000 - MAPE: 9.5010 - MAE: 1470.9744 - val_loss: 7955492.5000 - val_MAPE: 9.7153 - val_MAE: 1573.7151\n",
      "Epoch 159/1000\n",
      "311/311 [==============================] - 1s 3ms/step - loss: 5075703.5000 - MAPE: 9.5052 - MAE: 1470.7283 - val_loss: 8136278.5000 - val_MAPE: 10.6663 - val_MAE: 1653.9009\n",
      "Epoch 160/1000\n",
      "311/311 [==============================] - 1s 4ms/step - loss: 5071886.5000 - MAPE: 9.4997 - MAE: 1469.3594 - val_loss: 8079533.5000 - val_MAPE: 9.6602 - val_MAE: 1578.0105\n",
      "Epoch 161/1000\n",
      "311/311 [==============================] - 1s 4ms/step - loss: 5062895.5000 - MAPE: 9.4848 - MAE: 1468.2223 - val_loss: 7961256.0000 - val_MAPE: 9.7340 - val_MAE: 1573.9883\n",
      "Epoch 162/1000\n",
      "307/311 [============================>.] - ETA: 0s - loss: 4992289.0000 - MAPE: 9.4956 - MAE: 1466.9437Restoring model weights from the end of the best epoch.\n",
      "311/311 [==============================] - 1s 3ms/step - loss: 5055170.5000 - MAPE: 9.4931 - MAE: 1467.7499 - val_loss: 8025191.0000 - val_MAPE: 9.6627 - val_MAE: 1578.1794\n",
      "Epoch 00162: early stopping\n"
     ]
    }
   ],
   "source": [
    "# history_2 = bigger_model_2.fit(train, epochs=MAX_EPOCH,shuffle=True,\n",
    "#                          verbose = 1, validation_data=dev,\n",
    "#                          callbacks=[earlystop])"
   ]
  },
  {
   "cell_type": "code",
   "execution_count": 27,
   "metadata": {},
   "outputs": [],
   "source": [
    "# bigger_model_2.save(\"bigger_model_2.h5\")"
   ]
  },
  {
   "cell_type": "code",
   "execution_count": 11,
   "metadata": {},
   "outputs": [],
   "source": [
    "bigger_model_2 = tfk.models.load_model(\"bigger_model_2.h5\",custom_objects={\"leaky_relu\":tf.nn.leaky_relu})"
   ]
  },
  {
   "cell_type": "code",
   "execution_count": 45,
   "metadata": {
    "scrolled": true
   },
   "outputs": [
    {
     "data": {
      "text/html": [
       "<div>\n",
       "<style scoped>\n",
       "    .dataframe tbody tr th:only-of-type {\n",
       "        vertical-align: middle;\n",
       "    }\n",
       "\n",
       "    .dataframe tbody tr th {\n",
       "        vertical-align: top;\n",
       "    }\n",
       "\n",
       "    .dataframe thead th {\n",
       "        text-align: right;\n",
       "    }\n",
       "</style>\n",
       "<table border=\"1\" class=\"dataframe\">\n",
       "  <thead>\n",
       "    <tr style=\"text-align: right;\">\n",
       "      <th></th>\n",
       "      <th>r2_score</th>\n",
       "      <th>rmse</th>\n",
       "      <th>price_diff_abs_max</th>\n",
       "    </tr>\n",
       "  </thead>\n",
       "  <tbody>\n",
       "    <tr>\n",
       "      <th>train</th>\n",
       "      <td>0.948620</td>\n",
       "      <td>2235.873711</td>\n",
       "      <td>816.022391</td>\n",
       "    </tr>\n",
       "    <tr>\n",
       "      <th>test</th>\n",
       "      <td>0.939284</td>\n",
       "      <td>2376.859028</td>\n",
       "      <td>582.943434</td>\n",
       "    </tr>\n",
       "  </tbody>\n",
       "</table>\n",
       "</div>"
      ],
      "text/plain": [
       "       r2_score         rmse  price_diff_abs_max\n",
       "train  0.948620  2235.873711          816.022391\n",
       "test   0.939284  2376.859028          582.943434"
      ]
     },
     "execution_count": 45,
     "metadata": {},
     "output_type": "execute_result"
    }
   ],
   "source": [
    "regression_metrics(bigger_model_2,X_train.values,y_train,X_test.values,y_test,256)"
   ]
  },
  {
   "cell_type": "code",
   "execution_count": 46,
   "metadata": {},
   "outputs": [
    {
     "data": {
      "image/png": "[encoded data removed]",
      "text/plain": [
       "<Figure size 432x432 with 3 Axes>"
      ]
     },
     "metadata": {
      "needs_background": "light"
     },
     "output_type": "display_data"
    },
    {
     "data": {
      "image/png": "[encoded data removed]",
      "text/plain": [
       "<Figure size 432x288 with 1 Axes>"
      ]
     },
     "metadata": {
      "needs_background": "light"
     },
     "output_type": "display_data"
    }
   ],
   "source": [
    "plot_pred_price(bigger_model_2,X_test.values,y_test,256)"
   ]
  },
  {
   "cell_type": "markdown",
   "metadata": {},
   "source": [
    "### Since we have limited data, having bigger NN didn't seem to help with the improvement\n",
    "\n",
    "---\n",
    "\n",
    "### Looking at special cases of why the model has hard time predicting certain car price"
   ]
  },
  {
   "cell_type": "code",
   "execution_count": 47,
   "metadata": {},
   "outputs": [],
   "source": [
    "price_table = price_diff(bigger_model,features,y,batch_size=256)"
   ]
  },
  {
   "cell_type": "code",
   "execution_count": 48,
   "metadata": {},
   "outputs": [
    {
     "data": {
      "text/html": [
       "<div>\n",
       "<style scoped>\n",
       "    .dataframe tbody tr th:only-of-type {\n",
       "        vertical-align: middle;\n",
       "    }\n",
       "\n",
       "    .dataframe tbody tr th {\n",
       "        vertical-align: top;\n",
       "    }\n",
       "\n",
       "    .dataframe thead th {\n",
       "        text-align: right;\n",
       "    }\n",
       "</style>\n",
       "<table border=\"1\" class=\"dataframe\">\n",
       "  <thead>\n",
       "    <tr style=\"text-align: right;\">\n",
       "      <th></th>\n",
       "      <th>binned_year</th>\n",
       "      <th>mil_cat</th>\n",
       "      <th>binned_mpg</th>\n",
       "      <th>engine_binned</th>\n",
       "      <th>model_ 2 Series</th>\n",
       "      <th>model_ 3 Series</th>\n",
       "      <th>model_ 4 Series</th>\n",
       "      <th>model_ 5 Series</th>\n",
       "      <th>model_ 6 Series</th>\n",
       "      <th>model_ 7 Series</th>\n",
       "      <th>...</th>\n",
       "      <th>model_EcoSport</th>\n",
       "      <th>transmission_Manual</th>\n",
       "      <th>transmission_Other</th>\n",
       "      <th>transmission_Semi-Auto</th>\n",
       "      <th>fuelType_Electric</th>\n",
       "      <th>fuelType_Hybrid</th>\n",
       "      <th>fuelType_Other</th>\n",
       "      <th>fuelType_Petrol</th>\n",
       "      <th>price_diff_pct</th>\n",
       "      <th>price_diff_abs</th>\n",
       "    </tr>\n",
       "  </thead>\n",
       "  <tbody>\n",
       "    <tr>\n",
       "      <th>11984</th>\n",
       "      <td>1</td>\n",
       "      <td>0</td>\n",
       "      <td>3</td>\n",
       "      <td>0</td>\n",
       "      <td>0</td>\n",
       "      <td>0</td>\n",
       "      <td>0</td>\n",
       "      <td>0</td>\n",
       "      <td>0</td>\n",
       "      <td>0</td>\n",
       "      <td>...</td>\n",
       "      <td>0</td>\n",
       "      <td>1</td>\n",
       "      <td>0</td>\n",
       "      <td>0</td>\n",
       "      <td>0</td>\n",
       "      <td>0</td>\n",
       "      <td>0</td>\n",
       "      <td>0</td>\n",
       "      <td>-771.684800</td>\n",
       "      <td>771.684800</td>\n",
       "    </tr>\n",
       "    <tr>\n",
       "      <th>39711</th>\n",
       "      <td>1</td>\n",
       "      <td>2</td>\n",
       "      <td>1</td>\n",
       "      <td>1</td>\n",
       "      <td>0</td>\n",
       "      <td>0</td>\n",
       "      <td>0</td>\n",
       "      <td>0</td>\n",
       "      <td>0</td>\n",
       "      <td>0</td>\n",
       "      <td>...</td>\n",
       "      <td>0</td>\n",
       "      <td>0</td>\n",
       "      <td>0</td>\n",
       "      <td>0</td>\n",
       "      <td>0</td>\n",
       "      <td>0</td>\n",
       "      <td>0</td>\n",
       "      <td>0</td>\n",
       "      <td>-722.626006</td>\n",
       "      <td>722.626006</td>\n",
       "    </tr>\n",
       "    <tr>\n",
       "      <th>71819</th>\n",
       "      <td>1</td>\n",
       "      <td>0</td>\n",
       "      <td>2</td>\n",
       "      <td>0</td>\n",
       "      <td>0</td>\n",
       "      <td>0</td>\n",
       "      <td>0</td>\n",
       "      <td>0</td>\n",
       "      <td>0</td>\n",
       "      <td>0</td>\n",
       "      <td>...</td>\n",
       "      <td>0</td>\n",
       "      <td>1</td>\n",
       "      <td>0</td>\n",
       "      <td>0</td>\n",
       "      <td>0</td>\n",
       "      <td>0</td>\n",
       "      <td>0</td>\n",
       "      <td>0</td>\n",
       "      <td>-593.055130</td>\n",
       "      <td>593.055130</td>\n",
       "    </tr>\n",
       "    <tr>\n",
       "      <th>39978</th>\n",
       "      <td>1</td>\n",
       "      <td>5</td>\n",
       "      <td>1</td>\n",
       "      <td>0</td>\n",
       "      <td>0</td>\n",
       "      <td>0</td>\n",
       "      <td>0</td>\n",
       "      <td>0</td>\n",
       "      <td>0</td>\n",
       "      <td>0</td>\n",
       "      <td>...</td>\n",
       "      <td>0</td>\n",
       "      <td>1</td>\n",
       "      <td>0</td>\n",
       "      <td>0</td>\n",
       "      <td>0</td>\n",
       "      <td>0</td>\n",
       "      <td>0</td>\n",
       "      <td>1</td>\n",
       "      <td>-515.268254</td>\n",
       "      <td>515.268254</td>\n",
       "    </tr>\n",
       "    <tr>\n",
       "      <th>20061</th>\n",
       "      <td>1</td>\n",
       "      <td>0</td>\n",
       "      <td>1</td>\n",
       "      <td>0</td>\n",
       "      <td>0</td>\n",
       "      <td>0</td>\n",
       "      <td>0</td>\n",
       "      <td>0</td>\n",
       "      <td>0</td>\n",
       "      <td>0</td>\n",
       "      <td>...</td>\n",
       "      <td>0</td>\n",
       "      <td>0</td>\n",
       "      <td>0</td>\n",
       "      <td>0</td>\n",
       "      <td>0</td>\n",
       "      <td>0</td>\n",
       "      <td>0</td>\n",
       "      <td>1</td>\n",
       "      <td>-422.928905</td>\n",
       "      <td>422.928905</td>\n",
       "    </tr>\n",
       "    <tr>\n",
       "      <th>47201</th>\n",
       "      <td>1</td>\n",
       "      <td>5</td>\n",
       "      <td>2</td>\n",
       "      <td>0</td>\n",
       "      <td>0</td>\n",
       "      <td>0</td>\n",
       "      <td>0</td>\n",
       "      <td>0</td>\n",
       "      <td>0</td>\n",
       "      <td>0</td>\n",
       "      <td>...</td>\n",
       "      <td>0</td>\n",
       "      <td>1</td>\n",
       "      <td>0</td>\n",
       "      <td>0</td>\n",
       "      <td>0</td>\n",
       "      <td>0</td>\n",
       "      <td>0</td>\n",
       "      <td>1</td>\n",
       "      <td>-409.967556</td>\n",
       "      <td>409.967556</td>\n",
       "    </tr>\n",
       "    <tr>\n",
       "      <th>69135</th>\n",
       "      <td>1</td>\n",
       "      <td>4</td>\n",
       "      <td>2</td>\n",
       "      <td>0</td>\n",
       "      <td>0</td>\n",
       "      <td>0</td>\n",
       "      <td>0</td>\n",
       "      <td>0</td>\n",
       "      <td>0</td>\n",
       "      <td>0</td>\n",
       "      <td>...</td>\n",
       "      <td>0</td>\n",
       "      <td>1</td>\n",
       "      <td>0</td>\n",
       "      <td>0</td>\n",
       "      <td>0</td>\n",
       "      <td>0</td>\n",
       "      <td>0</td>\n",
       "      <td>0</td>\n",
       "      <td>-407.544633</td>\n",
       "      <td>407.544633</td>\n",
       "    </tr>\n",
       "    <tr>\n",
       "      <th>44539</th>\n",
       "      <td>1</td>\n",
       "      <td>4</td>\n",
       "      <td>3</td>\n",
       "      <td>0</td>\n",
       "      <td>0</td>\n",
       "      <td>0</td>\n",
       "      <td>0</td>\n",
       "      <td>0</td>\n",
       "      <td>0</td>\n",
       "      <td>0</td>\n",
       "      <td>...</td>\n",
       "      <td>0</td>\n",
       "      <td>1</td>\n",
       "      <td>0</td>\n",
       "      <td>0</td>\n",
       "      <td>0</td>\n",
       "      <td>0</td>\n",
       "      <td>0</td>\n",
       "      <td>1</td>\n",
       "      <td>-391.214094</td>\n",
       "      <td>391.214094</td>\n",
       "    </tr>\n",
       "    <tr>\n",
       "      <th>39540</th>\n",
       "      <td>1</td>\n",
       "      <td>5</td>\n",
       "      <td>1</td>\n",
       "      <td>1</td>\n",
       "      <td>0</td>\n",
       "      <td>0</td>\n",
       "      <td>0</td>\n",
       "      <td>0</td>\n",
       "      <td>0</td>\n",
       "      <td>0</td>\n",
       "      <td>...</td>\n",
       "      <td>0</td>\n",
       "      <td>0</td>\n",
       "      <td>0</td>\n",
       "      <td>1</td>\n",
       "      <td>0</td>\n",
       "      <td>0</td>\n",
       "      <td>0</td>\n",
       "      <td>1</td>\n",
       "      <td>-350.905927</td>\n",
       "      <td>350.905927</td>\n",
       "    </tr>\n",
       "    <tr>\n",
       "      <th>40171</th>\n",
       "      <td>1</td>\n",
       "      <td>4</td>\n",
       "      <td>2</td>\n",
       "      <td>0</td>\n",
       "      <td>0</td>\n",
       "      <td>0</td>\n",
       "      <td>0</td>\n",
       "      <td>0</td>\n",
       "      <td>0</td>\n",
       "      <td>0</td>\n",
       "      <td>...</td>\n",
       "      <td>0</td>\n",
       "      <td>0</td>\n",
       "      <td>0</td>\n",
       "      <td>0</td>\n",
       "      <td>0</td>\n",
       "      <td>0</td>\n",
       "      <td>0</td>\n",
       "      <td>1</td>\n",
       "      <td>-278.709283</td>\n",
       "      <td>278.709283</td>\n",
       "    </tr>\n",
       "    <tr>\n",
       "      <th>71617</th>\n",
       "      <td>1</td>\n",
       "      <td>4</td>\n",
       "      <td>2</td>\n",
       "      <td>0</td>\n",
       "      <td>0</td>\n",
       "      <td>0</td>\n",
       "      <td>0</td>\n",
       "      <td>0</td>\n",
       "      <td>0</td>\n",
       "      <td>0</td>\n",
       "      <td>...</td>\n",
       "      <td>0</td>\n",
       "      <td>1</td>\n",
       "      <td>0</td>\n",
       "      <td>0</td>\n",
       "      <td>0</td>\n",
       "      <td>0</td>\n",
       "      <td>0</td>\n",
       "      <td>1</td>\n",
       "      <td>-278.281053</td>\n",
       "      <td>278.281053</td>\n",
       "    </tr>\n",
       "    <tr>\n",
       "      <th>40019</th>\n",
       "      <td>1</td>\n",
       "      <td>3</td>\n",
       "      <td>1</td>\n",
       "      <td>0</td>\n",
       "      <td>0</td>\n",
       "      <td>0</td>\n",
       "      <td>0</td>\n",
       "      <td>0</td>\n",
       "      <td>0</td>\n",
       "      <td>0</td>\n",
       "      <td>...</td>\n",
       "      <td>0</td>\n",
       "      <td>0</td>\n",
       "      <td>0</td>\n",
       "      <td>0</td>\n",
       "      <td>0</td>\n",
       "      <td>0</td>\n",
       "      <td>0</td>\n",
       "      <td>1</td>\n",
       "      <td>-269.193606</td>\n",
       "      <td>269.193606</td>\n",
       "    </tr>\n",
       "    <tr>\n",
       "      <th>83274</th>\n",
       "      <td>2</td>\n",
       "      <td>3</td>\n",
       "      <td>2</td>\n",
       "      <td>0</td>\n",
       "      <td>0</td>\n",
       "      <td>0</td>\n",
       "      <td>0</td>\n",
       "      <td>0</td>\n",
       "      <td>0</td>\n",
       "      <td>0</td>\n",
       "      <td>...</td>\n",
       "      <td>0</td>\n",
       "      <td>1</td>\n",
       "      <td>0</td>\n",
       "      <td>0</td>\n",
       "      <td>0</td>\n",
       "      <td>0</td>\n",
       "      <td>0</td>\n",
       "      <td>1</td>\n",
       "      <td>-260.557542</td>\n",
       "      <td>260.557542</td>\n",
       "    </tr>\n",
       "    <tr>\n",
       "      <th>78800</th>\n",
       "      <td>2</td>\n",
       "      <td>2</td>\n",
       "      <td>3</td>\n",
       "      <td>0</td>\n",
       "      <td>0</td>\n",
       "      <td>0</td>\n",
       "      <td>0</td>\n",
       "      <td>0</td>\n",
       "      <td>0</td>\n",
       "      <td>0</td>\n",
       "      <td>...</td>\n",
       "      <td>0</td>\n",
       "      <td>0</td>\n",
       "      <td>0</td>\n",
       "      <td>1</td>\n",
       "      <td>0</td>\n",
       "      <td>0</td>\n",
       "      <td>0</td>\n",
       "      <td>0</td>\n",
       "      <td>-254.067395</td>\n",
       "      <td>254.067395</td>\n",
       "    </tr>\n",
       "    <tr>\n",
       "      <th>72349</th>\n",
       "      <td>1</td>\n",
       "      <td>4</td>\n",
       "      <td>2</td>\n",
       "      <td>0</td>\n",
       "      <td>0</td>\n",
       "      <td>0</td>\n",
       "      <td>0</td>\n",
       "      <td>0</td>\n",
       "      <td>0</td>\n",
       "      <td>0</td>\n",
       "      <td>...</td>\n",
       "      <td>0</td>\n",
       "      <td>1</td>\n",
       "      <td>0</td>\n",
       "      <td>0</td>\n",
       "      <td>0</td>\n",
       "      <td>0</td>\n",
       "      <td>0</td>\n",
       "      <td>1</td>\n",
       "      <td>-231.202738</td>\n",
       "      <td>231.202738</td>\n",
       "    </tr>\n",
       "    <tr>\n",
       "      <th>40172</th>\n",
       "      <td>1</td>\n",
       "      <td>2</td>\n",
       "      <td>1</td>\n",
       "      <td>2</td>\n",
       "      <td>0</td>\n",
       "      <td>0</td>\n",
       "      <td>0</td>\n",
       "      <td>0</td>\n",
       "      <td>0</td>\n",
       "      <td>0</td>\n",
       "      <td>...</td>\n",
       "      <td>0</td>\n",
       "      <td>0</td>\n",
       "      <td>0</td>\n",
       "      <td>0</td>\n",
       "      <td>0</td>\n",
       "      <td>0</td>\n",
       "      <td>0</td>\n",
       "      <td>1</td>\n",
       "      <td>-228.636666</td>\n",
       "      <td>228.636666</td>\n",
       "    </tr>\n",
       "    <tr>\n",
       "      <th>44553</th>\n",
       "      <td>1</td>\n",
       "      <td>4</td>\n",
       "      <td>2</td>\n",
       "      <td>0</td>\n",
       "      <td>0</td>\n",
       "      <td>0</td>\n",
       "      <td>0</td>\n",
       "      <td>0</td>\n",
       "      <td>0</td>\n",
       "      <td>0</td>\n",
       "      <td>...</td>\n",
       "      <td>0</td>\n",
       "      <td>1</td>\n",
       "      <td>0</td>\n",
       "      <td>0</td>\n",
       "      <td>0</td>\n",
       "      <td>0</td>\n",
       "      <td>0</td>\n",
       "      <td>1</td>\n",
       "      <td>-212.322108</td>\n",
       "      <td>212.322108</td>\n",
       "    </tr>\n",
       "    <tr>\n",
       "      <th>29517</th>\n",
       "      <td>3</td>\n",
       "      <td>4</td>\n",
       "      <td>2</td>\n",
       "      <td>1</td>\n",
       "      <td>0</td>\n",
       "      <td>0</td>\n",
       "      <td>0</td>\n",
       "      <td>0</td>\n",
       "      <td>0</td>\n",
       "      <td>0</td>\n",
       "      <td>...</td>\n",
       "      <td>0</td>\n",
       "      <td>0</td>\n",
       "      <td>0</td>\n",
       "      <td>1</td>\n",
       "      <td>0</td>\n",
       "      <td>0</td>\n",
       "      <td>0</td>\n",
       "      <td>0</td>\n",
       "      <td>-211.776941</td>\n",
       "      <td>211.776941</td>\n",
       "    </tr>\n",
       "    <tr>\n",
       "      <th>44745</th>\n",
       "      <td>1</td>\n",
       "      <td>5</td>\n",
       "      <td>3</td>\n",
       "      <td>0</td>\n",
       "      <td>0</td>\n",
       "      <td>0</td>\n",
       "      <td>0</td>\n",
       "      <td>0</td>\n",
       "      <td>0</td>\n",
       "      <td>0</td>\n",
       "      <td>...</td>\n",
       "      <td>0</td>\n",
       "      <td>1</td>\n",
       "      <td>0</td>\n",
       "      <td>0</td>\n",
       "      <td>0</td>\n",
       "      <td>0</td>\n",
       "      <td>0</td>\n",
       "      <td>0</td>\n",
       "      <td>-209.714197</td>\n",
       "      <td>209.714197</td>\n",
       "    </tr>\n",
       "    <tr>\n",
       "      <th>87700</th>\n",
       "      <td>1</td>\n",
       "      <td>5</td>\n",
       "      <td>1</td>\n",
       "      <td>1</td>\n",
       "      <td>0</td>\n",
       "      <td>0</td>\n",
       "      <td>0</td>\n",
       "      <td>0</td>\n",
       "      <td>0</td>\n",
       "      <td>0</td>\n",
       "      <td>...</td>\n",
       "      <td>0</td>\n",
       "      <td>1</td>\n",
       "      <td>0</td>\n",
       "      <td>0</td>\n",
       "      <td>0</td>\n",
       "      <td>0</td>\n",
       "      <td>0</td>\n",
       "      <td>1</td>\n",
       "      <td>-204.125255</td>\n",
       "      <td>204.125255</td>\n",
       "    </tr>\n",
       "  </tbody>\n",
       "</table>\n",
       "<p>20 rows × 208 columns</p>\n",
       "</div>"
      ],
      "text/plain": [
       "       binned_year  mil_cat  binned_mpg  engine_binned  model_ 2 Series  \\\n",
       "11984            1        0           3              0                0   \n",
       "39711            1        2           1              1                0   \n",
       "71819            1        0           2              0                0   \n",
       "39978            1        5           1              0                0   \n",
       "20061            1        0           1              0                0   \n",
       "47201            1        5           2              0                0   \n",
       "69135            1        4           2              0                0   \n",
       "44539            1        4           3              0                0   \n",
       "39540            1        5           1              1                0   \n",
       "40171            1        4           2              0                0   \n",
       "71617            1        4           2              0                0   \n",
       "40019            1        3           1              0                0   \n",
       "83274            2        3           2              0                0   \n",
       "78800            2        2           3              0                0   \n",
       "72349            1        4           2              0                0   \n",
       "40172            1        2           1              2                0   \n",
       "44553            1        4           2              0                0   \n",
       "29517            3        4           2              1                0   \n",
       "44745            1        5           3              0                0   \n",
       "87700            1        5           1              1                0   \n",
       "\n",
       "       model_ 3 Series  model_ 4 Series  model_ 5 Series  model_ 6 Series  \\\n",
       "11984                0                0                0                0   \n",
       "39711                0                0                0                0   \n",
       "71819                0                0                0                0   \n",
       "39978                0                0                0                0   \n",
       "20061                0                0                0                0   \n",
       "47201                0                0                0                0   \n",
       "69135                0                0                0                0   \n",
       "44539                0                0                0                0   \n",
       "39540                0                0                0                0   \n",
       "40171                0                0                0                0   \n",
       "71617                0                0                0                0   \n",
       "40019                0                0                0                0   \n",
       "83274                0                0                0                0   \n",
       "78800                0                0                0                0   \n",
       "72349                0                0                0                0   \n",
       "40172                0                0                0                0   \n",
       "44553                0                0                0                0   \n",
       "29517                0                0                0                0   \n",
       "44745                0                0                0                0   \n",
       "87700                0                0                0                0   \n",
       "\n",
       "       model_ 7 Series  ...  model_EcoSport  transmission_Manual  \\\n",
       "11984                0  ...               0                    1   \n",
       "39711                0  ...               0                    0   \n",
       "71819                0  ...               0                    1   \n",
       "39978                0  ...               0                    1   \n",
       "20061                0  ...               0                    0   \n",
       "47201                0  ...               0                    1   \n",
       "69135                0  ...               0                    1   \n",
       "44539                0  ...               0                    1   \n",
       "39540                0  ...               0                    0   \n",
       "40171                0  ...               0                    0   \n",
       "71617                0  ...               0                    1   \n",
       "40019                0  ...               0                    0   \n",
       "83274                0  ...               0                    1   \n",
       "78800                0  ...               0                    0   \n",
       "72349                0  ...               0                    1   \n",
       "40172                0  ...               0                    0   \n",
       "44553                0  ...               0                    1   \n",
       "29517                0  ...               0                    0   \n",
       "44745                0  ...               0                    1   \n",
       "87700                0  ...               0                    1   \n",
       "\n",
       "       transmission_Other  transmission_Semi-Auto  fuelType_Electric  \\\n",
       "11984                   0                       0                  0   \n",
       "39711                   0                       0                  0   \n",
       "71819                   0                       0                  0   \n",
       "39978                   0                       0                  0   \n",
       "20061                   0                       0                  0   \n",
       "47201                   0                       0                  0   \n",
       "69135                   0                       0                  0   \n",
       "44539                   0                       0                  0   \n",
       "39540                   0                       1                  0   \n",
       "40171                   0                       0                  0   \n",
       "71617                   0                       0                  0   \n",
       "40019                   0                       0                  0   \n",
       "83274                   0                       0                  0   \n",
       "78800                   0                       1                  0   \n",
       "72349                   0                       0                  0   \n",
       "40172                   0                       0                  0   \n",
       "44553                   0                       0                  0   \n",
       "29517                   0                       1                  0   \n",
       "44745                   0                       0                  0   \n",
       "87700                   0                       0                  0   \n",
       "\n",
       "       fuelType_Hybrid  fuelType_Other  fuelType_Petrol  price_diff_pct  \\\n",
       "11984                0               0                0     -771.684800   \n",
       "39711                0               0                0     -722.626006   \n",
       "71819                0               0                0     -593.055130   \n",
       "39978                0               0                1     -515.268254   \n",
       "20061                0               0                1     -422.928905   \n",
       "47201                0               0                1     -409.967556   \n",
       "69135                0               0                0     -407.544633   \n",
       "44539                0               0                1     -391.214094   \n",
       "39540                0               0                1     -350.905927   \n",
       "40171                0               0                1     -278.709283   \n",
       "71617                0               0                1     -278.281053   \n",
       "40019                0               0                1     -269.193606   \n",
       "83274                0               0                1     -260.557542   \n",
       "78800                0               0                0     -254.067395   \n",
       "72349                0               0                1     -231.202738   \n",
       "40172                0               0                1     -228.636666   \n",
       "44553                0               0                1     -212.322108   \n",
       "29517                0               0                0     -211.776941   \n",
       "44745                0               0                0     -209.714197   \n",
       "87700                0               0                1     -204.125255   \n",
       "\n",
       "       price_diff_abs  \n",
       "11984      771.684800  \n",
       "39711      722.626006  \n",
       "71819      593.055130  \n",
       "39978      515.268254  \n",
       "20061      422.928905  \n",
       "47201      409.967556  \n",
       "69135      407.544633  \n",
       "44539      391.214094  \n",
       "39540      350.905927  \n",
       "40171      278.709283  \n",
       "71617      278.281053  \n",
       "40019      269.193606  \n",
       "83274      260.557542  \n",
       "78800      254.067395  \n",
       "72349      231.202738  \n",
       "40172      228.636666  \n",
       "44553      212.322108  \n",
       "29517      211.776941  \n",
       "44745      209.714197  \n",
       "87700      204.125255  \n",
       "\n",
       "[20 rows x 208 columns]"
      ]
     },
     "execution_count": 48,
     "metadata": {},
     "output_type": "execute_result"
    }
   ],
   "source": [
    "price_table.sort_values(\"price_diff_abs\",ascending=False).head(20)"
   ]
  },
  {
   "cell_type": "markdown",
   "metadata": {},
   "source": [
    "### Most of these models are older. The top cases have a weird combination of low car mileage but older year model "
   ]
  },
  {
   "cell_type": "markdown",
   "metadata": {},
   "source": [
    "### Let's extract model weights and perform weight matrix multiplication to estimate feature importance"
   ]
  },
  {
   "cell_type": "code",
   "execution_count": 131,
   "metadata": {},
   "outputs": [],
   "source": [
    "estimated_coefs_base = coeff_estimation(base_model,3)"
   ]
  },
  {
   "cell_type": "code",
   "execution_count": 144,
   "metadata": {},
   "outputs": [
    {
     "data": {
      "image/png": "[encoded data removed]",
      "text/plain": [
       "<Figure size 432x576 with 1 Axes>"
      ]
     },
     "metadata": {
      "needs_background": "light"
     },
     "output_type": "display_data"
    },
    {
     "data": {
      "image/png": "[encoded data removed]",
      "text/plain": [
       "<Figure size 432x576 with 1 Axes>"
      ]
     },
     "metadata": {
      "needs_background": "light"
     },
     "output_type": "display_data"
    },
    {
     "data": {
      "text/html": [
       "<div>\n",
       "<style scoped>\n",
       "    .dataframe tbody tr th:only-of-type {\n",
       "        vertical-align: middle;\n",
       "    }\n",
       "\n",
       "    .dataframe tbody tr th {\n",
       "        vertical-align: top;\n",
       "    }\n",
       "\n",
       "    .dataframe thead th {\n",
       "        text-align: right;\n",
       "    }\n",
       "</style>\n",
       "<table border=\"1\" class=\"dataframe\">\n",
       "  <thead>\n",
       "    <tr style=\"text-align: right;\">\n",
       "      <th></th>\n",
       "      <th>features</th>\n",
       "      <th>score</th>\n",
       "    </tr>\n",
       "  </thead>\n",
       "  <tbody>\n",
       "    <tr>\n",
       "      <th>67</th>\n",
       "      <td>model_ G Class</td>\n",
       "      <td>202152.031250</td>\n",
       "    </tr>\n",
       "    <tr>\n",
       "      <th>132</th>\n",
       "      <td>model_ RS6</td>\n",
       "      <td>138971.500000</td>\n",
       "    </tr>\n",
       "    <tr>\n",
       "      <th>127</th>\n",
       "      <td>model_ R8</td>\n",
       "      <td>130343.640625</td>\n",
       "    </tr>\n",
       "    <tr>\n",
       "      <th>193</th>\n",
       "      <td>model_ i8</td>\n",
       "      <td>126337.992188</td>\n",
       "    </tr>\n",
       "    <tr>\n",
       "      <th>146</th>\n",
       "      <td>model_ SQ7</td>\n",
       "      <td>100036.359375</td>\n",
       "    </tr>\n",
       "    <tr>\n",
       "      <th>...</th>\n",
       "      <td>...</td>\n",
       "      <td>...</td>\n",
       "    </tr>\n",
       "    <tr>\n",
       "      <th>116</th>\n",
       "      <td>model_ PROACE VERSO</td>\n",
       "      <td>1772.428711</td>\n",
       "    </tr>\n",
       "    <tr>\n",
       "      <th>166</th>\n",
       "      <td>model_ Transit Tourneo</td>\n",
       "      <td>1469.430664</td>\n",
       "    </tr>\n",
       "    <tr>\n",
       "      <th>197</th>\n",
       "      <td>model_230</td>\n",
       "      <td>889.876343</td>\n",
       "    </tr>\n",
       "    <tr>\n",
       "      <th>201</th>\n",
       "      <td>transmission_Semi-Auto</td>\n",
       "      <td>800.031311</td>\n",
       "    </tr>\n",
       "    <tr>\n",
       "      <th>61</th>\n",
       "      <td>model_ Escort</td>\n",
       "      <td>729.885010</td>\n",
       "    </tr>\n",
       "  </tbody>\n",
       "</table>\n",
       "<p>206 rows × 2 columns</p>\n",
       "</div>"
      ],
      "text/plain": [
       "                   features          score\n",
       "67           model_ G Class  202152.031250\n",
       "132              model_ RS6  138971.500000\n",
       "127               model_ R8  130343.640625\n",
       "193               model_ i8  126337.992188\n",
       "146              model_ SQ7  100036.359375\n",
       "..                      ...            ...\n",
       "116     model_ PROACE VERSO    1772.428711\n",
       "166  model_ Transit Tourneo    1469.430664\n",
       "197               model_230     889.876343\n",
       "201  transmission_Semi-Auto     800.031311\n",
       "61            model_ Escort     729.885010\n",
       "\n",
       "[206 rows x 2 columns]"
      ]
     },
     "execution_count": 144,
     "metadata": {},
     "output_type": "execute_result"
    }
   ],
   "source": [
    "linear_feature_importance(X_test.columns,base_model,NN_weights=estimated_coefs_base.flatten())"
   ]
  },
  {
   "cell_type": "code",
   "execution_count": 13,
   "metadata": {},
   "outputs": [],
   "source": [
    "estimated_coefs_bigger = coeff_estimation(bigger_model,5)"
   ]
  },
  {
   "cell_type": "code",
   "execution_count": 15,
   "metadata": {},
   "outputs": [
    {
     "data": {
      "image/png": "[encoded data removed]",
      "text/plain": [
       "<Figure size 432x576 with 1 Axes>"
      ]
     },
     "metadata": {
      "needs_background": "light"
     },
     "output_type": "display_data"
    },
    {
     "data": {
      "image/png": "[encoded data removed]",
      "text/plain": [
       "<Figure size 432x576 with 1 Axes>"
      ]
     },
     "metadata": {
      "needs_background": "light"
     },
     "output_type": "display_data"
    },
    {
     "data": {
      "text/html": [
       "<div>\n",
       "<style scoped>\n",
       "    .dataframe tbody tr th:only-of-type {\n",
       "        vertical-align: middle;\n",
       "    }\n",
       "\n",
       "    .dataframe tbody tr th {\n",
       "        vertical-align: top;\n",
       "    }\n",
       "\n",
       "    .dataframe thead th {\n",
       "        text-align: right;\n",
       "    }\n",
       "</style>\n",
       "<table border=\"1\" class=\"dataframe\">\n",
       "  <thead>\n",
       "    <tr style=\"text-align: right;\">\n",
       "      <th></th>\n",
       "      <th>features</th>\n",
       "      <th>score</th>\n",
       "    </tr>\n",
       "  </thead>\n",
       "  <tbody>\n",
       "    <tr>\n",
       "      <th>67</th>\n",
       "      <td>model_ G Class</td>\n",
       "      <td>520545.250000</td>\n",
       "    </tr>\n",
       "    <tr>\n",
       "      <th>193</th>\n",
       "      <td>model_ i8</td>\n",
       "      <td>501177.812500</td>\n",
       "    </tr>\n",
       "    <tr>\n",
       "      <th>127</th>\n",
       "      <td>model_ R8</td>\n",
       "      <td>401965.687500</td>\n",
       "    </tr>\n",
       "    <tr>\n",
       "      <th>48</th>\n",
       "      <td>model_ California</td>\n",
       "      <td>395940.937500</td>\n",
       "    </tr>\n",
       "    <tr>\n",
       "      <th>132</th>\n",
       "      <td>model_ RS6</td>\n",
       "      <td>380847.687500</td>\n",
       "    </tr>\n",
       "    <tr>\n",
       "      <th>...</th>\n",
       "      <td>...</td>\n",
       "      <td>...</td>\n",
       "    </tr>\n",
       "    <tr>\n",
       "      <th>155</th>\n",
       "      <td>model_ T-Cross</td>\n",
       "      <td>2208.675293</td>\n",
       "    </tr>\n",
       "    <tr>\n",
       "      <th>167</th>\n",
       "      <td>model_ Tucson</td>\n",
       "      <td>2175.201172</td>\n",
       "    </tr>\n",
       "    <tr>\n",
       "      <th>92</th>\n",
       "      <td>model_ Insignia</td>\n",
       "      <td>1956.674072</td>\n",
       "    </tr>\n",
       "    <tr>\n",
       "      <th>53</th>\n",
       "      <td>model_ Combo Life</td>\n",
       "      <td>1822.669800</td>\n",
       "    </tr>\n",
       "    <tr>\n",
       "      <th>86</th>\n",
       "      <td>model_ I30</td>\n",
       "      <td>884.995972</td>\n",
       "    </tr>\n",
       "  </tbody>\n",
       "</table>\n",
       "<p>206 rows × 2 columns</p>\n",
       "</div>"
      ],
      "text/plain": [
       "              features          score\n",
       "67      model_ G Class  520545.250000\n",
       "193          model_ i8  501177.812500\n",
       "127          model_ R8  401965.687500\n",
       "48   model_ California  395940.937500\n",
       "132         model_ RS6  380847.687500\n",
       "..                 ...            ...\n",
       "155     model_ T-Cross    2208.675293\n",
       "167      model_ Tucson    2175.201172\n",
       "92     model_ Insignia    1956.674072\n",
       "53   model_ Combo Life    1822.669800\n",
       "86          model_ I30     884.995972\n",
       "\n",
       "[206 rows x 2 columns]"
      ]
     },
     "execution_count": 15,
     "metadata": {},
     "output_type": "execute_result"
    }
   ],
   "source": [
    "linear_feature_importance(X_test.columns,bigger_model,NN_weights=estimated_coefs_bigger.flatten())"
   ]
  },
  {
   "cell_type": "code",
   "execution_count": 16,
   "metadata": {},
   "outputs": [],
   "source": [
    "estimated_coefs_bigger_2 = coeff_estimation(bigger_model_2,5)"
   ]
  },
  {
   "cell_type": "code",
   "execution_count": 17,
   "metadata": {
    "scrolled": true
   },
   "outputs": [
    {
     "data": {
      "image/png": "[encoded data removed]",
      "text/plain": [
       "<Figure size 432x576 with 1 Axes>"
      ]
     },
     "metadata": {
      "needs_background": "light"
     },
     "output_type": "display_data"
    },
    {
     "data": {
      "image/png": "[encoded data removed]",
      "text/plain": [
       "<Figure size 432x576 with 1 Axes>"
      ]
     },
     "metadata": {
      "needs_background": "light"
     },
     "output_type": "display_data"
    },
    {
     "data": {
      "text/html": [
       "<div>\n",
       "<style scoped>\n",
       "    .dataframe tbody tr th:only-of-type {\n",
       "        vertical-align: middle;\n",
       "    }\n",
       "\n",
       "    .dataframe tbody tr th {\n",
       "        vertical-align: top;\n",
       "    }\n",
       "\n",
       "    .dataframe thead th {\n",
       "        text-align: right;\n",
       "    }\n",
       "</style>\n",
       "<table border=\"1\" class=\"dataframe\">\n",
       "  <thead>\n",
       "    <tr style=\"text-align: right;\">\n",
       "      <th></th>\n",
       "      <th>features</th>\n",
       "      <th>score</th>\n",
       "    </tr>\n",
       "  </thead>\n",
       "  <tbody>\n",
       "    <tr>\n",
       "      <th>67</th>\n",
       "      <td>model_ G Class</td>\n",
       "      <td>498513.562500</td>\n",
       "    </tr>\n",
       "    <tr>\n",
       "      <th>132</th>\n",
       "      <td>model_ RS6</td>\n",
       "      <td>355744.062500</td>\n",
       "    </tr>\n",
       "    <tr>\n",
       "      <th>127</th>\n",
       "      <td>model_ R8</td>\n",
       "      <td>353228.062500</td>\n",
       "    </tr>\n",
       "    <tr>\n",
       "      <th>193</th>\n",
       "      <td>model_ i8</td>\n",
       "      <td>306533.687500</td>\n",
       "    </tr>\n",
       "    <tr>\n",
       "      <th>48</th>\n",
       "      <td>model_ California</td>\n",
       "      <td>246594.937500</td>\n",
       "    </tr>\n",
       "    <tr>\n",
       "      <th>...</th>\n",
       "      <td>...</td>\n",
       "      <td>...</td>\n",
       "    </tr>\n",
       "    <tr>\n",
       "      <th>166</th>\n",
       "      <td>model_ Transit Tourneo</td>\n",
       "      <td>2910.931885</td>\n",
       "    </tr>\n",
       "    <tr>\n",
       "      <th>187</th>\n",
       "      <td>model_ Yeti Outdoor</td>\n",
       "      <td>2391.718506</td>\n",
       "    </tr>\n",
       "    <tr>\n",
       "      <th>178</th>\n",
       "      <td>model_ X1</td>\n",
       "      <td>1625.631104</td>\n",
       "    </tr>\n",
       "    <tr>\n",
       "      <th>44</th>\n",
       "      <td>model_ Caddy</td>\n",
       "      <td>1404.513184</td>\n",
       "    </tr>\n",
       "    <tr>\n",
       "      <th>46</th>\n",
       "      <td>model_ Caddy Maxi</td>\n",
       "      <td>437.784363</td>\n",
       "    </tr>\n",
       "  </tbody>\n",
       "</table>\n",
       "<p>206 rows × 2 columns</p>\n",
       "</div>"
      ],
      "text/plain": [
       "                   features          score\n",
       "67           model_ G Class  498513.562500\n",
       "132              model_ RS6  355744.062500\n",
       "127               model_ R8  353228.062500\n",
       "193               model_ i8  306533.687500\n",
       "48        model_ California  246594.937500\n",
       "..                      ...            ...\n",
       "166  model_ Transit Tourneo    2910.931885\n",
       "187     model_ Yeti Outdoor    2391.718506\n",
       "178               model_ X1    1625.631104\n",
       "44             model_ Caddy    1404.513184\n",
       "46        model_ Caddy Maxi     437.784363\n",
       "\n",
       "[206 rows x 2 columns]"
      ]
     },
     "execution_count": 17,
     "metadata": {},
     "output_type": "execute_result"
    }
   ],
   "source": [
    "linear_feature_importance(X_test.columns,bigger_model,NN_weights=estimated_coefs_bigger_2.flatten())"
   ]
  },
  {
   "cell_type": "markdown",
   "metadata": {},
   "source": [
    "### The bigger models have all model type as top features. \n",
    "\n",
    "### You see some overlapping features between NN models and other methods.\n",
    "\n",
    "____"
   ]
  }
 ],
 "metadata": {
  "kernelspec": {
   "display_name": "Python 3",
   "language": "python",
   "name": "python3"
  },
  "language_info": {
   "codemirror_mode": {
    "name": "ipython",
    "version": 3
   },
   "file_extension": ".py",
   "mimetype": "text/x-python",
   "name": "python",
   "nbconvert_exporter": "python",
   "pygments_lexer": "ipython3",
   "version": "3.6.9"
  }
 },
 "nbformat": 4,
 "nbformat_minor": 4
}

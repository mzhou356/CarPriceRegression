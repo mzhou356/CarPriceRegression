{
 "cells": [
  {
   "cell_type": "markdown",
   "metadata": {},
   "source": [
    "### Import libraries and features "
   ]
  },
  {
   "cell_type": "code",
   "execution_count": 20,
   "metadata": {},
   "outputs": [],
   "source": [
    "import gc\n",
    "import sys\n",
    "import os \n",
    "import pandas as pd \n",
    "import numpy as np\n",
    "from sklearn.linear_model import ElasticNet\n",
    "from sklearn.model_selection import train_test_split, GridSearchCV\n",
    "from sklearn.metrics import mean_squared_error, r2_score\n",
    "import warnings\n",
    "warnings.filterwarnings(\"ignore\")"
   ]
  },
  {
   "cell_type": "markdown",
   "metadata": {},
   "source": [
    "home = os.path.expanduser(\"~\")\n",
    "sys.path.append(f\"{home}/Documents/projects/CarPriceRegression/Machine_Learning/scripts/\")"
   ]
  },
  {
   "cell_type": "code",
   "execution_count": 3,
   "metadata": {},
   "outputs": [],
   "source": [
    "from util import *\n",
    "%load_ext autoreload\n",
    "%autoreload 2"
   ]
  },
  {
   "cell_type": "markdown",
   "metadata": {},
   "source": [
    "### Import data and split into train and test "
   ]
  },
  {
   "cell_type": "code",
   "execution_count": 9,
   "metadata": {},
   "outputs": [],
   "source": [
    "data = pd.read_csv(f\"{home}/Documents/projects/CarPriceRegression/Processed_Data/car_onehot_data.csv\")\n",
    "features, y = data.drop(\"price\",axis=1), data.price\n",
    "X_train, X_test, y_train, y_test = train_test_split(features,y,test_size=0.2,random_state=2020)"
   ]
  },
  {
   "cell_type": "code",
   "execution_count": 10,
   "metadata": {},
   "outputs": [
    {
     "data": {
      "text/plain": [
       "((79348, 206), (79348,), (19838, 206), (19838,))"
      ]
     },
     "execution_count": 10,
     "metadata": {},
     "output_type": "execute_result"
    }
   ],
   "source": [
    "X_train.shape,y_train.shape, X_test.shape,y_test.shape"
   ]
  },
  {
   "cell_type": "markdown",
   "metadata": {},
   "source": [
    "### garbage collect"
   ]
  },
  {
   "cell_type": "code",
   "execution_count": 11,
   "metadata": {},
   "outputs": [
    {
     "name": "stdout",
     "output_type": "stream",
     "text": [
      "Flushing output cache (1 entries)\n"
     ]
    }
   ],
   "source": [
    "gc.collect()\n",
    "%reset -f out"
   ]
  },
  {
   "cell_type": "markdown",
   "metadata": {},
   "source": [
    "### Generate a base model first "
   ]
  },
  {
   "cell_type": "code",
   "execution_count": 30,
   "metadata": {},
   "outputs": [],
   "source": [
    "base_model = ElasticNet(random_state=2020)"
   ]
  },
  {
   "cell_type": "code",
   "execution_count": 13,
   "metadata": {},
   "outputs": [
    {
     "data": {
      "text/plain": [
       "ElasticNet(random_state=2020)"
      ]
     },
     "execution_count": 13,
     "metadata": {},
     "output_type": "execute_result"
    }
   ],
   "source": [
    "base_model.fit(X_train,y_train)"
   ]
  },
  {
   "cell_type": "code",
   "execution_count": 16,
   "metadata": {},
   "outputs": [],
   "source": [
    "train_pred = base_model.predict(X_train)\n",
    "test_pred = base_model.predict(X_test)"
   ]
  },
  {
   "cell_type": "code",
   "execution_count": 18,
   "metadata": {},
   "outputs": [
    {
     "data": {
      "text/plain": [
       "(43477278.05742842, 0.5521688857933424)"
      ]
     },
     "execution_count": 18,
     "metadata": {},
     "output_type": "execute_result"
    }
   ],
   "source": [
    "mean_squared_error(y_train,train_pred), r2_score(y_train,train_pred)"
   ]
  },
  {
   "cell_type": "code",
   "execution_count": 19,
   "metadata": {},
   "outputs": [
    {
     "data": {
      "text/plain": [
       "(44652950.42503811, 0.5463218542056005)"
      ]
     },
     "execution_count": 19,
     "metadata": {},
     "output_type": "execute_result"
    }
   ],
   "source": [
    "mean_squared_error(y_test,test_pred), r2_score(y_test,test_pred)"
   ]
  },
  {
   "cell_type": "markdown",
   "metadata": {},
   "source": [
    "### Key parameters"
   ]
  },
  {
   "cell_type": "markdown",
   "metadata": {},
   "source": [
    "* alpha\n",
    "* l1__ratio\n",
    "* max_iter\n",
    "* tol"
   ]
  },
  {
   "cell_type": "code",
   "execution_count": 69,
   "metadata": {},
   "outputs": [],
   "source": [
    "params = {\n",
    "    \"alpha\":[0.005,0.05,0.5,1],\n",
    "    \"l1_ratio\":[1,0.5,0],\n",
    "    \"max_iter\":[1000,2000],\n",
    "    \"tol\":[1e-4,5e-5]\n",
    "}"
   ]
  },
  {
   "cell_type": "code",
   "execution_count": 70,
   "metadata": {},
   "outputs": [],
   "source": [
    "searchGrid = GridSearchCV(base_model,params,scoring=\"r2\",n_jobs=20,verbose=True)"
   ]
  },
  {
   "cell_type": "code",
   "execution_count": 71,
   "metadata": {},
   "outputs": [
    {
     "name": "stdout",
     "output_type": "stream",
     "text": [
      "Fitting 5 folds for each of 48 candidates, totalling 240 fits\n"
     ]
    },
    {
     "name": "stderr",
     "output_type": "stream",
     "text": [
      "[Parallel(n_jobs=20)]: Using backend LokyBackend with 20 concurrent workers.\n",
      "[Parallel(n_jobs=20)]: Done  10 tasks      | elapsed:   22.0s\n",
      "[Parallel(n_jobs=20)]: Done 160 tasks      | elapsed:  8.6min\n",
      "[Parallel(n_jobs=20)]: Done 240 out of 240 | elapsed: 15.1min finished\n"
     ]
    },
    {
     "data": {
      "text/plain": [
       "GridSearchCV(estimator=ElasticNet(random_state=2020), n_jobs=20,\n",
       "             param_grid={'alpha': [0.005, 0.05, 0.5, 1],\n",
       "                         'l1_ratio': [1, 0.5, 0], 'max_iter': [1000, 2000],\n",
       "                         'tol': [0.0001, 5e-05]},\n",
       "             scoring='r2', verbose=True)"
      ]
     },
     "execution_count": 71,
     "metadata": {},
     "output_type": "execute_result"
    }
   ],
   "source": [
    "searchGrid.fit(X_train,y_train)"
   ]
  },
  {
   "cell_type": "code",
   "execution_count": 72,
   "metadata": {},
   "outputs": [
    {
     "data": {
      "text/plain": [
       "0.8380027741135663"
      ]
     },
     "execution_count": 72,
     "metadata": {},
     "output_type": "execute_result"
    }
   ],
   "source": [
    "searchGrid.best_score_"
   ]
  },
  {
   "cell_type": "code",
   "execution_count": 73,
   "metadata": {},
   "outputs": [
    {
     "data": {
      "text/plain": [
       "{'alpha': 0.005, 'l1_ratio': 1, 'max_iter': 1000, 'tol': 5e-05}"
      ]
     },
     "execution_count": 73,
     "metadata": {},
     "output_type": "execute_result"
    }
   ],
   "source": [
    "searchGrid.best_params_"
   ]
  },
  {
   "cell_type": "code",
   "execution_count": 74,
   "metadata": {},
   "outputs": [],
   "source": [
    "final_model = searchGrid.best_estimator_"
   ]
  },
  {
   "cell_type": "code",
   "execution_count": 75,
   "metadata": {},
   "outputs": [],
   "source": [
    "train_pred_tuned = final_model.predict(X_train)\n",
    "test_pred_tuned = final_model.predict(X_test)"
   ]
  },
  {
   "cell_type": "code",
   "execution_count": 76,
   "metadata": {},
   "outputs": [
    {
     "data": {
      "text/plain": [
       "(15474563.998141116, 0.8406065985088567)"
      ]
     },
     "execution_count": 76,
     "metadata": {},
     "output_type": "execute_result"
    }
   ],
   "source": [
    "mean_squared_error(y_train,train_pred_tuned), r2_score(y_train,train_pred_tuned)"
   ]
  },
  {
   "cell_type": "code",
   "execution_count": 77,
   "metadata": {},
   "outputs": [
    {
     "data": {
      "text/plain": [
       "(16397191.53880948, 0.8334030028754511)"
      ]
     },
     "execution_count": 77,
     "metadata": {},
     "output_type": "execute_result"
    }
   ],
   "source": [
    "mean_squared_error(y_test,test_pred_tuned), r2_score(y_test,test_pred_tuned)"
   ]
  },
  {
   "cell_type": "markdown",
   "metadata": {},
   "source": [
    "### Coefficients and look for feature ranking"
   ]
  },
  {
   "cell_type": "code",
   "execution_count": 78,
   "metadata": {},
   "outputs": [
    {
     "data": {
      "text/plain": [
       "array([ 3.31818624e+03, -2.06867801e+03, -1.46818249e+03,  2.78779592e+03,\n",
       "        2.31312289e+02,  3.06234228e+03,  3.68548099e+03,  4.94388892e+03,\n",
       "        4.56292285e+03,  1.45789082e+04,  3.51691421e+04,  2.27760533e+03,\n",
       "       -5.70613054e+02, -3.69415513e+01,  1.81611935e+03,  3.58338465e+03,\n",
       "        4.98239031e+03,  5.76504045e+03,  8.19172614e+03,  1.24986482e+04,\n",
       "       -4.99978542e+03, -6.79714785e+03, -5.29101792e+03,  5.26478403e+03,\n",
       "       -6.39478919e+03, -1.14624857e+03, -6.84012842e+03,  3.65789237e+03,\n",
       "       -4.31117898e+03, -2.64702137e+03, -1.63295643e+03, -6.58484354e+03,\n",
       "       -1.27297936e+02, -4.92288257e+03, -1.60295320e+03,  4.26146773e+03,\n",
       "        1.23023450e+03, -3.48769993e+03, -9.00605048e+02,  3.12372145e+03,\n",
       "        3.91703186e+03, -3.88384214e+03, -7.15328540e+03,  6.93244305e+03,\n",
       "       -2.15702291e+01, -1.65685026e+03, -1.10967254e+03, -1.84212084e+03,\n",
       "        3.31711160e+04, -1.47586051e+03,  1.69288904e+04, -2.32105287e+03,\n",
       "       -5.86293767e+03, -4.85477446e+03, -2.22759780e+03, -7.13266402e+03,\n",
       "       -6.55247042e+03,  6.75992871e+03, -3.71463530e+03,  3.89335336e+03,\n",
       "       -1.00196542e+03, -2.02677083e+03, -6.01193536e+03, -3.66467379e+03,\n",
       "       -1.71771312e+03, -3.48196704e+03, -3.80354903e+03,  7.24676685e+04,\n",
       "        4.66736866e+03,  1.13403503e+03,  1.18962091e+04,  1.03994763e+04,\n",
       "        1.62378358e+04,  2.25385177e+04,  5.50659201e+02, -4.36599406e+03,\n",
       "        2.87368156e+03, -4.17883045e+03,  1.40101769e+01, -2.39610843e+03,\n",
       "       -2.89352763e+03, -8.09758736e+02, -1.94591689e+03,  1.40216503e+02,\n",
       "       -7.56302867e+03, -6.15856808e+03, -3.36261906e+03, -2.08451899e+03,\n",
       "       -4.89613200e+03, -3.22305060e+03, -5.68362393e+03, -1.78716203e+03,\n",
       "       -2.00275665e+03, -3.34951988e+03, -1.87200692e+03, -5.62299810e+03,\n",
       "       -8.44251342e+03, -3.89838228e+03, -4.16576895e+03,  1.16112474e+03,\n",
       "        4.24589840e+03, -3.96089702e+03, -4.95561231e+02,  1.42766554e+04,\n",
       "        1.81359453e+03,  1.51825792e+04,  1.38840617e+04,  1.70064865e+04,\n",
       "        3.01722570e+04,  9.41556673e+03, -6.91345489e+03, -3.53421620e+03,\n",
       "       -5.73875854e+03, -8.74410190e+02,  7.74512447e+03, -2.43066955e+03,\n",
       "        2.82678988e+03,  5.10403700e+02, -4.27409650e+03,  1.60103568e+03,\n",
       "       -3.15517027e+02,  2.23604242e+03,  4.61673713e+03,  9.60547051e+03,\n",
       "        2.09319076e+04,  3.24228407e+04, -4.40460504e+03,  7.12622140e+04,\n",
       "       -2.11984743e+01,  1.21930729e+04,  2.49250790e+04,  2.50059175e+04,\n",
       "        3.43214643e+04,  1.69775638e+04,  6.64046216e+02, -4.24405455e+03,\n",
       "       -4.88192390e+03,  2.31135609e+04,  2.29195496e+03,  5.96521566e+03,\n",
       "        7.40365904e+03, -3.87987253e+02,  1.80786626e+04,  9.34201812e+03,\n",
       "       -9.07115991e+02,  1.03886752e+04,  2.79615891e+04,  1.27537262e+03,\n",
       "       -6.17014221e+03,  1.79136828e+02,  1.84137082e+03,  3.92202421e+03,\n",
       "       -4.55015074e+03,  4.70959452e+02,  2.13713519e+04, -2.64587794e+03,\n",
       "        1.91828047e+03,  5.25106750e+03, -5.79081869e+03, -4.51143783e+03,\n",
       "        2.97137521e+03,  4.64524764e+03,  9.14612320e+03,  1.33766723e+03,\n",
       "       -2.26593595e+03,  2.42038136e+03, -3.25664756e+03, -1.88729307e+03,\n",
       "       -6.68933869e+03, -4.05346850e+03,  9.38052413e+03, -5.10850256e+03,\n",
       "       -2.73823009e+03, -2.67996239e+03, -2.12981897e+03, -8.66827135e+03,\n",
       "        1.27660303e+03,  3.47546861e+03,  2.78641647e+03,  4.58349330e+03,\n",
       "        8.51090125e+03,  1.06595758e+04,  1.69886570e+04,  1.90788564e+04,\n",
       "        4.17166198e+04, -5.58527651e+03, -2.79822900e+03, -2.04629926e+03,\n",
       "       -1.46488626e+03,  4.39710977e+03, -4.39740724e+03, -4.47821774e+03,\n",
       "        2.08431307e+03,  3.72425604e+04,  2.09171103e+03,  2.61305086e+03,\n",
       "        1.09597089e+03, -3.04429663e+03,  0.00000000e+00, -1.26801540e+03,\n",
       "       -2.63063515e+02,  1.06709186e+03,  1.61131200e+03,  3.74789634e+03,\n",
       "        8.92759907e+02, -6.55210856e+02])"
      ]
     },
     "execution_count": 78,
     "metadata": {},
     "output_type": "execute_result"
    }
   ],
   "source": [
    "final_model.coef_"
   ]
  },
  {
   "cell_type": "code",
   "execution_count": 79,
   "metadata": {},
   "outputs": [
    {
     "data": {
      "text/plain": [
       "15020.955811657714"
      ]
     },
     "execution_count": 79,
     "metadata": {},
     "output_type": "execute_result"
    }
   ],
   "source": [
    "final_model.intercept_"
   ]
  }
 ],
 "metadata": {
  "kernelspec": {
   "display_name": "Python 3",
   "language": "python",
   "name": "python3"
  },
  "language_info": {
   "codemirror_mode": {
    "name": "ipython",
    "version": 3
   },
   "file_extension": ".py",
   "mimetype": "text/x-python",
   "name": "python",
   "nbconvert_exporter": "python",
   "pygments_lexer": "ipython3",
   "version": "3.6.9"
  }
 },
 "nbformat": 4,
 "nbformat_minor": 4
}

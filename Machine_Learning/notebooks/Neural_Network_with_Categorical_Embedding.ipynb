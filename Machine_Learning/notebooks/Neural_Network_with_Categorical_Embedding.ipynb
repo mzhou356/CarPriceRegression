{
 "cells": [
  {
   "cell_type": "markdown",
   "metadata": {},
   "source": [
    "### Import libraries"
   ]
  },
  {
   "cell_type": "code",
   "execution_count": 1,
   "metadata": {},
   "outputs": [],
   "source": [
    "import sys\n",
    "import os\n",
    "import gc\n",
    "import numpy as np\n",
    "import pandas as pd \n",
    "import warnings\n",
    "from sklearn.model_selection import train_test_split\n",
    "warnings.filterwarnings(\"ignore\")"
   ]
  },
  {
   "cell_type": "code",
   "execution_count": 2,
   "metadata": {},
   "outputs": [],
   "source": [
    "home = os.path.expanduser(\"~\")\n",
    "sys.path.append(f\"{home}/Documents/projects/CarPriceRegression/Machine_Learning/scripts/\")"
   ]
  },
  {
   "cell_type": "code",
   "execution_count": 36,
   "metadata": {},
   "outputs": [
    {
     "name": "stdout",
     "output_type": "stream",
     "text": [
      "The autoreload extension is already loaded. To reload it, use:\n",
      "  %reload_ext autoreload\n"
     ]
    }
   ],
   "source": [
    "from util import *\n",
    "%load_ext autoreload\n",
    "%autoreload 2"
   ]
  },
  {
   "cell_type": "code",
   "execution_count": 4,
   "metadata": {},
   "outputs": [],
   "source": [
    "set_gpu_limit(6)"
   ]
  },
  {
   "cell_type": "markdown",
   "metadata": {},
   "source": [
    "### Split none onehot encoded data into train and test for categorical embedding"
   ]
  },
  {
   "cell_type": "code",
   "execution_count": 5,
   "metadata": {},
   "outputs": [],
   "source": [
    "data = pd.read_csv(f\"{home}/Documents/projects/CarPriceRegression/Processed_Data/car_data_merged.csv\")\n",
    "features, y = data.drop(\"price\",axis=1), data.price\n",
    "X_train, X_test, y_train, y_test = train_test_split(features,y,test_size=0.1,random_state=2020)\n",
    "X_train,X_dev,y_train,y_dev = train_test_split(X_train,y_train,test_size=0.11,random_state=2020)"
   ]
  },
  {
   "cell_type": "code",
   "execution_count": 9,
   "metadata": {},
   "outputs": [
    {
     "name": "stdout",
     "output_type": "stream",
     "text": [
      "<class 'pandas.core.frame.DataFrame'>\n",
      "RangeIndex: 99186 entries, 0 to 99185\n",
      "Data columns (total 8 columns):\n",
      " #   Column         Non-Null Count  Dtype \n",
      "---  ------         --------------  ----- \n",
      " 0   model          99186 non-null  object\n",
      " 1   price          99186 non-null  int64 \n",
      " 2   transmission   99186 non-null  object\n",
      " 3   fuelType       99186 non-null  object\n",
      " 4   binned_year    99186 non-null  int64 \n",
      " 5   mil_cat        99186 non-null  int64 \n",
      " 6   binned_mpg     99186 non-null  int64 \n",
      " 7   engine_binned  99186 non-null  int64 \n",
      "dtypes: int64(5), object(3)\n",
      "memory usage: 6.1+ MB\n"
     ]
    }
   ],
   "source": [
    "data.info()"
   ]
  },
  {
   "cell_type": "markdown",
   "metadata": {},
   "source": [
    "### We will embed columns model, transmission, and fuelType\n",
    "\n",
    "--- \n",
    "\n",
    "### Garbage collect"
   ]
  },
  {
   "cell_type": "code",
   "execution_count": 8,
   "metadata": {},
   "outputs": [
    {
     "name": "stdout",
     "output_type": "stream",
     "text": [
      "Flushing output cache (2 entries)\n"
     ]
    }
   ],
   "source": [
    "gc.collect()\n",
    "%reset -f out"
   ]
  },
  {
   "cell_type": "markdown",
   "metadata": {},
   "source": [
    "### map categorical features into numeric value based upon train data only\n",
    "* each input list has following 4 numpy arrays:\n",
    "  * categorical info for model\n",
    "  * categorical info for transmission\n",
    "  * categorical info for fuelType"
   ]
  },
  {
   "cell_type": "code",
   "execution_count": 10,
   "metadata": {},
   "outputs": [],
   "source": [
    "EMBED_COLS = [\"model\",\"transmission\",\"fuelType\"]"
   ]
  },
  {
   "cell_type": "code",
   "execution_count": 15,
   "metadata": {},
   "outputs": [],
   "source": [
    "train_input,dev_input,test_input = cate_embed_process(X_train,X_dev,X_test,EMBED_COLS)"
   ]
  },
  {
   "cell_type": "code",
   "execution_count": 32,
   "metadata": {},
   "outputs": [
    {
     "data": {
      "text/plain": [
       "5"
      ]
     },
     "execution_count": 32,
     "metadata": {},
     "output_type": "execute_result"
    }
   ],
   "source": [
    "features.fuelType.nunique()"
   ]
  },
  {
   "cell_type": "code",
   "execution_count": 40,
   "metadata": {},
   "outputs": [],
   "source": [
    "BATCH_SIZE = 256 \n",
    "input_size = features.shape[1]\n",
    "MAX_EPOCH = 1000\n",
    "lr = 1e-3\n",
    "SIZES1 = [128]\n",
    "size2 = [1024,512,256]\n",
    "dropouts = [0.3,0.25]\n",
    "METRICS = [\"MAPE\",\"MAE\"]"
   ]
  },
  {
   "cell_type": "code",
   "execution_count": 46,
   "metadata": {},
   "outputs": [
    {
     "name": "stdout",
     "output_type": "stream",
     "text": [
      "(None, 1, 50)\n",
      "(None, 50)\n",
      "(None, 1, 4)\n",
      "(None, 4)\n",
      "(None, 1, 5)\n",
      "(None, 5)\n"
     ]
    }
   ],
   "source": [
    "model = embed_model_setup(EMBED_COLS,X_train,SIZES1,size2,dropouts,METRICS)"
   ]
  },
  {
   "cell_type": "code",
   "execution_count": 47,
   "metadata": {
    "scrolled": true
   },
   "outputs": [
    {
     "name": "stdout",
     "output_type": "stream",
     "text": [
      "Model: \"model_1\"\n",
      "__________________________________________________________________________________________________\n",
      "Layer (type)                    Output Shape         Param #     Connected to                     \n",
      "==================================================================================================\n",
      "input_17 (InputLayer)           [(None, 1)]          0                                            \n",
      "__________________________________________________________________________________________________\n",
      "input_18 (InputLayer)           [(None, 1)]          0                                            \n",
      "__________________________________________________________________________________________________\n",
      "input_19 (InputLayer)           [(None, 1)]          0                                            \n",
      "__________________________________________________________________________________________________\n",
      "model_embedding (Embedding)     (None, 1, 50)        9750        input_17[0][0]                   \n",
      "__________________________________________________________________________________________________\n",
      "transmission_embedding (Embeddi (None, 1, 4)         16          input_18[0][0]                   \n",
      "__________________________________________________________________________________________________\n",
      "fuelType_embedding (Embedding)  (None, 1, 5)         25          input_19[0][0]                   \n",
      "__________________________________________________________________________________________________\n",
      "input_20 (InputLayer)           [(None, 4)]          0                                            \n",
      "__________________________________________________________________________________________________\n",
      "reshape_12 (Reshape)            (None, 50)           0           model_embedding[0][0]            \n",
      "__________________________________________________________________________________________________\n",
      "reshape_13 (Reshape)            (None, 4)            0           transmission_embedding[0][0]     \n",
      "__________________________________________________________________________________________________\n",
      "reshape_14 (Reshape)            (None, 5)            0           fuelType_embedding[0][0]         \n",
      "__________________________________________________________________________________________________\n",
      "dense_15 (Dense)                (None, 128)          640         input_20[0][0]                   \n",
      "__________________________________________________________________________________________________\n",
      "concatenate_3 (Concatenate)     (None, 187)          0           reshape_12[0][0]                 \n",
      "                                                                 reshape_13[0][0]                 \n",
      "                                                                 reshape_14[0][0]                 \n",
      "                                                                 dense_15[0][0]                   \n",
      "__________________________________________________________________________________________________\n",
      "dense_16 (Dense)                (None, 1024)         192512      concatenate_3[0][0]              \n",
      "__________________________________________________________________________________________________\n",
      "dropout_6 (Dropout)             (None, 1024)         0           dense_16[0][0]                   \n",
      "__________________________________________________________________________________________________\n",
      "dense_17 (Dense)                (None, 512)          524800      dropout_6[0][0]                  \n",
      "__________________________________________________________________________________________________\n",
      "dropout_7 (Dropout)             (None, 512)          0           dense_17[0][0]                   \n",
      "__________________________________________________________________________________________________\n",
      "dense_18 (Dense)                (None, 256)          131328      dropout_7[0][0]                  \n",
      "__________________________________________________________________________________________________\n",
      "dense_19 (Dense)                (None, 1)            257         dense_18[0][0]                   \n",
      "==================================================================================================\n",
      "Total params: 859,328\n",
      "Trainable params: 859,328\n",
      "Non-trainable params: 0\n",
      "__________________________________________________________________________________________________\n"
     ]
    }
   ],
   "source": [
    "model.summary()"
   ]
  },
  {
   "cell_type": "code",
   "execution_count": 52,
   "metadata": {},
   "outputs": [],
   "source": [
    "earlystop = tfk.callbacks.EarlyStopping(monitor=\"val_loss\",mode=\"min\",\n",
    "                                        patience=10,verbose=1,restore_best_weights=True)"
   ]
  },
  {
   "cell_type": "code",
   "execution_count": 53,
   "metadata": {
    "scrolled": true
   },
   "outputs": [
    {
     "name": "stdout",
     "output_type": "stream",
     "text": [
      "Epoch 1/1000\n",
      "311/311 [==============================] - 1s 3ms/step - loss: 5667724.0000 - MAPE: 10.2869 - MAE: 1599.8926 - val_loss: 7962431.5000 - val_MAPE: 9.6286 - val_MAE: 1579.5573\n",
      "Epoch 2/1000\n",
      "311/311 [==============================] - 1s 3ms/step - loss: 5644140.0000 - MAPE: 10.2800 - MAE: 1597.1576 - val_loss: 7643864.5000 - val_MAPE: 9.7801 - val_MAE: 1551.7267\n",
      "Epoch 3/1000\n",
      "311/311 [==============================] - 1s 3ms/step - loss: 5613356.5000 - MAPE: 10.2682 - MAE: 1594.8116 - val_loss: 7702998.5000 - val_MAPE: 9.8429 - val_MAE: 1567.2228\n",
      "Epoch 4/1000\n",
      "311/311 [==============================] - 1s 3ms/step - loss: 5700162.5000 - MAPE: 10.2921 - MAE: 1601.5288 - val_loss: 7731790.0000 - val_MAPE: 9.8700 - val_MAE: 1570.1672\n",
      "Epoch 5/1000\n",
      "311/311 [==============================] - 1s 3ms/step - loss: 5634624.5000 - MAPE: 10.2625 - MAE: 1594.0529 - val_loss: 7699575.0000 - val_MAPE: 9.6202 - val_MAE: 1555.3209\n",
      "Epoch 6/1000\n",
      "311/311 [==============================] - 1s 3ms/step - loss: 5652814.5000 - MAPE: 10.3010 - MAE: 1597.8406 - val_loss: 7710317.0000 - val_MAPE: 9.5908 - val_MAE: 1552.1299\n",
      "Epoch 7/1000\n",
      "311/311 [==============================] - 1s 3ms/step - loss: 5633660.5000 - MAPE: 10.2298 - MAE: 1593.6725 - val_loss: 7856461.5000 - val_MAPE: 9.7292 - val_MAE: 1576.8213\n",
      "Epoch 8/1000\n",
      "311/311 [==============================] - 1s 3ms/step - loss: 5676080.0000 - MAPE: 10.2712 - MAE: 1600.3999 - val_loss: 7727415.0000 - val_MAPE: 10.2866 - val_MAE: 1582.3093\n",
      "Epoch 9/1000\n",
      "311/311 [==============================] - 1s 3ms/step - loss: 5665285.5000 - MAPE: 10.2998 - MAE: 1601.3304 - val_loss: 7721286.0000 - val_MAPE: 9.9216 - val_MAE: 1572.1157\n",
      "Epoch 10/1000\n",
      "311/311 [==============================] - 1s 3ms/step - loss: 5636964.5000 - MAPE: 10.2183 - MAE: 1591.4304 - val_loss: 7771386.5000 - val_MAPE: 10.4196 - val_MAE: 1606.0499\n",
      "Epoch 11/1000\n",
      "311/311 [==============================] - 1s 3ms/step - loss: 5680258.5000 - MAPE: 10.2863 - MAE: 1600.6163 - val_loss: 7833349.5000 - val_MAPE: 9.6195 - val_MAE: 1570.5485\n",
      "Epoch 12/1000\n",
      "293/311 [===========================>..] - ETA: 0s - loss: 5625422.5000 - MAPE: 10.2074 - MAE: 1590.9845Restoring model weights from the end of the best epoch.\n",
      "311/311 [==============================] - 1s 3ms/step - loss: 5639570.5000 - MAPE: 10.2295 - MAE: 1593.1628 - val_loss: 7816758.0000 - val_MAPE: 9.8922 - val_MAE: 1563.3608\n",
      "Epoch 00012: early stopping\n"
     ]
    }
   ],
   "source": [
    "history = model.fit(train_input,y_train,validation_data=(dev_input,y_dev),epochs=MAX_EPOCH,\n",
    "                   batch_size=BATCH_SIZE,verbose=1,callbacks=[earlystop])"
   ]
  },
  {
   "cell_type": "code",
   "execution_count": 59,
   "metadata": {},
   "outputs": [],
   "source": [
    "model.save(\"cate_embed_base_model.h5\")"
   ]
  },
  {
   "cell_type": "code",
   "execution_count": 55,
   "metadata": {},
   "outputs": [
    {
     "data": {
      "image/png": "[encoded data removed]",
      "text/plain": [
       "<Figure size 432x288 with 1 Axes>"
      ]
     },
     "metadata": {
      "needs_background": "light"
     },
     "output_type": "display_data"
    }
   ],
   "source": [
    "plot_metrics(history,\"loss\")"
   ]
  },
  {
   "cell_type": "code",
   "execution_count": 56,
   "metadata": {},
   "outputs": [
    {
     "data": {
      "image/png": "[encoded data removed]",
      "text/plain": [
       "<Figure size 432x288 with 1 Axes>"
      ]
     },
     "metadata": {
      "needs_background": "light"
     },
     "output_type": "display_data"
    }
   ],
   "source": [
    "plot_metrics(history,\"MAPE\")"
   ]
  },
  {
   "cell_type": "code",
   "execution_count": 60,
   "metadata": {},
   "outputs": [
    {
     "data": {
      "text/html": [
       "<div>\n",
       "<style scoped>\n",
       "    .dataframe tbody tr th:only-of-type {\n",
       "        vertical-align: middle;\n",
       "    }\n",
       "\n",
       "    .dataframe tbody tr th {\n",
       "        vertical-align: top;\n",
       "    }\n",
       "\n",
       "    .dataframe thead th {\n",
       "        text-align: right;\n",
       "    }\n",
       "</style>\n",
       "<table border=\"1\" class=\"dataframe\">\n",
       "  <thead>\n",
       "    <tr style=\"text-align: right;\">\n",
       "      <th></th>\n",
       "      <th>r2_score</th>\n",
       "      <th>rmse</th>\n",
       "      <th>price_diff_abs_max</th>\n",
       "    </tr>\n",
       "  </thead>\n",
       "  <tbody>\n",
       "    <tr>\n",
       "      <th>train</th>\n",
       "      <td>0.951014</td>\n",
       "      <td>2183.166275</td>\n",
       "      <td>524.768584</td>\n",
       "    </tr>\n",
       "    <tr>\n",
       "      <th>test</th>\n",
       "      <td>0.941426</td>\n",
       "      <td>2334.561787</td>\n",
       "      <td>206.641376</td>\n",
       "    </tr>\n",
       "  </tbody>\n",
       "</table>\n",
       "</div>"
      ],
      "text/plain": [
       "       r2_score         rmse  price_diff_abs_max\n",
       "train  0.951014  2183.166275          524.768584\n",
       "test   0.941426  2334.561787          206.641376"
      ]
     },
     "execution_count": 60,
     "metadata": {},
     "output_type": "execute_result"
    }
   ],
   "source": [
    "regression_metrics(model,train_input,y_train,test_input,y_test,256)"
   ]
  },
  {
   "cell_type": "code",
   "execution_count": 58,
   "metadata": {},
   "outputs": [],
   "source": [
    "model = tfk.models.load_model(\"cate_embed_base_model.h5\",custom_objects={\"leaky_relu\":tf.nn.leaky_relu})"
   ]
  },
  {
   "cell_type": "code",
   "execution_count": null,
   "metadata": {},
   "outputs": [],
   "source": []
  }
 ],
 "metadata": {
  "kernelspec": {
   "display_name": "Python 3",
   "language": "python",
   "name": "python3"
  },
  "language_info": {
   "codemirror_mode": {
    "name": "ipython",
    "version": 3
   },
   "file_extension": ".py",
   "mimetype": "text/x-python",
   "name": "python",
   "nbconvert_exporter": "python",
   "pygments_lexer": "ipython3",
   "version": "3.6.9"
  }
 },
 "nbformat": 4,
 "nbformat_minor": 4
}

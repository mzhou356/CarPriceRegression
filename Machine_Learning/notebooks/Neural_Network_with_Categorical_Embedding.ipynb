{
 "cells": [
  {
   "cell_type": "markdown",
   "metadata": {},
   "source": [
    "### Import libraries"
   ]
  },
  {
   "cell_type": "code",
   "execution_count": 1,
   "metadata": {},
   "outputs": [],
   "source": [
    "import sys\n",
    "import os\n",
    "import gc\n",
    "import numpy as np\n",
    "import pandas as pd \n",
    "import warnings\n",
    "from sklearn.model_selection import train_test_split\n",
    "warnings.filterwarnings(\"ignore\")"
   ]
  },
  {
   "cell_type": "code",
   "execution_count": 2,
   "metadata": {},
   "outputs": [],
   "source": [
    "home = os.path.expanduser(\"~\")\n",
    "sys.path.append(f\"{home}/Documents/projects/CarPriceRegression/Machine_Learning/scripts/\")"
   ]
  },
  {
   "cell_type": "code",
   "execution_count": 70,
   "metadata": {},
   "outputs": [
    {
     "name": "stdout",
     "output_type": "stream",
     "text": [
      "The autoreload extension is already loaded. To reload it, use:\n",
      "  %reload_ext autoreload\n"
     ]
    }
   ],
   "source": [
    "from util import *\n",
    "%load_ext autoreload\n",
    "%autoreload 2"
   ]
  },
  {
   "cell_type": "code",
   "execution_count": 4,
   "metadata": {},
   "outputs": [],
   "source": [
    "set_gpu_limit(6)"
   ]
  },
  {
   "cell_type": "markdown",
   "metadata": {},
   "source": [
    "### Split none onehot encoded data into train and test for categorical embedding"
   ]
  },
  {
   "cell_type": "code",
   "execution_count": 5,
   "metadata": {},
   "outputs": [],
   "source": [
    "data = pd.read_csv(f\"{home}/Documents/projects/CarPriceRegression/Processed_Data/car_data_merged.csv\")\n",
    "features, y = data.drop(\"price\",axis=1), data.price\n",
    "X_train, X_test, y_train, y_test = train_test_split(features,y,test_size=0.1,random_state=2020)\n",
    "X_train,X_dev,y_train,y_dev = train_test_split(X_train,y_train,test_size=0.11,random_state=2020)"
   ]
  },
  {
   "cell_type": "code",
   "execution_count": 6,
   "metadata": {},
   "outputs": [
    {
     "name": "stdout",
     "output_type": "stream",
     "text": [
      "<class 'pandas.core.frame.DataFrame'>\n",
      "RangeIndex: 99186 entries, 0 to 99185\n",
      "Data columns (total 8 columns):\n",
      " #   Column         Non-Null Count  Dtype \n",
      "---  ------         --------------  ----- \n",
      " 0   model          99186 non-null  object\n",
      " 1   price          99186 non-null  int64 \n",
      " 2   transmission   99186 non-null  object\n",
      " 3   fuelType       99186 non-null  object\n",
      " 4   binned_year    99186 non-null  int64 \n",
      " 5   mil_cat        99186 non-null  int64 \n",
      " 6   binned_mpg     99186 non-null  int64 \n",
      " 7   engine_binned  99186 non-null  int64 \n",
      "dtypes: int64(5), object(3)\n",
      "memory usage: 6.1+ MB\n"
     ]
    }
   ],
   "source": [
    "data.info()"
   ]
  },
  {
   "cell_type": "markdown",
   "metadata": {},
   "source": [
    "### We will embed columns model, transmission, and fuelType\n",
    "\n",
    "--- \n",
    "\n",
    "### Garbage collect"
   ]
  },
  {
   "cell_type": "code",
   "execution_count": 7,
   "metadata": {
    "scrolled": true
   },
   "outputs": [
    {
     "name": "stdout",
     "output_type": "stream",
     "text": [
      "Flushing output cache (0 entries)\n"
     ]
    }
   ],
   "source": [
    "gc.collect()\n",
    "%reset -f out"
   ]
  },
  {
   "cell_type": "markdown",
   "metadata": {},
   "source": [
    "### Setting up some constants"
   ]
  },
  {
   "cell_type": "code",
   "execution_count": 57,
   "metadata": {},
   "outputs": [],
   "source": [
    "EMBED_COLS = [\"model\",\"transmission\",\"fuelType\"]\n",
    "BATCH_SIZE = 256 \n",
    "MAX_EPOCH = 1000\n",
    "lr = 1e-3\n",
    "numeric_size = [64,32]\n",
    "model_size = [1024,512,256]\n",
    "DROPOUT= [0.2,0.2]\n",
    "METRICS = [\"MAPE\",\"MAE\"]"
   ]
  },
  {
   "cell_type": "code",
   "execution_count": 55,
   "metadata": {},
   "outputs": [],
   "source": [
    "earlystop = tfk.callbacks.EarlyStopping(monitor=\"val_loss\",mode=\"min\",\n",
    "                                        patience=10,verbose=1,restore_best_weights=True)"
   ]
  },
  {
   "cell_type": "markdown",
   "metadata": {},
   "source": [
    "### train, dev, and test data for NN\n",
    "\n",
    "* model embed model input \n",
    "* transmission embed model input\n",
    "* fuelType embed model input \n",
    "* numeric input data "
   ]
  },
  {
   "cell_type": "code",
   "execution_count": 45,
   "metadata": {},
   "outputs": [],
   "source": [
    "train_input,dev_input,test_input = cate_embed_process(X_train,X_dev,X_test,EMBED_COLS)"
   ]
  },
  {
   "cell_type": "code",
   "execution_count": 59,
   "metadata": {},
   "outputs": [],
   "source": [
    "base_embed_model = embed_model_setup(EMBED_COLS,X_train,numeric_size,model_size,DROPOUT,METRICS,lr)"
   ]
  },
  {
   "cell_type": "code",
   "execution_count": 61,
   "metadata": {},
   "outputs": [
    {
     "name": "stdout",
     "output_type": "stream",
     "text": [
      "Model: \"model_1\"\n",
      "__________________________________________________________________________________________________\n",
      "Layer (type)                    Output Shape         Param #     Connected to                     \n",
      "==================================================================================================\n",
      "input_5 (InputLayer)            [(None, 1)]          0                                            \n",
      "__________________________________________________________________________________________________\n",
      "input_6 (InputLayer)            [(None, 1)]          0                                            \n",
      "__________________________________________________________________________________________________\n",
      "input_7 (InputLayer)            [(None, 1)]          0                                            \n",
      "__________________________________________________________________________________________________\n",
      "input_8 (InputLayer)            [(None, 4)]          0                                            \n",
      "__________________________________________________________________________________________________\n",
      "model_embedding (Embedding)     (None, 1, 31)        6076        input_5[0][0]                    \n",
      "__________________________________________________________________________________________________\n",
      "transmission_embedding (Embeddi (None, 1, 4)         20          input_6[0][0]                    \n",
      "__________________________________________________________________________________________________\n",
      "fuelType_embedding (Embedding)  (None, 1, 4)         24          input_7[0][0]                    \n",
      "__________________________________________________________________________________________________\n",
      "dense_6 (Dense)                 (None, 64)           320         input_8[0][0]                    \n",
      "__________________________________________________________________________________________________\n",
      "reshape_3 (Reshape)             (None, 31)           0           model_embedding[0][0]            \n",
      "__________________________________________________________________________________________________\n",
      "reshape_4 (Reshape)             (None, 4)            0           transmission_embedding[0][0]     \n",
      "__________________________________________________________________________________________________\n",
      "reshape_5 (Reshape)             (None, 4)            0           fuelType_embedding[0][0]         \n",
      "__________________________________________________________________________________________________\n",
      "dense_7 (Dense)                 (None, 32)           2080        dense_6[0][0]                    \n",
      "__________________________________________________________________________________________________\n",
      "concatenate_1 (Concatenate)     (None, 71)           0           reshape_3[0][0]                  \n",
      "                                                                 reshape_4[0][0]                  \n",
      "                                                                 reshape_5[0][0]                  \n",
      "                                                                 dense_7[0][0]                    \n",
      "__________________________________________________________________________________________________\n",
      "dense_8 (Dense)                 (None, 1024)         73728       concatenate_1[0][0]              \n",
      "__________________________________________________________________________________________________\n",
      "dropout_2 (Dropout)             (None, 1024)         0           dense_8[0][0]                    \n",
      "__________________________________________________________________________________________________\n",
      "dense_9 (Dense)                 (None, 512)          524800      dropout_2[0][0]                  \n",
      "__________________________________________________________________________________________________\n",
      "dropout_3 (Dropout)             (None, 512)          0           dense_9[0][0]                    \n",
      "__________________________________________________________________________________________________\n",
      "dense_10 (Dense)                (None, 256)          131328      dropout_3[0][0]                  \n",
      "__________________________________________________________________________________________________\n",
      "dense_11 (Dense)                (None, 1)            257         dense_10[0][0]                   \n",
      "==================================================================================================\n",
      "Total params: 738,633\n",
      "Trainable params: 738,633\n",
      "Non-trainable params: 0\n",
      "__________________________________________________________________________________________________\n"
     ]
    }
   ],
   "source": [
    "base_embed_model.summary()"
   ]
  },
  {
   "cell_type": "code",
   "execution_count": 63,
   "metadata": {
    "scrolled": false
   },
   "outputs": [
    {
     "name": "stdout",
     "output_type": "stream",
     "text": [
      "Epoch 1/1000\n",
      "2483/2483 [==============================] - 7s 3ms/step - loss: 23234084.0000 - MAPE: 18.9922 - MAE: 2865.2595 - val_loss: 15999433.0000 - val_MAPE: 14.0836 - val_MAE: 2257.2129\n",
      "Epoch 2/1000\n",
      "2483/2483 [==============================] - 7s 3ms/step - loss: 12314806.0000 - MAPE: 14.4076 - MAE: 2206.4858 - val_loss: 14066964.0000 - val_MAPE: 12.6603 - val_MAE: 2117.2979\n",
      "Epoch 3/1000\n",
      "2483/2483 [==============================] - 7s 3ms/step - loss: 11575377.0000 - MAPE: 13.9658 - MAE: 2141.0295 - val_loss: 13139790.0000 - val_MAPE: 12.8754 - val_MAE: 2053.0361\n",
      "Epoch 4/1000\n",
      "2483/2483 [==============================] - 7s 3ms/step - loss: 10915142.0000 - MAPE: 13.3426 - MAE: 2072.0518 - val_loss: 12552828.0000 - val_MAPE: 12.3999 - val_MAE: 1997.4611\n",
      "Epoch 5/1000\n",
      "2483/2483 [==============================] - 7s 3ms/step - loss: 10657033.0000 - MAPE: 13.2283 - MAE: 2060.4426 - val_loss: 13171222.0000 - val_MAPE: 12.9008 - val_MAE: 2102.7529\n",
      "Epoch 6/1000\n",
      "2483/2483 [==============================] - 7s 3ms/step - loss: 10202101.0000 - MAPE: 13.0404 - MAE: 2023.2882 - val_loss: 12156737.0000 - val_MAPE: 11.5348 - val_MAE: 1948.0999\n",
      "Epoch 7/1000\n",
      "2483/2483 [==============================] - 7s 3ms/step - loss: 9890212.0000 - MAPE: 12.9119 - MAE: 1997.9365 - val_loss: 11899013.0000 - val_MAPE: 11.4070 - val_MAE: 1927.3218\n",
      "Epoch 8/1000\n",
      "2483/2483 [==============================] - 7s 3ms/step - loss: 9571426.0000 - MAPE: 12.8992 - MAE: 1990.1453 - val_loss: 11253351.0000 - val_MAPE: 11.8344 - val_MAE: 1932.4833\n",
      "Epoch 9/1000\n",
      "2483/2483 [==============================] - 7s 3ms/step - loss: 9300712.0000 - MAPE: 12.7951 - MAE: 1973.8380 - val_loss: 10571785.0000 - val_MAPE: 11.7138 - val_MAE: 1862.2662\n",
      "Epoch 10/1000\n",
      "2483/2483 [==============================] - 7s 3ms/step - loss: 8967252.0000 - MAPE: 12.6227 - MAE: 1948.7234 - val_loss: 12925742.0000 - val_MAPE: 11.9507 - val_MAE: 1987.7882\n",
      "Epoch 11/1000\n",
      "2483/2483 [==============================] - 7s 3ms/step - loss: 8876085.0000 - MAPE: 12.6423 - MAE: 1950.0472 - val_loss: 12393794.0000 - val_MAPE: 11.7373 - val_MAE: 2005.0674\n",
      "Epoch 12/1000\n",
      "2483/2483 [==============================] - 7s 3ms/step - loss: 8637688.0000 - MAPE: 12.4712 - MAE: 1929.9832 - val_loss: 9955627.0000 - val_MAPE: 11.2112 - val_MAE: 1818.7888\n",
      "Epoch 13/1000\n",
      "2483/2483 [==============================] - 7s 3ms/step - loss: 8509691.0000 - MAPE: 12.3846 - MAE: 1916.6965 - val_loss: 9811582.0000 - val_MAPE: 11.6539 - val_MAE: 1832.3177\n",
      "Epoch 14/1000\n",
      "2483/2483 [==============================] - 7s 3ms/step - loss: 8393783.0000 - MAPE: 12.3357 - MAE: 1906.5668 - val_loss: 10013067.0000 - val_MAPE: 11.2842 - val_MAE: 1853.7865\n",
      "Epoch 15/1000\n",
      "2483/2483 [==============================] - 7s 3ms/step - loss: 8178292.5000 - MAPE: 12.1691 - MAE: 1885.6387 - val_loss: 9732574.0000 - val_MAPE: 11.9964 - val_MAE: 1846.2970\n",
      "Epoch 16/1000\n",
      "2483/2483 [==============================] - 7s 3ms/step - loss: 8076424.0000 - MAPE: 12.1676 - MAE: 1877.9794 - val_loss: 9154354.0000 - val_MAPE: 10.8091 - val_MAE: 1753.0162\n",
      "Epoch 17/1000\n",
      "2483/2483 [==============================] - 7s 3ms/step - loss: 7955490.5000 - MAPE: 12.0618 - MAE: 1865.3309 - val_loss: 9888791.0000 - val_MAPE: 13.0031 - val_MAE: 1933.1422\n",
      "Epoch 18/1000\n",
      "2483/2483 [==============================] - 7s 3ms/step - loss: 7830048.0000 - MAPE: 11.9641 - MAE: 1848.5173 - val_loss: 9672679.0000 - val_MAPE: 11.7625 - val_MAE: 1823.9026\n",
      "Epoch 19/1000\n",
      "2483/2483 [==============================] - 7s 3ms/step - loss: 7852049.0000 - MAPE: 11.9648 - MAE: 1846.1400 - val_loss: 9740049.0000 - val_MAPE: 13.1892 - val_MAE: 1959.5208\n",
      "Epoch 20/1000\n",
      "2483/2483 [==============================] - 7s 3ms/step - loss: 7771948.5000 - MAPE: 11.9240 - MAE: 1841.7037 - val_loss: 8946558.0000 - val_MAPE: 11.1309 - val_MAE: 1747.1110\n",
      "Epoch 21/1000\n",
      "2483/2483 [==============================] - 7s 3ms/step - loss: 7827264.5000 - MAPE: 11.8879 - MAE: 1837.5565 - val_loss: 10215025.0000 - val_MAPE: 11.2768 - val_MAE: 1804.1265\n",
      "Epoch 22/1000\n",
      "2483/2483 [==============================] - 7s 3ms/step - loss: 7575138.0000 - MAPE: 11.7767 - MAE: 1819.1190 - val_loss: 9509735.0000 - val_MAPE: 12.9133 - val_MAE: 1884.2163\n",
      "Epoch 23/1000\n",
      "2483/2483 [==============================] - 7s 3ms/step - loss: 7579139.0000 - MAPE: 11.7721 - MAE: 1816.6351 - val_loss: 9351615.0000 - val_MAPE: 11.3804 - val_MAE: 1787.2478\n",
      "Epoch 24/1000\n",
      "2483/2483 [==============================] - 7s 3ms/step - loss: 7592412.5000 - MAPE: 11.7780 - MAE: 1815.6680 - val_loss: 8779455.0000 - val_MAPE: 10.8449 - val_MAE: 1730.4283\n",
      "Epoch 25/1000\n",
      "2483/2483 [==============================] - 7s 3ms/step - loss: 7500304.5000 - MAPE: 11.7534 - MAE: 1807.7668 - val_loss: 8766872.0000 - val_MAPE: 10.6508 - val_MAE: 1719.1423\n",
      "Epoch 26/1000\n",
      "2483/2483 [==============================] - 7s 3ms/step - loss: 7440492.5000 - MAPE: 11.7067 - MAE: 1801.3988 - val_loss: 8962277.0000 - val_MAPE: 10.5646 - val_MAE: 1731.1136\n",
      "Epoch 27/1000\n",
      "2483/2483 [==============================] - 7s 3ms/step - loss: 7327074.5000 - MAPE: 11.5565 - MAE: 1786.2756 - val_loss: 8587760.0000 - val_MAPE: 10.5904 - val_MAE: 1691.4110\n",
      "Epoch 28/1000\n",
      "2483/2483 [==============================] - 7s 3ms/step - loss: 7362971.5000 - MAPE: 11.5753 - MAE: 1784.8992 - val_loss: 9318862.0000 - val_MAPE: 13.3198 - val_MAE: 1949.8684\n",
      "Epoch 29/1000\n",
      "2483/2483 [==============================] - 7s 3ms/step - loss: 7304980.5000 - MAPE: 11.5346 - MAE: 1777.6444 - val_loss: 8851289.0000 - val_MAPE: 10.7263 - val_MAE: 1732.5826\n",
      "Epoch 30/1000\n",
      "2483/2483 [==============================] - 7s 3ms/step - loss: 7202352.5000 - MAPE: 11.5091 - MAE: 1775.7507 - val_loss: 8805306.0000 - val_MAPE: 11.0015 - val_MAE: 1765.2145\n",
      "Epoch 31/1000\n",
      "2483/2483 [==============================] - 7s 3ms/step - loss: 7149382.5000 - MAPE: 11.4323 - MAE: 1767.6420 - val_loss: 8719824.0000 - val_MAPE: 10.5862 - val_MAE: 1716.2061\n",
      "Epoch 32/1000\n",
      "2483/2483 [==============================] - 7s 3ms/step - loss: 7174380.0000 - MAPE: 11.4882 - MAE: 1772.4244 - val_loss: 9646288.0000 - val_MAPE: 13.1556 - val_MAE: 1910.2727\n",
      "Epoch 33/1000\n",
      "2483/2483 [==============================] - 7s 3ms/step - loss: 7104143.0000 - MAPE: 11.4470 - MAE: 1767.0813 - val_loss: 8934903.0000 - val_MAPE: 11.1441 - val_MAE: 1786.8896\n",
      "Epoch 34/1000\n",
      "2483/2483 [==============================] - 7s 3ms/step - loss: 7147737.5000 - MAPE: 11.4774 - MAE: 1768.7046 - val_loss: 8588903.0000 - val_MAPE: 10.6475 - val_MAE: 1704.7905\n",
      "Epoch 35/1000\n",
      "2483/2483 [==============================] - 7s 3ms/step - loss: 7076061.0000 - MAPE: 11.3717 - MAE: 1759.2168 - val_loss: 8436066.0000 - val_MAPE: 10.5534 - val_MAE: 1682.5791\n",
      "Epoch 36/1000\n",
      "2483/2483 [==============================] - 7s 3ms/step - loss: 7082773.0000 - MAPE: 11.3758 - MAE: 1753.2253 - val_loss: 9059744.0000 - val_MAPE: 10.9389 - val_MAE: 1716.6804\n",
      "Epoch 37/1000\n",
      "2483/2483 [==============================] - 7s 3ms/step - loss: 7074037.5000 - MAPE: 11.3237 - MAE: 1750.8571 - val_loss: 9009795.0000 - val_MAPE: 10.4987 - val_MAE: 1702.0917\n",
      "Epoch 38/1000\n",
      "2483/2483 [==============================] - 7s 3ms/step - loss: 7147879.5000 - MAPE: 11.3498 - MAE: 1754.1842 - val_loss: 8548801.0000 - val_MAPE: 10.1952 - val_MAE: 1682.0791\n",
      "Epoch 39/1000\n",
      "2483/2483 [==============================] - 7s 3ms/step - loss: 7026063.5000 - MAPE: 11.3465 - MAE: 1749.0990 - val_loss: 8458891.0000 - val_MAPE: 10.9946 - val_MAE: 1710.1727\n",
      "Epoch 40/1000\n",
      "2483/2483 [==============================] - 7s 3ms/step - loss: 6907362.5000 - MAPE: 11.2819 - MAE: 1739.7264 - val_loss: 8780838.0000 - val_MAPE: 10.2412 - val_MAE: 1680.0610\n",
      "Epoch 41/1000\n",
      "2483/2483 [==============================] - 7s 3ms/step - loss: 6963626.5000 - MAPE: 11.2514 - MAE: 1735.9886 - val_loss: 8900082.0000 - val_MAPE: 11.2788 - val_MAE: 1780.6727\n",
      "Epoch 42/1000\n",
      "2483/2483 [==============================] - 7s 3ms/step - loss: 6852840.5000 - MAPE: 11.2256 - MAE: 1735.8851 - val_loss: 8541345.0000 - val_MAPE: 10.6518 - val_MAE: 1688.2478\n",
      "Epoch 43/1000\n",
      "2483/2483 [==============================] - 7s 3ms/step - loss: 6767744.0000 - MAPE: 11.1877 - MAE: 1724.5623 - val_loss: 8187877.5000 - val_MAPE: 10.3426 - val_MAE: 1654.4453\n"
     ]
    },
    {
     "name": "stdout",
     "output_type": "stream",
     "text": [
      "Epoch 44/1000\n",
      "2483/2483 [==============================] - 7s 3ms/step - loss: 6908426.5000 - MAPE: 11.1661 - MAE: 1729.7015 - val_loss: 8676621.0000 - val_MAPE: 10.1884 - val_MAE: 1685.4243\n",
      "Epoch 45/1000\n",
      "2483/2483 [==============================] - 7s 3ms/step - loss: 6817645.0000 - MAPE: 11.2264 - MAE: 1730.4863 - val_loss: 8575026.0000 - val_MAPE: 10.4592 - val_MAE: 1708.1805\n",
      "Epoch 46/1000\n",
      "2483/2483 [==============================] - 7s 3ms/step - loss: 6955186.5000 - MAPE: 11.2452 - MAE: 1741.8553 - val_loss: 8859546.0000 - val_MAPE: 10.7955 - val_MAE: 1752.2535\n",
      "Epoch 47/1000\n",
      "2483/2483 [==============================] - 7s 3ms/step - loss: 6873877.0000 - MAPE: 11.1790 - MAE: 1728.3131 - val_loss: 8739105.0000 - val_MAPE: 10.0764 - val_MAE: 1672.2755\n",
      "Epoch 48/1000\n",
      "2483/2483 [==============================] - 7s 3ms/step - loss: 6720395.0000 - MAPE: 11.1660 - MAE: 1720.2180 - val_loss: 8594055.0000 - val_MAPE: 10.8636 - val_MAE: 1706.8455\n",
      "Epoch 49/1000\n",
      "2483/2483 [==============================] - 7s 3ms/step - loss: 6772200.5000 - MAPE: 11.2038 - MAE: 1726.0717 - val_loss: 8100476.5000 - val_MAPE: 10.1597 - val_MAE: 1629.6119\n",
      "Epoch 50/1000\n",
      "2483/2483 [==============================] - 7s 3ms/step - loss: 6821750.0000 - MAPE: 11.0865 - MAE: 1715.0026 - val_loss: 8172698.5000 - val_MAPE: 10.2744 - val_MAE: 1654.6202\n",
      "Epoch 51/1000\n",
      "2483/2483 [==============================] - 7s 3ms/step - loss: 6667772.5000 - MAPE: 11.0679 - MAE: 1711.7543 - val_loss: 8686418.0000 - val_MAPE: 10.2182 - val_MAE: 1692.7592\n",
      "Epoch 52/1000\n",
      "2483/2483 [==============================] - 7s 3ms/step - loss: 6874497.5000 - MAPE: 11.1422 - MAE: 1725.4836 - val_loss: 8691918.0000 - val_MAPE: 10.2323 - val_MAE: 1680.0220\n",
      "Epoch 53/1000\n",
      "2483/2483 [==============================] - 7s 3ms/step - loss: 6854725.0000 - MAPE: 11.1257 - MAE: 1717.8719 - val_loss: 8099506.5000 - val_MAPE: 9.9798 - val_MAE: 1627.1462\n",
      "Epoch 54/1000\n",
      "2483/2483 [==============================] - 7s 3ms/step - loss: 6713782.0000 - MAPE: 11.0622 - MAE: 1713.5632 - val_loss: 8187500.0000 - val_MAPE: 10.3758 - val_MAE: 1652.3877\n",
      "Epoch 55/1000\n",
      "2483/2483 [==============================] - 7s 3ms/step - loss: 6684513.5000 - MAPE: 11.0249 - MAE: 1704.5459 - val_loss: 8297032.0000 - val_MAPE: 10.0179 - val_MAE: 1645.2560\n",
      "Epoch 56/1000\n",
      "2483/2483 [==============================] - 7s 3ms/step - loss: 6664990.0000 - MAPE: 11.0308 - MAE: 1708.8344 - val_loss: 8392027.0000 - val_MAPE: 10.6211 - val_MAE: 1653.0942\n",
      "Epoch 57/1000\n",
      "2483/2483 [==============================] - 7s 3ms/step - loss: 6637527.0000 - MAPE: 11.0524 - MAE: 1709.1956 - val_loss: 8089178.0000 - val_MAPE: 10.1123 - val_MAE: 1621.0071\n",
      "Epoch 58/1000\n",
      "2483/2483 [==============================] - 7s 3ms/step - loss: 6649605.5000 - MAPE: 11.0481 - MAE: 1703.5781 - val_loss: 8129295.5000 - val_MAPE: 9.9078 - val_MAE: 1620.7614\n",
      "Epoch 59/1000\n",
      "2483/2483 [==============================] - 7s 3ms/step - loss: 6621289.0000 - MAPE: 10.9817 - MAE: 1701.3837 - val_loss: 8728934.0000 - val_MAPE: 11.0497 - val_MAE: 1705.5005\n",
      "Epoch 60/1000\n",
      "2483/2483 [==============================] - 7s 3ms/step - loss: 6612186.0000 - MAPE: 10.9891 - MAE: 1701.0336 - val_loss: 8112870.5000 - val_MAPE: 10.4708 - val_MAE: 1650.8864\n",
      "Epoch 61/1000\n",
      "2483/2483 [==============================] - 7s 3ms/step - loss: 6652292.5000 - MAPE: 10.9995 - MAE: 1703.4875 - val_loss: 8160098.0000 - val_MAPE: 10.4552 - val_MAE: 1644.6766\n",
      "Epoch 62/1000\n",
      "2483/2483 [==============================] - 7s 3ms/step - loss: 6674926.0000 - MAPE: 11.0496 - MAE: 1708.0026 - val_loss: 8082776.0000 - val_MAPE: 10.8928 - val_MAE: 1664.4642\n",
      "Epoch 63/1000\n",
      "2483/2483 [==============================] - 7s 3ms/step - loss: 6573230.0000 - MAPE: 10.9449 - MAE: 1696.5077 - val_loss: 8202183.5000 - val_MAPE: 9.9983 - val_MAE: 1624.3062\n",
      "Epoch 64/1000\n",
      "2483/2483 [==============================] - 7s 3ms/step - loss: 6554143.0000 - MAPE: 10.9561 - MAE: 1693.4463 - val_loss: 8288527.0000 - val_MAPE: 9.9851 - val_MAE: 1630.3790\n",
      "Epoch 65/1000\n",
      "2483/2483 [==============================] - 7s 3ms/step - loss: 6539250.0000 - MAPE: 10.9763 - MAE: 1695.7662 - val_loss: 8260161.5000 - val_MAPE: 11.2040 - val_MAE: 1696.1162\n",
      "Epoch 66/1000\n",
      "2483/2483 [==============================] - 7s 3ms/step - loss: 6614974.0000 - MAPE: 10.9711 - MAE: 1699.8416 - val_loss: 8023219.0000 - val_MAPE: 9.9852 - val_MAE: 1608.0183\n",
      "Epoch 67/1000\n",
      "2483/2483 [==============================] - 7s 3ms/step - loss: 6548530.0000 - MAPE: 10.9627 - MAE: 1694.2272 - val_loss: 8224138.0000 - val_MAPE: 10.6565 - val_MAE: 1672.1615\n",
      "Epoch 68/1000\n",
      "2483/2483 [==============================] - 7s 3ms/step - loss: 6523493.0000 - MAPE: 10.9319 - MAE: 1688.7208 - val_loss: 9031849.0000 - val_MAPE: 10.1002 - val_MAE: 1682.2985\n",
      "Epoch 69/1000\n",
      "2483/2483 [==============================] - 7s 3ms/step - loss: 6564370.5000 - MAPE: 10.9198 - MAE: 1692.4215 - val_loss: 8231617.5000 - val_MAPE: 10.1744 - val_MAE: 1627.7954\n",
      "Epoch 70/1000\n",
      "2483/2483 [==============================] - 7s 3ms/step - loss: 6572914.5000 - MAPE: 10.9320 - MAE: 1690.0183 - val_loss: 8188296.0000 - val_MAPE: 10.2879 - val_MAE: 1653.0972\n",
      "Epoch 71/1000\n",
      "2483/2483 [==============================] - 7s 3ms/step - loss: 6500326.0000 - MAPE: 10.9566 - MAE: 1691.9033 - val_loss: 8310510.5000 - val_MAPE: 10.0156 - val_MAE: 1650.4683\n",
      "Epoch 72/1000\n",
      "2483/2483 [==============================] - 7s 3ms/step - loss: 6421305.0000 - MAPE: 10.9031 - MAE: 1685.1012 - val_loss: 8495016.0000 - val_MAPE: 11.1584 - val_MAE: 1736.9882\n",
      "Epoch 73/1000\n",
      "2483/2483 [==============================] - 7s 3ms/step - loss: 6425052.0000 - MAPE: 10.9055 - MAE: 1682.1313 - val_loss: 8685267.0000 - val_MAPE: 10.4735 - val_MAE: 1662.2260\n",
      "Epoch 74/1000\n",
      "2483/2483 [==============================] - 7s 3ms/step - loss: 6463013.5000 - MAPE: 10.8902 - MAE: 1685.3260 - val_loss: 8184131.5000 - val_MAPE: 10.1573 - val_MAE: 1633.3688\n",
      "Epoch 75/1000\n",
      "2483/2483 [==============================] - 7s 3ms/step - loss: 6444258.5000 - MAPE: 10.9110 - MAE: 1684.9645 - val_loss: 8211532.5000 - val_MAPE: 10.0531 - val_MAE: 1638.1050\n",
      "Epoch 76/1000\n",
      "2469/2483 [============================>.] - ETA: 0s - loss: 6261617.5000 - MAPE: 10.8280 - MAE: 1672.4987Restoring model weights from the end of the best epoch.\n",
      "2483/2483 [==============================] - 7s 3ms/step - loss: 6263827.5000 - MAPE: 10.8369 - MAE: 1673.1725 - val_loss: 8221165.0000 - val_MAPE: 10.5806 - val_MAE: 1682.8802\n",
      "Epoch 00076: early stopping\n"
     ]
    }
   ],
   "source": [
    "history = base_embed_model.fit(train_input,y_train, epochs=MAX_EPOCH,shuffle=True,\n",
    "                         verbose = 1, validation_data=(dev_input,y_dev),\n",
    "                         callbacks=[earlystop])"
   ]
  },
  {
   "cell_type": "code",
   "execution_count": 64,
   "metadata": {},
   "outputs": [],
   "source": [
    "base_embed_model.save(\"cate_embed_base_model.h5\")"
   ]
  },
  {
   "cell_type": "code",
   "execution_count": 65,
   "metadata": {},
   "outputs": [],
   "source": [
    "base_embed_model = tfk.models.load_model(\"cate_embed_base_model.h5\",custom_objects={\"leaky_relu\":tf.nn.leaky_relu})"
   ]
  },
  {
   "cell_type": "code",
   "execution_count": 66,
   "metadata": {},
   "outputs": [
    {
     "data": {
      "image/png": "[encoded data removed]",
      "text/plain": [
       "<Figure size 432x288 with 1 Axes>"
      ]
     },
     "metadata": {
      "needs_background": "light"
     },
     "output_type": "display_data"
    }
   ],
   "source": [
    "plot_metrics(history,\"loss\")"
   ]
  },
  {
   "cell_type": "code",
   "execution_count": 67,
   "metadata": {},
   "outputs": [
    {
     "data": {
      "image/png": "[encoded data removed]",
      "text/plain": [
       "<Figure size 432x288 with 1 Axes>"
      ]
     },
     "metadata": {
      "needs_background": "light"
     },
     "output_type": "display_data"
    }
   ],
   "source": [
    "plot_metrics(history,\"MAPE\")"
   ]
  },
  {
   "cell_type": "code",
   "execution_count": 68,
   "metadata": {},
   "outputs": [
    {
     "data": {
      "text/html": [
       "<div>\n",
       "<style scoped>\n",
       "    .dataframe tbody tr th:only-of-type {\n",
       "        vertical-align: middle;\n",
       "    }\n",
       "\n",
       "    .dataframe tbody tr th {\n",
       "        vertical-align: top;\n",
       "    }\n",
       "\n",
       "    .dataframe thead th {\n",
       "        text-align: right;\n",
       "    }\n",
       "</style>\n",
       "<table border=\"1\" class=\"dataframe\">\n",
       "  <thead>\n",
       "    <tr style=\"text-align: right;\">\n",
       "      <th></th>\n",
       "      <th>r2_score</th>\n",
       "      <th>rmse</th>\n",
       "      <th>price_diff_abs_max</th>\n",
       "    </tr>\n",
       "  </thead>\n",
       "  <tbody>\n",
       "    <tr>\n",
       "      <th>train</th>\n",
       "      <td>0.943838</td>\n",
       "      <td>2337.606449</td>\n",
       "      <td>695.343624</td>\n",
       "    </tr>\n",
       "    <tr>\n",
       "      <th>test</th>\n",
       "      <td>0.937741</td>\n",
       "      <td>2406.883565</td>\n",
       "      <td>408.698918</td>\n",
       "    </tr>\n",
       "  </tbody>\n",
       "</table>\n",
       "</div>"
      ],
      "text/plain": [
       "       r2_score         rmse  price_diff_abs_max\n",
       "train  0.943838  2337.606449          695.343624\n",
       "test   0.937741  2406.883565          408.698918"
      ]
     },
     "execution_count": 68,
     "metadata": {},
     "output_type": "execute_result"
    }
   ],
   "source": [
    "regression_metrics(base_embed_model,train_input,y_train,test_input,y_test,256)"
   ]
  },
  {
   "cell_type": "code",
   "execution_count": 69,
   "metadata": {},
   "outputs": [
    {
     "data": {
      "image/png": "[encoded data removed]",
      "text/plain": [
       "<Figure size 432x432 with 3 Axes>"
      ]
     },
     "metadata": {
      "needs_background": "light"
     },
     "output_type": "display_data"
    },
    {
     "data": {
      "image/png": "[encoded data removed]",
      "text/plain": [
       "<Figure size 432x288 with 1 Axes>"
      ]
     },
     "metadata": {
      "needs_background": "light"
     },
     "output_type": "display_data"
    }
   ],
   "source": [
    "plot_pred_price(base_embed_model,test_input,y_test,batch_size=BATCH_SIZE)"
   ]
  },
  {
   "cell_type": "code",
   "execution_count": 72,
   "metadata": {},
   "outputs": [],
   "source": [
    "price_table = price_diff(base_embed_model,X_test,y_test,256, 1, test_input)"
   ]
  },
  {
   "cell_type": "code",
   "execution_count": 73,
   "metadata": {},
   "outputs": [
    {
     "data": {
      "text/html": [
       "<div>\n",
       "<style scoped>\n",
       "    .dataframe tbody tr th:only-of-type {\n",
       "        vertical-align: middle;\n",
       "    }\n",
       "\n",
       "    .dataframe tbody tr th {\n",
       "        vertical-align: top;\n",
       "    }\n",
       "\n",
       "    .dataframe thead th {\n",
       "        text-align: right;\n",
       "    }\n",
       "</style>\n",
       "<table border=\"1\" class=\"dataframe\">\n",
       "  <thead>\n",
       "    <tr style=\"text-align: right;\">\n",
       "      <th></th>\n",
       "      <th>model</th>\n",
       "      <th>transmission</th>\n",
       "      <th>fuelType</th>\n",
       "      <th>binned_year</th>\n",
       "      <th>mil_cat</th>\n",
       "      <th>binned_mpg</th>\n",
       "      <th>engine_binned</th>\n",
       "      <th>price_diff_pct</th>\n",
       "      <th>price_diff_abs</th>\n",
       "    </tr>\n",
       "  </thead>\n",
       "  <tbody>\n",
       "    <tr>\n",
       "      <th>39978</th>\n",
       "      <td>A Class</td>\n",
       "      <td>Manual</td>\n",
       "      <td>Petrol</td>\n",
       "      <td>1</td>\n",
       "      <td>5</td>\n",
       "      <td>1</td>\n",
       "      <td>0</td>\n",
       "      <td>-408.698918</td>\n",
       "      <td>408.698918</td>\n",
       "    </tr>\n",
       "    <tr>\n",
       "      <th>40171</th>\n",
       "      <td>A Class</td>\n",
       "      <td>Automatic</td>\n",
       "      <td>Petrol</td>\n",
       "      <td>1</td>\n",
       "      <td>4</td>\n",
       "      <td>2</td>\n",
       "      <td>0</td>\n",
       "      <td>-251.181017</td>\n",
       "      <td>251.181017</td>\n",
       "    </tr>\n",
       "    <tr>\n",
       "      <th>20056</th>\n",
       "      <td>Beetle</td>\n",
       "      <td>Manual</td>\n",
       "      <td>Petrol</td>\n",
       "      <td>1</td>\n",
       "      <td>4</td>\n",
       "      <td>2</td>\n",
       "      <td>0</td>\n",
       "      <td>-191.598764</td>\n",
       "      <td>191.598764</td>\n",
       "    </tr>\n",
       "    <tr>\n",
       "      <th>12301</th>\n",
       "      <td>Golf</td>\n",
       "      <td>Manual</td>\n",
       "      <td>Petrol</td>\n",
       "      <td>2</td>\n",
       "      <td>4</td>\n",
       "      <td>2</td>\n",
       "      <td>0</td>\n",
       "      <td>-172.129982</td>\n",
       "      <td>172.129982</td>\n",
       "    </tr>\n",
       "    <tr>\n",
       "      <th>2450</th>\n",
       "      <td>Yaris</td>\n",
       "      <td>Automatic</td>\n",
       "      <td>Petrol</td>\n",
       "      <td>0</td>\n",
       "      <td>4</td>\n",
       "      <td>2</td>\n",
       "      <td>0</td>\n",
       "      <td>155.427723</td>\n",
       "      <td>155.427723</td>\n",
       "    </tr>\n",
       "    <tr>\n",
       "      <th>85142</th>\n",
       "      <td>Z4</td>\n",
       "      <td>Automatic</td>\n",
       "      <td>Petrol</td>\n",
       "      <td>1</td>\n",
       "      <td>4</td>\n",
       "      <td>1</td>\n",
       "      <td>1</td>\n",
       "      <td>-126.068407</td>\n",
       "      <td>126.068407</td>\n",
       "    </tr>\n",
       "    <tr>\n",
       "      <th>98752</th>\n",
       "      <td>A6</td>\n",
       "      <td>Automatic</td>\n",
       "      <td>Diesel</td>\n",
       "      <td>2</td>\n",
       "      <td>4</td>\n",
       "      <td>2</td>\n",
       "      <td>1</td>\n",
       "      <td>-113.813571</td>\n",
       "      <td>113.813571</td>\n",
       "    </tr>\n",
       "    <tr>\n",
       "      <th>44326</th>\n",
       "      <td>Corsa</td>\n",
       "      <td>Manual</td>\n",
       "      <td>Petrol</td>\n",
       "      <td>1</td>\n",
       "      <td>5</td>\n",
       "      <td>2</td>\n",
       "      <td>0</td>\n",
       "      <td>105.695672</td>\n",
       "      <td>105.695672</td>\n",
       "    </tr>\n",
       "    <tr>\n",
       "      <th>39953</th>\n",
       "      <td>SLK</td>\n",
       "      <td>Automatic</td>\n",
       "      <td>Petrol</td>\n",
       "      <td>0</td>\n",
       "      <td>5</td>\n",
       "      <td>1</td>\n",
       "      <td>1</td>\n",
       "      <td>103.857876</td>\n",
       "      <td>103.857876</td>\n",
       "    </tr>\n",
       "    <tr>\n",
       "      <th>98626</th>\n",
       "      <td>TT</td>\n",
       "      <td>Manual</td>\n",
       "      <td>Petrol</td>\n",
       "      <td>1</td>\n",
       "      <td>5</td>\n",
       "      <td>1</td>\n",
       "      <td>0</td>\n",
       "      <td>-97.500380</td>\n",
       "      <td>97.500380</td>\n",
       "    </tr>\n",
       "    <tr>\n",
       "      <th>41293</th>\n",
       "      <td>Corsa</td>\n",
       "      <td>Manual</td>\n",
       "      <td>Diesel</td>\n",
       "      <td>2</td>\n",
       "      <td>4</td>\n",
       "      <td>4</td>\n",
       "      <td>0</td>\n",
       "      <td>-96.649582</td>\n",
       "      <td>96.649582</td>\n",
       "    </tr>\n",
       "    <tr>\n",
       "      <th>52118</th>\n",
       "      <td>Zafira</td>\n",
       "      <td>Manual</td>\n",
       "      <td>Petrol</td>\n",
       "      <td>0</td>\n",
       "      <td>3</td>\n",
       "      <td>2</td>\n",
       "      <td>0</td>\n",
       "      <td>91.925266</td>\n",
       "      <td>91.925266</td>\n",
       "    </tr>\n",
       "    <tr>\n",
       "      <th>22009</th>\n",
       "      <td>Fabia</td>\n",
       "      <td>Manual</td>\n",
       "      <td>Diesel</td>\n",
       "      <td>2</td>\n",
       "      <td>4</td>\n",
       "      <td>4</td>\n",
       "      <td>0</td>\n",
       "      <td>-90.230532</td>\n",
       "      <td>90.230532</td>\n",
       "    </tr>\n",
       "    <tr>\n",
       "      <th>88451</th>\n",
       "      <td>3 Series</td>\n",
       "      <td>Manual</td>\n",
       "      <td>Petrol</td>\n",
       "      <td>1</td>\n",
       "      <td>5</td>\n",
       "      <td>1</td>\n",
       "      <td>1</td>\n",
       "      <td>-89.498260</td>\n",
       "      <td>89.498260</td>\n",
       "    </tr>\n",
       "    <tr>\n",
       "      <th>68392</th>\n",
       "      <td>Fiesta</td>\n",
       "      <td>Manual</td>\n",
       "      <td>Diesel</td>\n",
       "      <td>2</td>\n",
       "      <td>4</td>\n",
       "      <td>4</td>\n",
       "      <td>0</td>\n",
       "      <td>-85.877977</td>\n",
       "      <td>85.877977</td>\n",
       "    </tr>\n",
       "    <tr>\n",
       "      <th>11911</th>\n",
       "      <td>Golf</td>\n",
       "      <td>Manual</td>\n",
       "      <td>Petrol</td>\n",
       "      <td>2</td>\n",
       "      <td>3</td>\n",
       "      <td>2</td>\n",
       "      <td>0</td>\n",
       "      <td>-81.854119</td>\n",
       "      <td>81.854119</td>\n",
       "    </tr>\n",
       "    <tr>\n",
       "      <th>6238</th>\n",
       "      <td>Prius</td>\n",
       "      <td>Automatic</td>\n",
       "      <td>Hybrid</td>\n",
       "      <td>1</td>\n",
       "      <td>3</td>\n",
       "      <td>4</td>\n",
       "      <td>0</td>\n",
       "      <td>-81.727955</td>\n",
       "      <td>81.727955</td>\n",
       "    </tr>\n",
       "    <tr>\n",
       "      <th>39346</th>\n",
       "      <td>CLK</td>\n",
       "      <td>Automatic</td>\n",
       "      <td>Diesel</td>\n",
       "      <td>1</td>\n",
       "      <td>5</td>\n",
       "      <td>1</td>\n",
       "      <td>1</td>\n",
       "      <td>80.072804</td>\n",
       "      <td>80.072804</td>\n",
       "    </tr>\n",
       "    <tr>\n",
       "      <th>39743</th>\n",
       "      <td>CLK</td>\n",
       "      <td>Automatic</td>\n",
       "      <td>Petrol</td>\n",
       "      <td>1</td>\n",
       "      <td>5</td>\n",
       "      <td>1</td>\n",
       "      <td>2</td>\n",
       "      <td>78.224100</td>\n",
       "      <td>78.224100</td>\n",
       "    </tr>\n",
       "    <tr>\n",
       "      <th>39302</th>\n",
       "      <td>CLK</td>\n",
       "      <td>Automatic</td>\n",
       "      <td>Diesel</td>\n",
       "      <td>1</td>\n",
       "      <td>5</td>\n",
       "      <td>1</td>\n",
       "      <td>1</td>\n",
       "      <td>77.537825</td>\n",
       "      <td>77.537825</td>\n",
       "    </tr>\n",
       "  </tbody>\n",
       "</table>\n",
       "</div>"
      ],
      "text/plain": [
       "           model transmission fuelType  binned_year  mil_cat  binned_mpg  \\\n",
       "39978    A Class       Manual   Petrol            1        5           1   \n",
       "40171    A Class    Automatic   Petrol            1        4           2   \n",
       "20056     Beetle       Manual   Petrol            1        4           2   \n",
       "12301       Golf       Manual   Petrol            2        4           2   \n",
       "2450       Yaris    Automatic   Petrol            0        4           2   \n",
       "85142         Z4    Automatic   Petrol            1        4           1   \n",
       "98752         A6    Automatic   Diesel            2        4           2   \n",
       "44326      Corsa       Manual   Petrol            1        5           2   \n",
       "39953        SLK    Automatic   Petrol            0        5           1   \n",
       "98626         TT       Manual   Petrol            1        5           1   \n",
       "41293      Corsa       Manual   Diesel            2        4           4   \n",
       "52118     Zafira       Manual   Petrol            0        3           2   \n",
       "22009      Fabia       Manual   Diesel            2        4           4   \n",
       "88451   3 Series       Manual   Petrol            1        5           1   \n",
       "68392     Fiesta       Manual   Diesel            2        4           4   \n",
       "11911       Golf       Manual   Petrol            2        3           2   \n",
       "6238       Prius    Automatic   Hybrid            1        3           4   \n",
       "39346        CLK    Automatic   Diesel            1        5           1   \n",
       "39743        CLK    Automatic   Petrol            1        5           1   \n",
       "39302        CLK    Automatic   Diesel            1        5           1   \n",
       "\n",
       "       engine_binned  price_diff_pct  price_diff_abs  \n",
       "39978              0     -408.698918      408.698918  \n",
       "40171              0     -251.181017      251.181017  \n",
       "20056              0     -191.598764      191.598764  \n",
       "12301              0     -172.129982      172.129982  \n",
       "2450               0      155.427723      155.427723  \n",
       "85142              1     -126.068407      126.068407  \n",
       "98752              1     -113.813571      113.813571  \n",
       "44326              0      105.695672      105.695672  \n",
       "39953              1      103.857876      103.857876  \n",
       "98626              0      -97.500380       97.500380  \n",
       "41293              0      -96.649582       96.649582  \n",
       "52118              0       91.925266       91.925266  \n",
       "22009              0      -90.230532       90.230532  \n",
       "88451              1      -89.498260       89.498260  \n",
       "68392              0      -85.877977       85.877977  \n",
       "11911              0      -81.854119       81.854119  \n",
       "6238               0      -81.727955       81.727955  \n",
       "39346              1       80.072804       80.072804  \n",
       "39743              2       78.224100       78.224100  \n",
       "39302              1       77.537825       77.537825  "
      ]
     },
     "execution_count": 73,
     "metadata": {},
     "output_type": "execute_result"
    }
   ],
   "source": [
    "price_table.sort_values(\"price_diff_abs\",ascending=False).head(20)"
   ]
  },
  {
   "cell_type": "code",
   "execution_count": null,
   "metadata": {},
   "outputs": [],
   "source": []
  }
 ],
 "metadata": {
  "kernelspec": {
   "display_name": "Python 3",
   "language": "python",
   "name": "python3"
  },
  "language_info": {
   "codemirror_mode": {
    "name": "ipython",
    "version": 3
   },
   "file_extension": ".py",
   "mimetype": "text/x-python",
   "name": "python",
   "nbconvert_exporter": "python",
   "pygments_lexer": "ipython3",
   "version": "3.6.9"
  }
 },
 "nbformat": 4,
 "nbformat_minor": 4
}

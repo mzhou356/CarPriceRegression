{
 "cells": [
  {
   "cell_type": "markdown",
   "metadata": {},
   "source": [
    "### Import libraries"
   ]
  },
  {
   "cell_type": "code",
   "execution_count": 1,
   "metadata": {},
   "outputs": [],
   "source": [
    "import sys\n",
    "import os\n",
    "import gc\n",
    "import pandas as pd\n",
    "from functools import partial\n",
    "import warnings\n",
    "warnings.filterwarnings(\"ignore\")"
   ]
  },
  {
   "cell_type": "code",
   "execution_count": 2,
   "metadata": {},
   "outputs": [],
   "source": [
    "home = os.path.expanduser(\"~\")\n",
    "sys.path.append(f\"{home}/Documents/projects/CarPriceRegression/machine_learning/scripts/\")"
   ]
  },
  {
   "cell_type": "code",
   "execution_count": 87,
   "metadata": {},
   "outputs": [
    {
     "name": "stdout",
     "output_type": "stream",
     "text": [
      "The autoreload extension is already loaded. To reload it, use:\n",
      "  %reload_ext autoreload\n"
     ]
    }
   ],
   "source": [
    "from data_set_up import DataSetUp\n",
    "from embed_car_price import tfk, EmbedCarPrice\n",
    "%load_ext autoreload\n",
    "%autoreload 2"
   ]
  },
  {
   "cell_type": "code",
   "execution_count": 85,
   "metadata": {},
   "outputs": [],
   "source": [
    "sys.path.append(f\"{home}/Documents/projects/CarPriceRegression/data_process/scripts/\")\n",
    "from utils import save_object"
   ]
  },
  {
   "cell_type": "code",
   "execution_count": 4,
   "metadata": {},
   "outputs": [],
   "source": [
    "EmbedCarPrice.set_gpu_limit(6)"
   ]
  },
  {
   "cell_type": "markdown",
   "metadata": {},
   "source": [
    "### Split none onehot encoded data into train,dev and test for categorical embedding"
   ]
  },
  {
   "cell_type": "code",
   "execution_count": 5,
   "metadata": {},
   "outputs": [],
   "source": [
    "data = pd.read_csv(f\"{home}/Documents/projects/CarPriceRegression/processed_data/car_data_merged.csv\")\n",
    "features, y = data.drop(\"price\",axis=1), data.price "
   ]
  },
  {
   "cell_type": "code",
   "execution_count": 6,
   "metadata": {},
   "outputs": [],
   "source": [
    "data_setup = DataSetUp(features,y)\n",
    "X_train,X_dev,X_test,y_train,y_dev,y_test = data_setup.data_split(2020,0.1,True,2020,0.11)"
   ]
  },
  {
   "cell_type": "markdown",
   "metadata": {},
   "source": [
    "### We will embed columns model, transmission, fuelType, and brand\n",
    "\n",
    "--- \n",
    "\n",
    "### Garbage collect"
   ]
  },
  {
   "cell_type": "code",
   "execution_count": 7,
   "metadata": {
    "scrolled": true
   },
   "outputs": [
    {
     "name": "stdout",
     "output_type": "stream",
     "text": [
      "Flushing output cache (0 entries)\n"
     ]
    }
   ],
   "source": [
    "gc.collect()\n",
    "%reset -f out"
   ]
  },
  {
   "cell_type": "markdown",
   "metadata": {},
   "source": [
    "### Setting up some constants for base model"
   ]
  },
  {
   "cell_type": "code",
   "execution_count": 8,
   "metadata": {},
   "outputs": [],
   "source": [
    "EMBED_COLS = [\"model\",\"transmission\",\"brand\",\"fuelType\"]\n",
    "NONEMBED_COLS = [c for c in X_train.columns if c not in EMBED_COLS]\n",
    "BATCH_SIZE = 256 \n",
    "MAX_EPOCH = 1000\n",
    "lr = 1e-3\n",
    "numeric_size = [64,32]\n",
    "model_size = [1024,512,256]\n",
    "DROPOUT= [0.2,0.2]\n",
    "METRICS = [\"MAPE\",\"MAE\"]"
   ]
  },
  {
   "cell_type": "code",
   "execution_count": 9,
   "metadata": {},
   "outputs": [],
   "source": [
    "earlystop = tfk.callbacks.EarlyStopping(monitor=\"val_loss\",mode=\"min\",\n",
    "                                        patience=10,verbose=1,restore_best_weights=True)"
   ]
  },
  {
   "cell_type": "markdown",
   "metadata": {},
   "source": [
    "* model embed model input \n",
    "* transmission embed model input\n",
    "* brand embed model input \n",
    "* fuelType embed model input \n",
    "* numeric input data "
   ]
  },
  {
   "cell_type": "markdown",
   "metadata": {},
   "source": [
    "### Perform categorical feature transformation"
   ]
  },
  {
   "cell_type": "code",
   "execution_count": 10,
   "metadata": {},
   "outputs": [],
   "source": [
    "data_setup.categorical_mapping(X_train,EMBED_COLS)"
   ]
  },
  {
   "cell_type": "code",
   "execution_count": 11,
   "metadata": {},
   "outputs": [],
   "source": [
    "X_train_list,X_dev_list  = data_setup.cate_data_list(X_train),data_setup.cate_data_list(X_dev)\n",
    "X_test_list,features_list = data_setup.cate_data_list(X_test), data_setup.cate_data_list(features)"
   ]
  },
  {
   "cell_type": "code",
   "execution_count": 12,
   "metadata": {},
   "outputs": [],
   "source": [
    "X_train_dataset, X_dev_dataset = (X_train_list,y_train),(X_dev_list,y_dev)"
   ]
  },
  {
   "cell_type": "code",
   "execution_count": 13,
   "metadata": {},
   "outputs": [],
   "source": [
    "base_embed_model = EmbedCarPrice.embed_model_setup(EMBED_COLS,NONEMBED_COLS, \n",
    "                                                   X_train,numeric_size,\n",
    "                                                   model_size,DROPOUT,METRICS,lr)"
   ]
  },
  {
   "cell_type": "code",
   "execution_count": 19,
   "metadata": {},
   "outputs": [],
   "source": [
    "carPrice_embed = EmbedCarPrice(base_embed_model,BATCH_SIZE,MAX_EPOCH,[earlystop])"
   ]
  },
  {
   "cell_type": "code",
   "execution_count": 27,
   "metadata": {
    "scrolled": false
   },
   "outputs": [
    {
     "data": {
      "text/html": [
       "<div>\n",
       "<style scoped>\n",
       "    .dataframe tbody tr th:only-of-type {\n",
       "        vertical-align: middle;\n",
       "    }\n",
       "\n",
       "    .dataframe tbody tr th {\n",
       "        vertical-align: top;\n",
       "    }\n",
       "\n",
       "    .dataframe thead th {\n",
       "        text-align: right;\n",
       "    }\n",
       "</style>\n",
       "<table border=\"1\" class=\"dataframe\">\n",
       "  <thead>\n",
       "    <tr style=\"text-align: right;\">\n",
       "      <th></th>\n",
       "      <th>r2_score</th>\n",
       "      <th>rmse</th>\n",
       "      <th>price_diff_abs_max</th>\n",
       "    </tr>\n",
       "  </thead>\n",
       "  <tbody>\n",
       "    <tr>\n",
       "      <th>train</th>\n",
       "      <td>0.941727</td>\n",
       "      <td>2381.125394</td>\n",
       "      <td>672.539198</td>\n",
       "    </tr>\n",
       "  </tbody>\n",
       "</table>\n",
       "</div>"
      ],
      "text/plain": [
       "       r2_score         rmse  price_diff_abs_max\n",
       "train  0.941727  2381.125394          672.539198"
      ]
     },
     "execution_count": 27,
     "metadata": {},
     "output_type": "execute_result"
    }
   ],
   "source": [
    "carPrice_embed.regression_metrics(X_train_list,y_train,\"train\",True,X_train_dataset,X_dev_dataset,0)"
   ]
  },
  {
   "cell_type": "code",
   "execution_count": 21,
   "metadata": {},
   "outputs": [
    {
     "data": {
      "text/html": [
       "<div>\n",
       "<style scoped>\n",
       "    .dataframe tbody tr th:only-of-type {\n",
       "        vertical-align: middle;\n",
       "    }\n",
       "\n",
       "    .dataframe tbody tr th {\n",
       "        vertical-align: top;\n",
       "    }\n",
       "\n",
       "    .dataframe thead th {\n",
       "        text-align: right;\n",
       "    }\n",
       "</style>\n",
       "<table border=\"1\" class=\"dataframe\">\n",
       "  <thead>\n",
       "    <tr style=\"text-align: right;\">\n",
       "      <th></th>\n",
       "      <th>r2_score</th>\n",
       "      <th>rmse</th>\n",
       "      <th>price_diff_abs_max</th>\n",
       "    </tr>\n",
       "  </thead>\n",
       "  <tbody>\n",
       "    <tr>\n",
       "      <th>test</th>\n",
       "      <td>0.935878</td>\n",
       "      <td>2442.623189</td>\n",
       "      <td>610.638747</td>\n",
       "    </tr>\n",
       "  </tbody>\n",
       "</table>\n",
       "</div>"
      ],
      "text/plain": [
       "      r2_score         rmse  price_diff_abs_max\n",
       "test  0.935878  2442.623189          610.638747"
      ]
     },
     "execution_count": 21,
     "metadata": {},
     "output_type": "execute_result"
    }
   ],
   "source": [
    "carPrice_embed.regression_metrics(X_test_list,y_test,\"test\",False)"
   ]
  },
  {
   "cell_type": "code",
   "execution_count": 22,
   "metadata": {},
   "outputs": [],
   "source": [
    "carPrice_embed.save_model(\"cate_embed_base_model.h5\")"
   ]
  },
  {
   "cell_type": "code",
   "execution_count": 23,
   "metadata": {},
   "outputs": [],
   "source": [
    "base_embed_model = EmbedCarPrice.load_model(\"cate_embed_base_model.h5\")"
   ]
  },
  {
   "cell_type": "code",
   "execution_count": 24,
   "metadata": {},
   "outputs": [
    {
     "data": {
      "image/png": "[encoded data removed]",
      "text/plain": [
       "<Figure size 432x432 with 3 Axes>"
      ]
     },
     "metadata": {
      "needs_background": "light"
     },
     "output_type": "display_data"
    },
    {
     "data": {
      "image/png": "[encoded data removed]",
      "text/plain": [
       "<Figure size 432x288 with 1 Axes>"
      ]
     },
     "metadata": {
      "needs_background": "light"
     },
     "output_type": "display_data"
    }
   ],
   "source": [
    "carPrice_embed.plot_pred_price(features_list,y)"
   ]
  },
  {
   "cell_type": "code",
   "execution_count": 25,
   "metadata": {},
   "outputs": [],
   "source": [
    "price_table = carPrice_embed.price_diff(features,y,features_list)"
   ]
  },
  {
   "cell_type": "code",
   "execution_count": 26,
   "metadata": {
    "scrolled": true
   },
   "outputs": [
    {
     "data": {
      "text/html": [
       "<div>\n",
       "<style scoped>\n",
       "    .dataframe tbody tr th:only-of-type {\n",
       "        vertical-align: middle;\n",
       "    }\n",
       "\n",
       "    .dataframe tbody tr th {\n",
       "        vertical-align: top;\n",
       "    }\n",
       "\n",
       "    .dataframe thead th {\n",
       "        text-align: right;\n",
       "    }\n",
       "</style>\n",
       "<table border=\"1\" class=\"dataframe\">\n",
       "  <thead>\n",
       "    <tr style=\"text-align: right;\">\n",
       "      <th></th>\n",
       "      <th>model</th>\n",
       "      <th>transmission</th>\n",
       "      <th>fuelType</th>\n",
       "      <th>brand</th>\n",
       "      <th>binned_year</th>\n",
       "      <th>mil_cat</th>\n",
       "      <th>binned_mpg</th>\n",
       "      <th>engine_binned</th>\n",
       "      <th>price_diff_pct</th>\n",
       "      <th>price_diff_abs</th>\n",
       "    </tr>\n",
       "  </thead>\n",
       "  <tbody>\n",
       "    <tr>\n",
       "      <th>11984</th>\n",
       "      <td>Golf</td>\n",
       "      <td>Manual</td>\n",
       "      <td>Diesel</td>\n",
       "      <td>vw</td>\n",
       "      <td>1</td>\n",
       "      <td>0</td>\n",
       "      <td>3</td>\n",
       "      <td>0</td>\n",
       "      <td>672.539198</td>\n",
       "      <td>672.539198</td>\n",
       "    </tr>\n",
       "    <tr>\n",
       "      <th>20061</th>\n",
       "      <td>Beetle</td>\n",
       "      <td>Automatic</td>\n",
       "      <td>Petrol</td>\n",
       "      <td>vw</td>\n",
       "      <td>1</td>\n",
       "      <td>0</td>\n",
       "      <td>1</td>\n",
       "      <td>0</td>\n",
       "      <td>655.124726</td>\n",
       "      <td>655.124726</td>\n",
       "    </tr>\n",
       "    <tr>\n",
       "      <th>39978</th>\n",
       "      <td>A Class</td>\n",
       "      <td>Manual</td>\n",
       "      <td>Petrol</td>\n",
       "      <td>merc</td>\n",
       "      <td>1</td>\n",
       "      <td>5</td>\n",
       "      <td>1</td>\n",
       "      <td>0</td>\n",
       "      <td>610.638747</td>\n",
       "      <td>610.638747</td>\n",
       "    </tr>\n",
       "    <tr>\n",
       "      <th>39711</th>\n",
       "      <td>C Class</td>\n",
       "      <td>Automatic</td>\n",
       "      <td>Diesel</td>\n",
       "      <td>merc</td>\n",
       "      <td>1</td>\n",
       "      <td>2</td>\n",
       "      <td>1</td>\n",
       "      <td>1</td>\n",
       "      <td>596.627234</td>\n",
       "      <td>596.627234</td>\n",
       "    </tr>\n",
       "    <tr>\n",
       "      <th>44539</th>\n",
       "      <td>Corsa</td>\n",
       "      <td>Manual</td>\n",
       "      <td>Petrol</td>\n",
       "      <td>vauxhall</td>\n",
       "      <td>1</td>\n",
       "      <td>4</td>\n",
       "      <td>3</td>\n",
       "      <td>0</td>\n",
       "      <td>532.798739</td>\n",
       "      <td>532.798739</td>\n",
       "    </tr>\n",
       "    <tr>\n",
       "      <th>71819</th>\n",
       "      <td>Mondeo</td>\n",
       "      <td>Manual</td>\n",
       "      <td>Diesel</td>\n",
       "      <td>ford</td>\n",
       "      <td>1</td>\n",
       "      <td>0</td>\n",
       "      <td>2</td>\n",
       "      <td>0</td>\n",
       "      <td>491.481766</td>\n",
       "      <td>491.481766</td>\n",
       "    </tr>\n",
       "    <tr>\n",
       "      <th>69135</th>\n",
       "      <td>Mondeo</td>\n",
       "      <td>Manual</td>\n",
       "      <td>Diesel</td>\n",
       "      <td>ford</td>\n",
       "      <td>1</td>\n",
       "      <td>4</td>\n",
       "      <td>2</td>\n",
       "      <td>0</td>\n",
       "      <td>443.949255</td>\n",
       "      <td>443.949255</td>\n",
       "    </tr>\n",
       "    <tr>\n",
       "      <th>39540</th>\n",
       "      <td>M Class</td>\n",
       "      <td>Semi-Auto</td>\n",
       "      <td>Petrol</td>\n",
       "      <td>merc</td>\n",
       "      <td>1</td>\n",
       "      <td>5</td>\n",
       "      <td>1</td>\n",
       "      <td>1</td>\n",
       "      <td>412.202087</td>\n",
       "      <td>412.202087</td>\n",
       "    </tr>\n",
       "    <tr>\n",
       "      <th>77582</th>\n",
       "      <td>Santa Fe</td>\n",
       "      <td>Manual</td>\n",
       "      <td>Petrol</td>\n",
       "      <td>hyundi</td>\n",
       "      <td>1</td>\n",
       "      <td>4</td>\n",
       "      <td>1</td>\n",
       "      <td>1</td>\n",
       "      <td>391.706258</td>\n",
       "      <td>391.706258</td>\n",
       "    </tr>\n",
       "    <tr>\n",
       "      <th>72016</th>\n",
       "      <td>Focus</td>\n",
       "      <td>Manual</td>\n",
       "      <td>Petrol</td>\n",
       "      <td>ford</td>\n",
       "      <td>1</td>\n",
       "      <td>5</td>\n",
       "      <td>2</td>\n",
       "      <td>0</td>\n",
       "      <td>341.720476</td>\n",
       "      <td>341.720476</td>\n",
       "    </tr>\n",
       "    <tr>\n",
       "      <th>72349</th>\n",
       "      <td>Focus</td>\n",
       "      <td>Manual</td>\n",
       "      <td>Petrol</td>\n",
       "      <td>ford</td>\n",
       "      <td>1</td>\n",
       "      <td>4</td>\n",
       "      <td>2</td>\n",
       "      <td>0</td>\n",
       "      <td>336.963965</td>\n",
       "      <td>336.963965</td>\n",
       "    </tr>\n",
       "    <tr>\n",
       "      <th>40171</th>\n",
       "      <td>A Class</td>\n",
       "      <td>Automatic</td>\n",
       "      <td>Petrol</td>\n",
       "      <td>merc</td>\n",
       "      <td>1</td>\n",
       "      <td>4</td>\n",
       "      <td>2</td>\n",
       "      <td>0</td>\n",
       "      <td>335.419542</td>\n",
       "      <td>335.419542</td>\n",
       "    </tr>\n",
       "    <tr>\n",
       "      <th>54900</th>\n",
       "      <td>Agila</td>\n",
       "      <td>Manual</td>\n",
       "      <td>Petrol</td>\n",
       "      <td>vauxhall</td>\n",
       "      <td>1</td>\n",
       "      <td>4</td>\n",
       "      <td>2</td>\n",
       "      <td>0</td>\n",
       "      <td>334.567084</td>\n",
       "      <td>334.567084</td>\n",
       "    </tr>\n",
       "    <tr>\n",
       "      <th>44553</th>\n",
       "      <td>Corsa</td>\n",
       "      <td>Manual</td>\n",
       "      <td>Petrol</td>\n",
       "      <td>vauxhall</td>\n",
       "      <td>1</td>\n",
       "      <td>4</td>\n",
       "      <td>2</td>\n",
       "      <td>0</td>\n",
       "      <td>321.131240</td>\n",
       "      <td>321.131240</td>\n",
       "    </tr>\n",
       "    <tr>\n",
       "      <th>47201</th>\n",
       "      <td>Astra</td>\n",
       "      <td>Manual</td>\n",
       "      <td>Petrol</td>\n",
       "      <td>vauxhall</td>\n",
       "      <td>1</td>\n",
       "      <td>5</td>\n",
       "      <td>2</td>\n",
       "      <td>0</td>\n",
       "      <td>312.001736</td>\n",
       "      <td>312.001736</td>\n",
       "    </tr>\n",
       "    <tr>\n",
       "      <th>71617</th>\n",
       "      <td>Fiesta</td>\n",
       "      <td>Manual</td>\n",
       "      <td>Petrol</td>\n",
       "      <td>ford</td>\n",
       "      <td>1</td>\n",
       "      <td>4</td>\n",
       "      <td>2</td>\n",
       "      <td>0</td>\n",
       "      <td>310.935917</td>\n",
       "      <td>310.935917</td>\n",
       "    </tr>\n",
       "    <tr>\n",
       "      <th>40019</th>\n",
       "      <td>C Class</td>\n",
       "      <td>Automatic</td>\n",
       "      <td>Petrol</td>\n",
       "      <td>merc</td>\n",
       "      <td>1</td>\n",
       "      <td>3</td>\n",
       "      <td>1</td>\n",
       "      <td>0</td>\n",
       "      <td>274.530292</td>\n",
       "      <td>274.530292</td>\n",
       "    </tr>\n",
       "    <tr>\n",
       "      <th>83274</th>\n",
       "      <td>Z4</td>\n",
       "      <td>Manual</td>\n",
       "      <td>Petrol</td>\n",
       "      <td>bmw</td>\n",
       "      <td>2</td>\n",
       "      <td>3</td>\n",
       "      <td>2</td>\n",
       "      <td>0</td>\n",
       "      <td>272.616248</td>\n",
       "      <td>272.616248</td>\n",
       "    </tr>\n",
       "    <tr>\n",
       "      <th>40170</th>\n",
       "      <td>A Class</td>\n",
       "      <td>Manual</td>\n",
       "      <td>Diesel</td>\n",
       "      <td>merc</td>\n",
       "      <td>1</td>\n",
       "      <td>5</td>\n",
       "      <td>3</td>\n",
       "      <td>0</td>\n",
       "      <td>271.510634</td>\n",
       "      <td>271.510634</td>\n",
       "    </tr>\n",
       "    <tr>\n",
       "      <th>289</th>\n",
       "      <td>Corolla</td>\n",
       "      <td>Automatic</td>\n",
       "      <td>Petrol</td>\n",
       "      <td>toyota</td>\n",
       "      <td>1</td>\n",
       "      <td>4</td>\n",
       "      <td>1</td>\n",
       "      <td>0</td>\n",
       "      <td>265.764749</td>\n",
       "      <td>265.764749</td>\n",
       "    </tr>\n",
       "  </tbody>\n",
       "</table>\n",
       "</div>"
      ],
      "text/plain": [
       "           model transmission fuelType     brand  binned_year  mil_cat  \\\n",
       "11984       Golf       Manual   Diesel        vw            1        0   \n",
       "20061     Beetle    Automatic   Petrol        vw            1        0   \n",
       "39978    A Class       Manual   Petrol      merc            1        5   \n",
       "39711    C Class    Automatic   Diesel      merc            1        2   \n",
       "44539      Corsa       Manual   Petrol  vauxhall            1        4   \n",
       "71819     Mondeo       Manual   Diesel      ford            1        0   \n",
       "69135     Mondeo       Manual   Diesel      ford            1        4   \n",
       "39540    M Class    Semi-Auto   Petrol      merc            1        5   \n",
       "77582   Santa Fe       Manual   Petrol    hyundi            1        4   \n",
       "72016      Focus       Manual   Petrol      ford            1        5   \n",
       "72349      Focus       Manual   Petrol      ford            1        4   \n",
       "40171    A Class    Automatic   Petrol      merc            1        4   \n",
       "54900      Agila       Manual   Petrol  vauxhall            1        4   \n",
       "44553      Corsa       Manual   Petrol  vauxhall            1        4   \n",
       "47201      Astra       Manual   Petrol  vauxhall            1        5   \n",
       "71617     Fiesta       Manual   Petrol      ford            1        4   \n",
       "40019    C Class    Automatic   Petrol      merc            1        3   \n",
       "83274         Z4       Manual   Petrol       bmw            2        3   \n",
       "40170    A Class       Manual   Diesel      merc            1        5   \n",
       "289      Corolla    Automatic   Petrol    toyota            1        4   \n",
       "\n",
       "       binned_mpg  engine_binned  price_diff_pct  price_diff_abs  \n",
       "11984           3              0      672.539198      672.539198  \n",
       "20061           1              0      655.124726      655.124726  \n",
       "39978           1              0      610.638747      610.638747  \n",
       "39711           1              1      596.627234      596.627234  \n",
       "44539           3              0      532.798739      532.798739  \n",
       "71819           2              0      491.481766      491.481766  \n",
       "69135           2              0      443.949255      443.949255  \n",
       "39540           1              1      412.202087      412.202087  \n",
       "77582           1              1      391.706258      391.706258  \n",
       "72016           2              0      341.720476      341.720476  \n",
       "72349           2              0      336.963965      336.963965  \n",
       "40171           2              0      335.419542      335.419542  \n",
       "54900           2              0      334.567084      334.567084  \n",
       "44553           2              0      321.131240      321.131240  \n",
       "47201           2              0      312.001736      312.001736  \n",
       "71617           2              0      310.935917      310.935917  \n",
       "40019           1              0      274.530292      274.530292  \n",
       "83274           2              0      272.616248      272.616248  \n",
       "40170           3              0      271.510634      271.510634  \n",
       "289             1              0      265.764749      265.764749  "
      ]
     },
     "execution_count": 26,
     "metadata": {},
     "output_type": "execute_result"
    }
   ],
   "source": [
    "price_table.head(20)"
   ]
  },
  {
   "cell_type": "markdown",
   "metadata": {},
   "source": [
    "### similar to regular NN"
   ]
  },
  {
   "cell_type": "markdown",
   "metadata": {},
   "source": [
    "### Let's try a bigger model and see if it helps and increase embed size with slower learning rate "
   ]
  },
  {
   "cell_type": "code",
   "execution_count": 14,
   "metadata": {},
   "outputs": [],
   "source": [
    "EMBED_COLS = [\"model\",\"transmission\",\"brand\",\"fuelType\"]\n",
    "NONEMBED_COLS = [c for c in X_train.columns if c not in EMBED_COLS]\n",
    "BATCH_SIZE = 256 \n",
    "MAX_EPOCH = 1000\n",
    "lr = 5e-4\n",
    "numeric_size = [128,64]\n",
    "model_size = [1024,512,256]\n",
    "DROPOUT= [0.1,0.1]\n",
    "METRICS = [\"MAPE\",\"MAE\"]"
   ]
  },
  {
   "cell_type": "code",
   "execution_count": 15,
   "metadata": {},
   "outputs": [],
   "source": [
    "bigger_embed_model = EmbedCarPrice.embed_model_setup(EMBED_COLS,NONEMBED_COLS,\n",
    "                                                     X_train,numeric_size,model_size,DROPOUT,METRICS,lr,2)"
   ]
  },
  {
   "cell_type": "code",
   "execution_count": 17,
   "metadata": {},
   "outputs": [],
   "source": [
    "carPrice_embed_bigger = EmbedCarPrice(bigger_embed_model,BATCH_SIZE,MAX_EPOCH,[earlystop])"
   ]
  },
  {
   "cell_type": "code",
   "execution_count": 18,
   "metadata": {},
   "outputs": [
    {
     "name": "stdout",
     "output_type": "stream",
     "text": [
      "Restoring model weights from the end of the best epoch.\n",
      "Epoch 00092: early stopping\n"
     ]
    },
    {
     "data": {
      "text/html": [
       "<div>\n",
       "<style scoped>\n",
       "    .dataframe tbody tr th:only-of-type {\n",
       "        vertical-align: middle;\n",
       "    }\n",
       "\n",
       "    .dataframe tbody tr th {\n",
       "        vertical-align: top;\n",
       "    }\n",
       "\n",
       "    .dataframe thead th {\n",
       "        text-align: right;\n",
       "    }\n",
       "</style>\n",
       "<table border=\"1\" class=\"dataframe\">\n",
       "  <thead>\n",
       "    <tr style=\"text-align: right;\">\n",
       "      <th></th>\n",
       "      <th>r2_score</th>\n",
       "      <th>rmse</th>\n",
       "      <th>price_diff_abs_max</th>\n",
       "    </tr>\n",
       "  </thead>\n",
       "  <tbody>\n",
       "    <tr>\n",
       "      <th>train</th>\n",
       "      <td>0.943776</td>\n",
       "      <td>2338.885517</td>\n",
       "      <td>701.052192</td>\n",
       "    </tr>\n",
       "  </tbody>\n",
       "</table>\n",
       "</div>"
      ],
      "text/plain": [
       "       r2_score         rmse  price_diff_abs_max\n",
       "train  0.943776  2338.885517          701.052192"
      ]
     },
     "execution_count": 18,
     "metadata": {},
     "output_type": "execute_result"
    }
   ],
   "source": [
    "carPrice_embed_bigger.regression_metrics(X_train_list,y_train,\"train\",True,X_train_dataset,X_dev_dataset,0)"
   ]
  },
  {
   "cell_type": "code",
   "execution_count": 19,
   "metadata": {},
   "outputs": [
    {
     "data": {
      "text/html": [
       "<div>\n",
       "<style scoped>\n",
       "    .dataframe tbody tr th:only-of-type {\n",
       "        vertical-align: middle;\n",
       "    }\n",
       "\n",
       "    .dataframe tbody tr th {\n",
       "        vertical-align: top;\n",
       "    }\n",
       "\n",
       "    .dataframe thead th {\n",
       "        text-align: right;\n",
       "    }\n",
       "</style>\n",
       "<table border=\"1\" class=\"dataframe\">\n",
       "  <thead>\n",
       "    <tr style=\"text-align: right;\">\n",
       "      <th></th>\n",
       "      <th>r2_score</th>\n",
       "      <th>rmse</th>\n",
       "      <th>price_diff_abs_max</th>\n",
       "    </tr>\n",
       "  </thead>\n",
       "  <tbody>\n",
       "    <tr>\n",
       "      <th>test</th>\n",
       "      <td>0.937064</td>\n",
       "      <td>2419.922708</td>\n",
       "      <td>341.538048</td>\n",
       "    </tr>\n",
       "  </tbody>\n",
       "</table>\n",
       "</div>"
      ],
      "text/plain": [
       "      r2_score         rmse  price_diff_abs_max\n",
       "test  0.937064  2419.922708          341.538048"
      ]
     },
     "execution_count": 19,
     "metadata": {},
     "output_type": "execute_result"
    }
   ],
   "source": [
    "carPrice_embed_bigger.regression_metrics(X_test_list,y_test,\"test\",False)"
   ]
  },
  {
   "cell_type": "code",
   "execution_count": 20,
   "metadata": {},
   "outputs": [],
   "source": [
    "carPrice_embed_bigger.save_model(\"bigger_embed.h5\")"
   ]
  },
  {
   "cell_type": "code",
   "execution_count": 21,
   "metadata": {},
   "outputs": [],
   "source": [
    "bigger_embed = EmbedCarPrice.load_model(\"bigger_embed.h5\")"
   ]
  },
  {
   "cell_type": "code",
   "execution_count": 22,
   "metadata": {},
   "outputs": [
    {
     "data": {
      "image/png": "[encoded data removed]",
      "text/plain": [
       "<Figure size 432x432 with 3 Axes>"
      ]
     },
     "metadata": {
      "needs_background": "light"
     },
     "output_type": "display_data"
    },
    {
     "data": {
      "image/png": "[encoded data removed]",
      "text/plain": [
       "<Figure size 432x288 with 1 Axes>"
      ]
     },
     "metadata": {
      "needs_background": "light"
     },
     "output_type": "display_data"
    }
   ],
   "source": [
    "carPrice_embed_bigger.plot_pred_price(features_list,y)"
   ]
  },
  {
   "cell_type": "code",
   "execution_count": 23,
   "metadata": {
    "scrolled": false
   },
   "outputs": [],
   "source": [
    "price_table = carPrice_embed_bigger.price_diff(features,y,features_list)"
   ]
  },
  {
   "cell_type": "code",
   "execution_count": 24,
   "metadata": {},
   "outputs": [
    {
     "data": {
      "text/html": [
       "<div>\n",
       "<style scoped>\n",
       "    .dataframe tbody tr th:only-of-type {\n",
       "        vertical-align: middle;\n",
       "    }\n",
       "\n",
       "    .dataframe tbody tr th {\n",
       "        vertical-align: top;\n",
       "    }\n",
       "\n",
       "    .dataframe thead th {\n",
       "        text-align: right;\n",
       "    }\n",
       "</style>\n",
       "<table border=\"1\" class=\"dataframe\">\n",
       "  <thead>\n",
       "    <tr style=\"text-align: right;\">\n",
       "      <th></th>\n",
       "      <th>model</th>\n",
       "      <th>transmission</th>\n",
       "      <th>fuelType</th>\n",
       "      <th>brand</th>\n",
       "      <th>binned_year</th>\n",
       "      <th>mil_cat</th>\n",
       "      <th>binned_mpg</th>\n",
       "      <th>engine_binned</th>\n",
       "      <th>price_diff_pct</th>\n",
       "      <th>price_diff_abs</th>\n",
       "    </tr>\n",
       "  </thead>\n",
       "  <tbody>\n",
       "    <tr>\n",
       "      <th>11984</th>\n",
       "      <td>Golf</td>\n",
       "      <td>Manual</td>\n",
       "      <td>Diesel</td>\n",
       "      <td>vw</td>\n",
       "      <td>1</td>\n",
       "      <td>0</td>\n",
       "      <td>3</td>\n",
       "      <td>0</td>\n",
       "      <td>701.052192</td>\n",
       "      <td>701.052192</td>\n",
       "    </tr>\n",
       "    <tr>\n",
       "      <th>20061</th>\n",
       "      <td>Beetle</td>\n",
       "      <td>Automatic</td>\n",
       "      <td>Petrol</td>\n",
       "      <td>vw</td>\n",
       "      <td>1</td>\n",
       "      <td>0</td>\n",
       "      <td>1</td>\n",
       "      <td>0</td>\n",
       "      <td>678.596716</td>\n",
       "      <td>678.596716</td>\n",
       "    </tr>\n",
       "    <tr>\n",
       "      <th>71819</th>\n",
       "      <td>Mondeo</td>\n",
       "      <td>Manual</td>\n",
       "      <td>Diesel</td>\n",
       "      <td>ford</td>\n",
       "      <td>1</td>\n",
       "      <td>0</td>\n",
       "      <td>2</td>\n",
       "      <td>0</td>\n",
       "      <td>544.818054</td>\n",
       "      <td>544.818054</td>\n",
       "    </tr>\n",
       "    <tr>\n",
       "      <th>39711</th>\n",
       "      <td>C Class</td>\n",
       "      <td>Automatic</td>\n",
       "      <td>Diesel</td>\n",
       "      <td>merc</td>\n",
       "      <td>1</td>\n",
       "      <td>2</td>\n",
       "      <td>1</td>\n",
       "      <td>1</td>\n",
       "      <td>539.077197</td>\n",
       "      <td>539.077197</td>\n",
       "    </tr>\n",
       "    <tr>\n",
       "      <th>77582</th>\n",
       "      <td>Santa Fe</td>\n",
       "      <td>Manual</td>\n",
       "      <td>Petrol</td>\n",
       "      <td>hyundi</td>\n",
       "      <td>1</td>\n",
       "      <td>4</td>\n",
       "      <td>1</td>\n",
       "      <td>1</td>\n",
       "      <td>469.191691</td>\n",
       "      <td>469.191691</td>\n",
       "    </tr>\n",
       "    <tr>\n",
       "      <th>44539</th>\n",
       "      <td>Corsa</td>\n",
       "      <td>Manual</td>\n",
       "      <td>Petrol</td>\n",
       "      <td>vauxhall</td>\n",
       "      <td>1</td>\n",
       "      <td>4</td>\n",
       "      <td>3</td>\n",
       "      <td>0</td>\n",
       "      <td>400.513386</td>\n",
       "      <td>400.513386</td>\n",
       "    </tr>\n",
       "    <tr>\n",
       "      <th>69135</th>\n",
       "      <td>Mondeo</td>\n",
       "      <td>Manual</td>\n",
       "      <td>Diesel</td>\n",
       "      <td>ford</td>\n",
       "      <td>1</td>\n",
       "      <td>4</td>\n",
       "      <td>2</td>\n",
       "      <td>0</td>\n",
       "      <td>396.827763</td>\n",
       "      <td>396.827763</td>\n",
       "    </tr>\n",
       "    <tr>\n",
       "      <th>39540</th>\n",
       "      <td>M Class</td>\n",
       "      <td>Semi-Auto</td>\n",
       "      <td>Petrol</td>\n",
       "      <td>merc</td>\n",
       "      <td>1</td>\n",
       "      <td>5</td>\n",
       "      <td>1</td>\n",
       "      <td>1</td>\n",
       "      <td>388.236656</td>\n",
       "      <td>388.236656</td>\n",
       "    </tr>\n",
       "    <tr>\n",
       "      <th>39978</th>\n",
       "      <td>A Class</td>\n",
       "      <td>Manual</td>\n",
       "      <td>Petrol</td>\n",
       "      <td>merc</td>\n",
       "      <td>1</td>\n",
       "      <td>5</td>\n",
       "      <td>1</td>\n",
       "      <td>0</td>\n",
       "      <td>341.538048</td>\n",
       "      <td>341.538048</td>\n",
       "    </tr>\n",
       "    <tr>\n",
       "      <th>71617</th>\n",
       "      <td>Fiesta</td>\n",
       "      <td>Manual</td>\n",
       "      <td>Petrol</td>\n",
       "      <td>ford</td>\n",
       "      <td>1</td>\n",
       "      <td>4</td>\n",
       "      <td>2</td>\n",
       "      <td>0</td>\n",
       "      <td>327.830413</td>\n",
       "      <td>327.830413</td>\n",
       "    </tr>\n",
       "    <tr>\n",
       "      <th>83274</th>\n",
       "      <td>Z4</td>\n",
       "      <td>Manual</td>\n",
       "      <td>Petrol</td>\n",
       "      <td>bmw</td>\n",
       "      <td>2</td>\n",
       "      <td>3</td>\n",
       "      <td>2</td>\n",
       "      <td>0</td>\n",
       "      <td>289.121487</td>\n",
       "      <td>289.121487</td>\n",
       "    </tr>\n",
       "    <tr>\n",
       "      <th>39336</th>\n",
       "      <td>S Class</td>\n",
       "      <td>Automatic</td>\n",
       "      <td>Diesel</td>\n",
       "      <td>merc</td>\n",
       "      <td>1</td>\n",
       "      <td>5</td>\n",
       "      <td>1</td>\n",
       "      <td>1</td>\n",
       "      <td>265.449564</td>\n",
       "      <td>265.449564</td>\n",
       "    </tr>\n",
       "    <tr>\n",
       "      <th>6309</th>\n",
       "      <td>Prius</td>\n",
       "      <td>Automatic</td>\n",
       "      <td>Hybrid</td>\n",
       "      <td>toyota</td>\n",
       "      <td>1</td>\n",
       "      <td>5</td>\n",
       "      <td>4</td>\n",
       "      <td>0</td>\n",
       "      <td>259.750204</td>\n",
       "      <td>259.750204</td>\n",
       "    </tr>\n",
       "    <tr>\n",
       "      <th>78800</th>\n",
       "      <td>X3</td>\n",
       "      <td>Semi-Auto</td>\n",
       "      <td>Diesel</td>\n",
       "      <td>bmw</td>\n",
       "      <td>2</td>\n",
       "      <td>2</td>\n",
       "      <td>3</td>\n",
       "      <td>0</td>\n",
       "      <td>257.291212</td>\n",
       "      <td>257.291212</td>\n",
       "    </tr>\n",
       "    <tr>\n",
       "      <th>72349</th>\n",
       "      <td>Focus</td>\n",
       "      <td>Manual</td>\n",
       "      <td>Petrol</td>\n",
       "      <td>ford</td>\n",
       "      <td>1</td>\n",
       "      <td>4</td>\n",
       "      <td>2</td>\n",
       "      <td>0</td>\n",
       "      <td>241.920726</td>\n",
       "      <td>241.920726</td>\n",
       "    </tr>\n",
       "    <tr>\n",
       "      <th>85021</th>\n",
       "      <td>5 Series</td>\n",
       "      <td>Automatic</td>\n",
       "      <td>Petrol</td>\n",
       "      <td>bmw</td>\n",
       "      <td>1</td>\n",
       "      <td>5</td>\n",
       "      <td>1</td>\n",
       "      <td>1</td>\n",
       "      <td>241.330482</td>\n",
       "      <td>241.330482</td>\n",
       "    </tr>\n",
       "    <tr>\n",
       "      <th>40019</th>\n",
       "      <td>C Class</td>\n",
       "      <td>Automatic</td>\n",
       "      <td>Petrol</td>\n",
       "      <td>merc</td>\n",
       "      <td>1</td>\n",
       "      <td>3</td>\n",
       "      <td>1</td>\n",
       "      <td>0</td>\n",
       "      <td>235.799093</td>\n",
       "      <td>235.799093</td>\n",
       "    </tr>\n",
       "    <tr>\n",
       "      <th>40171</th>\n",
       "      <td>A Class</td>\n",
       "      <td>Automatic</td>\n",
       "      <td>Petrol</td>\n",
       "      <td>merc</td>\n",
       "      <td>1</td>\n",
       "      <td>4</td>\n",
       "      <td>2</td>\n",
       "      <td>0</td>\n",
       "      <td>235.575005</td>\n",
       "      <td>235.575005</td>\n",
       "    </tr>\n",
       "    <tr>\n",
       "      <th>52100</th>\n",
       "      <td>Zafira</td>\n",
       "      <td>Manual</td>\n",
       "      <td>Diesel</td>\n",
       "      <td>vauxhall</td>\n",
       "      <td>2</td>\n",
       "      <td>5</td>\n",
       "      <td>3</td>\n",
       "      <td>0</td>\n",
       "      <td>224.723202</td>\n",
       "      <td>224.723202</td>\n",
       "    </tr>\n",
       "    <tr>\n",
       "      <th>289</th>\n",
       "      <td>Corolla</td>\n",
       "      <td>Automatic</td>\n",
       "      <td>Petrol</td>\n",
       "      <td>toyota</td>\n",
       "      <td>1</td>\n",
       "      <td>4</td>\n",
       "      <td>1</td>\n",
       "      <td>0</td>\n",
       "      <td>222.388374</td>\n",
       "      <td>222.388374</td>\n",
       "    </tr>\n",
       "  </tbody>\n",
       "</table>\n",
       "</div>"
      ],
      "text/plain": [
       "           model transmission fuelType     brand  binned_year  mil_cat  \\\n",
       "11984       Golf       Manual   Diesel        vw            1        0   \n",
       "20061     Beetle    Automatic   Petrol        vw            1        0   \n",
       "71819     Mondeo       Manual   Diesel      ford            1        0   \n",
       "39711    C Class    Automatic   Diesel      merc            1        2   \n",
       "77582   Santa Fe       Manual   Petrol    hyundi            1        4   \n",
       "44539      Corsa       Manual   Petrol  vauxhall            1        4   \n",
       "69135     Mondeo       Manual   Diesel      ford            1        4   \n",
       "39540    M Class    Semi-Auto   Petrol      merc            1        5   \n",
       "39978    A Class       Manual   Petrol      merc            1        5   \n",
       "71617     Fiesta       Manual   Petrol      ford            1        4   \n",
       "83274         Z4       Manual   Petrol       bmw            2        3   \n",
       "39336    S Class    Automatic   Diesel      merc            1        5   \n",
       "6309       Prius    Automatic   Hybrid    toyota            1        5   \n",
       "78800         X3    Semi-Auto   Diesel       bmw            2        2   \n",
       "72349      Focus       Manual   Petrol      ford            1        4   \n",
       "85021   5 Series    Automatic   Petrol       bmw            1        5   \n",
       "40019    C Class    Automatic   Petrol      merc            1        3   \n",
       "40171    A Class    Automatic   Petrol      merc            1        4   \n",
       "52100     Zafira       Manual   Diesel  vauxhall            2        5   \n",
       "289      Corolla    Automatic   Petrol    toyota            1        4   \n",
       "\n",
       "       binned_mpg  engine_binned  price_diff_pct  price_diff_abs  \n",
       "11984           3              0      701.052192      701.052192  \n",
       "20061           1              0      678.596716      678.596716  \n",
       "71819           2              0      544.818054      544.818054  \n",
       "39711           1              1      539.077197      539.077197  \n",
       "77582           1              1      469.191691      469.191691  \n",
       "44539           3              0      400.513386      400.513386  \n",
       "69135           2              0      396.827763      396.827763  \n",
       "39540           1              1      388.236656      388.236656  \n",
       "39978           1              0      341.538048      341.538048  \n",
       "71617           2              0      327.830413      327.830413  \n",
       "83274           2              0      289.121487      289.121487  \n",
       "39336           1              1      265.449564      265.449564  \n",
       "6309            4              0      259.750204      259.750204  \n",
       "78800           3              0      257.291212      257.291212  \n",
       "72349           2              0      241.920726      241.920726  \n",
       "85021           1              1      241.330482      241.330482  \n",
       "40019           1              0      235.799093      235.799093  \n",
       "40171           2              0      235.575005      235.575005  \n",
       "52100           3              0      224.723202      224.723202  \n",
       "289             1              0      222.388374      222.388374  "
      ]
     },
     "execution_count": 24,
     "metadata": {},
     "output_type": "execute_result"
    }
   ],
   "source": [
    "price_table.head(20)"
   ]
  },
  {
   "cell_type": "markdown",
   "metadata": {},
   "source": [
    "### Performance is slightly better but still have bin year and mil category issues. "
   ]
  },
  {
   "cell_type": "markdown",
   "metadata": {},
   "source": [
    "### Try embed other binned numerical features and see if the performance improves "
   ]
  },
  {
   "cell_type": "code",
   "execution_count": 25,
   "metadata": {},
   "outputs": [],
   "source": [
    "EMBED_COLS = [\"model\",\"transmission\",\"brand\",\"fuelType\",\"binned_year\",\"mil_cat\",\"binned_mpg\",\"engine_binned\"]\n",
    "NONEMBED_COLS = [c for c in features.columns if c not in EMBED_COLS]\n",
    "BATCH_SIZE = 256 \n",
    "MAX_EPOCH = 1000\n",
    "lr = 5e-4\n",
    "numeric_size = [128,64]\n",
    "model_size = [1024,512,256]\n",
    "DROPOUT= [0.1,0.1]\n",
    "METRICS = [\"MAPE\",\"MAE\"]"
   ]
  },
  {
   "cell_type": "code",
   "execution_count": 26,
   "metadata": {},
   "outputs": [],
   "source": [
    "data_setup.categorical_mapping(X_train,EMBED_COLS)"
   ]
  },
  {
   "cell_type": "code",
   "execution_count": 27,
   "metadata": {},
   "outputs": [],
   "source": [
    "X_train_list,X_dev_list  = data_setup.cate_data_list(X_train),data_setup.cate_data_list(X_dev)\n",
    "X_test_list,features_list = data_setup.cate_data_list(X_test), data_setup.cate_data_list(features)"
   ]
  },
  {
   "cell_type": "code",
   "execution_count": 28,
   "metadata": {},
   "outputs": [],
   "source": [
    "X_train_dataset, X_dev_dataset = (X_train_list,y_train),(X_dev_list,y_dev)"
   ]
  },
  {
   "cell_type": "code",
   "execution_count": 29,
   "metadata": {},
   "outputs": [],
   "source": [
    "all_embed_model = EmbedCarPrice.embed_model_setup(EMBED_COLS,NONEMBED_COLS, \n",
    "                                                   X_train,numeric_size,\n",
    "                                                   model_size,DROPOUT,METRICS,lr,2)"
   ]
  },
  {
   "cell_type": "code",
   "execution_count": 30,
   "metadata": {},
   "outputs": [],
   "source": [
    "carPrice_embed_all = EmbedCarPrice(all_embed_model,BATCH_SIZE,MAX_EPOCH,[earlystop])"
   ]
  },
  {
   "cell_type": "code",
   "execution_count": 37,
   "metadata": {
    "scrolled": false
   },
   "outputs": [
    {
     "data": {
      "text/html": [
       "<div>\n",
       "<style scoped>\n",
       "    .dataframe tbody tr th:only-of-type {\n",
       "        vertical-align: middle;\n",
       "    }\n",
       "\n",
       "    .dataframe tbody tr th {\n",
       "        vertical-align: top;\n",
       "    }\n",
       "\n",
       "    .dataframe thead th {\n",
       "        text-align: right;\n",
       "    }\n",
       "</style>\n",
       "<table border=\"1\" class=\"dataframe\">\n",
       "  <thead>\n",
       "    <tr style=\"text-align: right;\">\n",
       "      <th></th>\n",
       "      <th>r2_score</th>\n",
       "      <th>rmse</th>\n",
       "      <th>price_diff_abs_max</th>\n",
       "    </tr>\n",
       "  </thead>\n",
       "  <tbody>\n",
       "    <tr>\n",
       "      <th>train</th>\n",
       "      <td>0.946604</td>\n",
       "      <td>2279.312564</td>\n",
       "      <td>460.742459</td>\n",
       "    </tr>\n",
       "  </tbody>\n",
       "</table>\n",
       "</div>"
      ],
      "text/plain": [
       "       r2_score         rmse  price_diff_abs_max\n",
       "train  0.946604  2279.312564          460.742459"
      ]
     },
     "execution_count": 37,
     "metadata": {},
     "output_type": "execute_result"
    }
   ],
   "source": [
    "carPrice_embed_all.regression_metrics(X_train_list,y_train,\"train\",True,X_train_dataset,X_dev_dataset,0)"
   ]
  },
  {
   "cell_type": "code",
   "execution_count": 32,
   "metadata": {},
   "outputs": [
    {
     "data": {
      "text/html": [
       "<div>\n",
       "<style scoped>\n",
       "    .dataframe tbody tr th:only-of-type {\n",
       "        vertical-align: middle;\n",
       "    }\n",
       "\n",
       "    .dataframe tbody tr th {\n",
       "        vertical-align: top;\n",
       "    }\n",
       "\n",
       "    .dataframe thead th {\n",
       "        text-align: right;\n",
       "    }\n",
       "</style>\n",
       "<table border=\"1\" class=\"dataframe\">\n",
       "  <thead>\n",
       "    <tr style=\"text-align: right;\">\n",
       "      <th></th>\n",
       "      <th>r2_score</th>\n",
       "      <th>rmse</th>\n",
       "      <th>price_diff_abs_max</th>\n",
       "    </tr>\n",
       "  </thead>\n",
       "  <tbody>\n",
       "    <tr>\n",
       "      <th>test</th>\n",
       "      <td>0.939804</td>\n",
       "      <td>2366.658146</td>\n",
       "      <td>231.284968</td>\n",
       "    </tr>\n",
       "  </tbody>\n",
       "</table>\n",
       "</div>"
      ],
      "text/plain": [
       "      r2_score         rmse  price_diff_abs_max\n",
       "test  0.939804  2366.658146          231.284968"
      ]
     },
     "execution_count": 32,
     "metadata": {},
     "output_type": "execute_result"
    }
   ],
   "source": [
    "carPrice_embed_all.regression_metrics(X_test_list,y_test,\"test\",False)"
   ]
  },
  {
   "cell_type": "code",
   "execution_count": 33,
   "metadata": {},
   "outputs": [],
   "source": [
    "carPrice_embed_all.save_model(\"All_embed.h5\")"
   ]
  },
  {
   "cell_type": "code",
   "execution_count": 34,
   "metadata": {},
   "outputs": [],
   "source": [
    "all_embed = EmbedCarPrice.load_model(\"All_embed.h5\")"
   ]
  },
  {
   "cell_type": "code",
   "execution_count": 35,
   "metadata": {},
   "outputs": [
    {
     "data": {
      "image/png": "[encoded data removed]",
      "text/plain": [
       "<Figure size 432x432 with 3 Axes>"
      ]
     },
     "metadata": {
      "needs_background": "light"
     },
     "output_type": "display_data"
    },
    {
     "data": {
      "image/png": "[encoded data removed]",
      "text/plain": [
       "<Figure size 432x288 with 1 Axes>"
      ]
     },
     "metadata": {
      "needs_background": "light"
     },
     "output_type": "display_data"
    }
   ],
   "source": [
    "carPrice_embed_all.plot_pred_price(features_list,y)"
   ]
  },
  {
   "cell_type": "code",
   "execution_count": 36,
   "metadata": {},
   "outputs": [
    {
     "data": {
      "text/html": [
       "<div>\n",
       "<style scoped>\n",
       "    .dataframe tbody tr th:only-of-type {\n",
       "        vertical-align: middle;\n",
       "    }\n",
       "\n",
       "    .dataframe tbody tr th {\n",
       "        vertical-align: top;\n",
       "    }\n",
       "\n",
       "    .dataframe thead th {\n",
       "        text-align: right;\n",
       "    }\n",
       "</style>\n",
       "<table border=\"1\" class=\"dataframe\">\n",
       "  <thead>\n",
       "    <tr style=\"text-align: right;\">\n",
       "      <th></th>\n",
       "      <th>model</th>\n",
       "      <th>transmission</th>\n",
       "      <th>fuelType</th>\n",
       "      <th>brand</th>\n",
       "      <th>binned_year</th>\n",
       "      <th>mil_cat</th>\n",
       "      <th>binned_mpg</th>\n",
       "      <th>engine_binned</th>\n",
       "      <th>price_diff_pct</th>\n",
       "      <th>price_diff_abs</th>\n",
       "    </tr>\n",
       "  </thead>\n",
       "  <tbody>\n",
       "    <tr>\n",
       "      <th>20061</th>\n",
       "      <td>Beetle</td>\n",
       "      <td>Automatic</td>\n",
       "      <td>Petrol</td>\n",
       "      <td>vw</td>\n",
       "      <td>1</td>\n",
       "      <td>0</td>\n",
       "      <td>1</td>\n",
       "      <td>0</td>\n",
       "      <td>460.742459</td>\n",
       "      <td>460.742459</td>\n",
       "    </tr>\n",
       "    <tr>\n",
       "      <th>44539</th>\n",
       "      <td>Corsa</td>\n",
       "      <td>Manual</td>\n",
       "      <td>Petrol</td>\n",
       "      <td>vauxhall</td>\n",
       "      <td>1</td>\n",
       "      <td>4</td>\n",
       "      <td>3</td>\n",
       "      <td>0</td>\n",
       "      <td>457.882388</td>\n",
       "      <td>457.882388</td>\n",
       "    </tr>\n",
       "    <tr>\n",
       "      <th>11984</th>\n",
       "      <td>Golf</td>\n",
       "      <td>Manual</td>\n",
       "      <td>Diesel</td>\n",
       "      <td>vw</td>\n",
       "      <td>1</td>\n",
       "      <td>0</td>\n",
       "      <td>3</td>\n",
       "      <td>0</td>\n",
       "      <td>437.112044</td>\n",
       "      <td>437.112044</td>\n",
       "    </tr>\n",
       "    <tr>\n",
       "      <th>77582</th>\n",
       "      <td>Santa Fe</td>\n",
       "      <td>Manual</td>\n",
       "      <td>Petrol</td>\n",
       "      <td>hyundi</td>\n",
       "      <td>1</td>\n",
       "      <td>4</td>\n",
       "      <td>1</td>\n",
       "      <td>1</td>\n",
       "      <td>387.896647</td>\n",
       "      <td>387.896647</td>\n",
       "    </tr>\n",
       "    <tr>\n",
       "      <th>39711</th>\n",
       "      <td>C Class</td>\n",
       "      <td>Automatic</td>\n",
       "      <td>Diesel</td>\n",
       "      <td>merc</td>\n",
       "      <td>1</td>\n",
       "      <td>2</td>\n",
       "      <td>1</td>\n",
       "      <td>1</td>\n",
       "      <td>334.351909</td>\n",
       "      <td>334.351909</td>\n",
       "    </tr>\n",
       "    <tr>\n",
       "      <th>47201</th>\n",
       "      <td>Astra</td>\n",
       "      <td>Manual</td>\n",
       "      <td>Petrol</td>\n",
       "      <td>vauxhall</td>\n",
       "      <td>1</td>\n",
       "      <td>5</td>\n",
       "      <td>2</td>\n",
       "      <td>0</td>\n",
       "      <td>324.522135</td>\n",
       "      <td>324.522135</td>\n",
       "    </tr>\n",
       "    <tr>\n",
       "      <th>71819</th>\n",
       "      <td>Mondeo</td>\n",
       "      <td>Manual</td>\n",
       "      <td>Diesel</td>\n",
       "      <td>ford</td>\n",
       "      <td>1</td>\n",
       "      <td>0</td>\n",
       "      <td>2</td>\n",
       "      <td>0</td>\n",
       "      <td>321.693445</td>\n",
       "      <td>321.693445</td>\n",
       "    </tr>\n",
       "    <tr>\n",
       "      <th>69135</th>\n",
       "      <td>Mondeo</td>\n",
       "      <td>Manual</td>\n",
       "      <td>Diesel</td>\n",
       "      <td>ford</td>\n",
       "      <td>1</td>\n",
       "      <td>4</td>\n",
       "      <td>2</td>\n",
       "      <td>0</td>\n",
       "      <td>315.575376</td>\n",
       "      <td>315.575376</td>\n",
       "    </tr>\n",
       "    <tr>\n",
       "      <th>39540</th>\n",
       "      <td>M Class</td>\n",
       "      <td>Semi-Auto</td>\n",
       "      <td>Petrol</td>\n",
       "      <td>merc</td>\n",
       "      <td>1</td>\n",
       "      <td>5</td>\n",
       "      <td>1</td>\n",
       "      <td>1</td>\n",
       "      <td>298.956816</td>\n",
       "      <td>298.956816</td>\n",
       "    </tr>\n",
       "    <tr>\n",
       "      <th>71617</th>\n",
       "      <td>Fiesta</td>\n",
       "      <td>Manual</td>\n",
       "      <td>Petrol</td>\n",
       "      <td>ford</td>\n",
       "      <td>1</td>\n",
       "      <td>4</td>\n",
       "      <td>2</td>\n",
       "      <td>0</td>\n",
       "      <td>298.324998</td>\n",
       "      <td>298.324998</td>\n",
       "    </tr>\n",
       "    <tr>\n",
       "      <th>78800</th>\n",
       "      <td>X3</td>\n",
       "      <td>Semi-Auto</td>\n",
       "      <td>Diesel</td>\n",
       "      <td>bmw</td>\n",
       "      <td>2</td>\n",
       "      <td>2</td>\n",
       "      <td>3</td>\n",
       "      <td>0</td>\n",
       "      <td>265.772839</td>\n",
       "      <td>265.772839</td>\n",
       "    </tr>\n",
       "    <tr>\n",
       "      <th>44745</th>\n",
       "      <td>Astra</td>\n",
       "      <td>Manual</td>\n",
       "      <td>Diesel</td>\n",
       "      <td>vauxhall</td>\n",
       "      <td>1</td>\n",
       "      <td>5</td>\n",
       "      <td>3</td>\n",
       "      <td>0</td>\n",
       "      <td>263.112565</td>\n",
       "      <td>263.112565</td>\n",
       "    </tr>\n",
       "    <tr>\n",
       "      <th>83274</th>\n",
       "      <td>Z4</td>\n",
       "      <td>Manual</td>\n",
       "      <td>Petrol</td>\n",
       "      <td>bmw</td>\n",
       "      <td>2</td>\n",
       "      <td>3</td>\n",
       "      <td>2</td>\n",
       "      <td>0</td>\n",
       "      <td>261.339459</td>\n",
       "      <td>261.339459</td>\n",
       "    </tr>\n",
       "    <tr>\n",
       "      <th>72349</th>\n",
       "      <td>Focus</td>\n",
       "      <td>Manual</td>\n",
       "      <td>Petrol</td>\n",
       "      <td>ford</td>\n",
       "      <td>1</td>\n",
       "      <td>4</td>\n",
       "      <td>2</td>\n",
       "      <td>0</td>\n",
       "      <td>252.479578</td>\n",
       "      <td>252.479578</td>\n",
       "    </tr>\n",
       "    <tr>\n",
       "      <th>72016</th>\n",
       "      <td>Focus</td>\n",
       "      <td>Manual</td>\n",
       "      <td>Petrol</td>\n",
       "      <td>ford</td>\n",
       "      <td>1</td>\n",
       "      <td>5</td>\n",
       "      <td>2</td>\n",
       "      <td>0</td>\n",
       "      <td>235.778488</td>\n",
       "      <td>235.778488</td>\n",
       "    </tr>\n",
       "    <tr>\n",
       "      <th>44553</th>\n",
       "      <td>Corsa</td>\n",
       "      <td>Manual</td>\n",
       "      <td>Petrol</td>\n",
       "      <td>vauxhall</td>\n",
       "      <td>1</td>\n",
       "      <td>4</td>\n",
       "      <td>2</td>\n",
       "      <td>0</td>\n",
       "      <td>231.543486</td>\n",
       "      <td>231.543486</td>\n",
       "    </tr>\n",
       "    <tr>\n",
       "      <th>39978</th>\n",
       "      <td>A Class</td>\n",
       "      <td>Manual</td>\n",
       "      <td>Petrol</td>\n",
       "      <td>merc</td>\n",
       "      <td>1</td>\n",
       "      <td>5</td>\n",
       "      <td>1</td>\n",
       "      <td>0</td>\n",
       "      <td>231.284968</td>\n",
       "      <td>231.284968</td>\n",
       "    </tr>\n",
       "    <tr>\n",
       "      <th>52100</th>\n",
       "      <td>Zafira</td>\n",
       "      <td>Manual</td>\n",
       "      <td>Diesel</td>\n",
       "      <td>vauxhall</td>\n",
       "      <td>2</td>\n",
       "      <td>5</td>\n",
       "      <td>3</td>\n",
       "      <td>0</td>\n",
       "      <td>211.038411</td>\n",
       "      <td>211.038411</td>\n",
       "    </tr>\n",
       "    <tr>\n",
       "      <th>47347</th>\n",
       "      <td>Astra</td>\n",
       "      <td>Manual</td>\n",
       "      <td>Diesel</td>\n",
       "      <td>vauxhall</td>\n",
       "      <td>1</td>\n",
       "      <td>5</td>\n",
       "      <td>3</td>\n",
       "      <td>0</td>\n",
       "      <td>196.897920</td>\n",
       "      <td>196.897920</td>\n",
       "    </tr>\n",
       "    <tr>\n",
       "      <th>85021</th>\n",
       "      <td>5 Series</td>\n",
       "      <td>Automatic</td>\n",
       "      <td>Petrol</td>\n",
       "      <td>bmw</td>\n",
       "      <td>1</td>\n",
       "      <td>5</td>\n",
       "      <td>1</td>\n",
       "      <td>1</td>\n",
       "      <td>193.695172</td>\n",
       "      <td>193.695172</td>\n",
       "    </tr>\n",
       "  </tbody>\n",
       "</table>\n",
       "</div>"
      ],
      "text/plain": [
       "           model transmission fuelType     brand  binned_year  mil_cat  \\\n",
       "20061     Beetle    Automatic   Petrol        vw            1        0   \n",
       "44539      Corsa       Manual   Petrol  vauxhall            1        4   \n",
       "11984       Golf       Manual   Diesel        vw            1        0   \n",
       "77582   Santa Fe       Manual   Petrol    hyundi            1        4   \n",
       "39711    C Class    Automatic   Diesel      merc            1        2   \n",
       "47201      Astra       Manual   Petrol  vauxhall            1        5   \n",
       "71819     Mondeo       Manual   Diesel      ford            1        0   \n",
       "69135     Mondeo       Manual   Diesel      ford            1        4   \n",
       "39540    M Class    Semi-Auto   Petrol      merc            1        5   \n",
       "71617     Fiesta       Manual   Petrol      ford            1        4   \n",
       "78800         X3    Semi-Auto   Diesel       bmw            2        2   \n",
       "44745      Astra       Manual   Diesel  vauxhall            1        5   \n",
       "83274         Z4       Manual   Petrol       bmw            2        3   \n",
       "72349      Focus       Manual   Petrol      ford            1        4   \n",
       "72016      Focus       Manual   Petrol      ford            1        5   \n",
       "44553      Corsa       Manual   Petrol  vauxhall            1        4   \n",
       "39978    A Class       Manual   Petrol      merc            1        5   \n",
       "52100     Zafira       Manual   Diesel  vauxhall            2        5   \n",
       "47347      Astra       Manual   Diesel  vauxhall            1        5   \n",
       "85021   5 Series    Automatic   Petrol       bmw            1        5   \n",
       "\n",
       "       binned_mpg  engine_binned  price_diff_pct  price_diff_abs  \n",
       "20061           1              0      460.742459      460.742459  \n",
       "44539           3              0      457.882388      457.882388  \n",
       "11984           3              0      437.112044      437.112044  \n",
       "77582           1              1      387.896647      387.896647  \n",
       "39711           1              1      334.351909      334.351909  \n",
       "47201           2              0      324.522135      324.522135  \n",
       "71819           2              0      321.693445      321.693445  \n",
       "69135           2              0      315.575376      315.575376  \n",
       "39540           1              1      298.956816      298.956816  \n",
       "71617           2              0      298.324998      298.324998  \n",
       "78800           3              0      265.772839      265.772839  \n",
       "44745           3              0      263.112565      263.112565  \n",
       "83274           2              0      261.339459      261.339459  \n",
       "72349           2              0      252.479578      252.479578  \n",
       "72016           2              0      235.778488      235.778488  \n",
       "44553           2              0      231.543486      231.543486  \n",
       "39978           1              0      231.284968      231.284968  \n",
       "52100           3              0      211.038411      211.038411  \n",
       "47347           3              0      196.897920      196.897920  \n",
       "85021           1              1      193.695172      193.695172  "
      ]
     },
     "execution_count": 36,
     "metadata": {},
     "output_type": "execute_result"
    }
   ],
   "source": [
    "price_table = carPrice_embed_all.price_diff(features,y,features_list)\n",
    "price_table.head(20)"
   ]
  },
  {
   "cell_type": "markdown",
   "metadata": {},
   "source": [
    "### Slightly improved, still have same issues with older year. Let's import original raw data"
   ]
  },
  {
   "cell_type": "code",
   "execution_count": 39,
   "metadata": {},
   "outputs": [],
   "source": [
    "data_raw = pd.read_csv(f\"{home}/Documents/projects/CarPriceRegression/processed_data/car_data_raw.csv\")\n",
    "features_raw,y_raw = data_raw.drop(\"price\",axis=1),data_raw.price"
   ]
  },
  {
   "cell_type": "code",
   "execution_count": 40,
   "metadata": {},
   "outputs": [],
   "source": [
    "data_setup_raw = DataSetUp(features_raw,y_raw)\n",
    "X_train_raw,X_dev_raw,X_test_raw,y_train_raw,y_dev_raw,y_test_raw = data_setup_raw.data_split(2020,0.1,True,2020,0.11)"
   ]
  },
  {
   "cell_type": "code",
   "execution_count": 41,
   "metadata": {},
   "outputs": [],
   "source": [
    "EMBED_COLS = [\"model\",\"transmission\",\"brand\",\"fuelType\",\"year\"]\n",
    "NONEMBED_COLS = [c for c in X_train_raw.columns if c not in EMBED_COLS]\n",
    "BATCH_SIZE = 256 \n",
    "MAX_EPOCH = 1000\n",
    "lr = 5e-4\n",
    "numeric_size = [128]\n",
    "model_size = [1024,512,256]\n",
    "DROPOUT= [0.1,0.1]\n",
    "METRICS = [\"MAPE\",\"MAE\"]"
   ]
  },
  {
   "cell_type": "code",
   "execution_count": 42,
   "metadata": {},
   "outputs": [],
   "source": [
    "data_setup_raw.categorical_mapping(X_train_raw,EMBED_COLS)"
   ]
  },
  {
   "cell_type": "code",
   "execution_count": 43,
   "metadata": {},
   "outputs": [],
   "source": [
    "X_train_list_r,X_dev_list_r = data_setup_raw.cate_data_list(X_train_raw),data_setup_raw.cate_data_list(X_dev_raw)\n",
    "X_test_list_r, features_list_r = data_setup_raw.cate_data_list(X_test_raw),data_setup_raw.cate_data_list(features_raw)"
   ]
  },
  {
   "cell_type": "code",
   "execution_count": 44,
   "metadata": {},
   "outputs": [],
   "source": [
    "train_dataset_r,dev_dataset_r = (X_train_list_r,y_train_raw),(X_dev_list_r,y_dev_raw)"
   ]
  },
  {
   "cell_type": "code",
   "execution_count": 45,
   "metadata": {},
   "outputs": [],
   "source": [
    "carPrice_embed_raw = EmbedCarPrice.embed_model_setup(EMBED_COLS,NONEMBED_COLS,X_train_raw,\n",
    "                                                     numeric_size,model_size,DROPOUT,METRICS,lr,2)"
   ]
  },
  {
   "cell_type": "code",
   "execution_count": 46,
   "metadata": {},
   "outputs": [],
   "source": [
    "carPrice_embed_raw = EmbedCarPrice(carPrice_embed_raw,BATCH_SIZE,MAX_EPOCH,[earlystop])"
   ]
  },
  {
   "cell_type": "code",
   "execution_count": 47,
   "metadata": {
    "scrolled": true
   },
   "outputs": [
    {
     "name": "stdout",
     "output_type": "stream",
     "text": [
      "Restoring model weights from the end of the best epoch.\n",
      "Epoch 00070: early stopping\n"
     ]
    },
    {
     "data": {
      "text/html": [
       "<div>\n",
       "<style scoped>\n",
       "    .dataframe tbody tr th:only-of-type {\n",
       "        vertical-align: middle;\n",
       "    }\n",
       "\n",
       "    .dataframe tbody tr th {\n",
       "        vertical-align: top;\n",
       "    }\n",
       "\n",
       "    .dataframe thead th {\n",
       "        text-align: right;\n",
       "    }\n",
       "</style>\n",
       "<table border=\"1\" class=\"dataframe\">\n",
       "  <thead>\n",
       "    <tr style=\"text-align: right;\">\n",
       "      <th></th>\n",
       "      <th>r2_score</th>\n",
       "      <th>rmse</th>\n",
       "      <th>price_diff_abs_max</th>\n",
       "    </tr>\n",
       "  </thead>\n",
       "  <tbody>\n",
       "    <tr>\n",
       "      <th>train</th>\n",
       "      <td>0.939784</td>\n",
       "      <td>2420.493017</td>\n",
       "      <td>971.147352</td>\n",
       "    </tr>\n",
       "  </tbody>\n",
       "</table>\n",
       "</div>"
      ],
      "text/plain": [
       "       r2_score         rmse  price_diff_abs_max\n",
       "train  0.939784  2420.493017          971.147352"
      ]
     },
     "execution_count": 47,
     "metadata": {},
     "output_type": "execute_result"
    }
   ],
   "source": [
    "carPrice_embed_raw.regression_metrics(X_train_list_r,y_train_raw,\"train\",True,train_dataset_r,dev_dataset_r,0)"
   ]
  },
  {
   "cell_type": "code",
   "execution_count": 48,
   "metadata": {},
   "outputs": [
    {
     "data": {
      "text/html": [
       "<div>\n",
       "<style scoped>\n",
       "    .dataframe tbody tr th:only-of-type {\n",
       "        vertical-align: middle;\n",
       "    }\n",
       "\n",
       "    .dataframe tbody tr th {\n",
       "        vertical-align: top;\n",
       "    }\n",
       "\n",
       "    .dataframe thead th {\n",
       "        text-align: right;\n",
       "    }\n",
       "</style>\n",
       "<table border=\"1\" class=\"dataframe\">\n",
       "  <thead>\n",
       "    <tr style=\"text-align: right;\">\n",
       "      <th></th>\n",
       "      <th>r2_score</th>\n",
       "      <th>rmse</th>\n",
       "      <th>price_diff_abs_max</th>\n",
       "    </tr>\n",
       "  </thead>\n",
       "  <tbody>\n",
       "    <tr>\n",
       "      <th>test</th>\n",
       "      <td>0.935868</td>\n",
       "      <td>2442.804105</td>\n",
       "      <td>368.683744</td>\n",
       "    </tr>\n",
       "  </tbody>\n",
       "</table>\n",
       "</div>"
      ],
      "text/plain": [
       "      r2_score         rmse  price_diff_abs_max\n",
       "test  0.935868  2442.804105          368.683744"
      ]
     },
     "execution_count": 48,
     "metadata": {},
     "output_type": "execute_result"
    }
   ],
   "source": [
    "carPrice_embed_raw.regression_metrics(X_test_list_r,y_test_raw,\"test\",False)"
   ]
  },
  {
   "cell_type": "code",
   "execution_count": 49,
   "metadata": {},
   "outputs": [],
   "source": [
    "carPrice_embed_raw.save_model(\"model_embed_raw.h5\")"
   ]
  },
  {
   "cell_type": "code",
   "execution_count": 50,
   "metadata": {},
   "outputs": [],
   "source": [
    "embed_model_r = EmbedCarPrice.load_model(\"model_embed_raw.h5\")"
   ]
  },
  {
   "cell_type": "code",
   "execution_count": 51,
   "metadata": {
    "scrolled": true
   },
   "outputs": [
    {
     "data": {
      "image/png": "[encoded data removed]",
      "text/plain": [
       "<Figure size 432x432 with 3 Axes>"
      ]
     },
     "metadata": {
      "needs_background": "light"
     },
     "output_type": "display_data"
    },
    {
     "data": {
      "image/png": "[encoded data removed]",
      "text/plain": [
       "<Figure size 432x288 with 1 Axes>"
      ]
     },
     "metadata": {
      "needs_background": "light"
     },
     "output_type": "display_data"
    }
   ],
   "source": [
    "carPrice_embed_raw.plot_pred_price(features_list_r,y_raw)"
   ]
  },
  {
   "cell_type": "code",
   "execution_count": 52,
   "metadata": {},
   "outputs": [
    {
     "data": {
      "text/html": [
       "<div>\n",
       "<style scoped>\n",
       "    .dataframe tbody tr th:only-of-type {\n",
       "        vertical-align: middle;\n",
       "    }\n",
       "\n",
       "    .dataframe tbody tr th {\n",
       "        vertical-align: top;\n",
       "    }\n",
       "\n",
       "    .dataframe thead th {\n",
       "        text-align: right;\n",
       "    }\n",
       "</style>\n",
       "<table border=\"1\" class=\"dataframe\">\n",
       "  <thead>\n",
       "    <tr style=\"text-align: right;\">\n",
       "      <th></th>\n",
       "      <th>model</th>\n",
       "      <th>year</th>\n",
       "      <th>transmission</th>\n",
       "      <th>mileage</th>\n",
       "      <th>fuelType</th>\n",
       "      <th>mpg</th>\n",
       "      <th>engineSize</th>\n",
       "      <th>brand</th>\n",
       "      <th>price_diff_pct</th>\n",
       "      <th>price_diff_abs</th>\n",
       "    </tr>\n",
       "  </thead>\n",
       "  <tbody>\n",
       "    <tr>\n",
       "      <th>11984</th>\n",
       "      <td>Golf</td>\n",
       "      <td>2008</td>\n",
       "      <td>Manual</td>\n",
       "      <td>1</td>\n",
       "      <td>Diesel</td>\n",
       "      <td>53.3</td>\n",
       "      <td>1.9</td>\n",
       "      <td>vw</td>\n",
       "      <td>971.147352</td>\n",
       "      <td>971.147352</td>\n",
       "    </tr>\n",
       "    <tr>\n",
       "      <th>71819</th>\n",
       "      <td>Mondeo</td>\n",
       "      <td>2008</td>\n",
       "      <td>Manual</td>\n",
       "      <td>1</td>\n",
       "      <td>Diesel</td>\n",
       "      <td>47.9</td>\n",
       "      <td>2.0</td>\n",
       "      <td>ford</td>\n",
       "      <td>772.674969</td>\n",
       "      <td>772.674969</td>\n",
       "    </tr>\n",
       "    <tr>\n",
       "      <th>20061</th>\n",
       "      <td>Beetle</td>\n",
       "      <td>2001</td>\n",
       "      <td>Automatic</td>\n",
       "      <td>1</td>\n",
       "      <td>Petrol</td>\n",
       "      <td>29.7</td>\n",
       "      <td>2.0</td>\n",
       "      <td>vw</td>\n",
       "      <td>709.528165</td>\n",
       "      <td>709.528165</td>\n",
       "    </tr>\n",
       "    <tr>\n",
       "      <th>72016</th>\n",
       "      <td>Focus</td>\n",
       "      <td>2003</td>\n",
       "      <td>Manual</td>\n",
       "      <td>177644</td>\n",
       "      <td>Petrol</td>\n",
       "      <td>41.5</td>\n",
       "      <td>1.6</td>\n",
       "      <td>ford</td>\n",
       "      <td>430.203204</td>\n",
       "      <td>430.203204</td>\n",
       "    </tr>\n",
       "    <tr>\n",
       "      <th>39978</th>\n",
       "      <td>A Class</td>\n",
       "      <td>2003</td>\n",
       "      <td>Manual</td>\n",
       "      <td>109090</td>\n",
       "      <td>Petrol</td>\n",
       "      <td>40.0</td>\n",
       "      <td>1.4</td>\n",
       "      <td>merc</td>\n",
       "      <td>368.683744</td>\n",
       "      <td>368.683744</td>\n",
       "    </tr>\n",
       "    <tr>\n",
       "      <th>83274</th>\n",
       "      <td>Z4</td>\n",
       "      <td>2014</td>\n",
       "      <td>Manual</td>\n",
       "      <td>31074</td>\n",
       "      <td>Petrol</td>\n",
       "      <td>41.5</td>\n",
       "      <td>2.0</td>\n",
       "      <td>bmw</td>\n",
       "      <td>332.227991</td>\n",
       "      <td>332.227991</td>\n",
       "    </tr>\n",
       "    <tr>\n",
       "      <th>27964</th>\n",
       "      <td>Octavia</td>\n",
       "      <td>2010</td>\n",
       "      <td>Manual</td>\n",
       "      <td>300000</td>\n",
       "      <td>Diesel</td>\n",
       "      <td>57.6</td>\n",
       "      <td>1.9</td>\n",
       "      <td>skoda</td>\n",
       "      <td>329.999056</td>\n",
       "      <td>329.999056</td>\n",
       "    </tr>\n",
       "    <tr>\n",
       "      <th>52100</th>\n",
       "      <td>Zafira</td>\n",
       "      <td>2013</td>\n",
       "      <td>Manual</td>\n",
       "      <td>279000</td>\n",
       "      <td>Diesel</td>\n",
       "      <td>55.4</td>\n",
       "      <td>1.7</td>\n",
       "      <td>vauxhall</td>\n",
       "      <td>309.311471</td>\n",
       "      <td>309.311471</td>\n",
       "    </tr>\n",
       "    <tr>\n",
       "      <th>39336</th>\n",
       "      <td>S Class</td>\n",
       "      <td>2001</td>\n",
       "      <td>Automatic</td>\n",
       "      <td>108800</td>\n",
       "      <td>Diesel</td>\n",
       "      <td>31.7</td>\n",
       "      <td>3.2</td>\n",
       "      <td>merc</td>\n",
       "      <td>264.743098</td>\n",
       "      <td>264.743098</td>\n",
       "    </tr>\n",
       "    <tr>\n",
       "      <th>40170</th>\n",
       "      <td>A Class</td>\n",
       "      <td>2010</td>\n",
       "      <td>Manual</td>\n",
       "      <td>116126</td>\n",
       "      <td>Diesel</td>\n",
       "      <td>54.3</td>\n",
       "      <td>2.0</td>\n",
       "      <td>merc</td>\n",
       "      <td>258.127315</td>\n",
       "      <td>258.127315</td>\n",
       "    </tr>\n",
       "    <tr>\n",
       "      <th>6427</th>\n",
       "      <td>Avensis</td>\n",
       "      <td>2003</td>\n",
       "      <td>Manual</td>\n",
       "      <td>167054</td>\n",
       "      <td>Diesel</td>\n",
       "      <td>48.7</td>\n",
       "      <td>2.0</td>\n",
       "      <td>toyota</td>\n",
       "      <td>236.336455</td>\n",
       "      <td>236.336455</td>\n",
       "    </tr>\n",
       "    <tr>\n",
       "      <th>78800</th>\n",
       "      <td>X3</td>\n",
       "      <td>2013</td>\n",
       "      <td>Semi-Auto</td>\n",
       "      <td>26000</td>\n",
       "      <td>Diesel</td>\n",
       "      <td>50.4</td>\n",
       "      <td>2.0</td>\n",
       "      <td>bmw</td>\n",
       "      <td>225.437841</td>\n",
       "      <td>225.437841</td>\n",
       "    </tr>\n",
       "    <tr>\n",
       "      <th>27480</th>\n",
       "      <td>Octavia</td>\n",
       "      <td>2010</td>\n",
       "      <td>Manual</td>\n",
       "      <td>250650</td>\n",
       "      <td>Diesel</td>\n",
       "      <td>57.6</td>\n",
       "      <td>1.9</td>\n",
       "      <td>skoda</td>\n",
       "      <td>223.387817</td>\n",
       "      <td>223.387817</td>\n",
       "    </tr>\n",
       "    <tr>\n",
       "      <th>13060</th>\n",
       "      <td>Passat</td>\n",
       "      <td>2010</td>\n",
       "      <td>Manual</td>\n",
       "      <td>168000</td>\n",
       "      <td>Diesel</td>\n",
       "      <td>60.1</td>\n",
       "      <td>2.0</td>\n",
       "      <td>vw</td>\n",
       "      <td>217.860218</td>\n",
       "      <td>217.860218</td>\n",
       "    </tr>\n",
       "    <tr>\n",
       "      <th>44309</th>\n",
       "      <td>Corsa</td>\n",
       "      <td>2010</td>\n",
       "      <td>Manual</td>\n",
       "      <td>104000</td>\n",
       "      <td>Diesel</td>\n",
       "      <td>67.3</td>\n",
       "      <td>1.2</td>\n",
       "      <td>vauxhall</td>\n",
       "      <td>211.483046</td>\n",
       "      <td>211.483046</td>\n",
       "    </tr>\n",
       "    <tr>\n",
       "      <th>39540</th>\n",
       "      <td>M Class</td>\n",
       "      <td>2004</td>\n",
       "      <td>Semi-Auto</td>\n",
       "      <td>165000</td>\n",
       "      <td>Petrol</td>\n",
       "      <td>20.0</td>\n",
       "      <td>3.7</td>\n",
       "      <td>merc</td>\n",
       "      <td>196.240430</td>\n",
       "      <td>196.240430</td>\n",
       "    </tr>\n",
       "    <tr>\n",
       "      <th>87433</th>\n",
       "      <td>3 Series</td>\n",
       "      <td>2004</td>\n",
       "      <td>Manual</td>\n",
       "      <td>162000</td>\n",
       "      <td>Diesel</td>\n",
       "      <td>49.6</td>\n",
       "      <td>2.0</td>\n",
       "      <td>bmw</td>\n",
       "      <td>195.948448</td>\n",
       "      <td>195.948448</td>\n",
       "    </tr>\n",
       "    <tr>\n",
       "      <th>7512</th>\n",
       "      <td>Golf</td>\n",
       "      <td>2004</td>\n",
       "      <td>Manual</td>\n",
       "      <td>170000</td>\n",
       "      <td>Diesel</td>\n",
       "      <td>52.3</td>\n",
       "      <td>2.0</td>\n",
       "      <td>vw</td>\n",
       "      <td>195.228350</td>\n",
       "      <td>195.228350</td>\n",
       "    </tr>\n",
       "    <tr>\n",
       "      <th>29517</th>\n",
       "      <td>GLE Class</td>\n",
       "      <td>2016</td>\n",
       "      <td>Semi-Auto</td>\n",
       "      <td>77456</td>\n",
       "      <td>Diesel</td>\n",
       "      <td>42.8</td>\n",
       "      <td>3.0</td>\n",
       "      <td>merc</td>\n",
       "      <td>194.270943</td>\n",
       "      <td>194.270943</td>\n",
       "    </tr>\n",
       "    <tr>\n",
       "      <th>99106</th>\n",
       "      <td>A3</td>\n",
       "      <td>2003</td>\n",
       "      <td>Automatic</td>\n",
       "      <td>101000</td>\n",
       "      <td>Diesel</td>\n",
       "      <td>44.5</td>\n",
       "      <td>1.9</td>\n",
       "      <td>audi</td>\n",
       "      <td>189.751632</td>\n",
       "      <td>189.751632</td>\n",
       "    </tr>\n",
       "  </tbody>\n",
       "</table>\n",
       "</div>"
      ],
      "text/plain": [
       "            model  year transmission  mileage fuelType   mpg  engineSize  \\\n",
       "11984        Golf  2008       Manual        1   Diesel  53.3         1.9   \n",
       "71819      Mondeo  2008       Manual        1   Diesel  47.9         2.0   \n",
       "20061      Beetle  2001    Automatic        1   Petrol  29.7         2.0   \n",
       "72016       Focus  2003       Manual   177644   Petrol  41.5         1.6   \n",
       "39978     A Class  2003       Manual   109090   Petrol  40.0         1.4   \n",
       "83274          Z4  2014       Manual    31074   Petrol  41.5         2.0   \n",
       "27964     Octavia  2010       Manual   300000   Diesel  57.6         1.9   \n",
       "52100      Zafira  2013       Manual   279000   Diesel  55.4         1.7   \n",
       "39336     S Class  2001    Automatic   108800   Diesel  31.7         3.2   \n",
       "40170     A Class  2010       Manual   116126   Diesel  54.3         2.0   \n",
       "6427      Avensis  2003       Manual   167054   Diesel  48.7         2.0   \n",
       "78800          X3  2013    Semi-Auto    26000   Diesel  50.4         2.0   \n",
       "27480     Octavia  2010       Manual   250650   Diesel  57.6         1.9   \n",
       "13060      Passat  2010       Manual   168000   Diesel  60.1         2.0   \n",
       "44309       Corsa  2010       Manual   104000   Diesel  67.3         1.2   \n",
       "39540     M Class  2004    Semi-Auto   165000   Petrol  20.0         3.7   \n",
       "87433    3 Series  2004       Manual   162000   Diesel  49.6         2.0   \n",
       "7512         Golf  2004       Manual   170000   Diesel  52.3         2.0   \n",
       "29517   GLE Class  2016    Semi-Auto    77456   Diesel  42.8         3.0   \n",
       "99106          A3  2003    Automatic   101000   Diesel  44.5         1.9   \n",
       "\n",
       "          brand  price_diff_pct  price_diff_abs  \n",
       "11984        vw      971.147352      971.147352  \n",
       "71819      ford      772.674969      772.674969  \n",
       "20061        vw      709.528165      709.528165  \n",
       "72016      ford      430.203204      430.203204  \n",
       "39978      merc      368.683744      368.683744  \n",
       "83274       bmw      332.227991      332.227991  \n",
       "27964     skoda      329.999056      329.999056  \n",
       "52100  vauxhall      309.311471      309.311471  \n",
       "39336      merc      264.743098      264.743098  \n",
       "40170      merc      258.127315      258.127315  \n",
       "6427     toyota      236.336455      236.336455  \n",
       "78800       bmw      225.437841      225.437841  \n",
       "27480     skoda      223.387817      223.387817  \n",
       "13060        vw      217.860218      217.860218  \n",
       "44309  vauxhall      211.483046      211.483046  \n",
       "39540      merc      196.240430      196.240430  \n",
       "87433       bmw      195.948448      195.948448  \n",
       "7512         vw      195.228350      195.228350  \n",
       "29517      merc      194.270943      194.270943  \n",
       "99106      audi      189.751632      189.751632  "
      ]
     },
     "execution_count": 52,
     "metadata": {},
     "output_type": "execute_result"
    }
   ],
   "source": [
    "price_table = carPrice_embed_raw.price_diff(features_raw,y_raw,features_list_r)\n",
    "price_table.head(20)"
   ]
  },
  {
   "cell_type": "markdown",
   "metadata": {},
   "source": [
    "### Let's use binned numeric data instead of raw numeric value"
   ]
  },
  {
   "cell_type": "code",
   "execution_count": 53,
   "metadata": {},
   "outputs": [],
   "source": [
    "combined = data.drop(\"binned_year\",axis=1).merge(data_raw[\"year\"],left_index=True,right_index=True)\n",
    "features_c,y_c = combined.drop(\"price\",axis=1), combined.price"
   ]
  },
  {
   "cell_type": "code",
   "execution_count": 54,
   "metadata": {},
   "outputs": [],
   "source": [
    "data_setup_c = DataSetUp(features_c,y_c)"
   ]
  },
  {
   "cell_type": "code",
   "execution_count": 55,
   "metadata": {},
   "outputs": [],
   "source": [
    "X_train_c,X_dev_c,X_test_c,y_train_c,y_dev_c,y_test_c  = data_setup_c.data_split(2020,0.05,True,2020,0.05)"
   ]
  },
  {
   "cell_type": "code",
   "execution_count": 56,
   "metadata": {},
   "outputs": [],
   "source": [
    "EMBED_COLS = [\"model\",\"transmission\",\"brand\",\"fuelType\",\"year\",\"mil_cat\",\"binned_mpg\",\"engine_binned\"]\n",
    "NONEMBED_COLS = [c for c in X_train_c.columns if c not in EMBED_COLS]\n",
    "BATCH_SIZE = 256 \n",
    "MAX_EPOCH = 1000\n",
    "lr = 5e-4\n",
    "numeric_size = [128,64]\n",
    "model_size = [1024,512,256]\n",
    "DROPOUT= [0.1,0.1]\n",
    "METRICS = [\"MAPE\",\"MAE\"]"
   ]
  },
  {
   "cell_type": "code",
   "execution_count": 57,
   "metadata": {},
   "outputs": [],
   "source": [
    "data_setup_c.categorical_mapping(X_train_c,EMBED_COLS)"
   ]
  },
  {
   "cell_type": "code",
   "execution_count": 58,
   "metadata": {},
   "outputs": [],
   "source": [
    "X_train_list_c,X_dev_list_c = data_setup_c.cate_data_list(X_train_c), data_setup_c.cate_data_list(X_dev_c)"
   ]
  },
  {
   "cell_type": "code",
   "execution_count": 59,
   "metadata": {},
   "outputs": [],
   "source": [
    "X_test_list_c,features_list_c = data_setup_c.cate_data_list(X_test_c),data_setup_c.cate_data_list(features_c)"
   ]
  },
  {
   "cell_type": "code",
   "execution_count": 60,
   "metadata": {},
   "outputs": [],
   "source": [
    "X_train_dataset_c,X_dev_dataset_c = (X_train_list_c,y_train_c),(X_dev_list_c,y_dev_c)"
   ]
  },
  {
   "cell_type": "code",
   "execution_count": 61,
   "metadata": {},
   "outputs": [],
   "source": [
    "embed_model_c= EmbedCarPrice.embed_model_setup(EMBED_COLS,NONEMBED_COLS,X_train_c,\n",
    "                                               numeric_size,model_size,DROPOUT,\n",
    "                                               METRICS,lr,2)"
   ]
  },
  {
   "cell_type": "code",
   "execution_count": 62,
   "metadata": {},
   "outputs": [],
   "source": [
    "carPriceEmbed_c = EmbedCarPrice(embed_model_c,BATCH_SIZE,MAX_EPOCH,[earlystop])"
   ]
  },
  {
   "cell_type": "code",
   "execution_count": 64,
   "metadata": {
    "scrolled": false
   },
   "outputs": [
    {
     "name": "stdout",
     "output_type": "stream",
     "text": [
      "Restoring model weights from the end of the best epoch.\n",
      "Epoch 00066: early stopping\n"
     ]
    },
    {
     "data": {
      "text/html": [
       "<div>\n",
       "<style scoped>\n",
       "    .dataframe tbody tr th:only-of-type {\n",
       "        vertical-align: middle;\n",
       "    }\n",
       "\n",
       "    .dataframe tbody tr th {\n",
       "        vertical-align: top;\n",
       "    }\n",
       "\n",
       "    .dataframe thead th {\n",
       "        text-align: right;\n",
       "    }\n",
       "</style>\n",
       "<table border=\"1\" class=\"dataframe\">\n",
       "  <thead>\n",
       "    <tr style=\"text-align: right;\">\n",
       "      <th></th>\n",
       "      <th>r2_score</th>\n",
       "      <th>rmse</th>\n",
       "      <th>price_diff_abs_max</th>\n",
       "    </tr>\n",
       "  </thead>\n",
       "  <tbody>\n",
       "    <tr>\n",
       "      <th>train</th>\n",
       "      <td>0.951795</td>\n",
       "      <td>2172.023907</td>\n",
       "      <td>376.69549</td>\n",
       "    </tr>\n",
       "  </tbody>\n",
       "</table>\n",
       "</div>"
      ],
      "text/plain": [
       "       r2_score         rmse  price_diff_abs_max\n",
       "train  0.951795  2172.023907           376.69549"
      ]
     },
     "execution_count": 64,
     "metadata": {},
     "output_type": "execute_result"
    }
   ],
   "source": [
    "carPriceEmbed_c.regression_metrics(X_train_list_c,y_train_c,\"train\",True,X_train_dataset_c,X_dev_dataset_c,0)"
   ]
  },
  {
   "cell_type": "code",
   "execution_count": 65,
   "metadata": {},
   "outputs": [
    {
     "data": {
      "text/html": [
       "<div>\n",
       "<style scoped>\n",
       "    .dataframe tbody tr th:only-of-type {\n",
       "        vertical-align: middle;\n",
       "    }\n",
       "\n",
       "    .dataframe tbody tr th {\n",
       "        vertical-align: top;\n",
       "    }\n",
       "\n",
       "    .dataframe thead th {\n",
       "        text-align: right;\n",
       "    }\n",
       "</style>\n",
       "<table border=\"1\" class=\"dataframe\">\n",
       "  <thead>\n",
       "    <tr style=\"text-align: right;\">\n",
       "      <th></th>\n",
       "      <th>r2_score</th>\n",
       "      <th>rmse</th>\n",
       "      <th>price_diff_abs_max</th>\n",
       "    </tr>\n",
       "  </thead>\n",
       "  <tbody>\n",
       "    <tr>\n",
       "      <th>test</th>\n",
       "      <td>0.954087</td>\n",
       "      <td>2029.12447</td>\n",
       "      <td>143.812907</td>\n",
       "    </tr>\n",
       "  </tbody>\n",
       "</table>\n",
       "</div>"
      ],
      "text/plain": [
       "      r2_score        rmse  price_diff_abs_max\n",
       "test  0.954087  2029.12447          143.812907"
      ]
     },
     "execution_count": 65,
     "metadata": {},
     "output_type": "execute_result"
    }
   ],
   "source": [
    "carPriceEmbed_c.regression_metrics(X_test_list_c,y_test_c,\"test\",False)"
   ]
  },
  {
   "cell_type": "code",
   "execution_count": 66,
   "metadata": {},
   "outputs": [],
   "source": [
    "carPriceEmbed_c.save_model(\"combined_embed_all.h5\")"
   ]
  },
  {
   "cell_type": "code",
   "execution_count": 67,
   "metadata": {},
   "outputs": [],
   "source": [
    "embed_model_c= EmbedCarPrice.load_model(\"combined_embed_all.h5\")"
   ]
  },
  {
   "cell_type": "code",
   "execution_count": 68,
   "metadata": {},
   "outputs": [
    {
     "data": {
      "image/png": "[encoded data removed]",
      "text/plain": [
       "<Figure size 432x432 with 3 Axes>"
      ]
     },
     "metadata": {
      "needs_background": "light"
     },
     "output_type": "display_data"
    },
    {
     "data": {
      "image/png": "[encoded data removed]",
      "text/plain": [
       "<Figure size 432x288 with 1 Axes>"
      ]
     },
     "metadata": {
      "needs_background": "light"
     },
     "output_type": "display_data"
    }
   ],
   "source": [
    "carPriceEmbed_c.plot_pred_price(features_list_c,y_c)"
   ]
  },
  {
   "cell_type": "code",
   "execution_count": 69,
   "metadata": {},
   "outputs": [
    {
     "data": {
      "text/html": [
       "<div>\n",
       "<style scoped>\n",
       "    .dataframe tbody tr th:only-of-type {\n",
       "        vertical-align: middle;\n",
       "    }\n",
       "\n",
       "    .dataframe tbody tr th {\n",
       "        vertical-align: top;\n",
       "    }\n",
       "\n",
       "    .dataframe thead th {\n",
       "        text-align: right;\n",
       "    }\n",
       "</style>\n",
       "<table border=\"1\" class=\"dataframe\">\n",
       "  <thead>\n",
       "    <tr style=\"text-align: right;\">\n",
       "      <th></th>\n",
       "      <th>model</th>\n",
       "      <th>transmission</th>\n",
       "      <th>fuelType</th>\n",
       "      <th>brand</th>\n",
       "      <th>mil_cat</th>\n",
       "      <th>binned_mpg</th>\n",
       "      <th>engine_binned</th>\n",
       "      <th>year</th>\n",
       "      <th>price_diff_pct</th>\n",
       "      <th>price_diff_abs</th>\n",
       "    </tr>\n",
       "  </thead>\n",
       "  <tbody>\n",
       "    <tr>\n",
       "      <th>11984</th>\n",
       "      <td>Golf</td>\n",
       "      <td>Manual</td>\n",
       "      <td>Diesel</td>\n",
       "      <td>vw</td>\n",
       "      <td>0</td>\n",
       "      <td>3</td>\n",
       "      <td>0</td>\n",
       "      <td>2008</td>\n",
       "      <td>376.695490</td>\n",
       "      <td>376.695490</td>\n",
       "    </tr>\n",
       "    <tr>\n",
       "      <th>71819</th>\n",
       "      <td>Mondeo</td>\n",
       "      <td>Manual</td>\n",
       "      <td>Diesel</td>\n",
       "      <td>ford</td>\n",
       "      <td>0</td>\n",
       "      <td>2</td>\n",
       "      <td>0</td>\n",
       "      <td>2008</td>\n",
       "      <td>346.959463</td>\n",
       "      <td>346.959463</td>\n",
       "    </tr>\n",
       "    <tr>\n",
       "      <th>83274</th>\n",
       "      <td>Z4</td>\n",
       "      <td>Manual</td>\n",
       "      <td>Petrol</td>\n",
       "      <td>bmw</td>\n",
       "      <td>3</td>\n",
       "      <td>2</td>\n",
       "      <td>0</td>\n",
       "      <td>2014</td>\n",
       "      <td>305.189369</td>\n",
       "      <td>305.189369</td>\n",
       "    </tr>\n",
       "    <tr>\n",
       "      <th>20061</th>\n",
       "      <td>Beetle</td>\n",
       "      <td>Automatic</td>\n",
       "      <td>Petrol</td>\n",
       "      <td>vw</td>\n",
       "      <td>0</td>\n",
       "      <td>1</td>\n",
       "      <td>0</td>\n",
       "      <td>2001</td>\n",
       "      <td>299.805910</td>\n",
       "      <td>299.805910</td>\n",
       "    </tr>\n",
       "    <tr>\n",
       "      <th>71617</th>\n",
       "      <td>Fiesta</td>\n",
       "      <td>Manual</td>\n",
       "      <td>Petrol</td>\n",
       "      <td>ford</td>\n",
       "      <td>4</td>\n",
       "      <td>2</td>\n",
       "      <td>0</td>\n",
       "      <td>2008</td>\n",
       "      <td>275.309784</td>\n",
       "      <td>275.309784</td>\n",
       "    </tr>\n",
       "    <tr>\n",
       "      <th>87561</th>\n",
       "      <td>Z3</td>\n",
       "      <td>Manual</td>\n",
       "      <td>Petrol</td>\n",
       "      <td>bmw</td>\n",
       "      <td>3</td>\n",
       "      <td>1</td>\n",
       "      <td>1</td>\n",
       "      <td>2001</td>\n",
       "      <td>243.725775</td>\n",
       "      <td>243.725775</td>\n",
       "    </tr>\n",
       "    <tr>\n",
       "      <th>77582</th>\n",
       "      <td>Santa Fe</td>\n",
       "      <td>Manual</td>\n",
       "      <td>Petrol</td>\n",
       "      <td>hyundi</td>\n",
       "      <td>4</td>\n",
       "      <td>1</td>\n",
       "      <td>1</td>\n",
       "      <td>2002</td>\n",
       "      <td>240.548869</td>\n",
       "      <td>240.548869</td>\n",
       "    </tr>\n",
       "    <tr>\n",
       "      <th>39711</th>\n",
       "      <td>C Class</td>\n",
       "      <td>Automatic</td>\n",
       "      <td>Diesel</td>\n",
       "      <td>merc</td>\n",
       "      <td>2</td>\n",
       "      <td>1</td>\n",
       "      <td>1</td>\n",
       "      <td>2002</td>\n",
       "      <td>239.600295</td>\n",
       "      <td>239.600295</td>\n",
       "    </tr>\n",
       "    <tr>\n",
       "      <th>87481</th>\n",
       "      <td>3 Series</td>\n",
       "      <td>Automatic</td>\n",
       "      <td>Petrol</td>\n",
       "      <td>bmw</td>\n",
       "      <td>4</td>\n",
       "      <td>1</td>\n",
       "      <td>1</td>\n",
       "      <td>1999</td>\n",
       "      <td>228.213888</td>\n",
       "      <td>228.213888</td>\n",
       "    </tr>\n",
       "    <tr>\n",
       "      <th>39540</th>\n",
       "      <td>M Class</td>\n",
       "      <td>Semi-Auto</td>\n",
       "      <td>Petrol</td>\n",
       "      <td>merc</td>\n",
       "      <td>5</td>\n",
       "      <td>1</td>\n",
       "      <td>1</td>\n",
       "      <td>2004</td>\n",
       "      <td>223.547345</td>\n",
       "      <td>223.547345</td>\n",
       "    </tr>\n",
       "    <tr>\n",
       "      <th>69135</th>\n",
       "      <td>Mondeo</td>\n",
       "      <td>Manual</td>\n",
       "      <td>Diesel</td>\n",
       "      <td>ford</td>\n",
       "      <td>4</td>\n",
       "      <td>2</td>\n",
       "      <td>0</td>\n",
       "      <td>2005</td>\n",
       "      <td>219.361364</td>\n",
       "      <td>219.361364</td>\n",
       "    </tr>\n",
       "    <tr>\n",
       "      <th>40170</th>\n",
       "      <td>A Class</td>\n",
       "      <td>Manual</td>\n",
       "      <td>Diesel</td>\n",
       "      <td>merc</td>\n",
       "      <td>5</td>\n",
       "      <td>3</td>\n",
       "      <td>0</td>\n",
       "      <td>2010</td>\n",
       "      <td>211.832357</td>\n",
       "      <td>211.832357</td>\n",
       "    </tr>\n",
       "    <tr>\n",
       "      <th>29517</th>\n",
       "      <td>GLE Class</td>\n",
       "      <td>Semi-Auto</td>\n",
       "      <td>Diesel</td>\n",
       "      <td>merc</td>\n",
       "      <td>4</td>\n",
       "      <td>2</td>\n",
       "      <td>1</td>\n",
       "      <td>2016</td>\n",
       "      <td>206.777974</td>\n",
       "      <td>206.777974</td>\n",
       "    </tr>\n",
       "    <tr>\n",
       "      <th>78800</th>\n",
       "      <td>X3</td>\n",
       "      <td>Semi-Auto</td>\n",
       "      <td>Diesel</td>\n",
       "      <td>bmw</td>\n",
       "      <td>2</td>\n",
       "      <td>3</td>\n",
       "      <td>0</td>\n",
       "      <td>2013</td>\n",
       "      <td>199.066967</td>\n",
       "      <td>199.066967</td>\n",
       "    </tr>\n",
       "    <tr>\n",
       "      <th>52100</th>\n",
       "      <td>Zafira</td>\n",
       "      <td>Manual</td>\n",
       "      <td>Diesel</td>\n",
       "      <td>vauxhall</td>\n",
       "      <td>5</td>\n",
       "      <td>3</td>\n",
       "      <td>0</td>\n",
       "      <td>2013</td>\n",
       "      <td>195.676873</td>\n",
       "      <td>195.676873</td>\n",
       "    </tr>\n",
       "    <tr>\n",
       "      <th>27964</th>\n",
       "      <td>Octavia</td>\n",
       "      <td>Manual</td>\n",
       "      <td>Diesel</td>\n",
       "      <td>skoda</td>\n",
       "      <td>5</td>\n",
       "      <td>3</td>\n",
       "      <td>0</td>\n",
       "      <td>2010</td>\n",
       "      <td>164.464758</td>\n",
       "      <td>164.464758</td>\n",
       "    </tr>\n",
       "    <tr>\n",
       "      <th>15458</th>\n",
       "      <td>Polo</td>\n",
       "      <td>Manual</td>\n",
       "      <td>Petrol</td>\n",
       "      <td>vw</td>\n",
       "      <td>1</td>\n",
       "      <td>3</td>\n",
       "      <td>0</td>\n",
       "      <td>2019</td>\n",
       "      <td>158.888450</td>\n",
       "      <td>158.888450</td>\n",
       "    </tr>\n",
       "    <tr>\n",
       "      <th>289</th>\n",
       "      <td>Corolla</td>\n",
       "      <td>Automatic</td>\n",
       "      <td>Petrol</td>\n",
       "      <td>toyota</td>\n",
       "      <td>4</td>\n",
       "      <td>1</td>\n",
       "      <td>0</td>\n",
       "      <td>2001</td>\n",
       "      <td>156.995702</td>\n",
       "      <td>156.995702</td>\n",
       "    </tr>\n",
       "    <tr>\n",
       "      <th>89219</th>\n",
       "      <td>Q7</td>\n",
       "      <td>Semi-Auto</td>\n",
       "      <td>Diesel</td>\n",
       "      <td>audi</td>\n",
       "      <td>2</td>\n",
       "      <td>2</td>\n",
       "      <td>1</td>\n",
       "      <td>2016</td>\n",
       "      <td>155.997688</td>\n",
       "      <td>155.997688</td>\n",
       "    </tr>\n",
       "    <tr>\n",
       "      <th>87433</th>\n",
       "      <td>3 Series</td>\n",
       "      <td>Manual</td>\n",
       "      <td>Diesel</td>\n",
       "      <td>bmw</td>\n",
       "      <td>5</td>\n",
       "      <td>2</td>\n",
       "      <td>0</td>\n",
       "      <td>2004</td>\n",
       "      <td>146.526445</td>\n",
       "      <td>146.526445</td>\n",
       "    </tr>\n",
       "  </tbody>\n",
       "</table>\n",
       "</div>"
      ],
      "text/plain": [
       "            model transmission fuelType     brand  mil_cat  binned_mpg  \\\n",
       "11984        Golf       Manual   Diesel        vw        0           3   \n",
       "71819      Mondeo       Manual   Diesel      ford        0           2   \n",
       "83274          Z4       Manual   Petrol       bmw        3           2   \n",
       "20061      Beetle    Automatic   Petrol        vw        0           1   \n",
       "71617      Fiesta       Manual   Petrol      ford        4           2   \n",
       "87561          Z3       Manual   Petrol       bmw        3           1   \n",
       "77582    Santa Fe       Manual   Petrol    hyundi        4           1   \n",
       "39711     C Class    Automatic   Diesel      merc        2           1   \n",
       "87481    3 Series    Automatic   Petrol       bmw        4           1   \n",
       "39540     M Class    Semi-Auto   Petrol      merc        5           1   \n",
       "69135      Mondeo       Manual   Diesel      ford        4           2   \n",
       "40170     A Class       Manual   Diesel      merc        5           3   \n",
       "29517   GLE Class    Semi-Auto   Diesel      merc        4           2   \n",
       "78800          X3    Semi-Auto   Diesel       bmw        2           3   \n",
       "52100      Zafira       Manual   Diesel  vauxhall        5           3   \n",
       "27964     Octavia       Manual   Diesel     skoda        5           3   \n",
       "15458        Polo       Manual   Petrol        vw        1           3   \n",
       "289       Corolla    Automatic   Petrol    toyota        4           1   \n",
       "89219          Q7    Semi-Auto   Diesel      audi        2           2   \n",
       "87433    3 Series       Manual   Diesel       bmw        5           2   \n",
       "\n",
       "       engine_binned  year  price_diff_pct  price_diff_abs  \n",
       "11984              0  2008      376.695490      376.695490  \n",
       "71819              0  2008      346.959463      346.959463  \n",
       "83274              0  2014      305.189369      305.189369  \n",
       "20061              0  2001      299.805910      299.805910  \n",
       "71617              0  2008      275.309784      275.309784  \n",
       "87561              1  2001      243.725775      243.725775  \n",
       "77582              1  2002      240.548869      240.548869  \n",
       "39711              1  2002      239.600295      239.600295  \n",
       "87481              1  1999      228.213888      228.213888  \n",
       "39540              1  2004      223.547345      223.547345  \n",
       "69135              0  2005      219.361364      219.361364  \n",
       "40170              0  2010      211.832357      211.832357  \n",
       "29517              1  2016      206.777974      206.777974  \n",
       "78800              0  2013      199.066967      199.066967  \n",
       "52100              0  2013      195.676873      195.676873  \n",
       "27964              0  2010      164.464758      164.464758  \n",
       "15458              0  2019      158.888450      158.888450  \n",
       "289                0  2001      156.995702      156.995702  \n",
       "89219              1  2016      155.997688      155.997688  \n",
       "87433              0  2004      146.526445      146.526445  "
      ]
     },
     "execution_count": 69,
     "metadata": {},
     "output_type": "execute_result"
    }
   ],
   "source": [
    "price_table = carPriceEmbed_c.price_diff(features_c,y_c,features_list_c)\n",
    "price_table.head(20)"
   ]
  },
  {
   "cell_type": "markdown",
   "metadata": {},
   "source": [
    "### The binned numeric value did better than original numerica data. \n",
    "\n",
    "--- \n",
    "\n",
    "### Let's focus on binned numeric value with original year embed model and adjust learning rate first "
   ]
  },
  {
   "cell_type": "code",
   "execution_count": 70,
   "metadata": {},
   "outputs": [
    {
     "name": "stdout",
     "output_type": "stream",
     "text": [
      "2798/2798 [==============================] - 10s 4ms/step - loss: 53989969920.0000 - MAPE: 318.4533 - MAE: 40291.5508 - val_loss: 45721948.0000 - val_MAPE: 38.7224 - val_MAE: 4732.8843\n",
      "2798/2798 [==============================] - 10s 4ms/step - loss: 16476353.0000 - MAPE: 15.9314 - MAE: 2489.5576 - val_loss: 13094570.0000 - val_MAPE: 11.4509 - val_MAE: 1968.4385\n",
      "2798/2798 [==============================] - 10s 4ms/step - loss: 24363192.0000 - MAPE: 18.7561 - MAE: 2778.7976 - val_loss: 13288461.0000 - val_MAPE: 14.3704 - val_MAE: 2102.1145\n",
      "2798/2798 [==============================] - 10s 4ms/step - loss: 63692680.0000 - MAPE: 28.7626 - MAE: 4484.0322 - val_loss: 18096452.0000 - val_MAPE: 17.9300 - val_MAE: 2546.9287\n",
      "2798/2798 [==============================] - 10s 4ms/step - loss: 340143328.0000 - MAPE: 89.5766 - MAE: 15469.6797 - val_loss: 210128624.0000 - val_MAPE: 54.6987 - val_MAE: 10732.1816\n",
      "2798/2798 [==============================] - 10s 4ms/step - loss: 380705536.0000 - MAPE: 100.0000 - MAE: 16817.8184 - val_loss: 374850272.0000 - val_MAPE: 99.9948 - val_MAE: 16710.2930\n"
     ]
    },
    {
     "data": {
      "image/png": "[encoded data removed]",
      "text/plain": [
       "<Figure size 432x288 with 1 Axes>"
      ]
     },
     "metadata": {
      "needs_background": "light"
     },
     "output_type": "display_data"
    }
   ],
   "source": [
    "learning_rates = [1e-1,1e-2,1e-3,1e-4,1e-5,1e-6]\n",
    "mdl_setup = partial(EmbedCarPrice.embed_model_setup, EMBED_COLS,NONEMBED_COLS,\n",
    "                    X_train_c,numeric_size,model_size,DROPOUT,METRICS,embed_size_multiplier=2.0)\n",
    "EmbedCarPrice.param_search(learning_rates,mdl_setup,X_train_dataset_c,X_dev_dataset_c,1)"
   ]
  },
  {
   "cell_type": "markdown",
   "metadata": {},
   "source": [
    "### learning rate of 0.001 seems to work the best\n",
    "\n",
    "### tune embed multiplier"
   ]
  },
  {
   "cell_type": "code",
   "execution_count": 71,
   "metadata": {},
   "outputs": [],
   "source": [
    "mdl_partial = partial(EmbedCarPrice.embed_model_setup, EMBED_COLS,NONEMBED_COLS,\n",
    "                    X_train_c,numeric_size,model_size,DROPOUT,METRICS,0.001)"
   ]
  },
  {
   "cell_type": "code",
   "execution_count": 72,
   "metadata": {
    "scrolled": true
   },
   "outputs": [
    {
     "name": "stdout",
     "output_type": "stream",
     "text": [
      "2798/2798 [==============================] - 10s 4ms/step - loss: 24772436.0000 - MAPE: 19.0751 - MAE: 2818.2151 - val_loss: 14018551.0000 - val_MAPE: 14.4139 - val_MAE: 2155.6072\n",
      "2798/2798 [==============================] - 10s 4ms/step - loss: 24189958.0000 - MAPE: 18.6437 - MAE: 2767.2664 - val_loss: 13357926.0000 - val_MAPE: 14.0656 - val_MAE: 2051.2493\n",
      "2798/2798 [==============================] - 10s 4ms/step - loss: 22916182.0000 - MAPE: 18.6256 - MAE: 2751.2500 - val_loss: 13349649.0000 - val_MAPE: 13.7178 - val_MAE: 2041.6121\n",
      "2798/2798 [==============================] - 10s 4ms/step - loss: 23456950.0000 - MAPE: 18.6564 - MAE: 2757.5779 - val_loss: 13302732.0000 - val_MAPE: 13.6243 - val_MAE: 2037.6276\n",
      "2798/2798 [==============================] - 10s 4ms/step - loss: 23555580.0000 - MAPE: 18.5988 - MAE: 2755.4077 - val_loss: 12789285.0000 - val_MAPE: 13.8403 - val_MAE: 2021.1276\n",
      "2798/2798 [==============================] - 10s 4ms/step - loss: 23122608.0000 - MAPE: 18.6325 - MAE: 2748.7915 - val_loss: 15307891.0000 - val_MAPE: 16.7373 - val_MAE: 2462.8567\n",
      "2798/2798 [==============================] - 10s 4ms/step - loss: 23089400.0000 - MAPE: 18.6487 - MAE: 2748.2930 - val_loss: 13137084.0000 - val_MAPE: 13.6562 - val_MAE: 2073.1589\n",
      "2798/2798 [==============================] - 10s 4ms/step - loss: 22535974.0000 - MAPE: 18.5255 - MAE: 2719.7830 - val_loss: 12763326.0000 - val_MAPE: 13.4337 - val_MAE: 2004.1322\n"
     ]
    },
    {
     "data": {
      "image/png": "[encoded data removed]",
      "text/plain": [
       "<Figure size 432x288 with 1 Axes>"
      ]
     },
     "metadata": {
      "needs_background": "light"
     },
     "output_type": "display_data"
    }
   ],
   "source": [
    "multiplier = [1,2,3,4,5,6,7,8]\n",
    "EmbedCarPrice.param_search(multiplier,mdl_partial,X_train_dataset_c,X_dev_dataset_c,1)"
   ]
  },
  {
   "cell_type": "markdown",
   "metadata": {},
   "source": [
    "### multipler of 3 seems to work the best\n",
    "\n",
    "### increase training size and train on feature set"
   ]
  },
  {
   "cell_type": "code",
   "execution_count": 78,
   "metadata": {},
   "outputs": [],
   "source": [
    "data_setup_final = DataSetUp(features_c,y_c)"
   ]
  },
  {
   "cell_type": "code",
   "execution_count": 79,
   "metadata": {},
   "outputs": [],
   "source": [
    "X_train_final,X_test_final,y_train_final,y_test_final = data_setup_final.data_split(2020,0.1)"
   ]
  },
  {
   "cell_type": "code",
   "execution_count": 80,
   "metadata": {},
   "outputs": [],
   "source": [
    "final_mdl = EmbedCarPrice.embed_model_setup(EMBED_COLS,NONEMBED_COLS,X_train_final,\n",
    "                                               numeric_size,model_size,DROPOUT,\n",
    "                                               METRICS,lr,3)"
   ]
  },
  {
   "cell_type": "code",
   "execution_count": 81,
   "metadata": {
    "scrolled": true
   },
   "outputs": [],
   "source": [
    "carPriceEmbed_c_final = EmbedCarPrice(final_mdl,BATCH_SIZE,MAX_EPOCH,[earlystop])"
   ]
  },
  {
   "cell_type": "code",
   "execution_count": 82,
   "metadata": {},
   "outputs": [],
   "source": [
    "data_setup_final.categorical_mapping(X_train_final,EMBED_COLS)"
   ]
  },
  {
   "cell_type": "markdown",
   "metadata": {},
   "source": [
    "### Save final categorical mapping for car price model application"
   ]
  },
  {
   "cell_type": "code",
   "execution_count": 88,
   "metadata": {},
   "outputs": [],
   "source": [
    "cate_map_final = data_setup_final.val_maps"
   ]
  },
  {
   "cell_type": "code",
   "execution_count": 90,
   "metadata": {},
   "outputs": [],
   "source": [
    "save_object(f\"{home}/Documents/projects/Car-Price-Model-Application/saved_dict_mappings/cate_map.pkl\",\n",
    "           cate_map_final)"
   ]
  },
  {
   "cell_type": "code",
   "execution_count": 91,
   "metadata": {},
   "outputs": [],
   "source": [
    "X_train_final_list = data_setup_final.cate_data_list(X_train_final)\n",
    "X_test_final_list = data_setup_final.cate_data_list(X_test_final)"
   ]
  },
  {
   "cell_type": "code",
   "execution_count": 92,
   "metadata": {},
   "outputs": [],
   "source": [
    "train_data_final,test_data_final = (X_train_final_list,y_train_final),(X_test_final_list,y_test_final)"
   ]
  },
  {
   "cell_type": "code",
   "execution_count": 93,
   "metadata": {},
   "outputs": [],
   "source": [
    "features_list_final = data_setup_final.cate_data_list(features_c)"
   ]
  },
  {
   "cell_type": "code",
   "execution_count": 95,
   "metadata": {
    "scrolled": true
   },
   "outputs": [
    {
     "name": "stdout",
     "output_type": "stream",
     "text": [
      "Restoring model weights from the end of the best epoch.\n",
      "Epoch 00054: early stopping\n"
     ]
    },
    {
     "data": {
      "text/html": [
       "<div>\n",
       "<style scoped>\n",
       "    .dataframe tbody tr th:only-of-type {\n",
       "        vertical-align: middle;\n",
       "    }\n",
       "\n",
       "    .dataframe tbody tr th {\n",
       "        vertical-align: top;\n",
       "    }\n",
       "\n",
       "    .dataframe thead th {\n",
       "        text-align: right;\n",
       "    }\n",
       "</style>\n",
       "<table border=\"1\" class=\"dataframe\">\n",
       "  <thead>\n",
       "    <tr style=\"text-align: right;\">\n",
       "      <th></th>\n",
       "      <th>r2_score</th>\n",
       "      <th>rmse</th>\n",
       "      <th>price_diff_abs_max</th>\n",
       "    </tr>\n",
       "  </thead>\n",
       "  <tbody>\n",
       "    <tr>\n",
       "      <th>train</th>\n",
       "      <td>0.951199</td>\n",
       "      <td>2184.978714</td>\n",
       "      <td>444.345222</td>\n",
       "    </tr>\n",
       "  </tbody>\n",
       "</table>\n",
       "</div>"
      ],
      "text/plain": [
       "       r2_score         rmse  price_diff_abs_max\n",
       "train  0.951199  2184.978714          444.345222"
      ]
     },
     "execution_count": 95,
     "metadata": {},
     "output_type": "execute_result"
    }
   ],
   "source": [
    "carPriceEmbed_c_final.regression_metrics(X_train_final_list,y_train_final,\n",
    "                                        \"train\",True, train_data_final,test_data_final,0)"
   ]
  },
  {
   "cell_type": "code",
   "execution_count": 96,
   "metadata": {},
   "outputs": [
    {
     "data": {
      "text/html": [
       "<div>\n",
       "<style scoped>\n",
       "    .dataframe tbody tr th:only-of-type {\n",
       "        vertical-align: middle;\n",
       "    }\n",
       "\n",
       "    .dataframe tbody tr th {\n",
       "        vertical-align: top;\n",
       "    }\n",
       "\n",
       "    .dataframe thead th {\n",
       "        text-align: right;\n",
       "    }\n",
       "</style>\n",
       "<table border=\"1\" class=\"dataframe\">\n",
       "  <thead>\n",
       "    <tr style=\"text-align: right;\">\n",
       "      <th></th>\n",
       "      <th>r2_score</th>\n",
       "      <th>rmse</th>\n",
       "      <th>price_diff_abs_max</th>\n",
       "    </tr>\n",
       "  </thead>\n",
       "  <tbody>\n",
       "    <tr>\n",
       "      <th>test</th>\n",
       "      <td>0.94909</td>\n",
       "      <td>2176.476024</td>\n",
       "      <td>193.444204</td>\n",
       "    </tr>\n",
       "  </tbody>\n",
       "</table>\n",
       "</div>"
      ],
      "text/plain": [
       "      r2_score         rmse  price_diff_abs_max\n",
       "test   0.94909  2176.476024          193.444204"
      ]
     },
     "execution_count": 96,
     "metadata": {},
     "output_type": "execute_result"
    }
   ],
   "source": [
    "carPriceEmbed_c_final.regression_metrics(X_test_final_list,y_test_final,\"test\",False)"
   ]
  },
  {
   "cell_type": "markdown",
   "metadata": {},
   "source": [
    "### Save this model as one of car price model ensemble"
   ]
  },
  {
   "cell_type": "code",
   "execution_count": 98,
   "metadata": {},
   "outputs": [],
   "source": [
    "carPriceEmbed_c_final.save_model(f\"{home}/Documents/projects/Car-Price-Model-Application/\"\n",
    "                                 \"saved_models/final_embed_mdl.h5\")"
   ]
  },
  {
   "cell_type": "code",
   "execution_count": 99,
   "metadata": {
    "scrolled": true
   },
   "outputs": [
    {
     "data": {
      "image/png": "[encoded data removed]",
      "text/plain": [
       "<Figure size 432x432 with 3 Axes>"
      ]
     },
     "metadata": {
      "needs_background": "light"
     },
     "output_type": "display_data"
    },
    {
     "data": {
      "image/png": "[encoded data removed]",
      "text/plain": [
       "<Figure size 432x288 with 1 Axes>"
      ]
     },
     "metadata": {
      "needs_background": "light"
     },
     "output_type": "display_data"
    }
   ],
   "source": [
    "carPriceEmbed_c_final.plot_pred_price(features_list_final,y_c)"
   ]
  },
  {
   "cell_type": "code",
   "execution_count": 100,
   "metadata": {},
   "outputs": [
    {
     "data": {
      "text/html": [
       "<div>\n",
       "<style scoped>\n",
       "    .dataframe tbody tr th:only-of-type {\n",
       "        vertical-align: middle;\n",
       "    }\n",
       "\n",
       "    .dataframe tbody tr th {\n",
       "        vertical-align: top;\n",
       "    }\n",
       "\n",
       "    .dataframe thead th {\n",
       "        text-align: right;\n",
       "    }\n",
       "</style>\n",
       "<table border=\"1\" class=\"dataframe\">\n",
       "  <thead>\n",
       "    <tr style=\"text-align: right;\">\n",
       "      <th></th>\n",
       "      <th>model</th>\n",
       "      <th>transmission</th>\n",
       "      <th>fuelType</th>\n",
       "      <th>brand</th>\n",
       "      <th>mil_cat</th>\n",
       "      <th>binned_mpg</th>\n",
       "      <th>engine_binned</th>\n",
       "      <th>year</th>\n",
       "      <th>price_diff_pct</th>\n",
       "      <th>price_diff_abs</th>\n",
       "    </tr>\n",
       "  </thead>\n",
       "  <tbody>\n",
       "    <tr>\n",
       "      <th>11984</th>\n",
       "      <td>Golf</td>\n",
       "      <td>Manual</td>\n",
       "      <td>Diesel</td>\n",
       "      <td>vw</td>\n",
       "      <td>0</td>\n",
       "      <td>3</td>\n",
       "      <td>0</td>\n",
       "      <td>2008</td>\n",
       "      <td>444.345222</td>\n",
       "      <td>444.345222</td>\n",
       "    </tr>\n",
       "    <tr>\n",
       "      <th>71819</th>\n",
       "      <td>Mondeo</td>\n",
       "      <td>Manual</td>\n",
       "      <td>Diesel</td>\n",
       "      <td>ford</td>\n",
       "      <td>0</td>\n",
       "      <td>2</td>\n",
       "      <td>0</td>\n",
       "      <td>2008</td>\n",
       "      <td>357.105563</td>\n",
       "      <td>357.105563</td>\n",
       "    </tr>\n",
       "    <tr>\n",
       "      <th>83274</th>\n",
       "      <td>Z4</td>\n",
       "      <td>Manual</td>\n",
       "      <td>Petrol</td>\n",
       "      <td>bmw</td>\n",
       "      <td>3</td>\n",
       "      <td>2</td>\n",
       "      <td>0</td>\n",
       "      <td>2014</td>\n",
       "      <td>307.669000</td>\n",
       "      <td>307.669000</td>\n",
       "    </tr>\n",
       "    <tr>\n",
       "      <th>71617</th>\n",
       "      <td>Fiesta</td>\n",
       "      <td>Manual</td>\n",
       "      <td>Petrol</td>\n",
       "      <td>ford</td>\n",
       "      <td>4</td>\n",
       "      <td>2</td>\n",
       "      <td>0</td>\n",
       "      <td>2008</td>\n",
       "      <td>269.537653</td>\n",
       "      <td>269.537653</td>\n",
       "    </tr>\n",
       "    <tr>\n",
       "      <th>69135</th>\n",
       "      <td>Mondeo</td>\n",
       "      <td>Manual</td>\n",
       "      <td>Diesel</td>\n",
       "      <td>ford</td>\n",
       "      <td>4</td>\n",
       "      <td>2</td>\n",
       "      <td>0</td>\n",
       "      <td>2005</td>\n",
       "      <td>223.601165</td>\n",
       "      <td>223.601165</td>\n",
       "    </tr>\n",
       "    <tr>\n",
       "      <th>39540</th>\n",
       "      <td>M Class</td>\n",
       "      <td>Semi-Auto</td>\n",
       "      <td>Petrol</td>\n",
       "      <td>merc</td>\n",
       "      <td>5</td>\n",
       "      <td>1</td>\n",
       "      <td>1</td>\n",
       "      <td>2004</td>\n",
       "      <td>214.140160</td>\n",
       "      <td>214.140160</td>\n",
       "    </tr>\n",
       "    <tr>\n",
       "      <th>52100</th>\n",
       "      <td>Zafira</td>\n",
       "      <td>Manual</td>\n",
       "      <td>Diesel</td>\n",
       "      <td>vauxhall</td>\n",
       "      <td>5</td>\n",
       "      <td>3</td>\n",
       "      <td>0</td>\n",
       "      <td>2013</td>\n",
       "      <td>206.754102</td>\n",
       "      <td>206.754102</td>\n",
       "    </tr>\n",
       "    <tr>\n",
       "      <th>78800</th>\n",
       "      <td>X3</td>\n",
       "      <td>Semi-Auto</td>\n",
       "      <td>Diesel</td>\n",
       "      <td>bmw</td>\n",
       "      <td>2</td>\n",
       "      <td>3</td>\n",
       "      <td>0</td>\n",
       "      <td>2013</td>\n",
       "      <td>204.903840</td>\n",
       "      <td>204.903840</td>\n",
       "    </tr>\n",
       "    <tr>\n",
       "      <th>29517</th>\n",
       "      <td>GLE Class</td>\n",
       "      <td>Semi-Auto</td>\n",
       "      <td>Diesel</td>\n",
       "      <td>merc</td>\n",
       "      <td>4</td>\n",
       "      <td>2</td>\n",
       "      <td>1</td>\n",
       "      <td>2016</td>\n",
       "      <td>204.190146</td>\n",
       "      <td>204.190146</td>\n",
       "    </tr>\n",
       "    <tr>\n",
       "      <th>39978</th>\n",
       "      <td>A Class</td>\n",
       "      <td>Manual</td>\n",
       "      <td>Petrol</td>\n",
       "      <td>merc</td>\n",
       "      <td>5</td>\n",
       "      <td>1</td>\n",
       "      <td>0</td>\n",
       "      <td>2003</td>\n",
       "      <td>193.444204</td>\n",
       "      <td>193.444204</td>\n",
       "    </tr>\n",
       "    <tr>\n",
       "      <th>27964</th>\n",
       "      <td>Octavia</td>\n",
       "      <td>Manual</td>\n",
       "      <td>Diesel</td>\n",
       "      <td>skoda</td>\n",
       "      <td>5</td>\n",
       "      <td>3</td>\n",
       "      <td>0</td>\n",
       "      <td>2010</td>\n",
       "      <td>184.204368</td>\n",
       "      <td>184.204368</td>\n",
       "    </tr>\n",
       "    <tr>\n",
       "      <th>40170</th>\n",
       "      <td>A Class</td>\n",
       "      <td>Manual</td>\n",
       "      <td>Diesel</td>\n",
       "      <td>merc</td>\n",
       "      <td>5</td>\n",
       "      <td>3</td>\n",
       "      <td>0</td>\n",
       "      <td>2010</td>\n",
       "      <td>176.186035</td>\n",
       "      <td>176.186035</td>\n",
       "    </tr>\n",
       "    <tr>\n",
       "      <th>89219</th>\n",
       "      <td>Q7</td>\n",
       "      <td>Semi-Auto</td>\n",
       "      <td>Diesel</td>\n",
       "      <td>audi</td>\n",
       "      <td>2</td>\n",
       "      <td>2</td>\n",
       "      <td>1</td>\n",
       "      <td>2016</td>\n",
       "      <td>165.512375</td>\n",
       "      <td>165.512375</td>\n",
       "    </tr>\n",
       "    <tr>\n",
       "      <th>15458</th>\n",
       "      <td>Polo</td>\n",
       "      <td>Manual</td>\n",
       "      <td>Petrol</td>\n",
       "      <td>vw</td>\n",
       "      <td>1</td>\n",
       "      <td>3</td>\n",
       "      <td>0</td>\n",
       "      <td>2019</td>\n",
       "      <td>156.545036</td>\n",
       "      <td>156.545036</td>\n",
       "    </tr>\n",
       "    <tr>\n",
       "      <th>84188</th>\n",
       "      <td>1 Series</td>\n",
       "      <td>Semi-Auto</td>\n",
       "      <td>Petrol</td>\n",
       "      <td>bmw</td>\n",
       "      <td>0</td>\n",
       "      <td>1</td>\n",
       "      <td>0</td>\n",
       "      <td>2020</td>\n",
       "      <td>148.283692</td>\n",
       "      <td>148.283692</td>\n",
       "    </tr>\n",
       "    <tr>\n",
       "      <th>39711</th>\n",
       "      <td>C Class</td>\n",
       "      <td>Automatic</td>\n",
       "      <td>Diesel</td>\n",
       "      <td>merc</td>\n",
       "      <td>2</td>\n",
       "      <td>1</td>\n",
       "      <td>1</td>\n",
       "      <td>2002</td>\n",
       "      <td>144.899829</td>\n",
       "      <td>144.899829</td>\n",
       "    </tr>\n",
       "    <tr>\n",
       "      <th>87433</th>\n",
       "      <td>3 Series</td>\n",
       "      <td>Manual</td>\n",
       "      <td>Diesel</td>\n",
       "      <td>bmw</td>\n",
       "      <td>5</td>\n",
       "      <td>2</td>\n",
       "      <td>0</td>\n",
       "      <td>2004</td>\n",
       "      <td>134.924747</td>\n",
       "      <td>134.924747</td>\n",
       "    </tr>\n",
       "    <tr>\n",
       "      <th>52127</th>\n",
       "      <td>Zafira</td>\n",
       "      <td>Manual</td>\n",
       "      <td>Petrol</td>\n",
       "      <td>vauxhall</td>\n",
       "      <td>5</td>\n",
       "      <td>1</td>\n",
       "      <td>0</td>\n",
       "      <td>2002</td>\n",
       "      <td>-133.064754</td>\n",
       "      <td>133.064754</td>\n",
       "    </tr>\n",
       "    <tr>\n",
       "      <th>59824</th>\n",
       "      <td>Focus</td>\n",
       "      <td>Manual</td>\n",
       "      <td>Petrol</td>\n",
       "      <td>ford</td>\n",
       "      <td>2</td>\n",
       "      <td>3</td>\n",
       "      <td>0</td>\n",
       "      <td>2019</td>\n",
       "      <td>131.632430</td>\n",
       "      <td>131.632430</td>\n",
       "    </tr>\n",
       "    <tr>\n",
       "      <th>6309</th>\n",
       "      <td>Prius</td>\n",
       "      <td>Automatic</td>\n",
       "      <td>Hybrid</td>\n",
       "      <td>toyota</td>\n",
       "      <td>5</td>\n",
       "      <td>4</td>\n",
       "      <td>0</td>\n",
       "      <td>2005</td>\n",
       "      <td>130.502744</td>\n",
       "      <td>130.502744</td>\n",
       "    </tr>\n",
       "  </tbody>\n",
       "</table>\n",
       "</div>"
      ],
      "text/plain": [
       "            model transmission fuelType     brand  mil_cat  binned_mpg  \\\n",
       "11984        Golf       Manual   Diesel        vw        0           3   \n",
       "71819      Mondeo       Manual   Diesel      ford        0           2   \n",
       "83274          Z4       Manual   Petrol       bmw        3           2   \n",
       "71617      Fiesta       Manual   Petrol      ford        4           2   \n",
       "69135      Mondeo       Manual   Diesel      ford        4           2   \n",
       "39540     M Class    Semi-Auto   Petrol      merc        5           1   \n",
       "52100      Zafira       Manual   Diesel  vauxhall        5           3   \n",
       "78800          X3    Semi-Auto   Diesel       bmw        2           3   \n",
       "29517   GLE Class    Semi-Auto   Diesel      merc        4           2   \n",
       "39978     A Class       Manual   Petrol      merc        5           1   \n",
       "27964     Octavia       Manual   Diesel     skoda        5           3   \n",
       "40170     A Class       Manual   Diesel      merc        5           3   \n",
       "89219          Q7    Semi-Auto   Diesel      audi        2           2   \n",
       "15458        Polo       Manual   Petrol        vw        1           3   \n",
       "84188    1 Series    Semi-Auto   Petrol       bmw        0           1   \n",
       "39711     C Class    Automatic   Diesel      merc        2           1   \n",
       "87433    3 Series       Manual   Diesel       bmw        5           2   \n",
       "52127      Zafira       Manual   Petrol  vauxhall        5           1   \n",
       "59824       Focus       Manual   Petrol      ford        2           3   \n",
       "6309        Prius    Automatic   Hybrid    toyota        5           4   \n",
       "\n",
       "       engine_binned  year  price_diff_pct  price_diff_abs  \n",
       "11984              0  2008      444.345222      444.345222  \n",
       "71819              0  2008      357.105563      357.105563  \n",
       "83274              0  2014      307.669000      307.669000  \n",
       "71617              0  2008      269.537653      269.537653  \n",
       "69135              0  2005      223.601165      223.601165  \n",
       "39540              1  2004      214.140160      214.140160  \n",
       "52100              0  2013      206.754102      206.754102  \n",
       "78800              0  2013      204.903840      204.903840  \n",
       "29517              1  2016      204.190146      204.190146  \n",
       "39978              0  2003      193.444204      193.444204  \n",
       "27964              0  2010      184.204368      184.204368  \n",
       "40170              0  2010      176.186035      176.186035  \n",
       "89219              1  2016      165.512375      165.512375  \n",
       "15458              0  2019      156.545036      156.545036  \n",
       "84188              0  2020      148.283692      148.283692  \n",
       "39711              1  2002      144.899829      144.899829  \n",
       "87433              0  2004      134.924747      134.924747  \n",
       "52127              0  2002     -133.064754      133.064754  \n",
       "59824              0  2019      131.632430      131.632430  \n",
       "6309               0  2005      130.502744      130.502744  "
      ]
     },
     "execution_count": 100,
     "metadata": {},
     "output_type": "execute_result"
    }
   ],
   "source": [
    "price_table = carPriceEmbed_c_final.price_diff(features_c,y_c,features_list_final)\n",
    "price_table.head(20)"
   ]
  },
  {
   "cell_type": "markdown",
   "metadata": {},
   "source": [
    "### Conclusions"
   ]
  },
  {
   "cell_type": "markdown",
   "metadata": {},
   "source": [
    "### Will use final mdl and RF mdl as an esemble approach"
   ]
  }
 ],
 "metadata": {
  "kernelspec": {
   "display_name": "Python 3",
   "language": "python",
   "name": "python3"
  },
  "language_info": {
   "codemirror_mode": {
    "name": "ipython",
    "version": 3
   },
   "file_extension": ".py",
   "mimetype": "text/x-python",
   "name": "python",
   "nbconvert_exporter": "python",
   "pygments_lexer": "ipython3",
   "version": "3.6.9"
  }
 },
 "nbformat": 4,
 "nbformat_minor": 4
}

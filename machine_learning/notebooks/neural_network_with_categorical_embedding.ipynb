{
 "cells": [
  {
   "cell_type": "markdown",
   "metadata": {},
   "source": [
    "### Import libraries"
   ]
  },
  {
   "cell_type": "code",
   "execution_count": 1,
   "metadata": {},
   "outputs": [],
   "source": [
    "import sys\n",
    "import os\n",
    "import gc\n",
    "import pandas as pd\n",
    "from functools import partial\n",
    "import warnings\n",
    "warnings.filterwarnings(\"ignore\")"
   ]
  },
  {
   "cell_type": "code",
   "execution_count": 2,
   "metadata": {},
   "outputs": [],
   "source": [
    "home = os.path.expanduser(\"~\")\n",
    "sys.path.append(f\"{home}/Documents/projects/CarPriceRegression/machine_learning/scripts/\")"
   ]
  },
  {
   "cell_type": "code",
   "execution_count": 3,
   "metadata": {},
   "outputs": [],
   "source": [
    "from data_set_up import *\n",
    "from embed_car_price import *\n",
    "%load_ext autoreload\n",
    "%autoreload 2"
   ]
  },
  {
   "cell_type": "code",
   "execution_count": 4,
   "metadata": {},
   "outputs": [],
   "source": [
    "EmbedCarPrice.set_gpu_limit(6)"
   ]
  },
  {
   "cell_type": "markdown",
   "metadata": {},
   "source": [
    "### Split none onehot encoded data into train,dev and test for categorical embedding"
   ]
  },
  {
   "cell_type": "code",
   "execution_count": 5,
   "metadata": {},
   "outputs": [],
   "source": [
    "data = pd.read_csv(f\"{home}/Documents/projects/CarPriceRegression/Processed_Data/car_data_merged.csv\")\n",
    "features, y = data.drop(\"price\",axis=1), data.price "
   ]
  },
  {
   "cell_type": "code",
   "execution_count": 6,
   "metadata": {},
   "outputs": [],
   "source": [
    "data_setup = DataSetUp(features,y)\n",
    "X_train,X_dev,X_test,y_train,y_dev,y_test = data_setup.data_split(2020,0.1,True,2020,0.11)"
   ]
  },
  {
   "cell_type": "code",
   "execution_count": 7,
   "metadata": {},
   "outputs": [
    {
     "data": {
      "text/plain": [
       "((79447, 8), (9820, 8), (9919, 8), (79447,), (9820,), (9919,))"
      ]
     },
     "execution_count": 7,
     "metadata": {},
     "output_type": "execute_result"
    }
   ],
   "source": [
    "X_train.shape,X_dev.shape,X_test.shape,y_train.shape,y_dev.shape,y_test.shape"
   ]
  },
  {
   "cell_type": "markdown",
   "metadata": {},
   "source": [
    "### We will embed columns model, transmission, fuelType, and brand\n",
    "\n",
    "--- \n",
    "\n",
    "### Garbage collect"
   ]
  },
  {
   "cell_type": "code",
   "execution_count": 8,
   "metadata": {
    "scrolled": true
   },
   "outputs": [
    {
     "name": "stdout",
     "output_type": "stream",
     "text": [
      "Flushing output cache (1 entries)\n"
     ]
    }
   ],
   "source": [
    "gc.collect()\n",
    "%reset -f out"
   ]
  },
  {
   "cell_type": "markdown",
   "metadata": {},
   "source": [
    "### Setting up some constants for base model"
   ]
  },
  {
   "cell_type": "code",
   "execution_count": null,
   "metadata": {},
   "outputs": [],
   "source": [
    "EMBED_COLS = [\"model\",\"transmission\",\"brand\",\"fuelType\"]\n",
    "NONEMBED_COLS = [c for c in X_train.columns if c not in EMBED_COLS]\n",
    "BATCH_SIZE = 256 \n",
    "MAX_EPOCH = 1000\n",
    "lr = 1e-3\n",
    "numeric_size = [64,32]\n",
    "model_size = [1024,512,256]\n",
    "DROPOUT= [0.2,0.2]\n",
    "METRICS = [\"MAPE\",\"MAE\"]"
   ]
  },
  {
   "cell_type": "code",
   "execution_count": 9,
   "metadata": {},
   "outputs": [],
   "source": [
    "earlystop = tfk.callbacks.EarlyStopping(monitor=\"val_loss\",mode=\"min\",\n",
    "                                        patience=10,verbose=1,restore_best_weights=True)"
   ]
  },
  {
   "cell_type": "markdown",
   "metadata": {},
   "source": [
    "* model embed model input \n",
    "* transmission embed model input\n",
    "* brand embed model input \n",
    "* fuelType embed model input \n",
    "* numeric input data "
   ]
  },
  {
   "cell_type": "markdown",
   "metadata": {},
   "source": [
    "### Perform categorical feature transformation"
   ]
  },
  {
   "cell_type": "code",
   "execution_count": null,
   "metadata": {},
   "outputs": [],
   "source": [
    "data_setup.categorical_mapping(X_train,EMBED_COLS)"
   ]
  },
  {
   "cell_type": "code",
   "execution_count": null,
   "metadata": {},
   "outputs": [],
   "source": [
    "X_train_list,X_dev_list  = data_setup.cate_data_list(X_train),data_setup.cate_data_list(X_dev)\n",
    "X_test_list,features_list = data_setup.cate_data_list(X_test), data_setup.cate_data_list(features)"
   ]
  },
  {
   "cell_type": "code",
   "execution_count": null,
   "metadata": {},
   "outputs": [],
   "source": [
    "X_train_dataset, X_dev_dataset = (X_train_list,y_train),(X_dev_list,y_dev)"
   ]
  },
  {
   "cell_type": "code",
   "execution_count": null,
   "metadata": {},
   "outputs": [],
   "source": [
    "base_embed_model = EmbedCarPrice.embed_model_setup(EMBED_COLS,NONEMBED_COLS, \n",
    "                                                   X_train,numeric_size,\n",
    "                                                   model_size,DROPOUT,METRICS,lr)"
   ]
  },
  {
   "cell_type": "code",
   "execution_count": null,
   "metadata": {},
   "outputs": [],
   "source": [
    "carPrice_embed = EmbedCarPrice(base_embed_model,BATCH_SIZE,MAX_EPOCH,[earlystop])"
   ]
  },
  {
   "cell_type": "code",
   "execution_count": null,
   "metadata": {
    "scrolled": false
   },
   "outputs": [],
   "source": [
    "carPrice_embed.regression_metrics(X_train_list,y_train,\"train\",True,X_train_dataset,X_dev_dataset,1)"
   ]
  },
  {
   "cell_type": "code",
   "execution_count": null,
   "metadata": {},
   "outputs": [],
   "source": [
    "carPrice_embed.regression_metrics(X_test_list,y_test,\"test\",False)"
   ]
  },
  {
   "cell_type": "code",
   "execution_count": null,
   "metadata": {},
   "outputs": [],
   "source": [
    "carPrice_embed.save_model(\"cate_embed_base_model.h5\")"
   ]
  },
  {
   "cell_type": "code",
   "execution_count": null,
   "metadata": {},
   "outputs": [],
   "source": [
    "base_embed_model = EmbedCarPrice.load_model(\"cate_embed_base_model.h5\")"
   ]
  },
  {
   "cell_type": "code",
   "execution_count": null,
   "metadata": {},
   "outputs": [],
   "source": [
    "carPrice_embed.plot_pred_price(features_list,y)"
   ]
  },
  {
   "cell_type": "code",
   "execution_count": null,
   "metadata": {},
   "outputs": [],
   "source": [
    "price_table = carPrice_embed.price_diff(features,y,features_list)"
   ]
  },
  {
   "cell_type": "code",
   "execution_count": null,
   "metadata": {
    "scrolled": true
   },
   "outputs": [],
   "source": [
    "price_table.head(20)"
   ]
  },
  {
   "cell_type": "markdown",
   "metadata": {},
   "source": [
    "### similar to regular NN"
   ]
  },
  {
   "cell_type": "markdown",
   "metadata": {},
   "source": [
    "### Let's try a bigger model and see if it helps and increase embed size with slower learning rate "
   ]
  },
  {
   "cell_type": "code",
   "execution_count": null,
   "metadata": {},
   "outputs": [],
   "source": [
    "EMBED_COLS = [\"model\",\"transmission\",\"brand\",\"fuelType\"]\n",
    "NONEMBED_COLS = [c for c in X_train.columns if c not in EMBED_COLS]\n",
    "BATCH_SIZE = 256 \n",
    "MAX_EPOCH = 1000\n",
    "lr = 5e-4\n",
    "numeric_size = [128,64]\n",
    "model_size = [1024,512,256]\n",
    "DROPOUT= [0.1,0.1]\n",
    "METRICS = [\"MAPE\",\"MAE\"]"
   ]
  },
  {
   "cell_type": "code",
   "execution_count": null,
   "metadata": {},
   "outputs": [],
   "source": [
    "bigger_embed_model = EmbedCarPrice.embed_model_setup(EMBED_COLS,NONEMBED_COLS,\n",
    "                                                     X_train,numeric_size,model_size,DROPOUT,METRICS,lr,2)"
   ]
  },
  {
   "cell_type": "code",
   "execution_count": null,
   "metadata": {
    "scrolled": true
   },
   "outputs": [],
   "source": [
    "bigger_embed_model.summary()"
   ]
  },
  {
   "cell_type": "code",
   "execution_count": null,
   "metadata": {},
   "outputs": [],
   "source": [
    "carPrice_embed_bigger = EmbedCarPrice(bigger_embed_model,BATCH_SIZE,MAX_EPOCH,[earlystop])"
   ]
  },
  {
   "cell_type": "code",
   "execution_count": null,
   "metadata": {},
   "outputs": [],
   "source": [
    "carPrice_embed_bigger.regression_metrics(X_train_list,y_train,\"train\",True,X_train_dataset,X_dev_dataset,1)"
   ]
  },
  {
   "cell_type": "code",
   "execution_count": null,
   "metadata": {},
   "outputs": [],
   "source": [
    "carPrice_embed_bigger.regression_metrics(X_test_list,y_test,\"test\",False)"
   ]
  },
  {
   "cell_type": "code",
   "execution_count": null,
   "metadata": {},
   "outputs": [],
   "source": [
    "carPrice_embed_bigger.save_model(\"bigger_embed.h5\")"
   ]
  },
  {
   "cell_type": "code",
   "execution_count": null,
   "metadata": {},
   "outputs": [],
   "source": [
    "bigger_embed = EmbedCarPrice.load_model(\"bigger_embed.h5\")"
   ]
  },
  {
   "cell_type": "code",
   "execution_count": null,
   "metadata": {},
   "outputs": [],
   "source": [
    "carPrice_embed_bigger.plot_pred_price(features_list,y)"
   ]
  },
  {
   "cell_type": "code",
   "execution_count": null,
   "metadata": {
    "scrolled": false
   },
   "outputs": [],
   "source": [
    "price_table = carPrice_embed_bigger.price_diff(features,y,features_list)"
   ]
  },
  {
   "cell_type": "code",
   "execution_count": null,
   "metadata": {},
   "outputs": [],
   "source": [
    "price_table.head(20)"
   ]
  },
  {
   "cell_type": "markdown",
   "metadata": {},
   "source": [
    "### Performance is slightly better but still have bin year and mil category issues. "
   ]
  },
  {
   "cell_type": "markdown",
   "metadata": {},
   "source": [
    "### Try embed other binned numerical features and see if the performance improves "
   ]
  },
  {
   "cell_type": "code",
   "execution_count": null,
   "metadata": {},
   "outputs": [],
   "source": [
    "EMBED_COLS = [\"model\",\"transmission\",\"brand\",\"fuelType\",\"binned_year\",\"mil_cat\",\"binned_mpg\",\"engine_binned\"]\n",
    "NONEMBED_COLS = [c for c in features.columns if c not in EMBED_COLS]\n",
    "BATCH_SIZE = 256 \n",
    "MAX_EPOCH = 1000\n",
    "lr = 5e-4\n",
    "numeric_size = [128,64]\n",
    "model_size = [1024,512,256]\n",
    "DROPOUT= [0.1,0.1]\n",
    "METRICS = [\"MAPE\",\"MAE\"]"
   ]
  },
  {
   "cell_type": "code",
   "execution_count": null,
   "metadata": {},
   "outputs": [],
   "source": [
    "data_setup.categorical_mapping(X_train,EMBED_COLS)"
   ]
  },
  {
   "cell_type": "code",
   "execution_count": null,
   "metadata": {},
   "outputs": [],
   "source": [
    "X_train_list,X_dev_list  = data_setup.cate_data_list(X_train),data_setup.cate_data_list(X_dev)\n",
    "X_test_list,features_list = data_setup.cate_data_list(X_test), data_setup.cate_data_list(features)"
   ]
  },
  {
   "cell_type": "code",
   "execution_count": null,
   "metadata": {},
   "outputs": [],
   "source": [
    "X_train_dataset, X_dev_dataset = (X_train_list,y_train),(X_dev_list,y_dev)"
   ]
  },
  {
   "cell_type": "code",
   "execution_count": null,
   "metadata": {},
   "outputs": [],
   "source": [
    "all_embed_model = EmbedCarPrice.embed_model_setup(EMBED_COLS,NONEMBED_COLS, \n",
    "                                                   X_train,numeric_size,\n",
    "                                                   model_size,DROPOUT,METRICS,lr,2)"
   ]
  },
  {
   "cell_type": "code",
   "execution_count": null,
   "metadata": {},
   "outputs": [],
   "source": [
    "all_embed_model.summary()"
   ]
  },
  {
   "cell_type": "code",
   "execution_count": null,
   "metadata": {},
   "outputs": [],
   "source": [
    "carPrice_embed_all = EmbedCarPrice(all_embed_model,BATCH_SIZE,MAX_EPOCH,[earlystop])"
   ]
  },
  {
   "cell_type": "code",
   "execution_count": null,
   "metadata": {
    "scrolled": false
   },
   "outputs": [],
   "source": [
    "carPrice_embed_all.regression_metrics(X_train_list,y_train,\"train\",True,X_train_dataset,X_dev_dataset,1)"
   ]
  },
  {
   "cell_type": "code",
   "execution_count": null,
   "metadata": {},
   "outputs": [],
   "source": [
    "carPrice_embed_all.regression_metrics(X_test_list,y_test,\"test\",False)"
   ]
  },
  {
   "cell_type": "code",
   "execution_count": null,
   "metadata": {},
   "outputs": [],
   "source": [
    "carPrice_embed_all.save_model(\"All_embed.h5\")"
   ]
  },
  {
   "cell_type": "code",
   "execution_count": null,
   "metadata": {},
   "outputs": [],
   "source": [
    "all_embed = EmbedCarPrice.load_model(\"All_embed.h5\")"
   ]
  },
  {
   "cell_type": "code",
   "execution_count": null,
   "metadata": {},
   "outputs": [],
   "source": [
    "carPrice_embed_all.plot_pred_price(features_list,y)"
   ]
  },
  {
   "cell_type": "code",
   "execution_count": null,
   "metadata": {},
   "outputs": [],
   "source": [
    "price_table = carPrice_embed_all.price_diff(features,y,features_list)\n",
    "price_table.head(20)"
   ]
  },
  {
   "cell_type": "markdown",
   "metadata": {},
   "source": [
    "### Slightly improved, still have same issues with older year. Let's import original raw data"
   ]
  },
  {
   "cell_type": "code",
   "execution_count": 10,
   "metadata": {},
   "outputs": [],
   "source": [
    "data_raw = pd.read_csv(f\"{home}/Documents/projects/CarPriceRegression/Processed_Data/car_data_raw.csv\")\n",
    "features_raw,y_raw = data_raw.drop(\"price\",axis=1),data_raw.price"
   ]
  },
  {
   "cell_type": "code",
   "execution_count": null,
   "metadata": {},
   "outputs": [],
   "source": [
    "data_setup_raw = DataSetUp(features_raw,y_raw)\n",
    "X_train_raw,X_dev_raw,X_test_raw,y_train_raw,y_dev_raw,y_test_raw = data_setup_raw.data_split(2020,0.1,True,2020,0.11)"
   ]
  },
  {
   "cell_type": "code",
   "execution_count": null,
   "metadata": {},
   "outputs": [],
   "source": [
    "EMBED_COLS = [\"model\",\"transmission\",\"brand\",\"fuelType\",\"year\"]\n",
    "NONEMBED_COLS = [c for c in X_train_raw.columns if c not in EMBED_COLS]\n",
    "BATCH_SIZE = 256 \n",
    "MAX_EPOCH = 1000\n",
    "lr = 5e-4\n",
    "numeric_size = [128]\n",
    "model_size = [1024,512,256]\n",
    "DROPOUT= [0.1,0.1]\n",
    "METRICS = [\"MAPE\",\"MAE\"]"
   ]
  },
  {
   "cell_type": "code",
   "execution_count": null,
   "metadata": {},
   "outputs": [],
   "source": [
    "data_setup_raw.categorical_mapping(X_train_raw,EMBED_COLS)"
   ]
  },
  {
   "cell_type": "code",
   "execution_count": null,
   "metadata": {},
   "outputs": [],
   "source": [
    "X_train_list_r,X_dev_list_r = data_setup_raw.cate_data_list(X_train_raw),data_setup_raw.cate_data_list(X_dev_raw)\n",
    "X_test_list_r, features_list_r = data_setup_raw.cate_data_list(X_test_raw),data_setup_raw.cate_data_list(features_raw)"
   ]
  },
  {
   "cell_type": "code",
   "execution_count": null,
   "metadata": {},
   "outputs": [],
   "source": [
    "train_dataset_r,dev_dataset_r = (X_train_list_r,y_train_raw),(X_dev_list_r,y_dev_raw)"
   ]
  },
  {
   "cell_type": "code",
   "execution_count": null,
   "metadata": {},
   "outputs": [],
   "source": [
    "carPrice_embed_raw = EmbedCarPrice.embed_model_setup(EMBED_COLS,NONEMBED_COLS,X_train_raw,\n",
    "                                                     numeric_size,model_size,DROPOUT,METRICS,lr,2)"
   ]
  },
  {
   "cell_type": "code",
   "execution_count": null,
   "metadata": {},
   "outputs": [],
   "source": [
    "carPrice_embed_raw.summary()"
   ]
  },
  {
   "cell_type": "code",
   "execution_count": null,
   "metadata": {},
   "outputs": [],
   "source": [
    "carPrice_embed_raw = EmbedCarPrice(carPrice_embed_raw,BATCH_SIZE,MAX_EPOCH,[earlystop])"
   ]
  },
  {
   "cell_type": "code",
   "execution_count": null,
   "metadata": {
    "scrolled": true
   },
   "outputs": [],
   "source": [
    "carPrice_embed_raw.regression_metrics(X_train_list_r,y_train_raw,\"train\",True,train_dataset_r,dev_dataset_r,1)"
   ]
  },
  {
   "cell_type": "code",
   "execution_count": null,
   "metadata": {},
   "outputs": [],
   "source": [
    "carPrice_embed_raw.regression_metrics(X_test_list_r,y_test_raw,\"test\",False)"
   ]
  },
  {
   "cell_type": "code",
   "execution_count": null,
   "metadata": {},
   "outputs": [],
   "source": [
    "carPrice_embed_raw.save_model(\"model_embed_raw.h5\")"
   ]
  },
  {
   "cell_type": "code",
   "execution_count": null,
   "metadata": {},
   "outputs": [],
   "source": [
    "embed_model_r = EmbedCarPrice.load_model(\"model_embed_raw.h5\")"
   ]
  },
  {
   "cell_type": "code",
   "execution_count": null,
   "metadata": {
    "scrolled": true
   },
   "outputs": [],
   "source": [
    "carPrice_embed_raw.plot_pred_price(features_list_r,y_raw)"
   ]
  },
  {
   "cell_type": "code",
   "execution_count": null,
   "metadata": {},
   "outputs": [],
   "source": [
    "price_table = carPrice_embed_raw.price_diff(features_raw,y_raw,features_list_r)\n",
    "price_table.head(20)"
   ]
  },
  {
   "cell_type": "markdown",
   "metadata": {},
   "source": [
    "### Let's use binned numeric data instead of raw numeric value"
   ]
  },
  {
   "cell_type": "code",
   "execution_count": 47,
   "metadata": {},
   "outputs": [],
   "source": [
    "combined = data.drop(\"binned_year\",axis=1).merge(data_raw[\"year\"],left_index=True,right_index=True)\n",
    "features_c,y_c = combined.drop(\"price\",axis=1), combined.price"
   ]
  },
  {
   "cell_type": "code",
   "execution_count": 12,
   "metadata": {},
   "outputs": [],
   "source": [
    "data_setup_c = DataSetUp(features_c,y_c)"
   ]
  },
  {
   "cell_type": "code",
   "execution_count": 36,
   "metadata": {},
   "outputs": [],
   "source": [
    "X_train_c,X_dev_c,X_test_c,y_train_c,y_dev_c,y_test_c  = data_setup_c.data_split(2020,0.05,True,2020,0.05)"
   ]
  },
  {
   "cell_type": "code",
   "execution_count": 61,
   "metadata": {},
   "outputs": [],
   "source": [
    "EMBED_COLS = [\"model\",\"transmission\",\"brand\",\"fuelType\",\"year\",\"mil_cat\",\"binned_mpg\",\"engine_binned\"]\n",
    "NONEMBED_COLS = [c for c in X_train_c.columns if c not in EMBED_COLS]\n",
    "BATCH_SIZE = 256 \n",
    "MAX_EPOCH = 1000\n",
    "lr = 5e-4\n",
    "numeric_size = [128,64]\n",
    "model_size = [1024,512,256]\n",
    "DROPOUT= [0.1,0.1]\n",
    "METRICS = [\"MAPE\",\"MAE\"]"
   ]
  },
  {
   "cell_type": "code",
   "execution_count": 50,
   "metadata": {},
   "outputs": [],
   "source": [
    "data_setup_c.categorical_mapping(X_train_c,EMBED_COLS)"
   ]
  },
  {
   "cell_type": "code",
   "execution_count": 51,
   "metadata": {},
   "outputs": [],
   "source": [
    "X_train_list_c,X_dev_list_c = data_setup_c.cate_data_list(X_train_c), data_setup_c.cate_data_list(X_dev_c)"
   ]
  },
  {
   "cell_type": "code",
   "execution_count": 52,
   "metadata": {},
   "outputs": [],
   "source": [
    "X_test_list_c,features_list_c = data_setup_c.cate_data_list(X_test_c),data_setup_c.cate_data_list(features_c)"
   ]
  },
  {
   "cell_type": "code",
   "execution_count": 53,
   "metadata": {},
   "outputs": [],
   "source": [
    "X_train_dataset_c,X_dev_dataset_c = (X_train_list_c,y_train_c),(X_dev_list_c,y_dev_c)"
   ]
  },
  {
   "cell_type": "code",
   "execution_count": 62,
   "metadata": {},
   "outputs": [],
   "source": [
    "embed_model_c= EmbedCarPrice.embed_model_setup(EMBED_COLS,NONEMBED_COLS,X_train_c,\n",
    "                                               numeric_size,model_size,DROPOUT,\n",
    "                                               METRICS,lr,2)"
   ]
  },
  {
   "cell_type": "code",
   "execution_count": 63,
   "metadata": {
    "scrolled": true
   },
   "outputs": [
    {
     "name": "stdout",
     "output_type": "stream",
     "text": [
      "Model: \"model_13\"\n",
      "__________________________________________________________________________________________________\n",
      "Layer (type)                    Output Shape         Param #     Connected to                     \n",
      "==================================================================================================\n",
      "input_105 (InputLayer)          [(None, 1)]          0                                            \n",
      "__________________________________________________________________________________________________\n",
      "input_106 (InputLayer)          [(None, 1)]          0                                            \n",
      "__________________________________________________________________________________________________\n",
      "input_107 (InputLayer)          [(None, 1)]          0                                            \n",
      "__________________________________________________________________________________________________\n",
      "input_108 (InputLayer)          [(None, 1)]          0                                            \n",
      "__________________________________________________________________________________________________\n",
      "input_109 (InputLayer)          [(None, 1)]          0                                            \n",
      "__________________________________________________________________________________________________\n",
      "input_110 (InputLayer)          [(None, 1)]          0                                            \n",
      "__________________________________________________________________________________________________\n",
      "input_111 (InputLayer)          [(None, 1)]          0                                            \n",
      "__________________________________________________________________________________________________\n",
      "input_112 (InputLayer)          [(None, 1)]          0                                            \n",
      "__________________________________________________________________________________________________\n",
      "model_embedding (Embedding)     (None, 1, 50)        9900        input_105[0][0]                  \n",
      "__________________________________________________________________________________________________\n",
      "transmission_embedding (Embeddi (None, 1, 5)         25          input_106[0][0]                  \n",
      "__________________________________________________________________________________________________\n",
      "brand_embedding (Embedding)     (None, 1, 10)        100         input_107[0][0]                  \n",
      "__________________________________________________________________________________________________\n",
      "fuelType_embedding (Embedding)  (None, 1, 6)         36          input_108[0][0]                  \n",
      "__________________________________________________________________________________________________\n",
      "year_embedding (Embedding)      (None, 1, 26)        676         input_109[0][0]                  \n",
      "__________________________________________________________________________________________________\n",
      "mil_cat_embedding (Embedding)   (None, 1, 7)         49          input_110[0][0]                  \n",
      "__________________________________________________________________________________________________\n",
      "binned_mpg_embedding (Embedding (None, 1, 6)         36          input_111[0][0]                  \n",
      "__________________________________________________________________________________________________\n",
      "engine_binned_embedding (Embedd (None, 1, 4)         16          input_112[0][0]                  \n",
      "__________________________________________________________________________________________________\n",
      "reshape_104 (Reshape)           (None, 50)           0           model_embedding[0][0]            \n",
      "__________________________________________________________________________________________________\n",
      "reshape_105 (Reshape)           (None, 5)            0           transmission_embedding[0][0]     \n",
      "__________________________________________________________________________________________________\n",
      "reshape_106 (Reshape)           (None, 10)           0           brand_embedding[0][0]            \n",
      "__________________________________________________________________________________________________\n",
      "reshape_107 (Reshape)           (None, 6)            0           fuelType_embedding[0][0]         \n",
      "__________________________________________________________________________________________________\n",
      "reshape_108 (Reshape)           (None, 26)           0           year_embedding[0][0]             \n",
      "__________________________________________________________________________________________________\n",
      "reshape_109 (Reshape)           (None, 7)            0           mil_cat_embedding[0][0]          \n",
      "__________________________________________________________________________________________________\n",
      "reshape_110 (Reshape)           (None, 6)            0           binned_mpg_embedding[0][0]       \n",
      "__________________________________________________________________________________________________\n",
      "reshape_111 (Reshape)           (None, 4)            0           engine_binned_embedding[0][0]    \n",
      "__________________________________________________________________________________________________\n",
      "concatenate_13 (Concatenate)    (None, 114)          0           reshape_104[0][0]                \n",
      "                                                                 reshape_105[0][0]                \n",
      "                                                                 reshape_106[0][0]                \n",
      "                                                                 reshape_107[0][0]                \n",
      "                                                                 reshape_108[0][0]                \n",
      "                                                                 reshape_109[0][0]                \n",
      "                                                                 reshape_110[0][0]                \n",
      "                                                                 reshape_111[0][0]                \n",
      "__________________________________________________________________________________________________\n",
      "dense_52 (Dense)                (None, 1024)         117760      concatenate_13[0][0]             \n",
      "__________________________________________________________________________________________________\n",
      "dropout_26 (Dropout)            (None, 1024)         0           dense_52[0][0]                   \n",
      "__________________________________________________________________________________________________\n",
      "dense_53 (Dense)                (None, 512)          524800      dropout_26[0][0]                 \n",
      "__________________________________________________________________________________________________\n",
      "dropout_27 (Dropout)            (None, 512)          0           dense_53[0][0]                   \n",
      "__________________________________________________________________________________________________\n",
      "dense_54 (Dense)                (None, 256)          131328      dropout_27[0][0]                 \n",
      "__________________________________________________________________________________________________\n",
      "dense_55 (Dense)                (None, 1)            257         dense_54[0][0]                   \n",
      "==================================================================================================\n",
      "Total params: 784,983\n",
      "Trainable params: 784,983\n",
      "Non-trainable params: 0\n",
      "__________________________________________________________________________________________________\n"
     ]
    }
   ],
   "source": [
    "embed_model_c.summary()"
   ]
  },
  {
   "cell_type": "code",
   "execution_count": 58,
   "metadata": {},
   "outputs": [],
   "source": [
    "carPriceEmbed_c = EmbedCarPrice(embed_model_c,BATCH_SIZE,MAX_EPOCH,[earlystop])"
   ]
  },
  {
   "cell_type": "code",
   "execution_count": 60,
   "metadata": {
    "scrolled": false
   },
   "outputs": [],
   "source": [
    "# carPriceEmbed_c.regression_metrics(X_train_list_c,y_train_c,\"train\",True,X_train_dataset_c,X_test_dataset_c,1)"
   ]
  },
  {
   "cell_type": "code",
   "execution_count": null,
   "metadata": {},
   "outputs": [],
   "source": [
    "carPriceEmbed_c.regression_metrics(X_test_list_c,y_test_c,\"test\",False)"
   ]
  },
  {
   "cell_type": "code",
   "execution_count": null,
   "metadata": {},
   "outputs": [],
   "source": [
    "carPriceEmbed_c.save_model(\"combined_embed_all.h5\")"
   ]
  },
  {
   "cell_type": "code",
   "execution_count": null,
   "metadata": {},
   "outputs": [],
   "source": [
    "embed_model_c= EmbedCarPrice.load_model(\"combined_embed_all.h5\")"
   ]
  },
  {
   "cell_type": "code",
   "execution_count": null,
   "metadata": {},
   "outputs": [],
   "source": [
    "carPriceEmbed_c.plot_pred_price(features_list_c,y_c)"
   ]
  },
  {
   "cell_type": "code",
   "execution_count": null,
   "metadata": {},
   "outputs": [],
   "source": [
    "price_table = carPriceEmbed_c.price_diff(features_c,y_c,features_list_c)\n",
    "price_table.head(20)"
   ]
  },
  {
   "cell_type": "markdown",
   "metadata": {},
   "source": [
    "### The binned numeric value did better than original numerica data. \n",
    "\n",
    "--- \n",
    "\n",
    "### Let's focus on binned numeric value with original year embed model and adjust learning rate first "
   ]
  },
  {
   "cell_type": "code",
   "execution_count": null,
   "metadata": {},
   "outputs": [],
   "source": [
    "learning_rates = [1e-1,1e-2,1e-3,1e-4,1e-5,1e-6]\n",
    "mdl_setup = partial(EmbedCarPrice.embed_model_setup, EMBED_COLS,NONEMBED_COLS,\n",
    "                    X_train_c,numeric_size,model_size,DROPOUT,METRICS,embed_size_multiplier=2.0)\n",
    "EmbedCarPrice.param_search(learning_rates,mdl_setup,X_train_dataset_c,X_dev_dataset_c,1)"
   ]
  },
  {
   "cell_type": "markdown",
   "metadata": {},
   "source": [
    "### learning rate of 0.001 seems to work the best\n",
    "\n",
    "### tune embed multiplier"
   ]
  },
  {
   "cell_type": "code",
   "execution_count": 22,
   "metadata": {},
   "outputs": [],
   "source": [
    "mdl_partial = partial(EmbedCarPrice.embed_model_setup, EMBED_COLS,NONEMBED_COLS,\n",
    "                    X_train_c,numeric_size,model_size,DROPOUT,METRICS,0.001)"
   ]
  },
  {
   "cell_type": "code",
   "execution_count": 23,
   "metadata": {
    "scrolled": true
   },
   "outputs": [
    {
     "name": "stdout",
     "output_type": "stream",
     "text": [
      "2483/2483 [==============================] - 9s 4ms/step - loss: 26030606.0000 - MAPE: 19.4573 - MAE: 2880.9531 - val_loss: 18316842.0000 - val_MAPE: 15.2506 - val_MAE: 2332.5276\n",
      "2483/2483 [==============================] - 9s 4ms/step - loss: 25210738.0000 - MAPE: 19.2603 - MAE: 2842.4429 - val_loss: 17331892.0000 - val_MAPE: 14.4935 - val_MAE: 2225.2522\n",
      "2483/2483 [==============================] - 9s 4ms/step - loss: 24316926.0000 - MAPE: 19.1931 - MAE: 2829.0459 - val_loss: 16702078.0000 - val_MAPE: 15.2994 - val_MAE: 2307.4368\n",
      "2483/2483 [==============================] - 9s 4ms/step - loss: 24529166.0000 - MAPE: 19.1267 - MAE: 2820.3877 - val_loss: 17961478.0000 - val_MAPE: 17.1991 - val_MAE: 2582.2258\n",
      "2483/2483 [==============================] - 9s 4ms/step - loss: 23982434.0000 - MAPE: 18.9922 - MAE: 2800.2598 - val_loss: 15971335.0000 - val_MAPE: 13.9325 - val_MAE: 2146.4946\n",
      "2483/2483 [==============================] - 9s 4ms/step - loss: 24171936.0000 - MAPE: 18.9758 - MAE: 2794.2922 - val_loss: 16501726.0000 - val_MAPE: 13.9230 - val_MAE: 2174.9343\n",
      "2483/2483 [==============================] - 9s 4ms/step - loss: 24877960.0000 - MAPE: 19.3653 - MAE: 2846.9670 - val_loss: 17044468.0000 - val_MAPE: 15.3682 - val_MAE: 2334.5913\n",
      "2483/2483 [==============================] - 9s 4ms/step - loss: 24059872.0000 - MAPE: 18.8970 - MAE: 2775.9907 - val_loss: 15577011.0000 - val_MAPE: 13.8997 - val_MAE: 2160.9170\n"
     ]
    },
    {
     "data": {
      "image/png": "[encoded data removed]",
      "text/plain": [
       "<Figure size 432x288 with 1 Axes>"
      ]
     },
     "metadata": {
      "needs_background": "light"
     },
     "output_type": "display_data"
    }
   ],
   "source": [
    "multiplier = [1,2,3,4,5,6,7,8]\n",
    "EmbedCarPrice.param_search(multiplier,mdl_partial,X_train_dataset_c,X_dev_dataset_c,1)"
   ]
  },
  {
   "cell_type": "markdown",
   "metadata": {},
   "source": [
    "### multipler of 3 seems to work the best\n",
    "\n",
    "### increase training size and train on feature set"
   ]
  },
  {
   "cell_type": "code",
   "execution_count": 64,
   "metadata": {},
   "outputs": [],
   "source": [
    "data_setup_final = DataSetUp(features_c,y_c)"
   ]
  },
  {
   "cell_type": "code",
   "execution_count": 65,
   "metadata": {},
   "outputs": [],
   "source": [
    "X_train_final,X_test_final,y_train_final,y_test_final = data_setup_final.data_split(2020,0.1)"
   ]
  },
  {
   "cell_type": "code",
   "execution_count": 66,
   "metadata": {},
   "outputs": [],
   "source": [
    "final_mdl = EmbedCarPrice.embed_model_setup(EMBED_COLS,NONEMBED_COLS,X_train_final,\n",
    "                                               numeric_size,model_size,DROPOUT,\n",
    "                                               METRICS,lr,3)"
   ]
  },
  {
   "cell_type": "code",
   "execution_count": 67,
   "metadata": {
    "scrolled": true
   },
   "outputs": [],
   "source": [
    "carPriceEmbed_c_final = EmbedCarPrice(final_mdl,BATCH_SIZE,MAX_EPOCH,[earlystop])"
   ]
  },
  {
   "cell_type": "code",
   "execution_count": 69,
   "metadata": {},
   "outputs": [],
   "source": [
    "data_setup_final.categorical_mapping(X_train_final,EMBED_COLS)"
   ]
  },
  {
   "cell_type": "code",
   "execution_count": 77,
   "metadata": {},
   "outputs": [],
   "source": [
    "X_train_final_list = data_setup_final.cate_data_list(X_train_final)\n",
    "X_test_final_list = data_setup_final.cate_data_list(X_test_final)"
   ]
  },
  {
   "cell_type": "code",
   "execution_count": 78,
   "metadata": {},
   "outputs": [],
   "source": [
    "train_data_final,test_data_final = (X_train_final_list,y_train_final),(X_test_final_list,y_test_final)"
   ]
  },
  {
   "cell_type": "code",
   "execution_count": 70,
   "metadata": {},
   "outputs": [],
   "source": [
    "features_list_final = data_setup_final.cate_data_list(features_c)"
   ]
  },
  {
   "cell_type": "code",
   "execution_count": 79,
   "metadata": {
    "scrolled": true
   },
   "outputs": [
    {
     "name": "stdout",
     "output_type": "stream",
     "text": [
      "Epoch 1/1000\n",
      "2790/2790 [==============================] - 10s 4ms/step - loss: 6142173.0000 - MAPE: 9.8287 - MAE: 1584.5477 - val_loss: 5407268.5000 - val_MAPE: 9.4166 - val_MAE: 1508.8293\n",
      "Epoch 2/1000\n",
      "2790/2790 [==============================] - 10s 4ms/step - loss: 6063200.0000 - MAPE: 9.7387 - MAE: 1570.5397 - val_loss: 5271289.5000 - val_MAPE: 9.9041 - val_MAE: 1509.0293\n",
      "Epoch 3/1000\n",
      "2790/2790 [==============================] - 10s 4ms/step - loss: 5923044.0000 - MAPE: 9.6699 - MAE: 1559.0647 - val_loss: 5325721.5000 - val_MAPE: 8.8366 - val_MAE: 1451.4265\n",
      "Epoch 4/1000\n",
      "2790/2790 [==============================] - 10s 4ms/step - loss: 5938203.5000 - MAPE: 9.6505 - MAE: 1554.8004 - val_loss: 5877818.0000 - val_MAPE: 9.6954 - val_MAE: 1551.8494\n",
      "Epoch 5/1000\n",
      "2790/2790 [==============================] - 10s 4ms/step - loss: 5835687.5000 - MAPE: 9.6152 - MAE: 1545.5900 - val_loss: 5069431.0000 - val_MAPE: 8.8174 - val_MAE: 1428.0948\n",
      "Epoch 6/1000\n",
      "2790/2790 [==============================] - 10s 4ms/step - loss: 5799811.0000 - MAPE: 9.5512 - MAE: 1538.7065 - val_loss: 5655519.0000 - val_MAPE: 9.5037 - val_MAE: 1536.6802\n",
      "Epoch 7/1000\n",
      "2790/2790 [==============================] - 10s 4ms/step - loss: 5814532.0000 - MAPE: 9.5247 - MAE: 1534.6990 - val_loss: 4988116.0000 - val_MAPE: 8.6780 - val_MAE: 1408.2017\n",
      "Epoch 8/1000\n",
      "2790/2790 [==============================] - 10s 4ms/step - loss: 5761040.5000 - MAPE: 9.5235 - MAE: 1533.9827 - val_loss: 5143955.5000 - val_MAPE: 8.6869 - val_MAE: 1422.8164\n",
      "Epoch 9/1000\n",
      "2790/2790 [==============================] - 10s 4ms/step - loss: 5759865.0000 - MAPE: 9.4852 - MAE: 1529.0267 - val_loss: 4959403.0000 - val_MAPE: 8.7588 - val_MAE: 1409.1924\n",
      "Epoch 10/1000\n",
      "2790/2790 [==============================] - 10s 4ms/step - loss: 5722116.5000 - MAPE: 9.4721 - MAE: 1524.8542 - val_loss: 5115063.5000 - val_MAPE: 8.7432 - val_MAE: 1413.9979\n",
      "Epoch 11/1000\n",
      "2790/2790 [==============================] - 10s 4ms/step - loss: 5699484.5000 - MAPE: 9.4465 - MAE: 1520.9944 - val_loss: 5333621.5000 - val_MAPE: 10.2038 - val_MAE: 1522.3958\n",
      "Epoch 12/1000\n",
      "2790/2790 [==============================] - 10s 4ms/step - loss: 5585896.5000 - MAPE: 9.4457 - MAE: 1517.0320 - val_loss: 4905811.5000 - val_MAPE: 8.5475 - val_MAE: 1394.1101\n",
      "Epoch 13/1000\n",
      "2790/2790 [==============================] - 10s 4ms/step - loss: 5616972.0000 - MAPE: 9.4137 - MAE: 1513.6793 - val_loss: 5000213.5000 - val_MAPE: 8.6152 - val_MAE: 1405.6898\n",
      "Epoch 14/1000\n",
      "2790/2790 [==============================] - 10s 4ms/step - loss: 5607080.5000 - MAPE: 9.3397 - MAE: 1508.5629 - val_loss: 5253753.0000 - val_MAPE: 10.5443 - val_MAE: 1523.7527\n",
      "Epoch 15/1000\n",
      "2790/2790 [==============================] - 10s 4ms/step - loss: 5580175.5000 - MAPE: 9.3669 - MAE: 1510.0453 - val_loss: 5140064.0000 - val_MAPE: 8.8873 - val_MAE: 1437.0765\n",
      "Epoch 16/1000\n",
      "2790/2790 [==============================] - 10s 4ms/step - loss: 5502159.5000 - MAPE: 9.3376 - MAE: 1502.4116 - val_loss: 5078858.5000 - val_MAPE: 8.8042 - val_MAE: 1430.9359\n",
      "Epoch 17/1000\n",
      "2790/2790 [==============================] - 10s 4ms/step - loss: 5527192.5000 - MAPE: 9.2794 - MAE: 1496.2391 - val_loss: 5007282.5000 - val_MAPE: 8.6223 - val_MAE: 1399.2122\n",
      "Epoch 18/1000\n",
      "2790/2790 [==============================] - 10s 4ms/step - loss: 5520955.0000 - MAPE: 9.2973 - MAE: 1499.3352 - val_loss: 5003285.0000 - val_MAPE: 8.9925 - val_MAE: 1428.6748\n",
      "Epoch 19/1000\n",
      "2790/2790 [==============================] - 10s 4ms/step - loss: 5483376.5000 - MAPE: 9.2409 - MAE: 1491.2209 - val_loss: 4885658.5000 - val_MAPE: 8.5130 - val_MAE: 1384.8075\n",
      "Epoch 20/1000\n",
      "2790/2790 [==============================] - 10s 4ms/step - loss: 5489925.5000 - MAPE: 9.2787 - MAE: 1495.7532 - val_loss: 4959883.0000 - val_MAPE: 8.7448 - val_MAE: 1397.8478\n",
      "Epoch 21/1000\n",
      "2790/2790 [==============================] - 10s 4ms/step - loss: 5422910.5000 - MAPE: 9.2104 - MAE: 1482.1627 - val_loss: 4834832.5000 - val_MAPE: 8.9454 - val_MAE: 1407.8173\n",
      "Epoch 22/1000\n",
      "2790/2790 [==============================] - 10s 4ms/step - loss: 5406211.0000 - MAPE: 9.2213 - MAE: 1485.9791 - val_loss: 4887472.0000 - val_MAPE: 8.5942 - val_MAE: 1388.4686\n",
      "Epoch 23/1000\n",
      "2790/2790 [==============================] - 10s 4ms/step - loss: 5369508.0000 - MAPE: 9.2238 - MAE: 1483.8256 - val_loss: 4799083.5000 - val_MAPE: 8.4331 - val_MAE: 1373.1112\n",
      "Epoch 24/1000\n",
      "2790/2790 [==============================] - 10s 4ms/step - loss: 5379880.5000 - MAPE: 9.1945 - MAE: 1482.0807 - val_loss: 4837872.0000 - val_MAPE: 8.6969 - val_MAE: 1392.5350\n",
      "Epoch 25/1000\n",
      "2790/2790 [==============================] - 10s 4ms/step - loss: 5333164.5000 - MAPE: 9.1653 - MAE: 1478.2677 - val_loss: 5108088.5000 - val_MAPE: 8.6694 - val_MAE: 1423.7654\n",
      "Epoch 26/1000\n",
      "2790/2790 [==============================] - 10s 4ms/step - loss: 5310322.0000 - MAPE: 9.1389 - MAE: 1472.7690 - val_loss: 5090556.0000 - val_MAPE: 8.5809 - val_MAE: 1409.7786\n",
      "Epoch 27/1000\n",
      "2790/2790 [==============================] - 10s 4ms/step - loss: 5287017.5000 - MAPE: 9.1215 - MAE: 1470.9382 - val_loss: 4779965.5000 - val_MAPE: 8.6388 - val_MAE: 1379.0814\n",
      "Epoch 28/1000\n",
      "2790/2790 [==============================] - 10s 4ms/step - loss: 5302183.5000 - MAPE: 9.1150 - MAE: 1469.0996 - val_loss: 4957226.0000 - val_MAPE: 8.4846 - val_MAE: 1391.4144\n",
      "Epoch 29/1000\n",
      "2790/2790 [==============================] - 10s 4ms/step - loss: 5260145.0000 - MAPE: 9.0872 - MAE: 1465.5824 - val_loss: 4955585.0000 - val_MAPE: 9.3680 - val_MAE: 1444.1357\n",
      "Epoch 30/1000\n",
      "2790/2790 [==============================] - 10s 4ms/step - loss: 5336587.0000 - MAPE: 9.0955 - MAE: 1467.9882 - val_loss: 4776848.5000 - val_MAPE: 8.3958 - val_MAE: 1361.9082\n",
      "Epoch 31/1000\n",
      "2790/2790 [==============================] - 10s 4ms/step - loss: 5227286.0000 - MAPE: 9.0499 - MAE: 1459.4760 - val_loss: 4798228.0000 - val_MAPE: 8.4938 - val_MAE: 1381.5999\n",
      "Epoch 32/1000\n",
      "2790/2790 [==============================] - 10s 4ms/step - loss: 5243676.5000 - MAPE: 9.0458 - MAE: 1458.9674 - val_loss: 4825211.0000 - val_MAPE: 8.9530 - val_MAE: 1396.7716\n",
      "Epoch 33/1000\n",
      "2790/2790 [==============================] - 10s 4ms/step - loss: 5223554.0000 - MAPE: 9.0594 - MAE: 1460.7396 - val_loss: 4799384.0000 - val_MAPE: 8.6599 - val_MAE: 1372.5441\n",
      "Epoch 34/1000\n",
      "2790/2790 [==============================] - 10s 4ms/step - loss: 5220934.0000 - MAPE: 9.0466 - MAE: 1457.5970 - val_loss: 4735137.0000 - val_MAPE: 8.6069 - val_MAE: 1377.2108\n",
      "Epoch 35/1000\n",
      "2790/2790 [==============================] - 10s 4ms/step - loss: 5197561.0000 - MAPE: 9.0414 - MAE: 1458.3127 - val_loss: 4903420.5000 - val_MAPE: 8.6641 - val_MAE: 1409.4019\n",
      "Epoch 36/1000\n",
      "2790/2790 [==============================] - 10s 4ms/step - loss: 5166526.0000 - MAPE: 9.0171 - MAE: 1451.8456 - val_loss: 4864738.5000 - val_MAPE: 8.5081 - val_MAE: 1382.8723\n",
      "Epoch 37/1000\n",
      "2790/2790 [==============================] - 10s 4ms/step - loss: 5185466.0000 - MAPE: 9.0364 - MAE: 1455.5630 - val_loss: 4968224.5000 - val_MAPE: 8.4727 - val_MAE: 1403.1160\n",
      "Epoch 38/1000\n",
      "2790/2790 [==============================] - 10s 4ms/step - loss: 5143477.5000 - MAPE: 9.0112 - MAE: 1451.3414 - val_loss: 4687189.0000 - val_MAPE: 8.6929 - val_MAE: 1367.2670\n",
      "Epoch 39/1000\n",
      "2790/2790 [==============================] - 10s 4ms/step - loss: 5167702.5000 - MAPE: 8.9953 - MAE: 1450.5251 - val_loss: 4706831.5000 - val_MAPE: 8.5976 - val_MAE: 1371.0947\n",
      "Epoch 40/1000\n",
      "2790/2790 [==============================] - 10s 4ms/step - loss: 5123135.5000 - MAPE: 8.9602 - MAE: 1446.2928 - val_loss: 4900054.0000 - val_MAPE: 8.3595 - val_MAE: 1370.1093\n",
      "Epoch 41/1000\n",
      "2790/2790 [==============================] - 10s 4ms/step - loss: 5123974.5000 - MAPE: 8.9887 - MAE: 1447.3667 - val_loss: 4703233.0000 - val_MAPE: 8.2657 - val_MAE: 1356.3049\n",
      "Epoch 42/1000\n",
      "2790/2790 [==============================] - 10s 4ms/step - loss: 5087965.0000 - MAPE: 8.9253 - MAE: 1439.6597 - val_loss: 4787273.5000 - val_MAPE: 8.9249 - val_MAE: 1398.6361\n",
      "Epoch 43/1000\n",
      "2790/2790 [==============================] - 10s 4ms/step - loss: 5081522.5000 - MAPE: 8.9326 - MAE: 1441.5060 - val_loss: 4628329.5000 - val_MAPE: 8.4257 - val_MAE: 1354.3828\n",
      "Epoch 44/1000\n"
     ]
    },
    {
     "name": "stdout",
     "output_type": "stream",
     "text": [
      "2790/2790 [==============================] - 10s 4ms/step - loss: 5081578.0000 - MAPE: 8.9031 - MAE: 1437.3181 - val_loss: 4940877.5000 - val_MAPE: 9.1188 - val_MAE: 1415.0211\n",
      "Epoch 45/1000\n",
      "2790/2790 [==============================] - 10s 4ms/step - loss: 5069587.5000 - MAPE: 8.9207 - MAE: 1436.9620 - val_loss: 4775148.0000 - val_MAPE: 8.2995 - val_MAE: 1360.3577\n",
      "Epoch 46/1000\n",
      "2790/2790 [==============================] - 10s 4ms/step - loss: 5081316.5000 - MAPE: 8.9437 - MAE: 1441.1140 - val_loss: 4807448.5000 - val_MAPE: 8.6781 - val_MAE: 1375.9934\n",
      "Epoch 47/1000\n",
      "2790/2790 [==============================] - 10s 4ms/step - loss: 5052922.5000 - MAPE: 8.9217 - MAE: 1438.0663 - val_loss: 4766802.5000 - val_MAPE: 8.9562 - val_MAE: 1402.4384\n",
      "Epoch 48/1000\n",
      "2790/2790 [==============================] - 10s 4ms/step - loss: 5022993.0000 - MAPE: 8.8908 - MAE: 1435.0577 - val_loss: 4898133.0000 - val_MAPE: 8.7594 - val_MAE: 1391.3950\n",
      "Epoch 49/1000\n",
      "2790/2790 [==============================] - 10s 4ms/step - loss: 5038739.0000 - MAPE: 8.8932 - MAE: 1434.6030 - val_loss: 4667740.0000 - val_MAPE: 8.1855 - val_MAE: 1344.1794\n",
      "Epoch 50/1000\n",
      "2790/2790 [==============================] - 10s 4ms/step - loss: 5045235.5000 - MAPE: 8.8965 - MAE: 1436.1211 - val_loss: 4697510.0000 - val_MAPE: 8.4190 - val_MAE: 1348.3623\n",
      "Epoch 51/1000\n",
      "2790/2790 [==============================] - 10s 4ms/step - loss: 4982972.0000 - MAPE: 8.8817 - MAE: 1429.9822 - val_loss: 4678854.5000 - val_MAPE: 8.6180 - val_MAE: 1361.8688\n",
      "Epoch 52/1000\n",
      "2790/2790 [==============================] - 10s 4ms/step - loss: 5006022.5000 - MAPE: 8.9006 - MAE: 1433.3473 - val_loss: 4661772.5000 - val_MAPE: 8.2108 - val_MAE: 1347.2878\n",
      "Epoch 53/1000\n",
      "2783/2790 [============================>.] - ETA: 0s - loss: 4959990.0000 - MAPE: 8.8451 - MAE: 1427.6216Restoring model weights from the end of the best epoch.\n",
      "2790/2790 [==============================] - 10s 4ms/step - loss: 4956394.5000 - MAPE: 8.8435 - MAE: 1427.2646 - val_loss: 4722216.0000 - val_MAPE: 8.2836 - val_MAE: 1349.4688\n",
      "Epoch 00053: early stopping\n"
     ]
    },
    {
     "data": {
      "text/html": [
       "<div>\n",
       "<style scoped>\n",
       "    .dataframe tbody tr th:only-of-type {\n",
       "        vertical-align: middle;\n",
       "    }\n",
       "\n",
       "    .dataframe tbody tr th {\n",
       "        vertical-align: top;\n",
       "    }\n",
       "\n",
       "    .dataframe thead th {\n",
       "        text-align: right;\n",
       "    }\n",
       "</style>\n",
       "<table border=\"1\" class=\"dataframe\">\n",
       "  <thead>\n",
       "    <tr style=\"text-align: right;\">\n",
       "      <th></th>\n",
       "      <th>r2_score</th>\n",
       "      <th>rmse</th>\n",
       "      <th>price_diff_abs_max</th>\n",
       "    </tr>\n",
       "  </thead>\n",
       "  <tbody>\n",
       "    <tr>\n",
       "      <th>train</th>\n",
       "      <td>0.953947</td>\n",
       "      <td>2122.566497</td>\n",
       "      <td>331.573867</td>\n",
       "    </tr>\n",
       "  </tbody>\n",
       "</table>\n",
       "</div>"
      ],
      "text/plain": [
       "       r2_score         rmse  price_diff_abs_max\n",
       "train  0.953947  2122.566497          331.573867"
      ]
     },
     "execution_count": 79,
     "metadata": {},
     "output_type": "execute_result"
    }
   ],
   "source": [
    "carPriceEmbed_c_final.regression_metrics(X_train_final_list,y_train_final,\n",
    "                                        \"train\",True, train_data_final,test_data_final,1)"
   ]
  },
  {
   "cell_type": "code",
   "execution_count": null,
   "metadata": {},
   "outputs": [],
   "source": [
    "carPriceEmbed_c_final.regression_metrics(X_test_final,y_test_final,\"test\",False)"
   ]
  },
  {
   "cell_type": "code",
   "execution_count": 80,
   "metadata": {},
   "outputs": [],
   "source": [
    "carPriceEmbed_c_final.save_model(\"final_embed_mdl.h5\")"
   ]
  },
  {
   "cell_type": "code",
   "execution_count": null,
   "metadata": {
    "scrolled": true
   },
   "outputs": [],
   "source": [
    "carPriceEmbed_c_final.plot_pred_price(features_list_final,y_c)"
   ]
  },
  {
   "cell_type": "code",
   "execution_count": null,
   "metadata": {},
   "outputs": [],
   "source": [
    "price_table = carPriceEmbed_c_final.price_diff(features_c,y_c,features_list_final)\n",
    "price_table.head(20)"
   ]
  },
  {
   "cell_type": "markdown",
   "metadata": {},
   "source": [
    "### Conclusions"
   ]
  },
  {
   "cell_type": "markdown",
   "metadata": {},
   "source": [
    "### More tuning on dropout and other params can enhance the models but embed gives the best results"
   ]
  }
 ],
 "metadata": {
  "kernelspec": {
   "display_name": "Python 3",
   "language": "python",
   "name": "python3"
  },
  "language_info": {
   "codemirror_mode": {
    "name": "ipython",
    "version": 3
   },
   "file_extension": ".py",
   "mimetype": "text/x-python",
   "name": "python",
   "nbconvert_exporter": "python",
   "pygments_lexer": "ipython3",
   "version": "3.6.9"
  }
 },
 "nbformat": 4,
 "nbformat_minor": 4
}
